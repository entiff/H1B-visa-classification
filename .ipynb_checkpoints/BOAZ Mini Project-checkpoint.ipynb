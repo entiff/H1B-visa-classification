{
 "cells": [
  {
   "cell_type": "markdown",
   "metadata": {},
   "source": [
    "## BOAZ Mini Project\n",
    "\n",
    "### h1b data [h1b_train, h1b_dev, h1b_test]\n",
    "\n",
    "- Use h1b __train data__ for train your model.\n",
    "- Tune your model with __dev data__.\n",
    "- Finally check your best performed model score with __test data__.\n",
    "- __*You should clean your train dev test data first!!*__\n",
    "- Score function : Accuracy\n",
    "<br>\n",
    "<br>\n",
    "- __Your goal is to predict CASE_STATUS, using other features.__\n",
    "- You can choose the features you want to use in your project."
   ]
  },
  {
   "cell_type": "markdown",
   "metadata": {},
   "source": [
    "### Attribute Information\n",
    "\n",
    "- __CASE_STATUS__\n",
    "    - The CASE_STATUS field denotes the status of the application after LCA processing. Certified applications are filed with USCIS for H-1B approval.\n",
    "<br>\n",
    "<br>\n",
    "- EMPLOYER_NAME\n",
    "    - Name of the employer submitting labor condition application.\n",
    "<br>\n",
    "<br>\n",
    "- SOC_NAME\n",
    "    - Occupational name associated with the SOC_CODE. SOC_CODE is the occupational code associated with the job being requested for temporary labor condition, as classified by the Standard Occupational Classification (SOC) System.\n",
    "<br>\n",
    "<br>\n",
    "- JOB_TITLE\n",
    "    - Title of the job.\n",
    "<br>\n",
    "<br>\n",
    "- FULL_TIME_POSITION\n",
    "    - Y = Full Time Position; N = Part Time Position.\n",
    "<br>\n",
    "<br>\n",
    "- PREVAILING_WAGE\n",
    "    - Prevailing Wage for the job being requested for temporary labor condition. The wage is listed at annual scale in USD. The prevailing wage for a job position is defined as the average wage paid to similarly employed workers in the requested occupation in the area of intended employment. The prevailing wage is based on the employer’s minimum requirements for the position.\n",
    "<br>\n",
    "<br>\n",
    "- YEAR\n",
    "    - Year in which the H-1B visa petition was filed.\n",
    "<br>\n",
    "<br>"
   ]
  },
  {
   "cell_type": "markdown",
   "metadata": {},
   "source": [
    "### In this assignment, you will design, implement, and evaluate the appropriate models for given data.\n",
    "0. Preprocess; normalization, feature selection, etc.\n",
    "1. Model selection; characteristics of datasets need to be comprehended.\n",
    "2. Evaluation; This step should be done properly to prevent overfitting problem.\"\n",
    "3. Enhancement; parameter tuning and feature selection, etc."
   ]
  },
  {
   "cell_type": "markdown",
   "metadata": {},
   "source": [
    "## 라이브러리 불러오기"
   ]
  },
  {
   "cell_type": "code",
   "execution_count": 3,
   "metadata": {
    "ExecuteTime": {
     "end_time": "2018-08-23T11:20:17.795513Z",
     "start_time": "2018-08-23T11:20:12.580629Z"
    }
   },
   "outputs": [],
   "source": [
    "import numpy as np\n",
    "import matplotlib\n",
    "import pandas as pd\n",
    "import seaborn as sns\n",
    "from matplotlib import pyplot as plt\n",
    "from subprocess import check_output\n",
    "from matplotlib.ticker import FuncFormatter\n",
    "%matplotlib inline"
   ]
  },
  {
   "cell_type": "markdown",
   "metadata": {
    "ExecuteTime": {
     "end_time": "2018-08-22T11:59:38.294569Z",
     "start_time": "2018-08-22T11:59:38.291586Z"
    }
   },
   "source": [
    "## 전처리 & EDA"
   ]
  },
  {
   "cell_type": "markdown",
   "metadata": {},
   "source": [
    "### X,y로 나누기"
   ]
  },
  {
   "cell_type": "code",
   "execution_count": 4,
   "metadata": {
    "ExecuteTime": {
     "end_time": "2018-08-23T11:20:27.394766Z",
     "start_time": "2018-08-23T11:20:20.722622Z"
    }
   },
   "outputs": [],
   "source": [
    "df_train = pd.read_csv('C://Users/test/Desktop/BOAZ/session/BOAZ Mini Project/h1b_train.csv')\n",
    "df_test = pd.read_csv('C://Users/test/Desktop/BOAZ/session/BOAZ Mini Project/h1b_test_no_ylabel.csv')\n",
    "df_dev = pd.read_csv('C://Users/test/Desktop/BOAZ/session/BOAZ Mini Project/h1b_dev.csv')"
   ]
  },
  {
   "cell_type": "code",
   "execution_count": 5,
   "metadata": {
    "ExecuteTime": {
     "end_time": "2018-08-23T11:20:29.223168Z",
     "start_time": "2018-08-23T11:20:29.209252Z"
    }
   },
   "outputs": [],
   "source": [
    "df_train['TEST'] = '0'"
   ]
  },
  {
   "cell_type": "code",
   "execution_count": 6,
   "metadata": {
    "ExecuteTime": {
     "end_time": "2018-08-23T11:20:29.941028Z",
     "start_time": "2018-08-23T11:20:29.927045Z"
    }
   },
   "outputs": [],
   "source": [
    "df_test['TEST'] = '1'\n",
    "df_dev['TEST'] = '0'"
   ]
  },
  {
   "cell_type": "code",
   "execution_count": 7,
   "metadata": {
    "ExecuteTime": {
     "end_time": "2018-08-23T11:20:30.998648Z",
     "start_time": "2018-08-23T11:20:30.995624Z"
    }
   },
   "outputs": [
    {
     "name": "stdout",
     "output_type": "stream",
     "text": [
      "Number of entries: 541560\n"
     ]
    }
   ],
   "source": [
    "print('Number of entries:', df_test.shape[0])"
   ]
  },
  {
   "cell_type": "code",
   "execution_count": 8,
   "metadata": {
    "ExecuteTime": {
     "end_time": "2018-08-23T11:20:34.124634Z",
     "start_time": "2018-08-23T11:20:33.422476Z"
    },
    "scrolled": false
   },
   "outputs": [
    {
     "name": "stderr",
     "output_type": "stream",
     "text": [
      "C:\\Users\\test\\Anaconda3\\lib\\site-packages\\ipykernel_launcher.py:1: FutureWarning: Sorting because non-concatenation axis is not aligned. A future version\n",
      "of pandas will change to not sort by default.\n",
      "\n",
      "To accept the future behavior, pass 'sort=True'.\n",
      "\n",
      "To retain the current behavior and silence the warning, pass sort=False\n",
      "\n",
      "  \"\"\"Entry point for launching an IPython kernel.\n"
     ]
    }
   ],
   "source": [
    "df_all = pd.concat([df_train, df_test])"
   ]
  },
  {
   "cell_type": "code",
   "execution_count": 9,
   "metadata": {
    "ExecuteTime": {
     "end_time": "2018-08-23T11:20:36.532125Z",
     "start_time": "2018-08-23T11:20:35.519865Z"
    }
   },
   "outputs": [
    {
     "name": "stderr",
     "output_type": "stream",
     "text": [
      "C:\\Users\\test\\Anaconda3\\lib\\site-packages\\ipykernel_launcher.py:1: FutureWarning: Sorting because non-concatenation axis is not aligned. A future version\n",
      "of pandas will change to not sort by default.\n",
      "\n",
      "To accept the future behavior, pass 'sort=True'.\n",
      "\n",
      "To retain the current behavior and silence the warning, pass sort=False\n",
      "\n",
      "  \"\"\"Entry point for launching an IPython kernel.\n"
     ]
    }
   ],
   "source": [
    "df_all = pd.concat([df_all, df_dev])"
   ]
  },
  {
   "cell_type": "code",
   "execution_count": 10,
   "metadata": {
    "ExecuteTime": {
     "end_time": "2018-08-23T11:20:37.716302Z",
     "start_time": "2018-08-23T11:20:37.512831Z"
    }
   },
   "outputs": [],
   "source": [
    "df_ident = df_all['TEST'] == '1'"
   ]
  },
  {
   "cell_type": "code",
   "execution_count": 11,
   "metadata": {
    "ExecuteTime": {
     "end_time": "2018-08-23T11:20:38.187300Z",
     "start_time": "2018-08-23T11:20:38.181319Z"
    }
   },
   "outputs": [
    {
     "name": "stdout",
     "output_type": "stream",
     "text": [
      "Number of entries: 541560\n"
     ]
    }
   ],
   "source": [
    "print('Number of entries:', df_test.shape[0])"
   ]
  },
  {
   "cell_type": "code",
   "execution_count": 12,
   "metadata": {
    "ExecuteTime": {
     "end_time": "2018-08-23T11:20:42.412709Z",
     "start_time": "2018-08-23T11:20:40.922702Z"
    }
   },
   "outputs": [
    {
     "name": "stdout",
     "output_type": "stream",
     "text": [
      "Number of entries: 2944018\n",
      "CASE_STATUS           541570\n",
      "EMPLOYER_NAME             50\n",
      "FULL_TIME_POSITION        12\n",
      "JOB_TITLE                 38\n",
      "PREVAILING_WAGE           78\n",
      "SOC_NAME               17360\n",
      "TEST                       0\n",
      "Unnamed: 0                 0\n",
      "WORKSITE                   0\n",
      "YEAR                      10\n",
      "lat                   105188\n",
      "lon                   105188\n",
      "dtype: int64\n"
     ]
    }
   ],
   "source": [
    "print('Number of entries:', df_all.shape[0])\n",
    "print(df_all.isnull().sum())"
   ]
  },
  {
   "cell_type": "code",
   "execution_count": 5,
   "metadata": {
    "ExecuteTime": {
     "end_time": "2018-08-23T09:20:48.422954Z",
     "start_time": "2018-08-23T09:20:46.287067Z"
    }
   },
   "outputs": [
    {
     "data": {
      "image/png": "[encoded data removed]",
      "text/plain": [
       "<Figure size 432x288 with 1 Axes>"
      ]
     },
     "metadata": {},
     "output_type": "display_data"
    }
   ],
   "source": [
    "plot1 = df['EMPLOYER_NAME'].groupby([df['EMPLOYER_NAME']]).count().sort_values(ascending=False).head(10).plot(kind='barh',title=\"Top 10 Applicant over 2011 to 2016\").set_ylabel(\"\")\n",
    "plt.show()"
   ]
  },
  {
   "cell_type": "code",
   "execution_count": 13,
   "metadata": {
    "ExecuteTime": {
     "end_time": "2018-08-23T11:20:47.177049Z",
     "start_time": "2018-08-23T11:20:46.185670Z"
    }
   },
   "outputs": [],
   "source": [
    "df_all['SOC_NAME'] = df_all['SOC_NAME'].str.upper()"
   ]
  },
  {
   "cell_type": "markdown",
   "metadata": {},
   "source": [
    "### 주(state)만 분리하기"
   ]
  },
  {
   "cell_type": "code",
   "execution_count": 14,
   "metadata": {
    "ExecuteTime": {
     "end_time": "2018-08-23T11:20:50.181733Z",
     "start_time": "2018-08-23T11:20:48.734611Z"
    }
   },
   "outputs": [],
   "source": [
    "def state(data):\n",
    "    states = []\n",
    "    data_worksite = df_all['WORKSITE']\n",
    "    for worksite in data_worksite.iloc[:]:\n",
    "        state = worksite.split(', ')[1]\n",
    "        states.append(state)\n",
    "    return pd.DataFrame(states, columns =['State'])\n",
    "\n",
    "states = state(df_all)\n",
    "df_all['State'] = states['State']"
   ]
  },
  {
   "cell_type": "code",
   "execution_count": 82,
   "metadata": {
    "ExecuteTime": {
     "end_time": "2018-08-23T10:27:13.280907Z",
     "start_time": "2018-08-23T10:27:13.271231Z"
    }
   },
   "outputs": [
    {
     "data": {
      "text/plain": [
       "0    CALIFORNIA\n",
       "1    CALIFORNIA\n",
       "2    CALIFORNIA\n",
       "3      ILLINOIS\n",
       "4      VIRGINIA\n",
       "Name: State, dtype: object"
      ]
     },
     "execution_count": 82,
     "metadata": {},
     "output_type": "execute_result"
    }
   ],
   "source": [
    "df_all['State'].head()"
   ]
  },
  {
   "cell_type": "markdown",
   "metadata": {},
   "source": [
    "### case status 확인"
   ]
  },
  {
   "cell_type": "code",
   "execution_count": 10,
   "metadata": {
    "ExecuteTime": {
     "end_time": "2018-08-23T09:21:07.199220Z",
     "start_time": "2018-08-23T09:21:06.573259Z"
    }
   },
   "outputs": [
    {
     "data": {
      "image/png": "[encoded data removed]",
      "text/plain": [
       "<Figure size 432x288 with 1 Axes>"
      ]
     },
     "metadata": {},
     "output_type": "display_data"
    }
   ],
   "source": [
    "case = df['CASE_STATUS'].value_counts().sort_values(ascending=False).plot.barh()\n",
    "plt.title('Case Status')\n",
    "plt.show()"
   ]
  },
  {
   "cell_type": "markdown",
   "metadata": {},
   "source": [
    "### certified랑 denied만 남기기"
   ]
  },
  {
   "cell_type": "code",
   "execution_count": 15,
   "metadata": {
    "ExecuteTime": {
     "end_time": "2018-08-23T11:21:00.959068Z",
     "start_time": "2018-08-23T11:20:57.147269Z"
    },
    "scrolled": true
   },
   "outputs": [],
   "source": [
    "df1 = df_all[df_all.CASE_STATUS != 'REJECTED']\n",
    "df1 = df1[df1.CASE_STATUS != 'WITHDRAWN'] \n",
    "df1 = df1[df1.CASE_STATUS != 'CERTIFIED-WITHDRAWN']\n",
    "df1 = df1[df1.CASE_STATUS != 'PENDING QUALITY AND COMPLIANCE REVIEW - UNASSIGNED']"
   ]
  },
  {
   "cell_type": "code",
   "execution_count": 84,
   "metadata": {
    "ExecuteTime": {
     "end_time": "2018-08-23T10:27:25.873306Z",
     "start_time": "2018-08-23T10:27:25.157394Z"
    }
   },
   "outputs": [
    {
     "data": {
      "image/png": "[encoded data removed]",
      "text/plain": [
       "<Figure size 432x288 with 1 Axes>"
      ]
     },
     "metadata": {},
     "output_type": "display_data"
    }
   ],
   "source": [
    "case = df1['CASE_STATUS'].value_counts().sort_values(ascending=False).plot.barh()\n",
    "plt.title('Case Status')\n",
    "plt.show()"
   ]
  },
  {
   "cell_type": "code",
   "execution_count": 148,
   "metadata": {
    "ExecuteTime": {
     "end_time": "2018-08-23T11:05:39.232025Z",
     "start_time": "2018-08-23T11:05:39.225008Z"
    }
   },
   "outputs": [
    {
     "data": {
      "text/plain": [
       "2709979"
      ]
     },
     "execution_count": 148,
     "metadata": {},
     "output_type": "execute_result"
    }
   ],
   "source": [
    "df1.shape[0]"
   ]
  },
  {
   "cell_type": "code",
   "execution_count": 13,
   "metadata": {
    "ExecuteTime": {
     "end_time": "2018-08-23T09:21:18.524967Z",
     "start_time": "2018-08-23T09:21:18.160595Z"
    }
   },
   "outputs": [
    {
     "data": {
      "text/plain": [
       "CERTIFIED    1570316\n",
       "DENIED         56571\n",
       "Name: CASE_STATUS, dtype: int64"
      ]
     },
     "execution_count": 13,
     "metadata": {},
     "output_type": "execute_result"
    }
   ],
   "source": [
    "df1['CASE_STATUS'].value_counts().sort_values(ascending=False)"
   ]
  },
  {
   "cell_type": "markdown",
   "metadata": {
    "ExecuteTime": {
     "end_time": "2018-08-22T14:11:39.402361Z",
     "start_time": "2018-08-22T14:11:39.399338Z"
    }
   },
   "source": [
    "### H1B Applicants by Year"
   ]
  },
  {
   "cell_type": "code",
   "execution_count": 14,
   "metadata": {
    "ExecuteTime": {
     "end_time": "2018-08-23T09:21:21.257139Z",
     "start_time": "2018-08-23T09:21:20.961180Z"
    }
   },
   "outputs": [
    {
     "data": {
      "text/plain": [
       "(2010, 2017)"
      ]
     },
     "execution_count": 14,
     "metadata": {},
     "output_type": "execute_result"
    },
    {
     "data": {
      "image/png": "[encoded data removed]",
      "text/plain": [
       "<Figure size 432x288 with 1 Axes>"
      ]
     },
     "metadata": {},
     "output_type": "display_data"
    }
   ],
   "source": [
    "df1['YEAR'].value_counts().sort_values().plot()\n",
    "plt.title('H1B Applicants by Year')\n",
    "plt.xlim([2010,2017])"
   ]
  },
  {
   "cell_type": "code",
   "execution_count": 88,
   "metadata": {
    "ExecuteTime": {
     "end_time": "2018-08-23T10:28:42.993559Z",
     "start_time": "2018-08-23T10:28:40.603585Z"
    }
   },
   "outputs": [
    {
     "name": "stdout",
     "output_type": "stream",
     "text": [
      "Number of entries: 2709979\n",
      "CASE_STATUS           541570\n",
      "EMPLOYER_NAME             28\n",
      "FULL_TIME_POSITION        11\n",
      "JOB_TITLE                 20\n",
      "PREVAILING_WAGE           63\n",
      "SOC_NAME               15903\n",
      "TEST                       0\n",
      "Unnamed: 0                 0\n",
      "WORKSITE                   0\n",
      "YEAR                      10\n",
      "lat                    97071\n",
      "lon                    97071\n",
      "State                      0\n",
      "dtype: int64\n"
     ]
    }
   ],
   "source": [
    "print('Number of entries:', df_.shape[0])\n",
    "print(df1.isnull().sum())"
   ]
  },
  {
   "cell_type": "code",
   "execution_count": 179,
   "metadata": {
    "ExecuteTime": {
     "end_time": "2018-08-22T16:07:37.040468Z",
     "start_time": "2018-08-22T16:07:36.104231Z"
    },
    "collapsed": true
   },
   "outputs": [
    {
     "data": {
      "text/html": [
       "<div>\n",
       "<style scoped>\n",
       "    .dataframe tbody tr th:only-of-type {\n",
       "        vertical-align: middle;\n",
       "    }\n",
       "\n",
       "    .dataframe tbody tr th {\n",
       "        vertical-align: top;\n",
       "    }\n",
       "\n",
       "    .dataframe thead th {\n",
       "        text-align: right;\n",
       "    }\n",
       "</style>\n",
       "<table border=\"1\" class=\"dataframe\">\n",
       "  <thead>\n",
       "    <tr style=\"text-align: right;\">\n",
       "      <th></th>\n",
       "      <th>Unnamed: 0</th>\n",
       "      <th>CASE_STATUS</th>\n",
       "      <th>EMPLOYER_NAME</th>\n",
       "      <th>SOC_NAME</th>\n",
       "      <th>JOB_TITLE</th>\n",
       "      <th>FULL_TIME_POSITION</th>\n",
       "      <th>PREVAILING_WAGE</th>\n",
       "      <th>YEAR</th>\n",
       "      <th>WORKSITE</th>\n",
       "      <th>lon</th>\n",
       "      <th>lat</th>\n",
       "      <th>State</th>\n",
       "    </tr>\n",
       "  </thead>\n",
       "  <tbody>\n",
       "    <tr>\n",
       "      <th>0</th>\n",
       "      <td>1349742</td>\n",
       "      <td>CERTIFIED</td>\n",
       "      <td>INTERNATIONAL SYSTEMS TECHNOLOGIES, INC.</td>\n",
       "      <td>COMPUTER PROGRAMMERS</td>\n",
       "      <td>PROGRAMMER ANALYST</td>\n",
       "      <td>Y</td>\n",
       "      <td>61589.0</td>\n",
       "      <td>2014.0</td>\n",
       "      <td>SUNNYVALE, CALIFORNIA</td>\n",
       "      <td>-122.036350</td>\n",
       "      <td>37.368830</td>\n",
       "      <td>CALIFORNIA</td>\n",
       "    </tr>\n",
       "    <tr>\n",
       "      <th>1</th>\n",
       "      <td>789205</td>\n",
       "      <td>CERTIFIED</td>\n",
       "      <td>GOOGLE INC.</td>\n",
       "      <td>NETWORK AND COMPUTER SYSTEMS ADMINISTRATORS</td>\n",
       "      <td>SITE RELIABILITY ENGINEER</td>\n",
       "      <td>Y</td>\n",
       "      <td>79144.0</td>\n",
       "      <td>2015.0</td>\n",
       "      <td>SAN FRANCISCO, CALIFORNIA</td>\n",
       "      <td>-122.419415</td>\n",
       "      <td>37.774929</td>\n",
       "      <td>CALIFORNIA</td>\n",
       "    </tr>\n",
       "    <tr>\n",
       "      <th>2</th>\n",
       "      <td>1617140</td>\n",
       "      <td>CERTIFIED</td>\n",
       "      <td>WIPRO LIMITED</td>\n",
       "      <td>COMPUTER OCCUPATIONS, ALL OTHER</td>\n",
       "      <td>PROJECT MANAGER</td>\n",
       "      <td>Y</td>\n",
       "      <td>73882.0</td>\n",
       "      <td>2014.0</td>\n",
       "      <td>EL SEGUNDO, CALIFORNIA</td>\n",
       "      <td>-118.416465</td>\n",
       "      <td>33.919180</td>\n",
       "      <td>CALIFORNIA</td>\n",
       "    </tr>\n",
       "    <tr>\n",
       "      <th>3</th>\n",
       "      <td>2757905</td>\n",
       "      <td>CERTIFIED</td>\n",
       "      <td>CPO SERVICES, INC.</td>\n",
       "      <td>ORTHOTISTS AND PROSTHETISTS</td>\n",
       "      <td>STAFF PROSTHETIST</td>\n",
       "      <td>Y</td>\n",
       "      <td>61589.0</td>\n",
       "      <td>2011.0</td>\n",
       "      <td>PEORIA, ILLINOIS</td>\n",
       "      <td>-89.588986</td>\n",
       "      <td>40.693649</td>\n",
       "      <td>ILLINOIS</td>\n",
       "    </tr>\n",
       "    <tr>\n",
       "      <th>5</th>\n",
       "      <td>693102</td>\n",
       "      <td>DENIED</td>\n",
       "      <td>UNIVERSITY OF CALIFORNIA, SAN DIEGO</td>\n",
       "      <td>MEDICAL SCIENTISTS, EXCEPT EPIDEMIOLOGISTS</td>\n",
       "      <td>ASSISTANT PROJECT SCIENTIST</td>\n",
       "      <td>Y</td>\n",
       "      <td>42120.0</td>\n",
       "      <td>2015.0</td>\n",
       "      <td>LA JOLLA, CALIFORNIA</td>\n",
       "      <td>-117.271272</td>\n",
       "      <td>32.832811</td>\n",
       "      <td>CALIFORNIA</td>\n",
       "    </tr>\n",
       "    <tr>\n",
       "      <th>6</th>\n",
       "      <td>2662510</td>\n",
       "      <td>CERTIFIED</td>\n",
       "      <td>GOOGLE INC.</td>\n",
       "      <td>COMPUTER SOFTWARE ENGINEERS, APPLICATIONS</td>\n",
       "      <td>SOFTWARE ENGINEER</td>\n",
       "      <td>Y</td>\n",
       "      <td>82035.0</td>\n",
       "      <td>2011.0</td>\n",
       "      <td>MOUNTAIN VIEW, CALIFORNIA</td>\n",
       "      <td>-122.083851</td>\n",
       "      <td>37.386052</td>\n",
       "      <td>CALIFORNIA</td>\n",
       "    </tr>\n",
       "    <tr>\n",
       "      <th>7</th>\n",
       "      <td>636434</td>\n",
       "      <td>CERTIFIED</td>\n",
       "      <td>COMPREHAB, INC.</td>\n",
       "      <td>PHYSICAL THERAPISTS</td>\n",
       "      <td>PHYSICAL THERAPIST</td>\n",
       "      <td>N</td>\n",
       "      <td>64168.0</td>\n",
       "      <td>2016.0</td>\n",
       "      <td>GASTONIA, NORTH CAROLINA</td>\n",
       "      <td>-81.187301</td>\n",
       "      <td>35.262082</td>\n",
       "      <td>NORTH CAROLINA</td>\n",
       "    </tr>\n",
       "    <tr>\n",
       "      <th>8</th>\n",
       "      <td>2265757</td>\n",
       "      <td>CERTIFIED</td>\n",
       "      <td>JPMORGAN CHASE AND CO.</td>\n",
       "      <td>SOFTWARE DEVELOPERS, APPLICATIONS</td>\n",
       "      <td>APPLICATIONS DEVELOPER</td>\n",
       "      <td>Y</td>\n",
       "      <td>92726.0</td>\n",
       "      <td>2012.0</td>\n",
       "      <td>COLUMBUS, OHIO</td>\n",
       "      <td>-82.998794</td>\n",
       "      <td>39.961176</td>\n",
       "      <td>OHIO</td>\n",
       "    </tr>\n",
       "    <tr>\n",
       "      <th>9</th>\n",
       "      <td>2927315</td>\n",
       "      <td>CERTIFIED</td>\n",
       "      <td>IRONBRIDGE CONSULTING, LLC</td>\n",
       "      <td>INFORMATION SECURITY ANALYSTS, WEB DEVELOPERS,...</td>\n",
       "      <td>SOFTWARE ENGINEER/ NETWORK ANALYST</td>\n",
       "      <td>Y</td>\n",
       "      <td>57866.0</td>\n",
       "      <td>2011.0</td>\n",
       "      <td>ARLINGTON, VIRGINIA</td>\n",
       "      <td>-77.106770</td>\n",
       "      <td>38.879970</td>\n",
       "      <td>VIRGINIA</td>\n",
       "    </tr>\n",
       "    <tr>\n",
       "      <th>10</th>\n",
       "      <td>1696111</td>\n",
       "      <td>CERTIFIED</td>\n",
       "      <td>AXON SOLUTIONS, INC.</td>\n",
       "      <td>COMPUTER SYSTEMS ANALYSTS</td>\n",
       "      <td>MANAGING CONSULTANT</td>\n",
       "      <td>Y</td>\n",
       "      <td>91998.0</td>\n",
       "      <td>2014.0</td>\n",
       "      <td>UNIVERSAL CITY, CALIFORNIA</td>\n",
       "      <td>-118.350578</td>\n",
       "      <td>34.139769</td>\n",
       "      <td>CALIFORNIA</td>\n",
       "    </tr>\n",
       "    <tr>\n",
       "      <th>11</th>\n",
       "      <td>2042418</td>\n",
       "      <td>CERTIFIED</td>\n",
       "      <td>MICROSOFT CORPORATION</td>\n",
       "      <td>SOFTWARE DEVELOPERS, APPLICATIONS</td>\n",
       "      <td>SOFTWARE DEVELOPMENT ENGINEER IN TEST</td>\n",
       "      <td>Y</td>\n",
       "      <td>86278.0</td>\n",
       "      <td>2013.0</td>\n",
       "      <td>REDMOND, WASHINGTON</td>\n",
       "      <td>-122.121512</td>\n",
       "      <td>47.673988</td>\n",
       "      <td>WASHINGTON</td>\n",
       "    </tr>\n",
       "    <tr>\n",
       "      <th>12</th>\n",
       "      <td>2556938</td>\n",
       "      <td>CERTIFIED</td>\n",
       "      <td>MOBILE IRON INC.</td>\n",
       "      <td>SOFTWARE DEVELOPERS, SYSTEMS SOFTWARE</td>\n",
       "      <td>SYSTEMS ENGINEER</td>\n",
       "      <td>Y</td>\n",
       "      <td>103709.0</td>\n",
       "      <td>2012.0</td>\n",
       "      <td>MOUNTAIN VIEW, CALIFORNIA</td>\n",
       "      <td>-122.083851</td>\n",
       "      <td>37.386052</td>\n",
       "      <td>CALIFORNIA</td>\n",
       "    </tr>\n",
       "    <tr>\n",
       "      <th>13</th>\n",
       "      <td>1620167</td>\n",
       "      <td>CERTIFIED</td>\n",
       "      <td>TECHNIP USA, INC.</td>\n",
       "      <td>CHEMICAL ENGINEERS</td>\n",
       "      <td>FACILITIES SPECIALIST</td>\n",
       "      <td>Y</td>\n",
       "      <td>75298.0</td>\n",
       "      <td>2014.0</td>\n",
       "      <td>HOUSTON, TEXAS</td>\n",
       "      <td>-95.369803</td>\n",
       "      <td>29.760427</td>\n",
       "      <td>TEXAS</td>\n",
       "    </tr>\n",
       "    <tr>\n",
       "      <th>14</th>\n",
       "      <td>2066155</td>\n",
       "      <td>CERTIFIED</td>\n",
       "      <td>COMMVAULT AMERICAS, INC.</td>\n",
       "      <td>COMPUTER SYSTEMS ANALYSTS</td>\n",
       "      <td>SYSTEM TESTER</td>\n",
       "      <td>Y</td>\n",
       "      <td>74651.0</td>\n",
       "      <td>2013.0</td>\n",
       "      <td>OCEANPORT, NEW JERSEY</td>\n",
       "      <td>-74.015138</td>\n",
       "      <td>40.318166</td>\n",
       "      <td>NEW JERSEY</td>\n",
       "    </tr>\n",
       "    <tr>\n",
       "      <th>15</th>\n",
       "      <td>2836033</td>\n",
       "      <td>CERTIFIED</td>\n",
       "      <td>CUMMINS INC.</td>\n",
       "      <td>MECHANICAL ENGINEERS</td>\n",
       "      <td>SENIOR MECHANICAL ENGINEER - PERFORMANCE IMPRO...</td>\n",
       "      <td>Y</td>\n",
       "      <td>66019.0</td>\n",
       "      <td>2011.0</td>\n",
       "      <td>FRIDLEY, MINNESOTA</td>\n",
       "      <td>-93.263282</td>\n",
       "      <td>45.086077</td>\n",
       "      <td>MINNESOTA</td>\n",
       "    </tr>\n",
       "    <tr>\n",
       "      <th>16</th>\n",
       "      <td>1649897</td>\n",
       "      <td>CERTIFIED</td>\n",
       "      <td>PACIFIC INVESTMENT MANAGEMENT COMPANY, LLC</td>\n",
       "      <td>SECURITIES, COMMODITIES, AND FINANCIAL SERVICE...</td>\n",
       "      <td>VICE PRESIDENT, PORTFOLIO MANAGER</td>\n",
       "      <td>Y</td>\n",
       "      <td>57949.0</td>\n",
       "      <td>2014.0</td>\n",
       "      <td>NEWPORT BEACH, CALIFORNIA</td>\n",
       "      <td>-117.928947</td>\n",
       "      <td>33.618910</td>\n",
       "      <td>CALIFORNIA</td>\n",
       "    </tr>\n",
       "    <tr>\n",
       "      <th>17</th>\n",
       "      <td>734416</td>\n",
       "      <td>CERTIFIED</td>\n",
       "      <td>UNIVERSITY OF TEXAS HEALTH SCIENCE CENTER AT S...</td>\n",
       "      <td>HEALTH SPECIALTIES TEACHERS, POSTSECONDARY</td>\n",
       "      <td>ASSISTANT PROFESSOR</td>\n",
       "      <td>Y</td>\n",
       "      <td>96277.0</td>\n",
       "      <td>2015.0</td>\n",
       "      <td>SAN ANTONIO, TEXAS</td>\n",
       "      <td>-98.493628</td>\n",
       "      <td>29.424122</td>\n",
       "      <td>TEXAS</td>\n",
       "    </tr>\n",
       "    <tr>\n",
       "      <th>18</th>\n",
       "      <td>2959714</td>\n",
       "      <td>CERTIFIED</td>\n",
       "      <td>HARTE-HANKS DATA TECHNOLOGIES, INC.</td>\n",
       "      <td>MARKETING MANAGERS</td>\n",
       "      <td>ASSOCIATE PRODUCT MANAGER</td>\n",
       "      <td>Y</td>\n",
       "      <td>55931.0</td>\n",
       "      <td>2011.0</td>\n",
       "      <td>LINTHICUM HEIGHTS, MARYLAND</td>\n",
       "      <td>-76.652746</td>\n",
       "      <td>39.205108</td>\n",
       "      <td>MARYLAND</td>\n",
       "    </tr>\n",
       "    <tr>\n",
       "      <th>19</th>\n",
       "      <td>1498142</td>\n",
       "      <td>CERTIFIED</td>\n",
       "      <td>LENORA SYSTEMS INC</td>\n",
       "      <td>COMPUTER SYSTEMS ANALYSTS</td>\n",
       "      <td>PROGRAMMER ANALYST</td>\n",
       "      <td>Y</td>\n",
       "      <td>57075.0</td>\n",
       "      <td>2014.0</td>\n",
       "      <td>DALLAS, TEXAS</td>\n",
       "      <td>-96.796988</td>\n",
       "      <td>32.776664</td>\n",
       "      <td>TEXAS</td>\n",
       "    </tr>\n",
       "    <tr>\n",
       "      <th>20</th>\n",
       "      <td>98397</td>\n",
       "      <td>CERTIFIED</td>\n",
       "      <td>INFOSYS LIMITED</td>\n",
       "      <td>COMPUTER SYSTEMS ANALYST</td>\n",
       "      <td>TECHNOLOGY LEAD - US</td>\n",
       "      <td>Y</td>\n",
       "      <td>89149.0</td>\n",
       "      <td>2016.0</td>\n",
       "      <td>SUNNYVALE, CALIFORNIA</td>\n",
       "      <td>-122.036350</td>\n",
       "      <td>37.368830</td>\n",
       "      <td>CALIFORNIA</td>\n",
       "    </tr>\n",
       "    <tr>\n",
       "      <th>21</th>\n",
       "      <td>2196173</td>\n",
       "      <td>CERTIFIED</td>\n",
       "      <td>HITACHI CONSULTING CORPORATION</td>\n",
       "      <td>SOFTWARE DEVELOPERS, APPLICATIONS</td>\n",
       "      <td>SOFTWARE ENGINEER</td>\n",
       "      <td>Y</td>\n",
       "      <td>73174.0</td>\n",
       "      <td>2013.0</td>\n",
       "      <td>REDMOND, WASHINGTON</td>\n",
       "      <td>-122.121512</td>\n",
       "      <td>47.673988</td>\n",
       "      <td>WASHINGTON</td>\n",
       "    </tr>\n",
       "    <tr>\n",
       "      <th>22</th>\n",
       "      <td>2511101</td>\n",
       "      <td>CERTIFIED</td>\n",
       "      <td>INFOSYS LIMITED</td>\n",
       "      <td>COMPUTER SYSTEMS ANALYSTS</td>\n",
       "      <td>PROJECT LEAD</td>\n",
       "      <td>Y</td>\n",
       "      <td>76315.0</td>\n",
       "      <td>2012.0</td>\n",
       "      <td>TAMPA, FLORIDA</td>\n",
       "      <td>-82.457178</td>\n",
       "      <td>27.950575</td>\n",
       "      <td>FLORIDA</td>\n",
       "    </tr>\n",
       "    <tr>\n",
       "      <th>24</th>\n",
       "      <td>718222</td>\n",
       "      <td>CERTIFIED</td>\n",
       "      <td>FORTINET, INC.</td>\n",
       "      <td>COMPUTER OCCUPATIONS, ALL OTHER</td>\n",
       "      <td>CARRIER READINESS TEST ENGINEER</td>\n",
       "      <td>Y</td>\n",
       "      <td>77563.0</td>\n",
       "      <td>2015.0</td>\n",
       "      <td>SUNNYVALE, CALIFORNIA</td>\n",
       "      <td>-122.036350</td>\n",
       "      <td>37.368830</td>\n",
       "      <td>CALIFORNIA</td>\n",
       "    </tr>\n",
       "    <tr>\n",
       "      <th>25</th>\n",
       "      <td>46751</td>\n",
       "      <td>CERTIFIED</td>\n",
       "      <td>INDEED, INC.</td>\n",
       "      <td>MARKET RESEARCH ANALYSTS AND MARKETING SPECIAL...</td>\n",
       "      <td>ONLINE MARKET ANALYST</td>\n",
       "      <td>N</td>\n",
       "      <td>60258.0</td>\n",
       "      <td>2016.0</td>\n",
       "      <td>AUSTIN, TEXAS</td>\n",
       "      <td>-97.743061</td>\n",
       "      <td>30.267153</td>\n",
       "      <td>TEXAS</td>\n",
       "    </tr>\n",
       "    <tr>\n",
       "      <th>26</th>\n",
       "      <td>1961506</td>\n",
       "      <td>CERTIFIED</td>\n",
       "      <td>CAZARCH, INC.</td>\n",
       "      <td>ARCHITECTURAL AND CIVIL DRAFTERS</td>\n",
       "      <td>ARCHITETURAL DESIGNER</td>\n",
       "      <td>Y</td>\n",
       "      <td>40685.0</td>\n",
       "      <td>2013.0</td>\n",
       "      <td>BROOKLYN, NEW YORK</td>\n",
       "      <td>-73.944158</td>\n",
       "      <td>40.678178</td>\n",
       "      <td>NEW YORK</td>\n",
       "    </tr>\n",
       "    <tr>\n",
       "      <th>27</th>\n",
       "      <td>1862817</td>\n",
       "      <td>CERTIFIED</td>\n",
       "      <td>CREDIT SUISSE SECURITIES (USA) LLC</td>\n",
       "      <td>ACCOUNTANTS AND AUDITORS</td>\n",
       "      <td>EXEMPT NON-OFFICER</td>\n",
       "      <td>Y</td>\n",
       "      <td>55370.0</td>\n",
       "      <td>2013.0</td>\n",
       "      <td>NEW YORK, NEW YORK</td>\n",
       "      <td>-74.005941</td>\n",
       "      <td>40.712784</td>\n",
       "      <td>NEW YORK</td>\n",
       "    </tr>\n",
       "    <tr>\n",
       "      <th>28</th>\n",
       "      <td>2723040</td>\n",
       "      <td>CERTIFIED</td>\n",
       "      <td>JCG TECHNOLOGIES, INC.</td>\n",
       "      <td>COMPUTER PROGRAMMERS</td>\n",
       "      <td>COMPUTER PROGRAMMER</td>\n",
       "      <td>Y</td>\n",
       "      <td>67995.0</td>\n",
       "      <td>2011.0</td>\n",
       "      <td>WESTBOROUGH, MASSACHUSETTS</td>\n",
       "      <td>-71.616129</td>\n",
       "      <td>42.269522</td>\n",
       "      <td>MASSACHUSETTS</td>\n",
       "    </tr>\n",
       "    <tr>\n",
       "      <th>29</th>\n",
       "      <td>913307</td>\n",
       "      <td>DENIED</td>\n",
       "      <td>APERI CORPORATION</td>\n",
       "      <td>COMPUTER HARDWARE ENGINEERS</td>\n",
       "      <td>SYSTEMS ENGINEER</td>\n",
       "      <td>Y</td>\n",
       "      <td>66200.0</td>\n",
       "      <td>2015.0</td>\n",
       "      <td>CAMARILLO, CALIFORNIA</td>\n",
       "      <td>-119.037602</td>\n",
       "      <td>34.216394</td>\n",
       "      <td>CALIFORNIA</td>\n",
       "    </tr>\n",
       "    <tr>\n",
       "      <th>30</th>\n",
       "      <td>2472137</td>\n",
       "      <td>CERTIFIED</td>\n",
       "      <td>UPMC EMERGENCY MEDICINE, INC.</td>\n",
       "      <td>PHYSICIANS AND SURGEONS, ALL OTHER</td>\n",
       "      <td>HOSPITALIST</td>\n",
       "      <td>Y</td>\n",
       "      <td>81994.0</td>\n",
       "      <td>2012.0</td>\n",
       "      <td>GREENVILLE, PENNSYLVANIA</td>\n",
       "      <td>-80.391179</td>\n",
       "      <td>41.404499</td>\n",
       "      <td>PENNSYLVANIA</td>\n",
       "    </tr>\n",
       "    <tr>\n",
       "      <th>31</th>\n",
       "      <td>1773253</td>\n",
       "      <td>CERTIFIED</td>\n",
       "      <td>DELOITTE CONSULTING LLP</td>\n",
       "      <td>COMPUTER SYSTEMS ANALYSTS</td>\n",
       "      <td>CONSULTANT</td>\n",
       "      <td>Y</td>\n",
       "      <td>75899.0</td>\n",
       "      <td>2014.0</td>\n",
       "      <td>BALA CYNWYD, PENNSYLVANIA</td>\n",
       "      <td>-75.230404</td>\n",
       "      <td>40.013142</td>\n",
       "      <td>PENNSYLVANIA</td>\n",
       "    </tr>\n",
       "    <tr>\n",
       "      <th>...</th>\n",
       "      <td>...</td>\n",
       "      <td>...</td>\n",
       "      <td>...</td>\n",
       "      <td>...</td>\n",
       "      <td>...</td>\n",
       "      <td>...</td>\n",
       "      <td>...</td>\n",
       "      <td>...</td>\n",
       "      <td>...</td>\n",
       "      <td>...</td>\n",
       "      <td>...</td>\n",
       "      <td>...</td>\n",
       "    </tr>\n",
       "    <tr>\n",
       "      <th>1802422</th>\n",
       "      <td>2700782</td>\n",
       "      <td>CERTIFIED</td>\n",
       "      <td>FIRST OBJECT INC</td>\n",
       "      <td>COMPUTER SYSTEMS ANALYSTS</td>\n",
       "      <td>SR. BUSINESS ANALYST</td>\n",
       "      <td>Y</td>\n",
       "      <td>51646.0</td>\n",
       "      <td>2011.0</td>\n",
       "      <td>ST. LOUIS, MISSOURI</td>\n",
       "      <td>-90.199404</td>\n",
       "      <td>38.627003</td>\n",
       "      <td>MISSOURI</td>\n",
       "    </tr>\n",
       "    <tr>\n",
       "      <th>1802423</th>\n",
       "      <td>1774076</td>\n",
       "      <td>CERTIFIED</td>\n",
       "      <td>ERNST &amp; YOUNG U.S. LLP</td>\n",
       "      <td>MANAGEMENT ANALYSTS</td>\n",
       "      <td>TAS SENIOR</td>\n",
       "      <td>Y</td>\n",
       "      <td>93538.0</td>\n",
       "      <td>2014.0</td>\n",
       "      <td>SAN FRANCISCO, CALIFORNIA</td>\n",
       "      <td>-122.419415</td>\n",
       "      <td>37.774929</td>\n",
       "      <td>CALIFORNIA</td>\n",
       "    </tr>\n",
       "    <tr>\n",
       "      <th>1802424</th>\n",
       "      <td>1687095</td>\n",
       "      <td>CERTIFIED</td>\n",
       "      <td>HYUNDAI DYMOS GEORGIA LLC</td>\n",
       "      <td>FINANCIAL ANALYSTS</td>\n",
       "      <td>FINANCIAL SPECIALIST</td>\n",
       "      <td>Y</td>\n",
       "      <td>49088.0</td>\n",
       "      <td>2014.0</td>\n",
       "      <td>WEST POINT, GEORGIA</td>\n",
       "      <td>-85.183275</td>\n",
       "      <td>32.877906</td>\n",
       "      <td>GEORGIA</td>\n",
       "    </tr>\n",
       "    <tr>\n",
       "      <th>1802425</th>\n",
       "      <td>2408268</td>\n",
       "      <td>CERTIFIED</td>\n",
       "      <td>TRUSTEK INC.</td>\n",
       "      <td>DATABASE ADMINISTRATORS</td>\n",
       "      <td>SQL SERVER DBA</td>\n",
       "      <td>Y</td>\n",
       "      <td>60154.0</td>\n",
       "      <td>2012.0</td>\n",
       "      <td>SOUTH PLAINFIELD, NEW JERSEY</td>\n",
       "      <td>-74.411540</td>\n",
       "      <td>40.579270</td>\n",
       "      <td>NEW JERSEY</td>\n",
       "    </tr>\n",
       "    <tr>\n",
       "      <th>1802426</th>\n",
       "      <td>1035749</td>\n",
       "      <td>CERTIFIED</td>\n",
       "      <td>TATA CONSULTANCY SERVICES LIMITED</td>\n",
       "      <td>COMPUTER SYSTEMS ANALYSTS</td>\n",
       "      <td>ANALYST</td>\n",
       "      <td>Y</td>\n",
       "      <td>41163.0</td>\n",
       "      <td>2015.0</td>\n",
       "      <td>SAN JUAN, PUERTO RICO</td>\n",
       "      <td>-66.105735</td>\n",
       "      <td>18.465539</td>\n",
       "      <td>PUERTO RICO</td>\n",
       "    </tr>\n",
       "    <tr>\n",
       "      <th>1802427</th>\n",
       "      <td>290670</td>\n",
       "      <td>CERTIFIED</td>\n",
       "      <td>MICROSOFT CORPORATION</td>\n",
       "      <td>SOFTWARE DEVELOPERS, APPLICATIONS</td>\n",
       "      <td>SOFTWARE ENGINEER</td>\n",
       "      <td>Y</td>\n",
       "      <td>101088.0</td>\n",
       "      <td>2016.0</td>\n",
       "      <td>REDMOND, WASHINGTON</td>\n",
       "      <td>-122.121512</td>\n",
       "      <td>47.673988</td>\n",
       "      <td>WASHINGTON</td>\n",
       "    </tr>\n",
       "    <tr>\n",
       "      <th>1802428</th>\n",
       "      <td>1601611</td>\n",
       "      <td>CERTIFIED</td>\n",
       "      <td>TECH MAHINDRA ( AMERICAS), INC</td>\n",
       "      <td>COMPUTER OCCUPATIONS, ALL OTHER</td>\n",
       "      <td>SOFTWARE TEST ENGINEER</td>\n",
       "      <td>Y</td>\n",
       "      <td>77938.0</td>\n",
       "      <td>2014.0</td>\n",
       "      <td>RICHARDSON, TEXAS</td>\n",
       "      <td>-96.729852</td>\n",
       "      <td>32.948334</td>\n",
       "      <td>TEXAS</td>\n",
       "    </tr>\n",
       "    <tr>\n",
       "      <th>1802429</th>\n",
       "      <td>2555937</td>\n",
       "      <td>CERTIFIED</td>\n",
       "      <td>RESOURCESOFT INC</td>\n",
       "      <td>DATABASE ADMINISTRATORS</td>\n",
       "      <td>DATABASE ADMINISTRATOR</td>\n",
       "      <td>Y</td>\n",
       "      <td>53498.0</td>\n",
       "      <td>2012.0</td>\n",
       "      <td>BOSTON, MASSACHUSETTS</td>\n",
       "      <td>-71.058880</td>\n",
       "      <td>42.360083</td>\n",
       "      <td>MASSACHUSETTS</td>\n",
       "    </tr>\n",
       "    <tr>\n",
       "      <th>1802430</th>\n",
       "      <td>1559957</td>\n",
       "      <td>CERTIFIED</td>\n",
       "      <td>KANSAS STATE UNIVERSITY</td>\n",
       "      <td>BIOLOGICAL SCIENTISTS, ALL OTHER</td>\n",
       "      <td>WEB/DATABASE DEVELOPER</td>\n",
       "      <td>Y</td>\n",
       "      <td>40706.0</td>\n",
       "      <td>2014.0</td>\n",
       "      <td>MANHATTAN, KANSAS</td>\n",
       "      <td>-96.571669</td>\n",
       "      <td>39.183608</td>\n",
       "      <td>KANSAS</td>\n",
       "    </tr>\n",
       "    <tr>\n",
       "      <th>1802433</th>\n",
       "      <td>757654</td>\n",
       "      <td>CERTIFIED</td>\n",
       "      <td>WIPRO LIMITED</td>\n",
       "      <td>COMPUTER OCCUPATIONS, ALL OTHER</td>\n",
       "      <td>TEST ENGINEER LEVEL 1</td>\n",
       "      <td>Y</td>\n",
       "      <td>60528.0</td>\n",
       "      <td>2015.0</td>\n",
       "      <td>PALO ALTO, CALIFORNIA</td>\n",
       "      <td>-122.143020</td>\n",
       "      <td>37.441883</td>\n",
       "      <td>CALIFORNIA</td>\n",
       "    </tr>\n",
       "    <tr>\n",
       "      <th>1802435</th>\n",
       "      <td>1728823</td>\n",
       "      <td>CERTIFIED</td>\n",
       "      <td>WIPRO LIMITED</td>\n",
       "      <td>COMPUTER OCCUPATIONS, ALL OTHER</td>\n",
       "      <td>LEAD ENGINEER</td>\n",
       "      <td>Y</td>\n",
       "      <td>62878.0</td>\n",
       "      <td>2014.0</td>\n",
       "      <td>WILMINGTON, DELAWARE</td>\n",
       "      <td>-75.539788</td>\n",
       "      <td>39.739072</td>\n",
       "      <td>DELAWARE</td>\n",
       "    </tr>\n",
       "    <tr>\n",
       "      <th>1802436</th>\n",
       "      <td>252105</td>\n",
       "      <td>CERTIFIED</td>\n",
       "      <td>SCINTILLA SOFT INC</td>\n",
       "      <td>COMPUTER PROGRAMMERS</td>\n",
       "      <td>PROGRAMMER ANALYST</td>\n",
       "      <td>N</td>\n",
       "      <td>54850.0</td>\n",
       "      <td>2016.0</td>\n",
       "      <td>LOS ANGELES, CALIFORNIA</td>\n",
       "      <td>-118.243685</td>\n",
       "      <td>34.052234</td>\n",
       "      <td>CALIFORNIA</td>\n",
       "    </tr>\n",
       "    <tr>\n",
       "      <th>1802437</th>\n",
       "      <td>1691738</td>\n",
       "      <td>CERTIFIED</td>\n",
       "      <td>GLOBAL TECHNICAL SOFTWARE SERVICES INC</td>\n",
       "      <td>COMPUTER SYSTEMS ANALYSTS</td>\n",
       "      <td>SYSTEMS ANALYST</td>\n",
       "      <td>Y</td>\n",
       "      <td>65416.0</td>\n",
       "      <td>2014.0</td>\n",
       "      <td>AKRON, OHIO</td>\n",
       "      <td>-81.519005</td>\n",
       "      <td>41.081445</td>\n",
       "      <td>OHIO</td>\n",
       "    </tr>\n",
       "    <tr>\n",
       "      <th>1802438</th>\n",
       "      <td>2758684</td>\n",
       "      <td>CERTIFIED</td>\n",
       "      <td>BRIGHAM YOUNG UNIVERSITY</td>\n",
       "      <td>CHEMISTS</td>\n",
       "      <td>POST DOCTORAL RESEARCH ASSISTANT IN CHEMISTRY</td>\n",
       "      <td>Y</td>\n",
       "      <td>35298.0</td>\n",
       "      <td>2011.0</td>\n",
       "      <td>PROVO, UTAH</td>\n",
       "      <td>-111.658534</td>\n",
       "      <td>40.233844</td>\n",
       "      <td>UTAH</td>\n",
       "    </tr>\n",
       "    <tr>\n",
       "      <th>1802439</th>\n",
       "      <td>646277</td>\n",
       "      <td>CERTIFIED</td>\n",
       "      <td>HEADSTRONG SERVICES LLC</td>\n",
       "      <td>SALES ENGINEERS</td>\n",
       "      <td>BUSINESS DEVELOPMENT MANAGER</td>\n",
       "      <td>Y</td>\n",
       "      <td>86986.0</td>\n",
       "      <td>2016.0</td>\n",
       "      <td>NEW YORK, NEW YORK</td>\n",
       "      <td>-74.005941</td>\n",
       "      <td>40.712784</td>\n",
       "      <td>NEW YORK</td>\n",
       "    </tr>\n",
       "    <tr>\n",
       "      <th>1802441</th>\n",
       "      <td>46809</td>\n",
       "      <td>DENIED</td>\n",
       "      <td>ROBERTSON IMMIGRATION LAW FIRM</td>\n",
       "      <td>MARKET RESEARCH ANALYSTS AND MARKETING SPECIAL...</td>\n",
       "      <td>MARKETING SPECIALIST</td>\n",
       "      <td>N</td>\n",
       "      <td>37752.0</td>\n",
       "      <td>2016.0</td>\n",
       "      <td>RALEIGH, NORTH CAROLINA</td>\n",
       "      <td>-78.638179</td>\n",
       "      <td>35.779590</td>\n",
       "      <td>NORTH CAROLINA</td>\n",
       "    </tr>\n",
       "    <tr>\n",
       "      <th>1802442</th>\n",
       "      <td>230022</td>\n",
       "      <td>CERTIFIED</td>\n",
       "      <td>3I INFOTECH, INC.</td>\n",
       "      <td>COMPUTER PROGRAMMERS</td>\n",
       "      <td>PROGRAMMER ANALYST</td>\n",
       "      <td>N</td>\n",
       "      <td>51730.0</td>\n",
       "      <td>2016.0</td>\n",
       "      <td>EDISON, NEW JERSEY</td>\n",
       "      <td>-74.412095</td>\n",
       "      <td>40.518715</td>\n",
       "      <td>NEW JERSEY</td>\n",
       "    </tr>\n",
       "    <tr>\n",
       "      <th>1802443</th>\n",
       "      <td>2639925</td>\n",
       "      <td>CERTIFIED</td>\n",
       "      <td>INTERNATIONAL TECHNOLOGIES PRO, LLC</td>\n",
       "      <td>SOFTWARE DEVELOPERS, APPLICATIONS</td>\n",
       "      <td>QA SPECIALIST</td>\n",
       "      <td>Y</td>\n",
       "      <td>70491.0</td>\n",
       "      <td>2012.0</td>\n",
       "      <td>WASHINGTON, DISTRICT OF COLUMBIA</td>\n",
       "      <td>-77.036871</td>\n",
       "      <td>38.907192</td>\n",
       "      <td>DISTRICT OF COLUMBIA</td>\n",
       "    </tr>\n",
       "    <tr>\n",
       "      <th>1802444</th>\n",
       "      <td>2282725</td>\n",
       "      <td>CERTIFIED</td>\n",
       "      <td>CAPGEMINI FINANCIAL SERVICES USA INC</td>\n",
       "      <td>COMPUTER AND INFORMATION SYSTEMS MANAGERS</td>\n",
       "      <td>MANAGER</td>\n",
       "      <td>Y</td>\n",
       "      <td>91270.0</td>\n",
       "      <td>2012.0</td>\n",
       "      <td>CHARLOTTE, NORTH CAROLINA</td>\n",
       "      <td>-80.843127</td>\n",
       "      <td>35.227087</td>\n",
       "      <td>NORTH CAROLINA</td>\n",
       "    </tr>\n",
       "    <tr>\n",
       "      <th>1802445</th>\n",
       "      <td>27793</td>\n",
       "      <td>CERTIFIED</td>\n",
       "      <td>ROD CAPITAL MANAGEMENT, LLC</td>\n",
       "      <td>MANAGEMENT ANALYSTS</td>\n",
       "      <td>OPERATIONS ANALYST</td>\n",
       "      <td>N</td>\n",
       "      <td>56035.0</td>\n",
       "      <td>2016.0</td>\n",
       "      <td>VENICE, CALIFORNIA</td>\n",
       "      <td>-118.469483</td>\n",
       "      <td>33.985047</td>\n",
       "      <td>CALIFORNIA</td>\n",
       "    </tr>\n",
       "    <tr>\n",
       "      <th>1802447</th>\n",
       "      <td>512940</td>\n",
       "      <td>CERTIFIED</td>\n",
       "      <td>LARSEN &amp; TOUBRO INFOTECH LIMITED</td>\n",
       "      <td>COMPUTER SYSTEMS ENGINEERS</td>\n",
       "      <td>COMPUTER SYSTEMS ENGINEER</td>\n",
       "      <td>N</td>\n",
       "      <td>63856.0</td>\n",
       "      <td>2016.0</td>\n",
       "      <td>ST. PAUL, MINNESOTA</td>\n",
       "      <td>-93.089958</td>\n",
       "      <td>44.953703</td>\n",
       "      <td>MINNESOTA</td>\n",
       "    </tr>\n",
       "    <tr>\n",
       "      <th>1802448</th>\n",
       "      <td>229309</td>\n",
       "      <td>CERTIFIED</td>\n",
       "      <td>DVR SOFTEK, INC</td>\n",
       "      <td>COMPUTER PROGRAMMERS</td>\n",
       "      <td>PROGRAMMER ANALYST</td>\n",
       "      <td>Y</td>\n",
       "      <td>73632.0</td>\n",
       "      <td>2016.0</td>\n",
       "      <td>OWINGS MILLS, MARYLAND</td>\n",
       "      <td>-76.780253</td>\n",
       "      <td>39.419550</td>\n",
       "      <td>MARYLAND</td>\n",
       "    </tr>\n",
       "    <tr>\n",
       "      <th>1802449</th>\n",
       "      <td>1570345</td>\n",
       "      <td>CERTIFIED</td>\n",
       "      <td>UST GLOBAL INC</td>\n",
       "      <td>COMMERCIAL AND INDUSTRIAL DESIGNERS</td>\n",
       "      <td>ENGINEERING LEAD-MECHANICAL</td>\n",
       "      <td>Y</td>\n",
       "      <td>51542.0</td>\n",
       "      <td>2014.0</td>\n",
       "      <td>SOUTHFIELD, MICHIGAN</td>\n",
       "      <td>-83.221873</td>\n",
       "      <td>42.473369</td>\n",
       "      <td>MICHIGAN</td>\n",
       "    </tr>\n",
       "    <tr>\n",
       "      <th>1802450</th>\n",
       "      <td>1113570</td>\n",
       "      <td>CERTIFIED</td>\n",
       "      <td>LANCESOFT, INC.</td>\n",
       "      <td>MANAGEMENT ANALYSTS</td>\n",
       "      <td>BUSINESS SYSTEM ANALYST</td>\n",
       "      <td>Y</td>\n",
       "      <td>42661.0</td>\n",
       "      <td>2015.0</td>\n",
       "      <td>CHARLOTTE, NORTH CAROLINA</td>\n",
       "      <td>-80.843127</td>\n",
       "      <td>35.227087</td>\n",
       "      <td>NORTH CAROLINA</td>\n",
       "    </tr>\n",
       "    <tr>\n",
       "      <th>1802451</th>\n",
       "      <td>826576</td>\n",
       "      <td>CERTIFIED</td>\n",
       "      <td>VARENHORST ARCHITECTS, PC</td>\n",
       "      <td>ARCHITECTURAL AND CIVIL DRAFTERS</td>\n",
       "      <td>ARCHITECTURAL DRAFTER</td>\n",
       "      <td>Y</td>\n",
       "      <td>33051.0</td>\n",
       "      <td>2015.0</td>\n",
       "      <td>PHILADELPHIA, PENNSYLVANIA</td>\n",
       "      <td>-75.165222</td>\n",
       "      <td>39.952584</td>\n",
       "      <td>PENNSYLVANIA</td>\n",
       "    </tr>\n",
       "    <tr>\n",
       "      <th>1802452</th>\n",
       "      <td>1012621</td>\n",
       "      <td>CERTIFIED</td>\n",
       "      <td>DELOITTE TAX LLP</td>\n",
       "      <td>ACCOUNTANTS AND AUDITORS</td>\n",
       "      <td>TAX SENIOR</td>\n",
       "      <td>Y</td>\n",
       "      <td>74110.0</td>\n",
       "      <td>2015.0</td>\n",
       "      <td>NEW YORK, NEW YORK</td>\n",
       "      <td>-74.005941</td>\n",
       "      <td>40.712784</td>\n",
       "      <td>NEW YORK</td>\n",
       "    </tr>\n",
       "    <tr>\n",
       "      <th>1802453</th>\n",
       "      <td>2642182</td>\n",
       "      <td>CERTIFIED</td>\n",
       "      <td>UNIVERSITY OF CALIFORNIA, SAN DIEGO</td>\n",
       "      <td>ENGINEERING TEACHERS, POSTSECONDARY</td>\n",
       "      <td>ASSISTANT PROFESSOR</td>\n",
       "      <td>Y</td>\n",
       "      <td>67530.0</td>\n",
       "      <td>2012.0</td>\n",
       "      <td>LA JOLLA, CALIFORNIA</td>\n",
       "      <td>-117.271272</td>\n",
       "      <td>32.832811</td>\n",
       "      <td>CALIFORNIA</td>\n",
       "    </tr>\n",
       "    <tr>\n",
       "      <th>1802455</th>\n",
       "      <td>2643074</td>\n",
       "      <td>CERTIFIED</td>\n",
       "      <td>UNIVERSITY OF TEXAS HEALTH SCIENCE CENTER AT S...</td>\n",
       "      <td>MEDICAL SCIENTISTS, EXCEPT EPIDEMIOLOGISTS</td>\n",
       "      <td>POSTDOCTORAL RESEARCH FELLOW</td>\n",
       "      <td>Y</td>\n",
       "      <td>34382.0</td>\n",
       "      <td>2012.0</td>\n",
       "      <td>SAN ANTONIO, TEXAS</td>\n",
       "      <td>-98.493628</td>\n",
       "      <td>29.424122</td>\n",
       "      <td>TEXAS</td>\n",
       "    </tr>\n",
       "    <tr>\n",
       "      <th>1802456</th>\n",
       "      <td>1189924</td>\n",
       "      <td>CERTIFIED</td>\n",
       "      <td>SYNTEL INC</td>\n",
       "      <td>COMPUTER SYSTEMS ANALYSTS</td>\n",
       "      <td>PROGRAMMER ANALYST</td>\n",
       "      <td>Y</td>\n",
       "      <td>58677.0</td>\n",
       "      <td>2015.0</td>\n",
       "      <td>SCOTTSDALE, ARIZONA</td>\n",
       "      <td>-111.926052</td>\n",
       "      <td>33.494170</td>\n",
       "      <td>ARIZONA</td>\n",
       "    </tr>\n",
       "    <tr>\n",
       "      <th>1802457</th>\n",
       "      <td>420734</td>\n",
       "      <td>CERTIFIED</td>\n",
       "      <td>REED ELSEVIER INC. (LEXISNEXIS DIVISION)</td>\n",
       "      <td>SOFTWARE DEVELOPERS, SYSTEMS SOFTWARE</td>\n",
       "      <td>SOFTWARE ENGINEER III</td>\n",
       "      <td>Y</td>\n",
       "      <td>88005.0</td>\n",
       "      <td>2016.0</td>\n",
       "      <td>RALEIGH, NORTH CAROLINA</td>\n",
       "      <td>-78.638179</td>\n",
       "      <td>35.779590</td>\n",
       "      <td>NORTH CAROLINA</td>\n",
       "    </tr>\n",
       "  </tbody>\n",
       "</table>\n",
       "<p>1559380 rows × 12 columns</p>\n",
       "</div>"
      ],
      "text/plain": [
       "         Unnamed: 0 CASE_STATUS  \\\n",
       "0           1349742   CERTIFIED   \n",
       "1            789205   CERTIFIED   \n",
       "2           1617140   CERTIFIED   \n",
       "3           2757905   CERTIFIED   \n",
       "5            693102      DENIED   \n",
       "6           2662510   CERTIFIED   \n",
       "7            636434   CERTIFIED   \n",
       "8           2265757   CERTIFIED   \n",
       "9           2927315   CERTIFIED   \n",
       "10          1696111   CERTIFIED   \n",
       "11          2042418   CERTIFIED   \n",
       "12          2556938   CERTIFIED   \n",
       "13          1620167   CERTIFIED   \n",
       "14          2066155   CERTIFIED   \n",
       "15          2836033   CERTIFIED   \n",
       "16          1649897   CERTIFIED   \n",
       "17           734416   CERTIFIED   \n",
       "18          2959714   CERTIFIED   \n",
       "19          1498142   CERTIFIED   \n",
       "20            98397   CERTIFIED   \n",
       "21          2196173   CERTIFIED   \n",
       "22          2511101   CERTIFIED   \n",
       "24           718222   CERTIFIED   \n",
       "25            46751   CERTIFIED   \n",
       "26          1961506   CERTIFIED   \n",
       "27          1862817   CERTIFIED   \n",
       "28          2723040   CERTIFIED   \n",
       "29           913307      DENIED   \n",
       "30          2472137   CERTIFIED   \n",
       "31          1773253   CERTIFIED   \n",
       "...             ...         ...   \n",
       "1802422     2700782   CERTIFIED   \n",
       "1802423     1774076   CERTIFIED   \n",
       "1802424     1687095   CERTIFIED   \n",
       "1802425     2408268   CERTIFIED   \n",
       "1802426     1035749   CERTIFIED   \n",
       "1802427      290670   CERTIFIED   \n",
       "1802428     1601611   CERTIFIED   \n",
       "1802429     2555937   CERTIFIED   \n",
       "1802430     1559957   CERTIFIED   \n",
       "1802433      757654   CERTIFIED   \n",
       "1802435     1728823   CERTIFIED   \n",
       "1802436      252105   CERTIFIED   \n",
       "1802437     1691738   CERTIFIED   \n",
       "1802438     2758684   CERTIFIED   \n",
       "1802439      646277   CERTIFIED   \n",
       "1802441       46809      DENIED   \n",
       "1802442      230022   CERTIFIED   \n",
       "1802443     2639925   CERTIFIED   \n",
       "1802444     2282725   CERTIFIED   \n",
       "1802445       27793   CERTIFIED   \n",
       "1802447      512940   CERTIFIED   \n",
       "1802448      229309   CERTIFIED   \n",
       "1802449     1570345   CERTIFIED   \n",
       "1802450     1113570   CERTIFIED   \n",
       "1802451      826576   CERTIFIED   \n",
       "1802452     1012621   CERTIFIED   \n",
       "1802453     2642182   CERTIFIED   \n",
       "1802455     2643074   CERTIFIED   \n",
       "1802456     1189924   CERTIFIED   \n",
       "1802457      420734   CERTIFIED   \n",
       "\n",
       "                                             EMPLOYER_NAME  \\\n",
       "0                 INTERNATIONAL SYSTEMS TECHNOLOGIES, INC.   \n",
       "1                                              GOOGLE INC.   \n",
       "2                                            WIPRO LIMITED   \n",
       "3                                       CPO SERVICES, INC.   \n",
       "5                      UNIVERSITY OF CALIFORNIA, SAN DIEGO   \n",
       "6                                              GOOGLE INC.   \n",
       "7                                          COMPREHAB, INC.   \n",
       "8                                   JPMORGAN CHASE AND CO.   \n",
       "9                               IRONBRIDGE CONSULTING, LLC   \n",
       "10                                    AXON SOLUTIONS, INC.   \n",
       "11                                   MICROSOFT CORPORATION   \n",
       "12                                        MOBILE IRON INC.   \n",
       "13                                       TECHNIP USA, INC.   \n",
       "14                                COMMVAULT AMERICAS, INC.   \n",
       "15                                            CUMMINS INC.   \n",
       "16              PACIFIC INVESTMENT MANAGEMENT COMPANY, LLC   \n",
       "17       UNIVERSITY OF TEXAS HEALTH SCIENCE CENTER AT S...   \n",
       "18                     HARTE-HANKS DATA TECHNOLOGIES, INC.   \n",
       "19                                      LENORA SYSTEMS INC   \n",
       "20                                         INFOSYS LIMITED   \n",
       "21                          HITACHI CONSULTING CORPORATION   \n",
       "22                                         INFOSYS LIMITED   \n",
       "24                                          FORTINET, INC.   \n",
       "25                                            INDEED, INC.   \n",
       "26                                           CAZARCH, INC.   \n",
       "27                      CREDIT SUISSE SECURITIES (USA) LLC   \n",
       "28                                  JCG TECHNOLOGIES, INC.   \n",
       "29                                       APERI CORPORATION   \n",
       "30                           UPMC EMERGENCY MEDICINE, INC.   \n",
       "31                                 DELOITTE CONSULTING LLP   \n",
       "...                                                    ...   \n",
       "1802422                                   FIRST OBJECT INC   \n",
       "1802423                             ERNST & YOUNG U.S. LLP   \n",
       "1802424                          HYUNDAI DYMOS GEORGIA LLC   \n",
       "1802425                                       TRUSTEK INC.   \n",
       "1802426                  TATA CONSULTANCY SERVICES LIMITED   \n",
       "1802427                              MICROSOFT CORPORATION   \n",
       "1802428                     TECH MAHINDRA ( AMERICAS), INC   \n",
       "1802429                                   RESOURCESOFT INC   \n",
       "1802430                            KANSAS STATE UNIVERSITY   \n",
       "1802433                                      WIPRO LIMITED   \n",
       "1802435                                      WIPRO LIMITED   \n",
       "1802436                                 SCINTILLA SOFT INC   \n",
       "1802437             GLOBAL TECHNICAL SOFTWARE SERVICES INC   \n",
       "1802438                           BRIGHAM YOUNG UNIVERSITY   \n",
       "1802439                            HEADSTRONG SERVICES LLC   \n",
       "1802441                     ROBERTSON IMMIGRATION LAW FIRM   \n",
       "1802442                                  3I INFOTECH, INC.   \n",
       "1802443                INTERNATIONAL TECHNOLOGIES PRO, LLC   \n",
       "1802444               CAPGEMINI FINANCIAL SERVICES USA INC   \n",
       "1802445                        ROD CAPITAL MANAGEMENT, LLC   \n",
       "1802447                   LARSEN & TOUBRO INFOTECH LIMITED   \n",
       "1802448                                    DVR SOFTEK, INC   \n",
       "1802449                                     UST GLOBAL INC   \n",
       "1802450                                    LANCESOFT, INC.   \n",
       "1802451                          VARENHORST ARCHITECTS, PC   \n",
       "1802452                                   DELOITTE TAX LLP   \n",
       "1802453                UNIVERSITY OF CALIFORNIA, SAN DIEGO   \n",
       "1802455  UNIVERSITY OF TEXAS HEALTH SCIENCE CENTER AT S...   \n",
       "1802456                                         SYNTEL INC   \n",
       "1802457           REED ELSEVIER INC. (LEXISNEXIS DIVISION)   \n",
       "\n",
       "                                                  SOC_NAME  \\\n",
       "0                                     COMPUTER PROGRAMMERS   \n",
       "1              NETWORK AND COMPUTER SYSTEMS ADMINISTRATORS   \n",
       "2                          COMPUTER OCCUPATIONS, ALL OTHER   \n",
       "3                              ORTHOTISTS AND PROSTHETISTS   \n",
       "5               MEDICAL SCIENTISTS, EXCEPT EPIDEMIOLOGISTS   \n",
       "6                COMPUTER SOFTWARE ENGINEERS, APPLICATIONS   \n",
       "7                                      PHYSICAL THERAPISTS   \n",
       "8                        SOFTWARE DEVELOPERS, APPLICATIONS   \n",
       "9        INFORMATION SECURITY ANALYSTS, WEB DEVELOPERS,...   \n",
       "10                               COMPUTER SYSTEMS ANALYSTS   \n",
       "11                       SOFTWARE DEVELOPERS, APPLICATIONS   \n",
       "12                   SOFTWARE DEVELOPERS, SYSTEMS SOFTWARE   \n",
       "13                                      CHEMICAL ENGINEERS   \n",
       "14                               COMPUTER SYSTEMS ANALYSTS   \n",
       "15                                    MECHANICAL ENGINEERS   \n",
       "16       SECURITIES, COMMODITIES, AND FINANCIAL SERVICE...   \n",
       "17              HEALTH SPECIALTIES TEACHERS, POSTSECONDARY   \n",
       "18                                      MARKETING MANAGERS   \n",
       "19                               COMPUTER SYSTEMS ANALYSTS   \n",
       "20                                COMPUTER SYSTEMS ANALYST   \n",
       "21                       SOFTWARE DEVELOPERS, APPLICATIONS   \n",
       "22                               COMPUTER SYSTEMS ANALYSTS   \n",
       "24                         COMPUTER OCCUPATIONS, ALL OTHER   \n",
       "25       MARKET RESEARCH ANALYSTS AND MARKETING SPECIAL...   \n",
       "26                        ARCHITECTURAL AND CIVIL DRAFTERS   \n",
       "27                                ACCOUNTANTS AND AUDITORS   \n",
       "28                                    COMPUTER PROGRAMMERS   \n",
       "29                             COMPUTER HARDWARE ENGINEERS   \n",
       "30                      PHYSICIANS AND SURGEONS, ALL OTHER   \n",
       "31                               COMPUTER SYSTEMS ANALYSTS   \n",
       "...                                                    ...   \n",
       "1802422                          COMPUTER SYSTEMS ANALYSTS   \n",
       "1802423                                MANAGEMENT ANALYSTS   \n",
       "1802424                                 FINANCIAL ANALYSTS   \n",
       "1802425                            DATABASE ADMINISTRATORS   \n",
       "1802426                          COMPUTER SYSTEMS ANALYSTS   \n",
       "1802427                  SOFTWARE DEVELOPERS, APPLICATIONS   \n",
       "1802428                    COMPUTER OCCUPATIONS, ALL OTHER   \n",
       "1802429                            DATABASE ADMINISTRATORS   \n",
       "1802430                   BIOLOGICAL SCIENTISTS, ALL OTHER   \n",
       "1802433                    COMPUTER OCCUPATIONS, ALL OTHER   \n",
       "1802435                    COMPUTER OCCUPATIONS, ALL OTHER   \n",
       "1802436                               COMPUTER PROGRAMMERS   \n",
       "1802437                          COMPUTER SYSTEMS ANALYSTS   \n",
       "1802438                                           CHEMISTS   \n",
       "1802439                                    SALES ENGINEERS   \n",
       "1802441  MARKET RESEARCH ANALYSTS AND MARKETING SPECIAL...   \n",
       "1802442                               COMPUTER PROGRAMMERS   \n",
       "1802443                  SOFTWARE DEVELOPERS, APPLICATIONS   \n",
       "1802444          COMPUTER AND INFORMATION SYSTEMS MANAGERS   \n",
       "1802445                                MANAGEMENT ANALYSTS   \n",
       "1802447                         COMPUTER SYSTEMS ENGINEERS   \n",
       "1802448                               COMPUTER PROGRAMMERS   \n",
       "1802449                COMMERCIAL AND INDUSTRIAL DESIGNERS   \n",
       "1802450                                MANAGEMENT ANALYSTS   \n",
       "1802451                   ARCHITECTURAL AND CIVIL DRAFTERS   \n",
       "1802452                           ACCOUNTANTS AND AUDITORS   \n",
       "1802453                ENGINEERING TEACHERS, POSTSECONDARY   \n",
       "1802455         MEDICAL SCIENTISTS, EXCEPT EPIDEMIOLOGISTS   \n",
       "1802456                          COMPUTER SYSTEMS ANALYSTS   \n",
       "1802457              SOFTWARE DEVELOPERS, SYSTEMS SOFTWARE   \n",
       "\n",
       "                                                 JOB_TITLE FULL_TIME_POSITION  \\\n",
       "0                                       PROGRAMMER ANALYST                  Y   \n",
       "1                                SITE RELIABILITY ENGINEER                  Y   \n",
       "2                                          PROJECT MANAGER                  Y   \n",
       "3                                        STAFF PROSTHETIST                  Y   \n",
       "5                              ASSISTANT PROJECT SCIENTIST                  Y   \n",
       "6                                        SOFTWARE ENGINEER                  Y   \n",
       "7                                       PHYSICAL THERAPIST                  N   \n",
       "8                                   APPLICATIONS DEVELOPER                  Y   \n",
       "9                       SOFTWARE ENGINEER/ NETWORK ANALYST                  Y   \n",
       "10                                     MANAGING CONSULTANT                  Y   \n",
       "11                   SOFTWARE DEVELOPMENT ENGINEER IN TEST                  Y   \n",
       "12                                        SYSTEMS ENGINEER                  Y   \n",
       "13                                   FACILITIES SPECIALIST                  Y   \n",
       "14                                           SYSTEM TESTER                  Y   \n",
       "15       SENIOR MECHANICAL ENGINEER - PERFORMANCE IMPRO...                  Y   \n",
       "16                       VICE PRESIDENT, PORTFOLIO MANAGER                  Y   \n",
       "17                                     ASSISTANT PROFESSOR                  Y   \n",
       "18                               ASSOCIATE PRODUCT MANAGER                  Y   \n",
       "19                                      PROGRAMMER ANALYST                  Y   \n",
       "20                                    TECHNOLOGY LEAD - US                  Y   \n",
       "21                                       SOFTWARE ENGINEER                  Y   \n",
       "22                                            PROJECT LEAD                  Y   \n",
       "24                         CARRIER READINESS TEST ENGINEER                  Y   \n",
       "25                                   ONLINE MARKET ANALYST                  N   \n",
       "26                                   ARCHITETURAL DESIGNER                  Y   \n",
       "27                                      EXEMPT NON-OFFICER                  Y   \n",
       "28                                     COMPUTER PROGRAMMER                  Y   \n",
       "29                                        SYSTEMS ENGINEER                  Y   \n",
       "30                                             HOSPITALIST                  Y   \n",
       "31                                              CONSULTANT                  Y   \n",
       "...                                                    ...                ...   \n",
       "1802422                               SR. BUSINESS ANALYST                  Y   \n",
       "1802423                                         TAS SENIOR                  Y   \n",
       "1802424                               FINANCIAL SPECIALIST                  Y   \n",
       "1802425                                     SQL SERVER DBA                  Y   \n",
       "1802426                                            ANALYST                  Y   \n",
       "1802427                                  SOFTWARE ENGINEER                  Y   \n",
       "1802428                             SOFTWARE TEST ENGINEER                  Y   \n",
       "1802429                             DATABASE ADMINISTRATOR                  Y   \n",
       "1802430                             WEB/DATABASE DEVELOPER                  Y   \n",
       "1802433                              TEST ENGINEER LEVEL 1                  Y   \n",
       "1802435                                      LEAD ENGINEER                  Y   \n",
       "1802436                                 PROGRAMMER ANALYST                  N   \n",
       "1802437                                    SYSTEMS ANALYST                  Y   \n",
       "1802438      POST DOCTORAL RESEARCH ASSISTANT IN CHEMISTRY                  Y   \n",
       "1802439                       BUSINESS DEVELOPMENT MANAGER                  Y   \n",
       "1802441                               MARKETING SPECIALIST                  N   \n",
       "1802442                                 PROGRAMMER ANALYST                  N   \n",
       "1802443                                      QA SPECIALIST                  Y   \n",
       "1802444                                            MANAGER                  Y   \n",
       "1802445                                 OPERATIONS ANALYST                  N   \n",
       "1802447                          COMPUTER SYSTEMS ENGINEER                  N   \n",
       "1802448                                 PROGRAMMER ANALYST                  Y   \n",
       "1802449                        ENGINEERING LEAD-MECHANICAL                  Y   \n",
       "1802450                            BUSINESS SYSTEM ANALYST                  Y   \n",
       "1802451                              ARCHITECTURAL DRAFTER                  Y   \n",
       "1802452                                         TAX SENIOR                  Y   \n",
       "1802453                                ASSISTANT PROFESSOR                  Y   \n",
       "1802455                       POSTDOCTORAL RESEARCH FELLOW                  Y   \n",
       "1802456                                 PROGRAMMER ANALYST                  Y   \n",
       "1802457                              SOFTWARE ENGINEER III                  Y   \n",
       "\n",
       "         PREVAILING_WAGE    YEAR                          WORKSITE  \\\n",
       "0                61589.0  2014.0             SUNNYVALE, CALIFORNIA   \n",
       "1                79144.0  2015.0         SAN FRANCISCO, CALIFORNIA   \n",
       "2                73882.0  2014.0            EL SEGUNDO, CALIFORNIA   \n",
       "3                61589.0  2011.0                  PEORIA, ILLINOIS   \n",
       "5                42120.0  2015.0              LA JOLLA, CALIFORNIA   \n",
       "6                82035.0  2011.0         MOUNTAIN VIEW, CALIFORNIA   \n",
       "7                64168.0  2016.0          GASTONIA, NORTH CAROLINA   \n",
       "8                92726.0  2012.0                    COLUMBUS, OHIO   \n",
       "9                57866.0  2011.0               ARLINGTON, VIRGINIA   \n",
       "10               91998.0  2014.0        UNIVERSAL CITY, CALIFORNIA   \n",
       "11               86278.0  2013.0               REDMOND, WASHINGTON   \n",
       "12              103709.0  2012.0         MOUNTAIN VIEW, CALIFORNIA   \n",
       "13               75298.0  2014.0                    HOUSTON, TEXAS   \n",
       "14               74651.0  2013.0             OCEANPORT, NEW JERSEY   \n",
       "15               66019.0  2011.0                FRIDLEY, MINNESOTA   \n",
       "16               57949.0  2014.0         NEWPORT BEACH, CALIFORNIA   \n",
       "17               96277.0  2015.0                SAN ANTONIO, TEXAS   \n",
       "18               55931.0  2011.0       LINTHICUM HEIGHTS, MARYLAND   \n",
       "19               57075.0  2014.0                     DALLAS, TEXAS   \n",
       "20               89149.0  2016.0             SUNNYVALE, CALIFORNIA   \n",
       "21               73174.0  2013.0               REDMOND, WASHINGTON   \n",
       "22               76315.0  2012.0                    TAMPA, FLORIDA   \n",
       "24               77563.0  2015.0             SUNNYVALE, CALIFORNIA   \n",
       "25               60258.0  2016.0                     AUSTIN, TEXAS   \n",
       "26               40685.0  2013.0                BROOKLYN, NEW YORK   \n",
       "27               55370.0  2013.0                NEW YORK, NEW YORK   \n",
       "28               67995.0  2011.0        WESTBOROUGH, MASSACHUSETTS   \n",
       "29               66200.0  2015.0             CAMARILLO, CALIFORNIA   \n",
       "30               81994.0  2012.0          GREENVILLE, PENNSYLVANIA   \n",
       "31               75899.0  2014.0         BALA CYNWYD, PENNSYLVANIA   \n",
       "...                  ...     ...                               ...   \n",
       "1802422          51646.0  2011.0               ST. LOUIS, MISSOURI   \n",
       "1802423          93538.0  2014.0         SAN FRANCISCO, CALIFORNIA   \n",
       "1802424          49088.0  2014.0               WEST POINT, GEORGIA   \n",
       "1802425          60154.0  2012.0      SOUTH PLAINFIELD, NEW JERSEY   \n",
       "1802426          41163.0  2015.0             SAN JUAN, PUERTO RICO   \n",
       "1802427         101088.0  2016.0               REDMOND, WASHINGTON   \n",
       "1802428          77938.0  2014.0                 RICHARDSON, TEXAS   \n",
       "1802429          53498.0  2012.0             BOSTON, MASSACHUSETTS   \n",
       "1802430          40706.0  2014.0                 MANHATTAN, KANSAS   \n",
       "1802433          60528.0  2015.0             PALO ALTO, CALIFORNIA   \n",
       "1802435          62878.0  2014.0              WILMINGTON, DELAWARE   \n",
       "1802436          54850.0  2016.0           LOS ANGELES, CALIFORNIA   \n",
       "1802437          65416.0  2014.0                       AKRON, OHIO   \n",
       "1802438          35298.0  2011.0                       PROVO, UTAH   \n",
       "1802439          86986.0  2016.0                NEW YORK, NEW YORK   \n",
       "1802441          37752.0  2016.0           RALEIGH, NORTH CAROLINA   \n",
       "1802442          51730.0  2016.0                EDISON, NEW JERSEY   \n",
       "1802443          70491.0  2012.0  WASHINGTON, DISTRICT OF COLUMBIA   \n",
       "1802444          91270.0  2012.0         CHARLOTTE, NORTH CAROLINA   \n",
       "1802445          56035.0  2016.0                VENICE, CALIFORNIA   \n",
       "1802447          63856.0  2016.0               ST. PAUL, MINNESOTA   \n",
       "1802448          73632.0  2016.0            OWINGS MILLS, MARYLAND   \n",
       "1802449          51542.0  2014.0              SOUTHFIELD, MICHIGAN   \n",
       "1802450          42661.0  2015.0         CHARLOTTE, NORTH CAROLINA   \n",
       "1802451          33051.0  2015.0        PHILADELPHIA, PENNSYLVANIA   \n",
       "1802452          74110.0  2015.0                NEW YORK, NEW YORK   \n",
       "1802453          67530.0  2012.0              LA JOLLA, CALIFORNIA   \n",
       "1802455          34382.0  2012.0                SAN ANTONIO, TEXAS   \n",
       "1802456          58677.0  2015.0               SCOTTSDALE, ARIZONA   \n",
       "1802457          88005.0  2016.0           RALEIGH, NORTH CAROLINA   \n",
       "\n",
       "                lon        lat                 State  \n",
       "0       -122.036350  37.368830            CALIFORNIA  \n",
       "1       -122.419415  37.774929            CALIFORNIA  \n",
       "2       -118.416465  33.919180            CALIFORNIA  \n",
       "3        -89.588986  40.693649              ILLINOIS  \n",
       "5       -117.271272  32.832811            CALIFORNIA  \n",
       "6       -122.083851  37.386052            CALIFORNIA  \n",
       "7        -81.187301  35.262082        NORTH CAROLINA  \n",
       "8        -82.998794  39.961176                  OHIO  \n",
       "9        -77.106770  38.879970              VIRGINIA  \n",
       "10      -118.350578  34.139769            CALIFORNIA  \n",
       "11      -122.121512  47.673988            WASHINGTON  \n",
       "12      -122.083851  37.386052            CALIFORNIA  \n",
       "13       -95.369803  29.760427                 TEXAS  \n",
       "14       -74.015138  40.318166            NEW JERSEY  \n",
       "15       -93.263282  45.086077             MINNESOTA  \n",
       "16      -117.928947  33.618910            CALIFORNIA  \n",
       "17       -98.493628  29.424122                 TEXAS  \n",
       "18       -76.652746  39.205108              MARYLAND  \n",
       "19       -96.796988  32.776664                 TEXAS  \n",
       "20      -122.036350  37.368830            CALIFORNIA  \n",
       "21      -122.121512  47.673988            WASHINGTON  \n",
       "22       -82.457178  27.950575               FLORIDA  \n",
       "24      -122.036350  37.368830            CALIFORNIA  \n",
       "25       -97.743061  30.267153                 TEXAS  \n",
       "26       -73.944158  40.678178              NEW YORK  \n",
       "27       -74.005941  40.712784              NEW YORK  \n",
       "28       -71.616129  42.269522         MASSACHUSETTS  \n",
       "29      -119.037602  34.216394            CALIFORNIA  \n",
       "30       -80.391179  41.404499          PENNSYLVANIA  \n",
       "31       -75.230404  40.013142          PENNSYLVANIA  \n",
       "...             ...        ...                   ...  \n",
       "1802422  -90.199404  38.627003              MISSOURI  \n",
       "1802423 -122.419415  37.774929            CALIFORNIA  \n",
       "1802424  -85.183275  32.877906               GEORGIA  \n",
       "1802425  -74.411540  40.579270            NEW JERSEY  \n",
       "1802426  -66.105735  18.465539           PUERTO RICO  \n",
       "1802427 -122.121512  47.673988            WASHINGTON  \n",
       "1802428  -96.729852  32.948334                 TEXAS  \n",
       "1802429  -71.058880  42.360083         MASSACHUSETTS  \n",
       "1802430  -96.571669  39.183608                KANSAS  \n",
       "1802433 -122.143020  37.441883            CALIFORNIA  \n",
       "1802435  -75.539788  39.739072              DELAWARE  \n",
       "1802436 -118.243685  34.052234            CALIFORNIA  \n",
       "1802437  -81.519005  41.081445                  OHIO  \n",
       "1802438 -111.658534  40.233844                  UTAH  \n",
       "1802439  -74.005941  40.712784              NEW YORK  \n",
       "1802441  -78.638179  35.779590        NORTH CAROLINA  \n",
       "1802442  -74.412095  40.518715            NEW JERSEY  \n",
       "1802443  -77.036871  38.907192  DISTRICT OF COLUMBIA  \n",
       "1802444  -80.843127  35.227087        NORTH CAROLINA  \n",
       "1802445 -118.469483  33.985047            CALIFORNIA  \n",
       "1802447  -93.089958  44.953703             MINNESOTA  \n",
       "1802448  -76.780253  39.419550              MARYLAND  \n",
       "1802449  -83.221873  42.473369              MICHIGAN  \n",
       "1802450  -80.843127  35.227087        NORTH CAROLINA  \n",
       "1802451  -75.165222  39.952584          PENNSYLVANIA  \n",
       "1802452  -74.005941  40.712784              NEW YORK  \n",
       "1802453 -117.271272  32.832811            CALIFORNIA  \n",
       "1802455  -98.493628  29.424122                 TEXAS  \n",
       "1802456 -111.926052  33.494170               ARIZONA  \n",
       "1802457  -78.638179  35.779590        NORTH CAROLINA  \n",
       "\n",
       "[1559380 rows x 12 columns]"
      ]
     },
     "execution_count": 179,
     "metadata": {},
     "output_type": "execute_result"
    }
   ],
   "source": [
    "df1.dropna(axis=0, how ='any')"
   ]
  },
  {
   "cell_type": "code",
   "execution_count": 16,
   "metadata": {
    "ExecuteTime": {
     "end_time": "2018-08-23T09:25:14.036284Z",
     "start_time": "2018-08-23T09:25:13.199978Z"
    },
    "scrolled": false
   },
   "outputs": [
    {
     "data": {
      "image/png": "[encoded data removed]",
      "text/plain": [
       "<Figure size 1080x432 with 1 Axes>"
      ]
     },
     "metadata": {},
     "output_type": "display_data"
    },
    {
     "data": {
      "text/html": [
       "<div>\n",
       "<style scoped>\n",
       "    .dataframe tbody tr th:only-of-type {\n",
       "        vertical-align: middle;\n",
       "    }\n",
       "\n",
       "    .dataframe tbody tr th {\n",
       "        vertical-align: top;\n",
       "    }\n",
       "\n",
       "    .dataframe thead th {\n",
       "        text-align: right;\n",
       "    }\n",
       "</style>\n",
       "<table border=\"1\" class=\"dataframe\">\n",
       "  <thead>\n",
       "    <tr style=\"text-align: right;\">\n",
       "      <th></th>\n",
       "      <th>YEAR</th>\n",
       "      <th>CASE_STATUS</th>\n",
       "      <th>JOB_TITLE</th>\n",
       "    </tr>\n",
       "  </thead>\n",
       "  <tbody>\n",
       "    <tr>\n",
       "      <th>0</th>\n",
       "      <td>2011.0</td>\n",
       "      <td>CERTIFIED</td>\n",
       "      <td>185377</td>\n",
       "    </tr>\n",
       "    <tr>\n",
       "      <th>1</th>\n",
       "      <td>2011.0</td>\n",
       "      <td>DENIED</td>\n",
       "      <td>17490</td>\n",
       "    </tr>\n",
       "    <tr>\n",
       "      <th>2</th>\n",
       "      <td>2012.0</td>\n",
       "      <td>CERTIFIED</td>\n",
       "      <td>211666</td>\n",
       "    </tr>\n",
       "    <tr>\n",
       "      <th>3</th>\n",
       "      <td>2012.0</td>\n",
       "      <td>DENIED</td>\n",
       "      <td>12641</td>\n",
       "    </tr>\n",
       "    <tr>\n",
       "      <th>4</th>\n",
       "      <td>2013.0</td>\n",
       "      <td>CERTIFIED</td>\n",
       "      <td>229567</td>\n",
       "    </tr>\n",
       "    <tr>\n",
       "      <th>5</th>\n",
       "      <td>2013.0</td>\n",
       "      <td>DENIED</td>\n",
       "      <td>7312</td>\n",
       "    </tr>\n",
       "    <tr>\n",
       "      <th>6</th>\n",
       "      <td>2014.0</td>\n",
       "      <td>CERTIFIED</td>\n",
       "      <td>272827</td>\n",
       "    </tr>\n",
       "    <tr>\n",
       "      <th>7</th>\n",
       "      <td>2014.0</td>\n",
       "      <td>DENIED</td>\n",
       "      <td>7121</td>\n",
       "    </tr>\n",
       "    <tr>\n",
       "      <th>8</th>\n",
       "      <td>2015.0</td>\n",
       "      <td>CERTIFIED</td>\n",
       "      <td>328894</td>\n",
       "    </tr>\n",
       "    <tr>\n",
       "      <th>9</th>\n",
       "      <td>2015.0</td>\n",
       "      <td>DENIED</td>\n",
       "      <td>6529</td>\n",
       "    </tr>\n",
       "    <tr>\n",
       "      <th>10</th>\n",
       "      <td>2016.0</td>\n",
       "      <td>CERTIFIED</td>\n",
       "      <td>341984</td>\n",
       "    </tr>\n",
       "    <tr>\n",
       "      <th>11</th>\n",
       "      <td>2016.0</td>\n",
       "      <td>DENIED</td>\n",
       "      <td>5475</td>\n",
       "    </tr>\n",
       "  </tbody>\n",
       "</table>\n",
       "</div>"
      ],
      "text/plain": [
       "      YEAR CASE_STATUS  JOB_TITLE\n",
       "0   2011.0   CERTIFIED     185377\n",
       "1   2011.0      DENIED      17490\n",
       "2   2012.0   CERTIFIED     211666\n",
       "3   2012.0      DENIED      12641\n",
       "4   2013.0   CERTIFIED     229567\n",
       "5   2013.0      DENIED       7312\n",
       "6   2014.0   CERTIFIED     272827\n",
       "7   2014.0      DENIED       7121\n",
       "8   2015.0   CERTIFIED     328894\n",
       "9   2015.0      DENIED       6529\n",
       "10  2016.0   CERTIFIED     341984\n",
       "11  2016.0      DENIED       5475"
      ]
     },
     "execution_count": 16,
     "metadata": {},
     "output_type": "execute_result"
    }
   ],
   "source": [
    "case_year = df1.groupby(['YEAR','CASE_STATUS'])['JOB_TITLE'].count().reset_index()\n",
    "case_year.pivot('YEAR','CASE_STATUS','JOB_TITLE').plot.bar(width=0.8)\n",
    "fig = plt.gcf()\n",
    "fig.set_size_inches(15,6)\n",
    "plt.title('Case Status by Year')\n",
    "plt.show()\n",
    "case_year"
   ]
  },
  {
   "cell_type": "code",
   "execution_count": 17,
   "metadata": {
    "ExecuteTime": {
     "end_time": "2018-08-23T09:25:19.640913Z",
     "start_time": "2018-08-23T09:25:19.627147Z"
    }
   },
   "outputs": [],
   "source": [
    "count_cer = case_year.loc[case_year['CASE_STATUS'] == 'CERTIFIED']\n",
    "count_de = case_year.loc[case_year['CASE_STATUS'] == 'DENIED']"
   ]
  },
  {
   "cell_type": "code",
   "execution_count": 18,
   "metadata": {
    "ExecuteTime": {
     "end_time": "2018-08-23T09:25:21.661072Z",
     "start_time": "2018-08-23T09:25:21.650643Z"
    }
   },
   "outputs": [
    {
     "data": {
      "text/plain": [
       "array([0.91378588, 0.9436442 , 0.96913192, 0.97456313, 0.98053503,\n",
       "       0.98424275])"
      ]
     },
     "execution_count": 18,
     "metadata": {},
     "output_type": "execute_result"
    }
   ],
   "source": [
    "rate = count_cer['JOB_TITLE'].values / (count_cer['JOB_TITLE'].values + count_de['JOB_TITLE'].values)\n",
    "rate #연도에 따라 certificated 비율이 늘어나고 있다"
   ]
  },
  {
   "cell_type": "markdown",
   "metadata": {},
   "source": [
    "### EMPLOYEER"
   ]
  },
  {
   "cell_type": "code",
   "execution_count": 19,
   "metadata": {
    "ExecuteTime": {
     "end_time": "2018-08-23T09:25:25.173127Z",
     "start_time": "2018-08-23T09:25:24.001093Z"
    },
    "scrolled": true
   },
   "outputs": [
    {
     "data": {
      "image/png": "[encoded data removed]",
      "text/plain": [
       "<Figure size 432x288 with 1 Axes>"
      ]
     },
     "metadata": {},
     "output_type": "display_data"
    }
   ],
   "source": [
    "employer = df1['EMPLOYER_NAME'].value_counts().sort_values(ascending=False)[:10].plot.barh()"
   ]
  },
  {
   "cell_type": "markdown",
   "metadata": {},
   "source": [
    "### 좋은 회사가 certified 비율이 높으려나?"
   ]
  },
  {
   "cell_type": "code",
   "execution_count": 20,
   "metadata": {
    "ExecuteTime": {
     "end_time": "2018-08-23T09:25:30.883143Z",
     "start_time": "2018-08-23T09:25:28.259390Z"
    }
   },
   "outputs": [],
   "source": [
    "cer_rate = df1[df1['CASE_STATUS'] == 'CERTIFIED']\n",
    "cer_rate = cer_rate.groupby(['EMPLOYER_NAME','CASE_STATUS'])['YEAR'].count().reset_index()\n",
    "de_rate = df1[df1['CASE_STATUS'] == 'DENIED']\n",
    "de_rate = de_rate.groupby(['EMPLOYER_NAME','CASE_STATUS'])['YEAR'].count().reset_index()\n",
    "cer = cer_rate.sort_values('YEAR', ascending = False)[:100]\n",
    "de = de_rate.sort_values('YEAR',ascending =False)[:100]"
   ]
  },
  {
   "cell_type": "code",
   "execution_count": 21,
   "metadata": {
    "ExecuteTime": {
     "end_time": "2018-08-23T09:25:32.865593Z",
     "start_time": "2018-08-23T09:25:32.849996Z"
    }
   },
   "outputs": [
    {
     "data": {
      "text/html": [
       "<div>\n",
       "<style scoped>\n",
       "    .dataframe tbody tr th:only-of-type {\n",
       "        vertical-align: middle;\n",
       "    }\n",
       "\n",
       "    .dataframe tbody tr th {\n",
       "        vertical-align: top;\n",
       "    }\n",
       "\n",
       "    .dataframe thead th {\n",
       "        text-align: right;\n",
       "    }\n",
       "</style>\n",
       "<table border=\"1\" class=\"dataframe\">\n",
       "  <thead>\n",
       "    <tr style=\"text-align: right;\">\n",
       "      <th></th>\n",
       "      <th>EMPLOYER_NAME</th>\n",
       "      <th>CASE_STATUS</th>\n",
       "      <th>YEAR</th>\n",
       "    </tr>\n",
       "  </thead>\n",
       "  <tbody>\n",
       "    <tr>\n",
       "      <th>73201</th>\n",
       "      <td>INFOSYS LIMITED</td>\n",
       "      <td>CERTIFIED</td>\n",
       "      <td>77953</td>\n",
       "    </tr>\n",
       "    <tr>\n",
       "      <th>145919</th>\n",
       "      <td>TATA CONSULTANCY SERVICES LIMITED</td>\n",
       "      <td>CERTIFIED</td>\n",
       "      <td>38571</td>\n",
       "    </tr>\n",
       "    <tr>\n",
       "      <th>166327</th>\n",
       "      <td>WIPRO LIMITED</td>\n",
       "      <td>CERTIFIED</td>\n",
       "      <td>25877</td>\n",
       "    </tr>\n",
       "    <tr>\n",
       "      <th>41076</th>\n",
       "      <td>DELOITTE CONSULTING LLP</td>\n",
       "      <td>CERTIFIED</td>\n",
       "      <td>21615</td>\n",
       "    </tr>\n",
       "    <tr>\n",
       "      <th>2461</th>\n",
       "      <td>ACCENTURE LLP</td>\n",
       "      <td>CERTIFIED</td>\n",
       "      <td>19631</td>\n",
       "    </tr>\n",
       "  </tbody>\n",
       "</table>\n",
       "</div>"
      ],
      "text/plain": [
       "                            EMPLOYER_NAME CASE_STATUS   YEAR\n",
       "73201                     INFOSYS LIMITED   CERTIFIED  77953\n",
       "145919  TATA CONSULTANCY SERVICES LIMITED   CERTIFIED  38571\n",
       "166327                      WIPRO LIMITED   CERTIFIED  25877\n",
       "41076             DELOITTE CONSULTING LLP   CERTIFIED  21615\n",
       "2461                        ACCENTURE LLP   CERTIFIED  19631"
      ]
     },
     "execution_count": 21,
     "metadata": {},
     "output_type": "execute_result"
    }
   ],
   "source": [
    "cer.head()"
   ]
  },
  {
   "cell_type": "code",
   "execution_count": 22,
   "metadata": {
    "ExecuteTime": {
     "end_time": "2018-08-23T09:25:35.390134Z",
     "start_time": "2018-08-23T09:25:35.037872Z"
    }
   },
   "outputs": [],
   "source": [
    "cer_de = cer.merge(de,left_on = 'EMPLOYER_NAME',right_on = 'EMPLOYER_NAME',how='left').dropna()\n",
    "cer_de['Certified_rate'] = cer_de['YEAR_x']/(cer_de['YEAR_x']+cer_de['YEAR_y'])"
   ]
  },
  {
   "cell_type": "code",
   "execution_count": 23,
   "metadata": {
    "ExecuteTime": {
     "end_time": "2018-08-23T09:25:37.409294Z",
     "start_time": "2018-08-23T09:25:37.394233Z"
    }
   },
   "outputs": [
    {
     "data": {
      "text/html": [
       "<div>\n",
       "<style scoped>\n",
       "    .dataframe tbody tr th:only-of-type {\n",
       "        vertical-align: middle;\n",
       "    }\n",
       "\n",
       "    .dataframe tbody tr th {\n",
       "        vertical-align: top;\n",
       "    }\n",
       "\n",
       "    .dataframe thead th {\n",
       "        text-align: right;\n",
       "    }\n",
       "</style>\n",
       "<table border=\"1\" class=\"dataframe\">\n",
       "  <thead>\n",
       "    <tr style=\"text-align: right;\">\n",
       "      <th></th>\n",
       "      <th>EMPLOYER_NAME</th>\n",
       "      <th>CASE_STATUS_x</th>\n",
       "      <th>YEAR_x</th>\n",
       "      <th>CASE_STATUS_y</th>\n",
       "      <th>YEAR_y</th>\n",
       "      <th>Certified_rate</th>\n",
       "    </tr>\n",
       "  </thead>\n",
       "  <tbody>\n",
       "    <tr>\n",
       "      <th>0</th>\n",
       "      <td>INFOSYS LIMITED</td>\n",
       "      <td>CERTIFIED</td>\n",
       "      <td>77953</td>\n",
       "      <td>DENIED</td>\n",
       "      <td>187.0</td>\n",
       "      <td>0.997607</td>\n",
       "    </tr>\n",
       "    <tr>\n",
       "      <th>1</th>\n",
       "      <td>TATA CONSULTANCY SERVICES LIMITED</td>\n",
       "      <td>CERTIFIED</td>\n",
       "      <td>38571</td>\n",
       "      <td>DENIED</td>\n",
       "      <td>71.0</td>\n",
       "      <td>0.998163</td>\n",
       "    </tr>\n",
       "    <tr>\n",
       "      <th>2</th>\n",
       "      <td>WIPRO LIMITED</td>\n",
       "      <td>CERTIFIED</td>\n",
       "      <td>25877</td>\n",
       "      <td>DENIED</td>\n",
       "      <td>119.0</td>\n",
       "      <td>0.995422</td>\n",
       "    </tr>\n",
       "    <tr>\n",
       "      <th>3</th>\n",
       "      <td>DELOITTE CONSULTING LLP</td>\n",
       "      <td>CERTIFIED</td>\n",
       "      <td>21615</td>\n",
       "      <td>DENIED</td>\n",
       "      <td>330.0</td>\n",
       "      <td>0.984962</td>\n",
       "    </tr>\n",
       "    <tr>\n",
       "      <th>4</th>\n",
       "      <td>ACCENTURE LLP</td>\n",
       "      <td>CERTIFIED</td>\n",
       "      <td>19631</td>\n",
       "      <td>DENIED</td>\n",
       "      <td>43.0</td>\n",
       "      <td>0.997814</td>\n",
       "    </tr>\n",
       "  </tbody>\n",
       "</table>\n",
       "</div>"
      ],
      "text/plain": [
       "                       EMPLOYER_NAME CASE_STATUS_x  YEAR_x CASE_STATUS_y  \\\n",
       "0                    INFOSYS LIMITED     CERTIFIED   77953        DENIED   \n",
       "1  TATA CONSULTANCY SERVICES LIMITED     CERTIFIED   38571        DENIED   \n",
       "2                      WIPRO LIMITED     CERTIFIED   25877        DENIED   \n",
       "3            DELOITTE CONSULTING LLP     CERTIFIED   21615        DENIED   \n",
       "4                      ACCENTURE LLP     CERTIFIED   19631        DENIED   \n",
       "\n",
       "   YEAR_y  Certified_rate  \n",
       "0   187.0        0.997607  \n",
       "1    71.0        0.998163  \n",
       "2   119.0        0.995422  \n",
       "3   330.0        0.984962  \n",
       "4    43.0        0.997814  "
      ]
     },
     "execution_count": 23,
     "metadata": {},
     "output_type": "execute_result"
    }
   ],
   "source": [
    "cer_de.head()"
   ]
  },
  {
   "cell_type": "code",
   "execution_count": 27,
   "metadata": {
    "ExecuteTime": {
     "end_time": "2018-08-23T09:28:39.827290Z",
     "start_time": "2018-08-23T09:28:39.810978Z"
    },
    "scrolled": false
   },
   "outputs": [
    {
     "data": {
      "text/html": [
       "<div>\n",
       "<style scoped>\n",
       "    .dataframe tbody tr th:only-of-type {\n",
       "        vertical-align: middle;\n",
       "    }\n",
       "\n",
       "    .dataframe tbody tr th {\n",
       "        vertical-align: top;\n",
       "    }\n",
       "\n",
       "    .dataframe thead th {\n",
       "        text-align: right;\n",
       "    }\n",
       "</style>\n",
       "<table border=\"1\" class=\"dataframe\">\n",
       "  <thead>\n",
       "    <tr style=\"text-align: right;\">\n",
       "      <th></th>\n",
       "      <th>EMPLOYER_NAME</th>\n",
       "      <th>Certified_rate</th>\n",
       "    </tr>\n",
       "  </thead>\n",
       "  <tbody>\n",
       "    <tr>\n",
       "      <th>49</th>\n",
       "      <td>CISCO SYSTEMS, INC.</td>\n",
       "      <td>0.957459</td>\n",
       "    </tr>\n",
       "    <tr>\n",
       "      <th>28</th>\n",
       "      <td>FUJITSU AMERICA, INC.</td>\n",
       "      <td>0.963094</td>\n",
       "    </tr>\n",
       "    <tr>\n",
       "      <th>39</th>\n",
       "      <td>CAPGEMINI U.S. LLC</td>\n",
       "      <td>0.967053</td>\n",
       "    </tr>\n",
       "    <tr>\n",
       "      <th>96</th>\n",
       "      <td>MAYO CLINIC</td>\n",
       "      <td>0.975296</td>\n",
       "    </tr>\n",
       "    <tr>\n",
       "      <th>59</th>\n",
       "      <td>YAHOO! INC.</td>\n",
       "      <td>0.976267</td>\n",
       "    </tr>\n",
       "    <tr>\n",
       "      <th>34</th>\n",
       "      <td>BANK OF AMERICA N.A.</td>\n",
       "      <td>0.976852</td>\n",
       "    </tr>\n",
       "    <tr>\n",
       "      <th>84</th>\n",
       "      <td>VIRTUSA CORPORATION</td>\n",
       "      <td>0.977489</td>\n",
       "    </tr>\n",
       "    <tr>\n",
       "      <th>73</th>\n",
       "      <td>BROADCOM CORPORATION</td>\n",
       "      <td>0.979790</td>\n",
       "    </tr>\n",
       "    <tr>\n",
       "      <th>56</th>\n",
       "      <td>PRICEWATERHOUSECOOPERS LLP</td>\n",
       "      <td>0.980149</td>\n",
       "    </tr>\n",
       "    <tr>\n",
       "      <th>35</th>\n",
       "      <td>EMC CORPORATION</td>\n",
       "      <td>0.980333</td>\n",
       "    </tr>\n",
       "  </tbody>\n",
       "</table>\n",
       "</div>"
      ],
      "text/plain": [
       "                 EMPLOYER_NAME  Certified_rate\n",
       "49         CISCO SYSTEMS, INC.        0.957459\n",
       "28       FUJITSU AMERICA, INC.        0.963094\n",
       "39          CAPGEMINI U.S. LLC        0.967053\n",
       "96                 MAYO CLINIC        0.975296\n",
       "59                 YAHOO! INC.        0.976267\n",
       "34        BANK OF AMERICA N.A.        0.976852\n",
       "84         VIRTUSA CORPORATION        0.977489\n",
       "73        BROADCOM CORPORATION        0.979790\n",
       "56  PRICEWATERHOUSECOOPERS LLP        0.980149\n",
       "35             EMC CORPORATION        0.980333"
      ]
     },
     "execution_count": 27,
     "metadata": {},
     "output_type": "execute_result"
    }
   ],
   "source": [
    "cer_de.sort_values('Certified_rate',ascending=True)[['EMPLOYER_NAME','Certified_rate']][:10]\n",
    "#마소가 높다, 모두 95%가 넘는다"
   ]
  },
  {
   "cell_type": "markdown",
   "metadata": {},
   "source": [
    "# Model"
   ]
  },
  {
   "cell_type": "code",
   "execution_count": 25,
   "metadata": {
    "ExecuteTime": {
     "end_time": "2018-08-23T09:25:43.338420Z",
     "start_time": "2018-08-23T09:25:42.377396Z"
    }
   },
   "outputs": [],
   "source": [
    "df_final = df1.drop('WORKSITE',axis=1)\n",
    "df_final = df_final.drop('lon',axis=1)\n",
    "df_final = df_final.drop('lat',axis=1)"
   ]
  },
  {
   "cell_type": "code",
   "execution_count": 26,
   "metadata": {
    "ExecuteTime": {
     "end_time": "2018-08-23T09:25:52.100992Z",
     "start_time": "2018-08-23T09:25:51.805633Z"
    }
   },
   "outputs": [],
   "source": [
    "df_final = df_final.iloc[:,1:9]"
   ]
  },
  {
   "cell_type": "markdown",
   "metadata": {},
   "source": [
    "## SVM"
   ]
  },
  {
   "cell_type": "code",
   "execution_count": 145,
   "metadata": {
    "ExecuteTime": {
     "end_time": "2018-08-22T15:59:07.751801Z",
     "start_time": "2018-08-22T15:59:07.697867Z"
    }
   },
   "outputs": [],
   "source": [
    "from sklearn.model_selection import train_test_split"
   ]
  },
  {
   "cell_type": "code",
   "execution_count": 265,
   "metadata": {
    "ExecuteTime": {
     "end_time": "2018-08-22T16:40:19.618424Z",
     "start_time": "2018-08-22T16:40:18.874033Z"
    }
   },
   "outputs": [],
   "source": [
    "df_final = df_final.dropna()"
   ]
  },
  {
   "cell_type": "code",
   "execution_count": 266,
   "metadata": {
    "ExecuteTime": {
     "end_time": "2018-08-22T16:40:20.372111Z",
     "start_time": "2018-08-22T16:40:20.245463Z"
    }
   },
   "outputs": [],
   "source": [
    "X = df_final.iloc[:,1:8]\n",
    "y = df_final.iloc[:,0]"
   ]
  },
  {
   "cell_type": "code",
   "execution_count": 267,
   "metadata": {
    "ExecuteTime": {
     "end_time": "2018-08-22T16:40:22.528570Z",
     "start_time": "2018-08-22T16:40:22.465709Z"
    }
   },
   "outputs": [],
   "source": [
    "y = y.replace('CERTIFIED','1')"
   ]
  },
  {
   "cell_type": "code",
   "execution_count": 268,
   "metadata": {
    "ExecuteTime": {
     "end_time": "2018-08-22T16:40:23.243019Z",
     "start_time": "2018-08-22T16:40:23.196168Z"
    }
   },
   "outputs": [],
   "source": [
    "y = y.replace('DENIED','0')"
   ]
  },
  {
   "cell_type": "code",
   "execution_count": 270,
   "metadata": {
    "ExecuteTime": {
     "end_time": "2018-08-22T16:40:32.889907Z",
     "start_time": "2018-08-22T16:40:32.850014Z"
    }
   },
   "outputs": [],
   "source": [
    "X_temp = X.iloc[:,3:6]"
   ]
  },
  {
   "cell_type": "code",
   "execution_count": 271,
   "metadata": {
    "ExecuteTime": {
     "end_time": "2018-08-22T16:40:35.327035Z",
     "start_time": "2018-08-22T16:40:34.848012Z"
    },
    "scrolled": true
   },
   "outputs": [],
   "source": [
    "X_temp = X_temp.replace('Y','1')"
   ]
  },
  {
   "cell_type": "code",
   "execution_count": 272,
   "metadata": {
    "ExecuteTime": {
     "end_time": "2018-08-22T16:40:36.280237Z",
     "start_time": "2018-08-22T16:40:35.805107Z"
    }
   },
   "outputs": [],
   "source": [
    "X_temp = X_temp.replace('N','0')"
   ]
  },
  {
   "cell_type": "code",
   "execution_count": 273,
   "metadata": {
    "ExecuteTime": {
     "end_time": "2018-08-22T16:40:41.191740Z",
     "start_time": "2018-08-22T16:40:41.047621Z"
    }
   },
   "outputs": [
    {
     "name": "stdout",
     "output_type": "stream",
     "text": [
      "Number of entries: 1617233\n",
      "FULL_TIME_POSITION    0\n",
      "PREVAILING_WAGE       0\n",
      "YEAR                  0\n",
      "dtype: int64\n"
     ]
    }
   ],
   "source": [
    "print('Number of entries:', X_temp.shape[0])\n",
    "print(X_temp.isnull().sum())"
   ]
  },
  {
   "cell_type": "code",
   "execution_count": 274,
   "metadata": {
    "ExecuteTime": {
     "end_time": "2018-08-22T16:40:43.916656Z",
     "start_time": "2018-08-22T16:40:43.528526Z"
    }
   },
   "outputs": [],
   "source": [
    "X_train, X_test, y_train, y_test = train_test_split(X_temp,y,test_size =0.20, random_state = 0)"
   ]
  },
  {
   "cell_type": "code",
   "execution_count": null,
   "metadata": {},
   "outputs": [],
   "source": [
    "from sklearn.preprocessing import OneHotEncoder\n",
    "ohe = OneHotEncoder()"
   ]
  },
  {
   "cell_type": "code",
   "execution_count": 275,
   "metadata": {
    "ExecuteTime": {
     "end_time": "2018-08-22T16:40:47.199042Z",
     "start_time": "2018-08-22T16:40:46.379076Z"
    }
   },
   "outputs": [],
   "source": [
    "from sklearn.preprocessing import StandardScaler\n",
    "sc_X = StandardScaler()\n",
    "X_train = sc_X.fit_transform(X_train)\n",
    "X_test = sc_X.transform(X_test)"
   ]
  },
  {
   "cell_type": "code",
   "execution_count": null,
   "metadata": {
    "ExecuteTime": {
     "start_time": "2018-08-22T16:40:51.504Z"
    }
   },
   "outputs": [],
   "source": [
    "def svc():\n",
    "    from sklearn.metrics import confusion_matrix\n",
    "    from sklearn.svm import SVC\n",
    "\n",
    "    # 이곳에만 코드를 채우시면 됩니다.\n",
    "    clf = SVC(C = 1e9, gamma= 1e-07)\n",
    "    clf.fit(X_train, y_train) # 이곳은 건드릴 필요X\n",
    "    y_scores = clf.decision_function(X_test) > -220\n",
    "    confusion_matrix = confusion_matrix(y_test,y_scores)\n",
    "\n",
    "    return confusion_matrix # 정답 리턴\n",
    "\n",
    "svc()"
   ]
  },
  {
   "cell_type": "markdown",
   "metadata": {
    "ExecuteTime": {
     "end_time": "2018-08-22T15:54:03.461898Z",
     "start_time": "2018-08-22T15:54:03.458942Z"
    }
   },
   "source": [
    "## Logistic regression"
   ]
  },
  {
   "cell_type": "code",
   "execution_count": null,
   "metadata": {},
   "outputs": [],
   "source": [
    "from sklearn.linear_model import LogisticRegression\n",
    "classifier = LogisticRegression(random_state = 0) #분류 문제에서는 0.5에서 랜덤으로 분류해서 고정해야되니까)\n",
    "classifier.fit(X_train,y_train)"
   ]
  },
  {
   "cell_type": "code",
   "execution_count": null,
   "metadata": {},
   "outputs": [],
   "source": [
    "y_pred = classifier.predict(X_test)"
   ]
  },
  {
   "cell_type": "code",
   "execution_count": null,
   "metadata": {},
   "outputs": [],
   "source": [
    "##Making the confusion matrix\n",
    "from sklearn.metrics import confusion_matrix\n",
    "cm = confusion_matrix(y_test,y_pred)"
   ]
  },
  {
   "cell_type": "markdown",
   "metadata": {
    "ExecuteTime": {
     "end_time": "2018-08-22T15:56:26.804820Z",
     "start_time": "2018-08-22T15:56:26.801795Z"
    }
   },
   "source": [
    "## Random Forest"
   ]
  },
  {
   "cell_type": "code",
   "execution_count": 89,
   "metadata": {
    "ExecuteTime": {
     "end_time": "2018-08-23T10:31:00.152528Z",
     "start_time": "2018-08-23T10:30:04.528037Z"
    }
   },
   "outputs": [],
   "source": [
    "df1.to_csv('yonsik.csv')"
   ]
  },
  {
   "cell_type": "markdown",
   "metadata": {},
   "source": [
    "#### 명목변수 변환\n",
    "1.   Employer name – , 랑 . 없애서 통합 – certified rate를 정규화\n",
    "2.   SOC_NAME – 현재 upper까지 했고, 직업 이름 뒤에 S 붙는 애들 없애기 – certified rate 정규화\n",
    "3.   JOB_TITLE은 SOC_NAME이랑 공선성 있다고 의심, 일단 넣고 나중에 빼보기\n",
    "4.   FULL_TIME_POSITION -> 1,0\n",
    "5.   Prevailing_wage – 정규화\n",
    "6.   YEAR – dummy 변수로\n",
    "7.   Worksite, lon, lat -> State\n",
    "l   train에는 있고, test에는 없는 명목형 변수 어떻게 처리 ?"
   ]
  },
  {
   "cell_type": "code",
   "execution_count": 16,
   "metadata": {
    "ExecuteTime": {
     "end_time": "2018-08-23T11:21:29.446086Z",
     "start_time": "2018-08-23T11:21:29.417129Z"
    }
   },
   "outputs": [
    {
     "data": {
      "text/html": [
       "<div>\n",
       "<style scoped>\n",
       "    .dataframe tbody tr th:only-of-type {\n",
       "        vertical-align: middle;\n",
       "    }\n",
       "\n",
       "    .dataframe tbody tr th {\n",
       "        vertical-align: top;\n",
       "    }\n",
       "\n",
       "    .dataframe thead th {\n",
       "        text-align: right;\n",
       "    }\n",
       "</style>\n",
       "<table border=\"1\" class=\"dataframe\">\n",
       "  <thead>\n",
       "    <tr style=\"text-align: right;\">\n",
       "      <th></th>\n",
       "      <th>CASE_STATUS</th>\n",
       "      <th>EMPLOYER_NAME</th>\n",
       "      <th>FULL_TIME_POSITION</th>\n",
       "      <th>JOB_TITLE</th>\n",
       "      <th>PREVAILING_WAGE</th>\n",
       "      <th>SOC_NAME</th>\n",
       "      <th>TEST</th>\n",
       "      <th>Unnamed: 0</th>\n",
       "      <th>WORKSITE</th>\n",
       "      <th>YEAR</th>\n",
       "      <th>lat</th>\n",
       "      <th>lon</th>\n",
       "      <th>State</th>\n",
       "    </tr>\n",
       "  </thead>\n",
       "  <tbody>\n",
       "    <tr>\n",
       "      <th>0</th>\n",
       "      <td>CERTIFIED</td>\n",
       "      <td>INTERNATIONAL SYSTEMS TECHNOLOGIES, INC.</td>\n",
       "      <td>Y</td>\n",
       "      <td>PROGRAMMER ANALYST</td>\n",
       "      <td>61589.0</td>\n",
       "      <td>COMPUTER PROGRAMMERS</td>\n",
       "      <td>0</td>\n",
       "      <td>1349742</td>\n",
       "      <td>SUNNYVALE, CALIFORNIA</td>\n",
       "      <td>2014.0</td>\n",
       "      <td>37.368830</td>\n",
       "      <td>-122.036350</td>\n",
       "      <td>CALIFORNIA</td>\n",
       "    </tr>\n",
       "    <tr>\n",
       "      <th>1</th>\n",
       "      <td>CERTIFIED</td>\n",
       "      <td>GOOGLE INC.</td>\n",
       "      <td>Y</td>\n",
       "      <td>SITE RELIABILITY ENGINEER</td>\n",
       "      <td>79144.0</td>\n",
       "      <td>NETWORK AND COMPUTER SYSTEMS ADMINISTRATORS</td>\n",
       "      <td>0</td>\n",
       "      <td>789205</td>\n",
       "      <td>SAN FRANCISCO, CALIFORNIA</td>\n",
       "      <td>2015.0</td>\n",
       "      <td>37.774929</td>\n",
       "      <td>-122.419415</td>\n",
       "      <td>CALIFORNIA</td>\n",
       "    </tr>\n",
       "    <tr>\n",
       "      <th>2</th>\n",
       "      <td>CERTIFIED</td>\n",
       "      <td>WIPRO LIMITED</td>\n",
       "      <td>Y</td>\n",
       "      <td>PROJECT MANAGER</td>\n",
       "      <td>73882.0</td>\n",
       "      <td>COMPUTER OCCUPATIONS, ALL OTHER</td>\n",
       "      <td>0</td>\n",
       "      <td>1617140</td>\n",
       "      <td>EL SEGUNDO, CALIFORNIA</td>\n",
       "      <td>2014.0</td>\n",
       "      <td>33.919180</td>\n",
       "      <td>-118.416465</td>\n",
       "      <td>CALIFORNIA</td>\n",
       "    </tr>\n",
       "    <tr>\n",
       "      <th>3</th>\n",
       "      <td>CERTIFIED</td>\n",
       "      <td>CPO SERVICES, INC.</td>\n",
       "      <td>Y</td>\n",
       "      <td>STAFF PROSTHETIST</td>\n",
       "      <td>61589.0</td>\n",
       "      <td>ORTHOTISTS AND PROSTHETISTS</td>\n",
       "      <td>0</td>\n",
       "      <td>2757905</td>\n",
       "      <td>PEORIA, ILLINOIS</td>\n",
       "      <td>2011.0</td>\n",
       "      <td>40.693649</td>\n",
       "      <td>-89.588986</td>\n",
       "      <td>ILLINOIS</td>\n",
       "    </tr>\n",
       "    <tr>\n",
       "      <th>5</th>\n",
       "      <td>DENIED</td>\n",
       "      <td>UNIVERSITY OF CALIFORNIA, SAN DIEGO</td>\n",
       "      <td>Y</td>\n",
       "      <td>ASSISTANT PROJECT SCIENTIST</td>\n",
       "      <td>42120.0</td>\n",
       "      <td>MEDICAL SCIENTISTS, EXCEPT EPIDEMIOLOGISTS</td>\n",
       "      <td>0</td>\n",
       "      <td>693102</td>\n",
       "      <td>LA JOLLA, CALIFORNIA</td>\n",
       "      <td>2015.0</td>\n",
       "      <td>32.832811</td>\n",
       "      <td>-117.271272</td>\n",
       "      <td>CALIFORNIA</td>\n",
       "    </tr>\n",
       "  </tbody>\n",
       "</table>\n",
       "</div>"
      ],
      "text/plain": [
       "  CASE_STATUS                             EMPLOYER_NAME FULL_TIME_POSITION  \\\n",
       "0   CERTIFIED  INTERNATIONAL SYSTEMS TECHNOLOGIES, INC.                  Y   \n",
       "1   CERTIFIED                               GOOGLE INC.                  Y   \n",
       "2   CERTIFIED                             WIPRO LIMITED                  Y   \n",
       "3   CERTIFIED                        CPO SERVICES, INC.                  Y   \n",
       "5      DENIED       UNIVERSITY OF CALIFORNIA, SAN DIEGO                  Y   \n",
       "\n",
       "                     JOB_TITLE  PREVAILING_WAGE  \\\n",
       "0           PROGRAMMER ANALYST          61589.0   \n",
       "1    SITE RELIABILITY ENGINEER          79144.0   \n",
       "2              PROJECT MANAGER          73882.0   \n",
       "3            STAFF PROSTHETIST          61589.0   \n",
       "5  ASSISTANT PROJECT SCIENTIST          42120.0   \n",
       "\n",
       "                                      SOC_NAME TEST  Unnamed: 0  \\\n",
       "0                         COMPUTER PROGRAMMERS    0     1349742   \n",
       "1  NETWORK AND COMPUTER SYSTEMS ADMINISTRATORS    0      789205   \n",
       "2              COMPUTER OCCUPATIONS, ALL OTHER    0     1617140   \n",
       "3                  ORTHOTISTS AND PROSTHETISTS    0     2757905   \n",
       "5   MEDICAL SCIENTISTS, EXCEPT EPIDEMIOLOGISTS    0      693102   \n",
       "\n",
       "                    WORKSITE    YEAR        lat         lon       State  \n",
       "0      SUNNYVALE, CALIFORNIA  2014.0  37.368830 -122.036350  CALIFORNIA  \n",
       "1  SAN FRANCISCO, CALIFORNIA  2015.0  37.774929 -122.419415  CALIFORNIA  \n",
       "2     EL SEGUNDO, CALIFORNIA  2014.0  33.919180 -118.416465  CALIFORNIA  \n",
       "3           PEORIA, ILLINOIS  2011.0  40.693649  -89.588986    ILLINOIS  \n",
       "5       LA JOLLA, CALIFORNIA  2015.0  32.832811 -117.271272  CALIFORNIA  "
      ]
     },
     "execution_count": 16,
     "metadata": {},
     "output_type": "execute_result"
    }
   ],
   "source": [
    "df1.head()"
   ]
  },
  {
   "cell_type": "code",
   "execution_count": 20,
   "metadata": {
    "ExecuteTime": {
     "end_time": "2018-08-23T11:21:57.468537Z",
     "start_time": "2018-08-23T11:21:56.381448Z"
    }
   },
   "outputs": [],
   "source": [
    "df1['EMPLOYER_NAME'] = df1['EMPLOYER_NAME'].str.replace('.','').replace(',','')"
   ]
  },
  {
   "cell_type": "code",
   "execution_count": 18,
   "metadata": {
    "ExecuteTime": {
     "end_time": "2018-08-23T11:21:34.209211Z",
     "start_time": "2018-08-23T11:21:34.002770Z"
    }
   },
   "outputs": [],
   "source": [
    "df1['FULL_TIME_POSITION'] = df1['FULL_TIME_POSITION'].replace('Y','1')\n",
    "df1['FULL_TIME_POSITION'] = df1['FULL_TIME_POSITION'].replace('N','0')"
   ]
  },
  {
   "cell_type": "code",
   "execution_count": 21,
   "metadata": {
    "ExecuteTime": {
     "end_time": "2018-08-23T11:21:59.164133Z",
     "start_time": "2018-08-23T11:21:59.150205Z"
    }
   },
   "outputs": [
    {
     "data": {
      "text/html": [
       "<div>\n",
       "<style scoped>\n",
       "    .dataframe tbody tr th:only-of-type {\n",
       "        vertical-align: middle;\n",
       "    }\n",
       "\n",
       "    .dataframe tbody tr th {\n",
       "        vertical-align: top;\n",
       "    }\n",
       "\n",
       "    .dataframe thead th {\n",
       "        text-align: right;\n",
       "    }\n",
       "</style>\n",
       "<table border=\"1\" class=\"dataframe\">\n",
       "  <thead>\n",
       "    <tr style=\"text-align: right;\">\n",
       "      <th></th>\n",
       "      <th>CASE_STATUS</th>\n",
       "      <th>EMPLOYER_NAME</th>\n",
       "      <th>FULL_TIME_POSITION</th>\n",
       "      <th>JOB_TITLE</th>\n",
       "      <th>PREVAILING_WAGE</th>\n",
       "      <th>SOC_NAME</th>\n",
       "      <th>TEST</th>\n",
       "      <th>Unnamed: 0</th>\n",
       "      <th>WORKSITE</th>\n",
       "      <th>YEAR</th>\n",
       "      <th>lat</th>\n",
       "      <th>lon</th>\n",
       "      <th>State</th>\n",
       "    </tr>\n",
       "  </thead>\n",
       "  <tbody>\n",
       "    <tr>\n",
       "      <th>0</th>\n",
       "      <td>CERTIFIED</td>\n",
       "      <td>INTERNATIONAL SYSTEMS TECHNOLOGIES, INC</td>\n",
       "      <td>1</td>\n",
       "      <td>PROGRAMMER ANALYST</td>\n",
       "      <td>61589.0</td>\n",
       "      <td>COMPUTER PROGRAMMERS</td>\n",
       "      <td>0</td>\n",
       "      <td>1349742</td>\n",
       "      <td>SUNNYVALE, CALIFORNIA</td>\n",
       "      <td>2014.0</td>\n",
       "      <td>37.368830</td>\n",
       "      <td>-122.036350</td>\n",
       "      <td>CALIFORNIA</td>\n",
       "    </tr>\n",
       "    <tr>\n",
       "      <th>1</th>\n",
       "      <td>CERTIFIED</td>\n",
       "      <td>GOOGLE INC</td>\n",
       "      <td>1</td>\n",
       "      <td>SITE RELIABILITY ENGINEER</td>\n",
       "      <td>79144.0</td>\n",
       "      <td>NETWORK AND COMPUTER SYSTEMS ADMINISTRATORS</td>\n",
       "      <td>0</td>\n",
       "      <td>789205</td>\n",
       "      <td>SAN FRANCISCO, CALIFORNIA</td>\n",
       "      <td>2015.0</td>\n",
       "      <td>37.774929</td>\n",
       "      <td>-122.419415</td>\n",
       "      <td>CALIFORNIA</td>\n",
       "    </tr>\n",
       "    <tr>\n",
       "      <th>2</th>\n",
       "      <td>CERTIFIED</td>\n",
       "      <td>WIPRO LIMITED</td>\n",
       "      <td>1</td>\n",
       "      <td>PROJECT MANAGER</td>\n",
       "      <td>73882.0</td>\n",
       "      <td>COMPUTER OCCUPATIONS, ALL OTHER</td>\n",
       "      <td>0</td>\n",
       "      <td>1617140</td>\n",
       "      <td>EL SEGUNDO, CALIFORNIA</td>\n",
       "      <td>2014.0</td>\n",
       "      <td>33.919180</td>\n",
       "      <td>-118.416465</td>\n",
       "      <td>CALIFORNIA</td>\n",
       "    </tr>\n",
       "    <tr>\n",
       "      <th>3</th>\n",
       "      <td>CERTIFIED</td>\n",
       "      <td>CPO SERVICES, INC</td>\n",
       "      <td>1</td>\n",
       "      <td>STAFF PROSTHETIST</td>\n",
       "      <td>61589.0</td>\n",
       "      <td>ORTHOTISTS AND PROSTHETISTS</td>\n",
       "      <td>0</td>\n",
       "      <td>2757905</td>\n",
       "      <td>PEORIA, ILLINOIS</td>\n",
       "      <td>2011.0</td>\n",
       "      <td>40.693649</td>\n",
       "      <td>-89.588986</td>\n",
       "      <td>ILLINOIS</td>\n",
       "    </tr>\n",
       "    <tr>\n",
       "      <th>5</th>\n",
       "      <td>DENIED</td>\n",
       "      <td>UNIVERSITY OF CALIFORNIA, SAN DIEGO</td>\n",
       "      <td>1</td>\n",
       "      <td>ASSISTANT PROJECT SCIENTIST</td>\n",
       "      <td>42120.0</td>\n",
       "      <td>MEDICAL SCIENTISTS, EXCEPT EPIDEMIOLOGISTS</td>\n",
       "      <td>0</td>\n",
       "      <td>693102</td>\n",
       "      <td>LA JOLLA, CALIFORNIA</td>\n",
       "      <td>2015.0</td>\n",
       "      <td>32.832811</td>\n",
       "      <td>-117.271272</td>\n",
       "      <td>CALIFORNIA</td>\n",
       "    </tr>\n",
       "  </tbody>\n",
       "</table>\n",
       "</div>"
      ],
      "text/plain": [
       "  CASE_STATUS                            EMPLOYER_NAME FULL_TIME_POSITION  \\\n",
       "0   CERTIFIED  INTERNATIONAL SYSTEMS TECHNOLOGIES, INC                  1   \n",
       "1   CERTIFIED                               GOOGLE INC                  1   \n",
       "2   CERTIFIED                            WIPRO LIMITED                  1   \n",
       "3   CERTIFIED                        CPO SERVICES, INC                  1   \n",
       "5      DENIED      UNIVERSITY OF CALIFORNIA, SAN DIEGO                  1   \n",
       "\n",
       "                     JOB_TITLE  PREVAILING_WAGE  \\\n",
       "0           PROGRAMMER ANALYST          61589.0   \n",
       "1    SITE RELIABILITY ENGINEER          79144.0   \n",
       "2              PROJECT MANAGER          73882.0   \n",
       "3            STAFF PROSTHETIST          61589.0   \n",
       "5  ASSISTANT PROJECT SCIENTIST          42120.0   \n",
       "\n",
       "                                      SOC_NAME TEST  Unnamed: 0  \\\n",
       "0                         COMPUTER PROGRAMMERS    0     1349742   \n",
       "1  NETWORK AND COMPUTER SYSTEMS ADMINISTRATORS    0      789205   \n",
       "2              COMPUTER OCCUPATIONS, ALL OTHER    0     1617140   \n",
       "3                  ORTHOTISTS AND PROSTHETISTS    0     2757905   \n",
       "5   MEDICAL SCIENTISTS, EXCEPT EPIDEMIOLOGISTS    0      693102   \n",
       "\n",
       "                    WORKSITE    YEAR        lat         lon       State  \n",
       "0      SUNNYVALE, CALIFORNIA  2014.0  37.368830 -122.036350  CALIFORNIA  \n",
       "1  SAN FRANCISCO, CALIFORNIA  2015.0  37.774929 -122.419415  CALIFORNIA  \n",
       "2     EL SEGUNDO, CALIFORNIA  2014.0  33.919180 -118.416465  CALIFORNIA  \n",
       "3           PEORIA, ILLINOIS  2011.0  40.693649  -89.588986    ILLINOIS  \n",
       "5       LA JOLLA, CALIFORNIA  2015.0  32.832811 -117.271272  CALIFORNIA  "
      ]
     },
     "execution_count": 21,
     "metadata": {},
     "output_type": "execute_result"
    }
   ],
   "source": [
    "df1.head()"
   ]
  },
  {
   "cell_type": "code",
   "execution_count": 22,
   "metadata": {
    "ExecuteTime": {
     "end_time": "2018-08-23T11:22:03.079051Z",
     "start_time": "2018-08-23T11:22:03.069047Z"
    }
   },
   "outputs": [
    {
     "data": {
      "text/plain": [
       "148152.2998651202"
      ]
     },
     "execution_count": 22,
     "metadata": {},
     "output_type": "execute_result"
    }
   ],
   "source": [
    "np.mean(df1['PREVAILING_WAGE'])"
   ]
  },
  {
   "cell_type": "code",
   "execution_count": 23,
   "metadata": {
    "ExecuteTime": {
     "end_time": "2018-08-23T11:22:04.889317Z",
     "start_time": "2018-08-23T11:22:04.645593Z"
    }
   },
   "outputs": [],
   "source": [
    "df1['PREVAILING_WAGE1'] = (df1['PREVAILING_WAGE'] - np.mean(df1['PREVAILING_WAGE'])) / np.std(df1['PREVAILING_WAGE'])"
   ]
  },
  {
   "cell_type": "code",
   "execution_count": 159,
   "metadata": {
    "ExecuteTime": {
     "end_time": "2018-08-23T11:14:55.902084Z",
     "start_time": "2018-08-23T11:14:55.893081Z"
    }
   },
   "outputs": [
    {
     "data": {
      "text/plain": [
       "-2.9988344101337636e-16"
      ]
     },
     "execution_count": 159,
     "metadata": {},
     "output_type": "execute_result"
    }
   ],
   "source": [
    "np.mean(df1['PREVAILING_WAGE1'])"
   ]
  },
  {
   "cell_type": "code",
   "execution_count": null,
   "metadata": {},
   "outputs": [],
   "source": []
  }
 ],
 "metadata": {
  "kernelspec": {
   "display_name": "Python 3",
   "language": "python",
   "name": "python3"
  },
  "language_info": {
   "codemirror_mode": {
    "name": "ipython",
    "version": 3
   },
   "file_extension": ".py",
   "mimetype": "text/x-python",
   "name": "python",
   "nbconvert_exporter": "python",
   "pygments_lexer": "ipython3",
   "version": "3.6.5"
  },
  "latex_envs": {
   "LaTeX_envs_menu_present": true,
   "autoclose": false,
   "autocomplete": true,
   "bibliofile": "biblio.bib",
   "cite_by": "apalike",
   "current_citInitial": 1,
   "eqLabelWithNumbers": true,
   "eqNumInitial": 1,
   "hotkeys": {
    "equation": "Ctrl-E",
    "itemize": "Ctrl-I"
   },
   "labels_anchors": false,
   "latex_user_defs": false,
   "report_style_numbering": false,
   "user_envs_cfg": false
  },
  "toc": {
   "base_numbering": 1,
   "nav_menu": {},
   "number_sections": true,
   "sideBar": true,
   "skip_h1_title": false,
   "title_cell": "Table of Contents",
   "title_sidebar": "Contents",
   "toc_cell": false,
   "toc_position": {},
   "toc_section_display": true,
   "toc_window_display": false
  },
  "varInspector": {
   "cols": {
    "lenName": 16,
    "lenType": 16,
    "lenVar": 40
   },
   "kernels_config": {
    "python": {
     "delete_cmd_postfix": "",
     "delete_cmd_prefix": "del ",
     "library": "var_list.py",
     "varRefreshCmd": "print(var_dic_list())"
    },
    "r": {
     "delete_cmd_postfix": ") ",
     "delete_cmd_prefix": "rm(",
     "library": "var_list.r",
     "varRefreshCmd": "cat(var_dic_list()) "
    }
   },
   "types_to_exclude": [
    "module",
    "function",
    "builtin_function_or_method",
    "instance",
    "_Feature"
   ],
   "window_display": false
  }
 },
 "nbformat": 4,
 "nbformat_minor": 2
}
