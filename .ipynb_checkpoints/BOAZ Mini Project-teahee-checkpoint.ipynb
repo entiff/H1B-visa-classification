{
 "cells": [
  {
   "cell_type": "markdown",
   "metadata": {},
   "source": [
    "## BOAZ Mini Project\n",
    "\n",
    "### h1b data [h1b_train, h1b_dev, h1b_test]\n",
    "\n",
    "- Use h1b __train data__ for train your model.\n",
    "- Tune your model with __dev data__.\n",
    "- Finally check your best performed model score with __test data__.\n",
    "- __*You should clean your train dev test data first!!*__\n",
    "- Score function : Accuracy\n",
    "<br>\n",
    "<br>\n",
    "- __Your goal is to predict CASE_STATUS, using other features.__\n",
    "- You can choose the features you want to use in your project."
   ]
  },
  {
   "cell_type": "markdown",
   "metadata": {},
   "source": [
    "### Attribute Information\n",
    "\n",
    "- __CASE_STATUS__\n",
    "    - The CASE_STATUS field denotes the status of the application after LCA processing. Certified applications are filed with USCIS for H-1B approval.\n",
    "<br>\n",
    "<br>\n",
    "- EMPLOYER_NAME\n",
    "    - Name of the employer submitting labor condition application.\n",
    "<br>\n",
    "<br>\n",
    "- SOC_NAME\n",
    "    - Occupational name associated with the SOC_CODE. SOC_CODE is the occupational code associated with the job being requested for temporary labor condition, as classified by the Standard Occupational Classification (SOC) System.\n",
    "<br>\n",
    "<br>\n",
    "- JOB_TITLE\n",
    "    - Title of the job.\n",
    "<br>\n",
    "<br>\n",
    "- FULL_TIME_POSITION\n",
    "    - Y = Full Time Position; N = Part Time Position.\n",
    "<br>\n",
    "<br>\n",
    "- PREVAILING_WAGE\n",
    "    - Prevailing Wage for the job being requested for temporary labor condition. The wage is listed at annual scale in USD. The prevailing wage for a job position is defined as the average wage paid to similarly employed workers in the requested occupation in the area of intended employment. The prevailing wage is based on the employer’s minimum requirements for the position.\n",
    "<br>\n",
    "<br>\n",
    "- YEAR\n",
    "    - Year in which the H-1B visa petition was filed.\n",
    "<br>\n",
    "<br>"
   ]
  },
  {
   "cell_type": "markdown",
   "metadata": {},
   "source": [
    "### In this assignment, you will design, implement, and evaluate the appropriate models for given data.\n",
    "0. Preprocess; normalization, feature selection, etc.\n",
    "1. Model selection; characteristics of datasets need to be comprehended.\n",
    "2. Evaluation; This step should be done properly to prevent overfitting problem.\"\n",
    "3. Enhancement; parameter tuning and feature selection, etc."
   ]
  },
  {
   "cell_type": "markdown",
   "metadata": {},
   "source": [
    "# EDA"
   ]
  },
  {
   "cell_type": "markdown",
   "metadata": {},
   "source": [
    "## 라이브러리"
   ]
  },
  {
   "cell_type": "code",
   "execution_count": 1,
   "metadata": {
    "ExecuteTime": {
     "end_time": "2018-08-29T15:22:23.732916Z",
     "start_time": "2018-08-29T15:22:18.833752Z"
    }
   },
   "outputs": [],
   "source": [
    "import numpy as np\n",
    "import matplotlib\n",
    "import pandas as pd\n",
    "import seaborn as sns\n",
    "from matplotlib import pyplot as plt\n",
    "from subprocess import check_output\n",
    "from matplotlib.ticker import FuncFormatter\n",
    "%matplotlib inline"
   ]
  },
  {
   "cell_type": "markdown",
   "metadata": {},
   "source": [
    "## 데이터 불러오기"
   ]
  },
  {
   "cell_type": "code",
   "execution_count": 2,
   "metadata": {
    "ExecuteTime": {
     "end_time": "2018-08-29T15:22:37.604537Z",
     "start_time": "2018-08-29T15:22:29.654364Z"
    }
   },
   "outputs": [],
   "source": [
    "df_train = pd.read_csv('C://Users/test/Desktop/BOAZ/session/BOAZ Mini Project/h1b_train.csv')\n",
    "df_dev = pd.read_csv('C://Users/test/Desktop/BOAZ/session/BOAZ Mini Project/h1b_dev.csv')\n",
    "df_test = pd.read_csv('C://Users/test/Desktop/BOAZ/session/BOAZ Mini Project/h1b_test_no_ylabel.csv')"
   ]
  },
  {
   "cell_type": "code",
   "execution_count": 3,
   "metadata": {
    "ExecuteTime": {
     "end_time": "2018-08-29T15:22:39.752790Z",
     "start_time": "2018-08-29T15:22:39.736833Z"
    }
   },
   "outputs": [],
   "source": [
    "df_train['TEST'] = 0\n",
    "df_dev['TEST'] = 0\n",
    "df_test['TEST'] = 1"
   ]
  },
  {
   "cell_type": "code",
   "execution_count": 4,
   "metadata": {
    "ExecuteTime": {
     "end_time": "2018-08-29T06:33:26.499014Z",
     "start_time": "2018-08-29T06:33:26.491375Z"
    }
   },
   "outputs": [
    {
     "name": "stdout",
     "output_type": "stream",
     "text": [
      "Number of entries: 1802458\n",
      "Number of entries: 600000\n",
      "Number of entries: 541560\n"
     ]
    }
   ],
   "source": [
    "print('Number of entries:', df_train.shape[0])\n",
    "print('Number of entries:', df_dev.shape[0])\n",
    "print('Number of entries:', df_test.shape[0])\n",
    "# train 180만개, dev 60만개, test 54만개"
   ]
  },
  {
   "cell_type": "code",
   "execution_count": 53,
   "metadata": {
    "ExecuteTime": {
     "end_time": "2018-08-29T07:05:14.708297Z",
     "start_time": "2018-08-29T07:05:12.337826Z"
    },
    "collapsed": true
   },
   "outputs": [
    {
     "name": "stdout",
     "output_type": "stream",
     "text": [
      "Nunber of null: Unnamed: 0                0\n",
      "CASE_STATUS               8\n",
      "EMPLOYER_NAME            35\n",
      "SOC_NAME              10706\n",
      "JOB_TITLE                26\n",
      "FULL_TIME_POSITION        9\n",
      "PREVAILING_WAGE          51\n",
      "YEAR                      8\n",
      "WORKSITE                  0\n",
      "lon                   64045\n",
      "lat                   64045\n",
      "TEST                      0\n",
      "dtype: int64\n",
      "Nunber of null: Unnamed: 0                0\n",
      "CASE_STATUS               2\n",
      "EMPLOYER_NAME            14\n",
      "SOC_NAME               3508\n",
      "JOB_TITLE                 9\n",
      "FULL_TIME_POSITION        3\n",
      "PREVAILING_WAGE          22\n",
      "YEAR                      2\n",
      "WORKSITE                  0\n",
      "lon                   21584\n",
      "lat                   21584\n",
      "TEST                      0\n",
      "dtype: int64\n",
      "Nunber of null: Unnamed: 0                0\n",
      "EMPLOYER_NAME             1\n",
      "SOC_NAME               3146\n",
      "JOB_TITLE                 3\n",
      "FULL_TIME_POSITION        0\n",
      "PREVAILING_WAGE           5\n",
      "YEAR                      0\n",
      "WORKSITE                  0\n",
      "lon                   19559\n",
      "lat                   19559\n",
      "TEST                      0\n",
      "dtype: int64\n"
     ]
    }
   ],
   "source": [
    "print('Nunber of null:', df_train.isnull().sum())\n",
    "print('Nunber of null:', df_dev.isnull().sum())\n",
    "print('Nunber of null:', df_test.isnull().sum())\n",
    "# soc와 lon,lat에 null 많음"
   ]
  },
  {
   "cell_type": "code",
   "execution_count": 4,
   "metadata": {
    "ExecuteTime": {
     "end_time": "2018-08-29T15:22:48.909508Z",
     "start_time": "2018-08-29T15:22:47.393098Z"
    },
    "collapsed": true
   },
   "outputs": [
    {
     "name": "stderr",
     "output_type": "stream",
     "text": [
      "C:\\Users\\test\\Anaconda3\\lib\\site-packages\\ipykernel_launcher.py:1: FutureWarning: Sorting because non-concatenation axis is not aligned. A future version\n",
      "of pandas will change to not sort by default.\n",
      "\n",
      "To accept the future behavior, pass 'sort=True'.\n",
      "\n",
      "To retain the current behavior and silence the warning, pass sort=False\n",
      "\n",
      "  \"\"\"Entry point for launching an IPython kernel.\n",
      "C:\\Users\\test\\Anaconda3\\lib\\site-packages\\ipykernel_launcher.py:2: FutureWarning: Sorting because non-concatenation axis is not aligned. A future version\n",
      "of pandas will change to not sort by default.\n",
      "\n",
      "To accept the future behavior, pass 'sort=True'.\n",
      "\n",
      "To retain the current behavior and silence the warning, pass sort=False\n",
      "\n",
      "  \n"
     ]
    }
   ],
   "source": [
    "df_all = pd.concat([df_train, df_test])\n",
    "df_all = pd.concat([df_all, df_dev])"
   ]
  },
  {
   "cell_type": "code",
   "execution_count": 5,
   "metadata": {
    "ExecuteTime": {
     "end_time": "2018-08-29T15:22:58.704268Z",
     "start_time": "2018-08-29T15:22:58.232540Z"
    }
   },
   "outputs": [],
   "source": [
    "df_train = pd.concat([df_train,df_dev])"
   ]
  },
  {
   "cell_type": "code",
   "execution_count": 6,
   "metadata": {
    "ExecuteTime": {
     "end_time": "2018-08-29T15:23:20.533901Z",
     "start_time": "2018-08-29T15:23:19.036340Z"
    }
   },
   "outputs": [
    {
     "name": "stdout",
     "output_type": "stream",
     "text": [
      "Number of entries: 2944018\n",
      "CASE_STATUS           541570\n",
      "EMPLOYER_NAME             50\n",
      "FULL_TIME_POSITION        12\n",
      "JOB_TITLE                 38\n",
      "PREVAILING_WAGE           78\n",
      "SOC_NAME               17360\n",
      "TEST                       0\n",
      "Unnamed: 0                 0\n",
      "WORKSITE                   0\n",
      "YEAR                      10\n",
      "lat                   105188\n",
      "lon                   105188\n",
      "dtype: int64\n"
     ]
    }
   ],
   "source": [
    "print('Number of entries:', df_all.shape[0])\n",
    "print(df_all.isnull().sum())"
   ]
  },
  {
   "cell_type": "markdown",
   "metadata": {},
   "source": [
    "## 일단 train으로 전처리"
   ]
  },
  {
   "cell_type": "code",
   "execution_count": 7,
   "metadata": {
    "ExecuteTime": {
     "end_time": "2018-08-29T15:23:34.129503Z",
     "start_time": "2018-08-29T15:23:34.107562Z"
    },
    "scrolled": true
   },
   "outputs": [
    {
     "data": {
      "text/html": [
       "<div>\n",
       "<style scoped>\n",
       "    .dataframe tbody tr th:only-of-type {\n",
       "        vertical-align: middle;\n",
       "    }\n",
       "\n",
       "    .dataframe tbody tr th {\n",
       "        vertical-align: top;\n",
       "    }\n",
       "\n",
       "    .dataframe thead th {\n",
       "        text-align: right;\n",
       "    }\n",
       "</style>\n",
       "<table border=\"1\" class=\"dataframe\">\n",
       "  <thead>\n",
       "    <tr style=\"text-align: right;\">\n",
       "      <th></th>\n",
       "      <th>Unnamed: 0</th>\n",
       "      <th>CASE_STATUS</th>\n",
       "      <th>EMPLOYER_NAME</th>\n",
       "      <th>SOC_NAME</th>\n",
       "      <th>JOB_TITLE</th>\n",
       "      <th>FULL_TIME_POSITION</th>\n",
       "      <th>PREVAILING_WAGE</th>\n",
       "      <th>YEAR</th>\n",
       "      <th>WORKSITE</th>\n",
       "      <th>lon</th>\n",
       "      <th>lat</th>\n",
       "      <th>TEST</th>\n",
       "    </tr>\n",
       "  </thead>\n",
       "  <tbody>\n",
       "    <tr>\n",
       "      <th>0</th>\n",
       "      <td>1349742</td>\n",
       "      <td>CERTIFIED</td>\n",
       "      <td>INTERNATIONAL SYSTEMS TECHNOLOGIES, INC.</td>\n",
       "      <td>Computer Programmers</td>\n",
       "      <td>PROGRAMMER ANALYST</td>\n",
       "      <td>Y</td>\n",
       "      <td>61589.0</td>\n",
       "      <td>2014.0</td>\n",
       "      <td>SUNNYVALE, CALIFORNIA</td>\n",
       "      <td>-122.036350</td>\n",
       "      <td>37.368830</td>\n",
       "      <td>0</td>\n",
       "    </tr>\n",
       "    <tr>\n",
       "      <th>1</th>\n",
       "      <td>789205</td>\n",
       "      <td>CERTIFIED</td>\n",
       "      <td>GOOGLE INC.</td>\n",
       "      <td>NETWORK AND COMPUTER SYSTEMS ADMINISTRATORS</td>\n",
       "      <td>SITE RELIABILITY ENGINEER</td>\n",
       "      <td>Y</td>\n",
       "      <td>79144.0</td>\n",
       "      <td>2015.0</td>\n",
       "      <td>SAN FRANCISCO, CALIFORNIA</td>\n",
       "      <td>-122.419415</td>\n",
       "      <td>37.774929</td>\n",
       "      <td>0</td>\n",
       "    </tr>\n",
       "    <tr>\n",
       "      <th>2</th>\n",
       "      <td>1617140</td>\n",
       "      <td>CERTIFIED</td>\n",
       "      <td>WIPRO LIMITED</td>\n",
       "      <td>Computer Occupations, All Other</td>\n",
       "      <td>PROJECT MANAGER</td>\n",
       "      <td>Y</td>\n",
       "      <td>73882.0</td>\n",
       "      <td>2014.0</td>\n",
       "      <td>EL SEGUNDO, CALIFORNIA</td>\n",
       "      <td>-118.416465</td>\n",
       "      <td>33.919180</td>\n",
       "      <td>0</td>\n",
       "    </tr>\n",
       "    <tr>\n",
       "      <th>3</th>\n",
       "      <td>2757905</td>\n",
       "      <td>CERTIFIED</td>\n",
       "      <td>CPO SERVICES, INC.</td>\n",
       "      <td>Orthotists and Prosthetists</td>\n",
       "      <td>STAFF PROSTHETIST</td>\n",
       "      <td>Y</td>\n",
       "      <td>61589.0</td>\n",
       "      <td>2011.0</td>\n",
       "      <td>PEORIA, ILLINOIS</td>\n",
       "      <td>-89.588986</td>\n",
       "      <td>40.693649</td>\n",
       "      <td>0</td>\n",
       "    </tr>\n",
       "    <tr>\n",
       "      <th>4</th>\n",
       "      <td>1127948</td>\n",
       "      <td>WITHDRAWN</td>\n",
       "      <td>VALUE SOFTWARE PRODUCTS INC</td>\n",
       "      <td>COMPUTER SYSTEMS ANALYSTS</td>\n",
       "      <td>SOLUTIONS ARCHITECT</td>\n",
       "      <td>Y</td>\n",
       "      <td>71614.0</td>\n",
       "      <td>2015.0</td>\n",
       "      <td>MANASSAS, VIRGINIA</td>\n",
       "      <td>-77.475267</td>\n",
       "      <td>38.750949</td>\n",
       "      <td>0</td>\n",
       "    </tr>\n",
       "  </tbody>\n",
       "</table>\n",
       "</div>"
      ],
      "text/plain": [
       "   Unnamed: 0 CASE_STATUS                             EMPLOYER_NAME  \\\n",
       "0     1349742   CERTIFIED  INTERNATIONAL SYSTEMS TECHNOLOGIES, INC.   \n",
       "1      789205   CERTIFIED                               GOOGLE INC.   \n",
       "2     1617140   CERTIFIED                             WIPRO LIMITED   \n",
       "3     2757905   CERTIFIED                        CPO SERVICES, INC.   \n",
       "4     1127948   WITHDRAWN               VALUE SOFTWARE PRODUCTS INC   \n",
       "\n",
       "                                      SOC_NAME                  JOB_TITLE  \\\n",
       "0                         Computer Programmers         PROGRAMMER ANALYST   \n",
       "1  NETWORK AND COMPUTER SYSTEMS ADMINISTRATORS  SITE RELIABILITY ENGINEER   \n",
       "2              Computer Occupations, All Other            PROJECT MANAGER   \n",
       "3                  Orthotists and Prosthetists          STAFF PROSTHETIST   \n",
       "4                    COMPUTER SYSTEMS ANALYSTS        SOLUTIONS ARCHITECT   \n",
       "\n",
       "  FULL_TIME_POSITION  PREVAILING_WAGE    YEAR                   WORKSITE  \\\n",
       "0                  Y          61589.0  2014.0      SUNNYVALE, CALIFORNIA   \n",
       "1                  Y          79144.0  2015.0  SAN FRANCISCO, CALIFORNIA   \n",
       "2                  Y          73882.0  2014.0     EL SEGUNDO, CALIFORNIA   \n",
       "3                  Y          61589.0  2011.0           PEORIA, ILLINOIS   \n",
       "4                  Y          71614.0  2015.0         MANASSAS, VIRGINIA   \n",
       "\n",
       "          lon        lat  TEST  \n",
       "0 -122.036350  37.368830     0  \n",
       "1 -122.419415  37.774929     0  \n",
       "2 -118.416465  33.919180     0  \n",
       "3  -89.588986  40.693649     0  \n",
       "4  -77.475267  38.750949     0  "
      ]
     },
     "execution_count": 7,
     "metadata": {},
     "output_type": "execute_result"
    }
   ],
   "source": [
    "df_train.head()\n",
    "# CASE_STATUS -> CERTIFIED or DENIED\n",
    "# EMPLOYER_NAME -> 고용주 회사\n",
    "# SOC_NAME -> 직업군\n",
    "# JOB_TITLE -> 직무"
   ]
  },
  {
   "cell_type": "markdown",
   "metadata": {},
   "source": [
    "### Certified랑 Denied만 남기기"
   ]
  },
  {
   "cell_type": "code",
   "execution_count": 8,
   "metadata": {
    "ExecuteTime": {
     "end_time": "2018-08-29T15:23:39.477592Z",
     "start_time": "2018-08-29T15:23:37.032629Z"
    }
   },
   "outputs": [],
   "source": [
    "df_train = df_train[df_train.CASE_STATUS != 'REJECTED']\n",
    "df_train = df_train[df_train.CASE_STATUS != 'WITHDRAWN'] \n",
    "df_train = df_train[df_train.CASE_STATUS != 'CERTIFIED-WITHDRAWN']\n",
    "df_train = df_train[df_train.CASE_STATUS != 'PENDING QUALITY AND COMPLIANCE REVIEW - UNASSIGNED']"
   ]
  },
  {
   "cell_type": "code",
   "execution_count": 102,
   "metadata": {
    "ExecuteTime": {
     "end_time": "2018-08-29T07:24:56.471555Z",
     "start_time": "2018-08-29T07:24:56.014185Z"
    }
   },
   "outputs": [
    {
     "data": {
      "text/plain": [
       "CERTIFIED    2092970\n",
       "DENIED         75439\n",
       "Name: CASE_STATUS, dtype: int64"
      ]
     },
     "execution_count": 102,
     "metadata": {},
     "output_type": "execute_result"
    }
   ],
   "source": [
    "df_train['CASE_STATUS'].value_counts().sort_values(ascending=False)"
   ]
  },
  {
   "cell_type": "code",
   "execution_count": 103,
   "metadata": {
    "ExecuteTime": {
     "end_time": "2018-08-29T07:25:00.300499Z",
     "start_time": "2018-08-29T07:24:58.648684Z"
    }
   },
   "outputs": [
    {
     "name": "stdout",
     "output_type": "stream",
     "text": [
      "Unnamed: 0                0\n",
      "CASE_STATUS              10\n",
      "EMPLOYER_NAME            27\n",
      "SOC_NAME              12757\n",
      "JOB_TITLE                17\n",
      "FULL_TIME_POSITION       11\n",
      "PREVAILING_WAGE          58\n",
      "YEAR                     10\n",
      "WORKSITE                  0\n",
      "lon                   77512\n",
      "lat                   77512\n",
      "TEST                      0\n",
      "dtype: int64\n"
     ]
    }
   ],
   "source": [
    "print(df_train.isnull().sum())"
   ]
  },
  {
   "cell_type": "code",
   "execution_count": 9,
   "metadata": {
    "ExecuteTime": {
     "end_time": "2018-08-29T15:23:54.727316Z",
     "start_time": "2018-08-29T15:23:54.055602Z"
    }
   },
   "outputs": [],
   "source": [
    "df_train['CASE_STATUS'] = df_train['CASE_STATUS'].replace('CERTIFIED',0)\n",
    "df_train['CASE_STATUS'] = df_train['CASE_STATUS'].replace('DENIED',1)"
   ]
  },
  {
   "cell_type": "code",
   "execution_count": 178,
   "metadata": {
    "ExecuteTime": {
     "end_time": "2018-08-29T07:54:51.177420Z",
     "start_time": "2018-08-29T07:54:51.121210Z"
    }
   },
   "outputs": [
    {
     "data": {
      "text/plain": [
       "0.0    2092970\n",
       "1.0      75439\n",
       "Name: CASE_STATUS, dtype: int64"
      ]
     },
     "execution_count": 178,
     "metadata": {},
     "output_type": "execute_result"
    }
   ],
   "source": [
    "df_train['CASE_STATUS'].value_counts().sort_values(ascending=False)"
   ]
  },
  {
   "cell_type": "code",
   "execution_count": 180,
   "metadata": {
    "ExecuteTime": {
     "end_time": "2018-08-29T07:55:16.350870Z",
     "start_time": "2018-08-29T07:55:16.342431Z"
    }
   },
   "outputs": [
    {
     "data": {
      "text/plain": [
       "0.034790023468819764"
      ]
     },
     "execution_count": 180,
     "metadata": {},
     "output_type": "execute_result"
    }
   ],
   "source": [
    "75439/(2092970+75439)\n",
    "#DINIED 비율 = 3%"
   ]
  },
  {
   "cell_type": "markdown",
   "metadata": {},
   "source": [
    "### Full_time_position 변환"
   ]
  },
  {
   "cell_type": "code",
   "execution_count": 10,
   "metadata": {
    "ExecuteTime": {
     "end_time": "2018-08-29T15:23:59.173239Z",
     "start_time": "2018-08-29T15:23:58.554153Z"
    }
   },
   "outputs": [],
   "source": [
    "df_train['FULL_TIME_POSITION'] = df_train['FULL_TIME_POSITION'].replace('Y',1)\n",
    "df_train['FULL_TIME_POSITION'] = df_train['FULL_TIME_POSITION'].replace('N',0)"
   ]
  },
  {
   "cell_type": "markdown",
   "metadata": {},
   "source": [
    "### Prevailing_wage 변수 log 변환"
   ]
  },
  {
   "cell_type": "code",
   "execution_count": 17,
   "metadata": {
    "ExecuteTime": {
     "end_time": "2018-08-29T15:25:07.024362Z",
     "start_time": "2018-08-29T15:25:06.993446Z"
    }
   },
   "outputs": [
    {
     "data": {
      "text/plain": [
       "0    61589.0\n",
       "1    79144.0\n",
       "2    73882.0\n",
       "3    61589.0\n",
       "5    42120.0\n",
       "Name: PREVAILING_WAGE, dtype: float64"
      ]
     },
     "execution_count": 17,
     "metadata": {},
     "output_type": "execute_result"
    }
   ],
   "source": [
    "dfwage = df_train['PREVAILING_WAGE'].dropna()\n",
    "dfwage.head()"
   ]
  },
  {
   "cell_type": "code",
   "execution_count": 18,
   "metadata": {
    "ExecuteTime": {
     "end_time": "2018-08-29T15:25:07.694610Z",
     "start_time": "2018-08-29T15:25:07.668679Z"
    }
   },
   "outputs": [
    {
     "data": {
      "text/plain": [
       "0"
      ]
     },
     "execution_count": 18,
     "metadata": {},
     "output_type": "execute_result"
    }
   ],
   "source": [
    "dfwage.isnull().sum()"
   ]
  },
  {
   "cell_type": "code",
   "execution_count": 19,
   "metadata": {
    "ExecuteTime": {
     "end_time": "2018-08-29T15:25:08.413782Z",
     "start_time": "2018-08-29T15:25:08.082779Z"
    }
   },
   "outputs": [
    {
     "data": {
      "text/plain": [
       "(0, 200000)"
      ]
     },
     "execution_count": 19,
     "metadata": {},
     "output_type": "execute_result"
    },
    {
     "data": {
      "image/png": "[encoded data removed]",
      "text/plain": [
       "<Figure size 864x288 with 1 Axes>"
      ]
     },
     "metadata": {},
     "output_type": "display_data"
    }
   ],
   "source": [
    "plt.subplots(1, 1, figsize=(12, 4))\n",
    "plt.hist(dfwage[:1200],bins = 200)\n",
    "plt.xlim([0, 200000])"
   ]
  },
  {
   "cell_type": "code",
   "execution_count": 20,
   "metadata": {
    "ExecuteTime": {
     "end_time": "2018-08-29T15:25:11.747293Z",
     "start_time": "2018-08-29T15:25:11.730371Z"
    }
   },
   "outputs": [
    {
     "name": "stderr",
     "output_type": "stream",
     "text": [
      "C:\\Users\\test\\Anaconda3\\lib\\site-packages\\ipykernel_launcher.py:1: RuntimeWarning: divide by zero encountered in log\n",
      "  \"\"\"Entry point for launching an IPython kernel.\n"
     ]
    }
   ],
   "source": [
    "logwage=np.log(df_train['PREVAILING_WAGE'])"
   ]
  },
  {
   "cell_type": "code",
   "execution_count": 24,
   "metadata": {
    "ExecuteTime": {
     "end_time": "2018-08-29T15:25:28.770873Z",
     "start_time": "2018-08-29T15:25:28.436716Z"
    }
   },
   "outputs": [
    {
     "data": {
      "text/plain": [
       "(9, 13)"
      ]
     },
     "execution_count": 24,
     "metadata": {},
     "output_type": "execute_result"
    },
    {
     "data": {
      "image/png": "[encoded data removed]",
      "text/plain": [
       "<Figure size 864x288 with 1 Axes>"
      ]
     },
     "metadata": {},
     "output_type": "display_data"
    }
   ],
   "source": [
    "plt.subplots(1, 1, figsize=(12, 4))\n",
    "plt.hist(logwage[:11000].dropna(),bins = 200)\n",
    "plt.xlim([9, 13])"
   ]
  },
  {
   "cell_type": "code",
   "execution_count": 25,
   "metadata": {
    "ExecuteTime": {
     "end_time": "2018-08-29T15:26:06.432344Z",
     "start_time": "2018-08-29T15:26:06.406449Z"
    }
   },
   "outputs": [
    {
     "name": "stderr",
     "output_type": "stream",
     "text": [
      "C:\\Users\\test\\Anaconda3\\lib\\site-packages\\ipykernel_launcher.py:1: RuntimeWarning: divide by zero encountered in log\n",
      "  \"\"\"Entry point for launching an IPython kernel.\n"
     ]
    }
   ],
   "source": [
    "df_train['PREVAILING_WAGE'] = np.log(df_train['PREVAILING_WAGE'])"
   ]
  },
  {
   "cell_type": "markdown",
   "metadata": {},
   "source": [
    "### Employer_name"
   ]
  },
  {
   "cell_type": "code",
   "execution_count": 26,
   "metadata": {
    "ExecuteTime": {
     "end_time": "2018-08-29T15:26:12.121436Z",
     "start_time": "2018-08-29T15:26:08.797286Z"
    },
    "collapsed": true
   },
   "outputs": [
    {
     "data": {
      "text/plain": [
       "898123                       \"I HAVE A DREAM\" FOUNDATION\n",
       "52568                                   \"K\" LINE AMERICA\n",
       "1461640                                 \"K\" LINE AMERICA\n",
       "1419485                                 \"K\" LINE AMERICA\n",
       "446264                                  \"K\" LINE AMERICA\n",
       "782746                            \"K\" LINE AMERICA, INC.\n",
       "1785766                           \"K\" LINE AMERICA, INC.\n",
       "549252                            \"K\" LINE AMERICA, INC.\n",
       "413143                            \"K\" LINE AMERICA, INC.\n",
       "1056834                           \"K\" LINE AMERICA, INC.\n",
       "596871                            \"K\" LINE AMERICA, INC.\n",
       "1684026                 \"K\" LINE LOGISITCS (U.S.A.) INC.\n",
       "45913                        \"K\" LINE LOGISTICS USA INC.\n",
       "758887                       \"K\" LINE LOGISTICS USA INC.\n",
       "1167350                     \"K\" LINE LOGISTICS USA, INC.\n",
       "123895                        &QUOT;K&QUOT; LINE AMERICA\n",
       "1308957                          &TV COMMUNICATIONS INC.\n",
       "871877                           &TV COMMUNICATIONS INC.\n",
       "66543                            &TV COMMUNICATIONS INC.\n",
       "97058                            &TV COMMUNICATIONS INC.\n",
       "7298                            &TV COMMUNICATIONS, INC.\n",
       "411415                          &TV COMMUNICATIONS, INC.\n",
       "1607194                                        &YET, LLC\n",
       "1526654                       'K' LINE LOGISTICS USA INC\n",
       "352853                       'K' LINE LOGISTICS USA INC.\n",
       "4155                         'K' LINE LOGISTICS USA INC.\n",
       "1449122                      'K' LINE LOGISTICS USA INC.\n",
       "449194               (AMBI)DEXTROUS ASSET MANAGEMENT LLC\n",
       "1362399    (HOUSEHOLD OF SANDRA SIRUGO & JORGE D. JAURY)\n",
       "109931     (HOUSEHOLD OF SANDRA SIRUGO & JORGE D. JAURY)\n",
       "                               ...                      \n",
       "1094290                            ÈZE BULLES DRINKS LLC\n",
       "755131                                        ÉTUDES LLC\n",
       "912543                                       ÉTUDES, LLC\n",
       "96188                                                NaN\n",
       "102272                                               NaN\n",
       "116676                                               NaN\n",
       "151474                                               NaN\n",
       "226068                                               NaN\n",
       "395964                                               NaN\n",
       "409735                                               NaN\n",
       "510101                                               NaN\n",
       "577981                                               NaN\n",
       "578471                                               NaN\n",
       "619827                                               NaN\n",
       "743505                                               NaN\n",
       "946503                                               NaN\n",
       "1205037                                              NaN\n",
       "1232526                                              NaN\n",
       "1252774                                              NaN\n",
       "1456977                                              NaN\n",
       "1621574                                              NaN\n",
       "1706956                                              NaN\n",
       "1734208                                              NaN\n",
       "221852                                               NaN\n",
       "287843                                               NaN\n",
       "322628                                               NaN\n",
       "376940                                               NaN\n",
       "388097                                               NaN\n",
       "414183                                               NaN\n",
       "544578                                               NaN\n",
       "Name: EMPLOYER_NAME, Length: 2168419, dtype: object"
      ]
     },
     "execution_count": 26,
     "metadata": {},
     "output_type": "execute_result"
    }
   ],
   "source": [
    "df_train['EMPLOYER_NAME'].sort_values()\n",
    "# EMPLOYER_NAME 간단한 텍스트 전처리 필요"
   ]
  },
  {
   "cell_type": "code",
   "execution_count": 27,
   "metadata": {
    "ExecuteTime": {
     "end_time": "2018-08-29T15:26:32.338432Z",
     "start_time": "2018-08-29T15:26:31.478123Z"
    }
   },
   "outputs": [],
   "source": [
    "df_train['EMPLOYER_NAME'] = df_train['EMPLOYER_NAME'].str.replace('.','')"
   ]
  },
  {
   "cell_type": "code",
   "execution_count": 28,
   "metadata": {
    "ExecuteTime": {
     "end_time": "2018-08-29T15:26:33.952890Z",
     "start_time": "2018-08-29T15:26:33.074968Z"
    }
   },
   "outputs": [],
   "source": [
    "df_train['EMPLOYER_NAME'] = df_train['EMPLOYER_NAME'].str.replace(',','')"
   ]
  },
  {
   "cell_type": "code",
   "execution_count": 29,
   "metadata": {
    "ExecuteTime": {
     "end_time": "2018-08-29T15:26:35.818130Z",
     "start_time": "2018-08-29T15:26:35.186780Z"
    }
   },
   "outputs": [
    {
     "name": "stdout",
     "output_type": "stream",
     "text": [
      "182875\n",
      "INFOSYS LIMITED                      104225\n",
      "TATA CONSULTANCY SERVICES LIMITED     51441\n",
      "WIPRO LIMITED                         34776\n",
      "DELOITTE CONSULTING LLP               29355\n",
      "ACCENTURE LLP                         26560\n",
      "IBM INDIA PRIVATE LIMITED             22594\n",
      "MICROSOFT CORPORATION                 17868\n",
      "HCL AMERICA INC                       17853\n",
      "ERNST & YOUNG US LLP                  14648\n",
      "CAPGEMINI AMERICA INC                 13466\n",
      "Name: EMPLOYER_NAME, dtype: int64\n"
     ]
    }
   ],
   "source": [
    "employer = df_train['EMPLOYER_NAME'].value_counts().sort_values(ascending=False)\n",
    "print(employer.count())\n",
    "print(employer[0:10])\n",
    "# 회사 종류 18만, INFOSYS 약 10만, 전처리 후 약 2만개 integrated"
   ]
  },
  {
   "cell_type": "code",
   "execution_count": 160,
   "metadata": {
    "ExecuteTime": {
     "end_time": "2018-08-29T07:43:19.946084Z",
     "start_time": "2018-08-29T07:43:18.391891Z"
    },
    "scrolled": true
   },
   "outputs": [
    {
     "data": {
      "text/plain": [
       "<matplotlib.axes._subplots.AxesSubplot at 0x15bb6523860>"
      ]
     },
     "execution_count": 160,
     "metadata": {},
     "output_type": "execute_result"
    },
    {
     "data": {
      "image/png": "[encoded data removed]",
      "text/plain": [
       "<Figure size 432x288 with 1 Axes>"
      ]
     },
     "metadata": {},
     "output_type": "display_data"
    }
   ],
   "source": [
    "df_train['EMPLOYER_NAME'].value_counts().sort_values(ascending=False)[:20].plot.barh()"
   ]
  },
  {
   "cell_type": "code",
   "execution_count": 167,
   "metadata": {
    "ExecuteTime": {
     "end_time": "2018-08-29T07:45:46.667361Z",
     "start_time": "2018-08-29T07:45:46.641928Z"
    },
    "scrolled": true
   },
   "outputs": [
    {
     "data": {
      "text/html": [
       "<div>\n",
       "<style scoped>\n",
       "    .dataframe tbody tr th:only-of-type {\n",
       "        vertical-align: middle;\n",
       "    }\n",
       "\n",
       "    .dataframe tbody tr th {\n",
       "        vertical-align: top;\n",
       "    }\n",
       "\n",
       "    .dataframe thead th {\n",
       "        text-align: right;\n",
       "    }\n",
       "</style>\n",
       "<table border=\"1\" class=\"dataframe\">\n",
       "  <thead>\n",
       "    <tr style=\"text-align: right;\">\n",
       "      <th></th>\n",
       "      <th>Unnamed: 0</th>\n",
       "      <th>CASE_STATUS</th>\n",
       "      <th>EMPLOYER_NAME</th>\n",
       "      <th>SOC_NAME</th>\n",
       "      <th>JOB_TITLE</th>\n",
       "      <th>FULL_TIME_POSITION</th>\n",
       "      <th>PREVAILING_WAGE</th>\n",
       "      <th>YEAR</th>\n",
       "      <th>WORKSITE</th>\n",
       "      <th>lon</th>\n",
       "      <th>lat</th>\n",
       "      <th>TEST</th>\n",
       "    </tr>\n",
       "  </thead>\n",
       "  <tbody>\n",
       "    <tr>\n",
       "      <th>0</th>\n",
       "      <td>1349742</td>\n",
       "      <td>0.0</td>\n",
       "      <td>INTERNATIONAL SYSTEMS TECHNOLOGIES INC</td>\n",
       "      <td>Computer Programmers</td>\n",
       "      <td>PROGRAMMER ANALYST</td>\n",
       "      <td>1.0</td>\n",
       "      <td>11.028239</td>\n",
       "      <td>2014.0</td>\n",
       "      <td>SUNNYVALE, CALIFORNIA</td>\n",
       "      <td>-122.036350</td>\n",
       "      <td>37.368830</td>\n",
       "      <td>0</td>\n",
       "    </tr>\n",
       "    <tr>\n",
       "      <th>1</th>\n",
       "      <td>789205</td>\n",
       "      <td>0.0</td>\n",
       "      <td>GOOGLE INC</td>\n",
       "      <td>NETWORK AND COMPUTER SYSTEMS ADMINISTRATORS</td>\n",
       "      <td>SITE RELIABILITY ENGINEER</td>\n",
       "      <td>1.0</td>\n",
       "      <td>11.279024</td>\n",
       "      <td>2015.0</td>\n",
       "      <td>SAN FRANCISCO, CALIFORNIA</td>\n",
       "      <td>-122.419415</td>\n",
       "      <td>37.774929</td>\n",
       "      <td>0</td>\n",
       "    </tr>\n",
       "    <tr>\n",
       "      <th>2</th>\n",
       "      <td>1617140</td>\n",
       "      <td>0.0</td>\n",
       "      <td>WIPRO LIMITED</td>\n",
       "      <td>Computer Occupations, All Other</td>\n",
       "      <td>PROJECT MANAGER</td>\n",
       "      <td>1.0</td>\n",
       "      <td>11.210225</td>\n",
       "      <td>2014.0</td>\n",
       "      <td>EL SEGUNDO, CALIFORNIA</td>\n",
       "      <td>-118.416465</td>\n",
       "      <td>33.919180</td>\n",
       "      <td>0</td>\n",
       "    </tr>\n",
       "    <tr>\n",
       "      <th>3</th>\n",
       "      <td>2757905</td>\n",
       "      <td>0.0</td>\n",
       "      <td>CPO SERVICES INC</td>\n",
       "      <td>Orthotists and Prosthetists</td>\n",
       "      <td>STAFF PROSTHETIST</td>\n",
       "      <td>1.0</td>\n",
       "      <td>11.028239</td>\n",
       "      <td>2011.0</td>\n",
       "      <td>PEORIA, ILLINOIS</td>\n",
       "      <td>-89.588986</td>\n",
       "      <td>40.693649</td>\n",
       "      <td>0</td>\n",
       "    </tr>\n",
       "    <tr>\n",
       "      <th>5</th>\n",
       "      <td>693102</td>\n",
       "      <td>1.0</td>\n",
       "      <td>UNIVERSITY OF CALIFORNIA SAN DIEGO</td>\n",
       "      <td>MEDICAL SCIENTISTS, EXCEPT EPIDEMIOLOGISTS</td>\n",
       "      <td>ASSISTANT PROJECT SCIENTIST</td>\n",
       "      <td>1.0</td>\n",
       "      <td>10.648278</td>\n",
       "      <td>2015.0</td>\n",
       "      <td>LA JOLLA, CALIFORNIA</td>\n",
       "      <td>-117.271272</td>\n",
       "      <td>32.832811</td>\n",
       "      <td>0</td>\n",
       "    </tr>\n",
       "  </tbody>\n",
       "</table>\n",
       "</div>"
      ],
      "text/plain": [
       "   Unnamed: 0  CASE_STATUS                           EMPLOYER_NAME  \\\n",
       "0     1349742          0.0  INTERNATIONAL SYSTEMS TECHNOLOGIES INC   \n",
       "1      789205          0.0                              GOOGLE INC   \n",
       "2     1617140          0.0                           WIPRO LIMITED   \n",
       "3     2757905          0.0                        CPO SERVICES INC   \n",
       "5      693102          1.0      UNIVERSITY OF CALIFORNIA SAN DIEGO   \n",
       "\n",
       "                                      SOC_NAME                    JOB_TITLE  \\\n",
       "0                         Computer Programmers           PROGRAMMER ANALYST   \n",
       "1  NETWORK AND COMPUTER SYSTEMS ADMINISTRATORS    SITE RELIABILITY ENGINEER   \n",
       "2              Computer Occupations, All Other              PROJECT MANAGER   \n",
       "3                  Orthotists and Prosthetists            STAFF PROSTHETIST   \n",
       "5   MEDICAL SCIENTISTS, EXCEPT EPIDEMIOLOGISTS  ASSISTANT PROJECT SCIENTIST   \n",
       "\n",
       "   FULL_TIME_POSITION  PREVAILING_WAGE    YEAR                   WORKSITE  \\\n",
       "0                 1.0        11.028239  2014.0      SUNNYVALE, CALIFORNIA   \n",
       "1                 1.0        11.279024  2015.0  SAN FRANCISCO, CALIFORNIA   \n",
       "2                 1.0        11.210225  2014.0     EL SEGUNDO, CALIFORNIA   \n",
       "3                 1.0        11.028239  2011.0           PEORIA, ILLINOIS   \n",
       "5                 1.0        10.648278  2015.0       LA JOLLA, CALIFORNIA   \n",
       "\n",
       "          lon        lat  TEST  \n",
       "0 -122.036350  37.368830     0  \n",
       "1 -122.419415  37.774929     0  \n",
       "2 -118.416465  33.919180     0  \n",
       "3  -89.588986  40.693649     0  \n",
       "5 -117.271272  32.832811     0  "
      ]
     },
     "execution_count": 167,
     "metadata": {},
     "output_type": "execute_result"
    }
   ],
   "source": [
    "df_train.head()"
   ]
  },
  {
   "cell_type": "markdown",
   "metadata": {},
   "source": [
    "### SOC_NAME"
   ]
  },
  {
   "cell_type": "code",
   "execution_count": 84,
   "metadata": {
    "ExecuteTime": {
     "end_time": "2018-08-29T16:03:40.914492Z",
     "start_time": "2018-08-29T16:03:40.908542Z"
    },
    "scrolled": true
   },
   "outputs": [
    {
     "data": {
      "text/plain": [
       "0                           COMPUTER PROGRAMMERS\n",
       "1    NETWORK AND COMPUTER SYSTEMS ADMINISTRATORS\n",
       "2                COMPUTER OCCUPATIONS, ALL OTHER\n",
       "3                    ORTHOTISTS AND PROSTHETISTS\n",
       "5     MEDICAL SCIENTISTS, EXCEPT EPIDEMIOLOGISTS\n",
       "Name: SOC_NAME, dtype: object"
      ]
     },
     "execution_count": 84,
     "metadata": {},
     "output_type": "execute_result"
    }
   ],
   "source": [
    "df_train['SOC_NAME'].head()"
   ]
  },
  {
   "cell_type": "code",
   "execution_count": 30,
   "metadata": {
    "ExecuteTime": {
     "end_time": "2018-08-29T15:26:44.649811Z",
     "start_time": "2018-08-29T15:26:44.023752Z"
    }
   },
   "outputs": [],
   "source": [
    "df_train['SOC_NAME'] = df_train['SOC_NAME'].str.upper()"
   ]
  },
  {
   "cell_type": "code",
   "execution_count": 85,
   "metadata": {
    "ExecuteTime": {
     "end_time": "2018-08-29T16:04:22.006480Z",
     "start_time": "2018-08-29T16:04:21.711845Z"
    }
   },
   "outputs": [
    {
     "name": "stdout",
     "output_type": "stream",
     "text": [
      "1422\n",
      "COMPUTER SYSTEMS ANALYSTS                      375335\n",
      "SOFTWARE DEVELOPERS, APPLICATIONS              297635\n",
      "COMPUTER PROGRAMMERS                           288529\n",
      "COMPUTER OCCUPATIONS, ALL OTHER                131892\n",
      "SOFTWARE DEVELOPERS, SYSTEMS SOFTWARE           60691\n",
      "MANAGEMENT ANALYSTS                             49667\n",
      "ACCOUNTANTS AND AUDITORS                        39818\n",
      "FINANCIAL ANALYSTS                              37462\n",
      "MECHANICAL ENGINEERS                            31807\n",
      "NETWORK AND COMPUTER SYSTEMS ADMINISTRATORS     28963\n",
      "Name: SOC_NAME, dtype: int64\n"
     ]
    }
   ],
   "source": [
    "soc = df_train['SOC_NAME'].value_counts().sort_values(ascending=False)\n",
    "print(soc.count())\n",
    "print(soc[0:10])\n",
    "# 944 -> 1422 로 integrated"
   ]
  },
  {
   "cell_type": "code",
   "execution_count": 129,
   "metadata": {
    "ExecuteTime": {
     "end_time": "2018-08-29T16:07:57.230398Z",
     "start_time": "2018-08-29T16:07:56.936761Z"
    }
   },
   "outputs": [],
   "source": [
    "soc_name = df_train['SOC_NAME'].value_counts().sort_values()"
   ]
  },
  {
   "cell_type": "code",
   "execution_count": 146,
   "metadata": {
    "ExecuteTime": {
     "end_time": "2018-08-29T16:08:33.117133Z",
     "start_time": "2018-08-29T16:08:33.114173Z"
    }
   },
   "outputs": [],
   "source": [
    "soc_name1 = soc_name[soc_name == 1]\n",
    "soc_name1.count()\n",
    "#soc_name 1개가 362 이후로 136 79 50 41 25 20 24 22"
   ]
  },
  {
   "cell_type": "code",
   "execution_count": 76,
   "metadata": {
    "ExecuteTime": {
     "end_time": "2018-08-29T16:00:07.447610Z",
     "start_time": "2018-08-29T16:00:06.949207Z"
    },
    "scrolled": false
   },
   "outputs": [
    {
     "data": {
      "text/plain": [
       "<matplotlib.axes._subplots.AxesSubplot at 0x1530874dc50>"
      ]
     },
     "execution_count": 76,
     "metadata": {},
     "output_type": "execute_result"
    },
    {
     "data": {
      "image/png": "[encoded data removed]",
      "text/plain": [
       "<Figure size 432x288 with 1 Axes>"
      ]
     },
     "metadata": {},
     "output_type": "display_data"
    }
   ],
   "source": [
    "df_train['SOC_NAME'].value_counts().sort_values(ascending=False)[:20].plot.barh()\n",
    "#컴퓨터 관련 직종이 매우 많음"
   ]
  },
  {
   "cell_type": "markdown",
   "metadata": {},
   "source": [
    "### Year"
   ]
  },
  {
   "cell_type": "code",
   "execution_count": 32,
   "metadata": {
    "ExecuteTime": {
     "end_time": "2018-08-29T15:26:52.849042Z",
     "start_time": "2018-08-29T15:26:52.339097Z"
    },
    "scrolled": false
   },
   "outputs": [
    {
     "data": {
      "image/png": "[encoded data removed]",
      "text/plain": [
       "<Figure size 1080x432 with 1 Axes>"
      ]
     },
     "metadata": {},
     "output_type": "display_data"
    },
    {
     "data": {
      "text/html": [
       "<div>\n",
       "<style scoped>\n",
       "    .dataframe tbody tr th:only-of-type {\n",
       "        vertical-align: middle;\n",
       "    }\n",
       "\n",
       "    .dataframe tbody tr th {\n",
       "        vertical-align: top;\n",
       "    }\n",
       "\n",
       "    .dataframe thead th {\n",
       "        text-align: right;\n",
       "    }\n",
       "</style>\n",
       "<table border=\"1\" class=\"dataframe\">\n",
       "  <thead>\n",
       "    <tr style=\"text-align: right;\">\n",
       "      <th></th>\n",
       "      <th>YEAR</th>\n",
       "      <th>CASE_STATUS</th>\n",
       "      <th>SOC_NAME</th>\n",
       "    </tr>\n",
       "  </thead>\n",
       "  <tbody>\n",
       "    <tr>\n",
       "      <th>0</th>\n",
       "      <td>2011.0</td>\n",
       "      <td>0.0</td>\n",
       "      <td>241665</td>\n",
       "    </tr>\n",
       "    <tr>\n",
       "      <th>1</th>\n",
       "      <td>2011.0</td>\n",
       "      <td>1.0</td>\n",
       "      <td>23222</td>\n",
       "    </tr>\n",
       "    <tr>\n",
       "      <th>2</th>\n",
       "      <td>2012.0</td>\n",
       "      <td>0.0</td>\n",
       "      <td>279992</td>\n",
       "    </tr>\n",
       "    <tr>\n",
       "      <th>3</th>\n",
       "      <td>2012.0</td>\n",
       "      <td>1.0</td>\n",
       "      <td>16746</td>\n",
       "    </tr>\n",
       "    <tr>\n",
       "      <th>4</th>\n",
       "      <td>2013.0</td>\n",
       "      <td>0.0</td>\n",
       "      <td>304049</td>\n",
       "    </tr>\n",
       "    <tr>\n",
       "      <th>5</th>\n",
       "      <td>2013.0</td>\n",
       "      <td>1.0</td>\n",
       "      <td>9617</td>\n",
       "    </tr>\n",
       "    <tr>\n",
       "      <th>6</th>\n",
       "      <td>2014.0</td>\n",
       "      <td>0.0</td>\n",
       "      <td>360832</td>\n",
       "    </tr>\n",
       "    <tr>\n",
       "      <th>7</th>\n",
       "      <td>2014.0</td>\n",
       "      <td>1.0</td>\n",
       "      <td>9465</td>\n",
       "    </tr>\n",
       "    <tr>\n",
       "      <th>8</th>\n",
       "      <td>2015.0</td>\n",
       "      <td>0.0</td>\n",
       "      <td>438189</td>\n",
       "    </tr>\n",
       "    <tr>\n",
       "      <th>9</th>\n",
       "      <td>2015.0</td>\n",
       "      <td>1.0</td>\n",
       "      <td>8720</td>\n",
       "    </tr>\n",
       "    <tr>\n",
       "      <th>10</th>\n",
       "      <td>2016.0</td>\n",
       "      <td>0.0</td>\n",
       "      <td>455888</td>\n",
       "    </tr>\n",
       "    <tr>\n",
       "      <th>11</th>\n",
       "      <td>2016.0</td>\n",
       "      <td>1.0</td>\n",
       "      <td>7277</td>\n",
       "    </tr>\n",
       "  </tbody>\n",
       "</table>\n",
       "</div>"
      ],
      "text/plain": [
       "      YEAR  CASE_STATUS  SOC_NAME\n",
       "0   2011.0          0.0    241665\n",
       "1   2011.0          1.0     23222\n",
       "2   2012.0          0.0    279992\n",
       "3   2012.0          1.0     16746\n",
       "4   2013.0          0.0    304049\n",
       "5   2013.0          1.0      9617\n",
       "6   2014.0          0.0    360832\n",
       "7   2014.0          1.0      9465\n",
       "8   2015.0          0.0    438189\n",
       "9   2015.0          1.0      8720\n",
       "10  2016.0          0.0    455888\n",
       "11  2016.0          1.0      7277"
      ]
     },
     "execution_count": 32,
     "metadata": {},
     "output_type": "execute_result"
    }
   ],
   "source": [
    "case_year = df_train.groupby(['YEAR','CASE_STATUS'])['SOC_NAME'].count().reset_index()\n",
    "case_year.pivot('YEAR','CASE_STATUS','SOC_NAME').plot.bar(width=0.8)\n",
    "fig = plt.gcf()\n",
    "fig.set_size_inches(15,6)\n",
    "plt.title('Case Status by Year')\n",
    "plt.show()\n",
    "case_year"
   ]
  },
  {
   "cell_type": "code",
   "execution_count": 33,
   "metadata": {
    "ExecuteTime": {
     "end_time": "2018-08-29T15:26:56.846699Z",
     "start_time": "2018-08-29T15:26:56.839755Z"
    }
   },
   "outputs": [
    {
     "data": {
      "text/plain": [
       "array([0.91233243, 0.94356638, 0.96934   , 0.97443944, 0.9804882 ,\n",
       "       0.98428854])"
      ]
     },
     "execution_count": 33,
     "metadata": {},
     "output_type": "execute_result"
    }
   ],
   "source": [
    "count_cer = case_year.loc[case_year['CASE_STATUS'] == 0]\n",
    "count_de = case_year.loc[case_year['CASE_STATUS'] == 1]\n",
    "rate = count_cer['SOC_NAME'].values / (count_cer['SOC_NAME'].values + count_de['SOC_NAME'].values)\n",
    "rate #연도에 따라 certificated 비율이 늘어나고 있다"
   ]
  },
  {
   "cell_type": "markdown",
   "metadata": {},
   "source": [
    "### NaN 탐구"
   ]
  },
  {
   "cell_type": "code",
   "execution_count": 34,
   "metadata": {
    "ExecuteTime": {
     "end_time": "2018-08-29T15:27:00.712262Z",
     "start_time": "2018-08-29T15:27:00.039197Z"
    }
   },
   "outputs": [
    {
     "name": "stdout",
     "output_type": "stream",
     "text": [
      "2168419\n",
      "Unnamed: 0                0\n",
      "CASE_STATUS              10\n",
      "EMPLOYER_NAME            27\n",
      "SOC_NAME              12757\n",
      "JOB_TITLE                17\n",
      "FULL_TIME_POSITION       11\n",
      "PREVAILING_WAGE          58\n",
      "YEAR                     10\n",
      "WORKSITE                  0\n",
      "lon                   77512\n",
      "lat                   77512\n",
      "TEST                      0\n",
      "dtype: int64\n"
     ]
    }
   ],
   "source": [
    "print(df_train.shape[0])\n",
    "print(df_train.isnull().sum())"
   ]
  },
  {
   "cell_type": "code",
   "execution_count": 35,
   "metadata": {
    "ExecuteTime": {
     "end_time": "2018-08-29T15:27:15.368488Z",
     "start_time": "2018-08-29T15:27:15.007794Z"
    }
   },
   "outputs": [],
   "source": [
    "df_train = df_train[df_train['CASE_STATUS'].isnull() == False]"
   ]
  },
  {
   "cell_type": "markdown",
   "metadata": {},
   "source": [
    "#### Employer_name"
   ]
  },
  {
   "cell_type": "code",
   "execution_count": 36,
   "metadata": {
    "ExecuteTime": {
     "end_time": "2018-08-29T15:27:19.246898Z",
     "start_time": "2018-08-29T15:27:19.144173Z"
    }
   },
   "outputs": [
    {
     "name": "stdout",
     "output_type": "stream",
     "text": [
      "1.0     6\n",
      "0.0    11\n",
      "Name: CASE_STATUS, dtype: int64\n"
     ]
    }
   ],
   "source": [
    "df_emplo = df_train[df_train['EMPLOYER_NAME'].isnull() == True]\n",
    "print(df_emplo['CASE_STATUS'].value_counts().sort_values())"
   ]
  },
  {
   "cell_type": "markdown",
   "metadata": {},
   "source": [
    "#### Soc_name"
   ]
  },
  {
   "cell_type": "code",
   "execution_count": 37,
   "metadata": {
    "ExecuteTime": {
     "end_time": "2018-08-29T15:27:21.570408Z",
     "start_time": "2018-08-29T15:27:21.477689Z"
    }
   },
   "outputs": [
    {
     "name": "stdout",
     "output_type": "stream",
     "text": [
      "1.0      392\n",
      "0.0    12355\n",
      "Name: CASE_STATUS, dtype: int64\n"
     ]
    },
    {
     "data": {
      "text/plain": [
       "0.030752333882482153"
      ]
     },
     "execution_count": 37,
     "metadata": {},
     "output_type": "execute_result"
    }
   ],
   "source": [
    "df_soc = df_train[df_train['SOC_NAME'].isnull() == True]\n",
    "print(df_soc['CASE_STATUS'].value_counts().sort_values())\n",
    "392 / (392+12355)\n",
    "#soc_name의 null 여부는 denied에 별 영향이 없는 듯 하다"
   ]
  },
  {
   "cell_type": "markdown",
   "metadata": {},
   "source": [
    "#### Job_title"
   ]
  },
  {
   "cell_type": "code",
   "execution_count": 38,
   "metadata": {
    "ExecuteTime": {
     "end_time": "2018-08-29T15:27:23.103268Z",
     "start_time": "2018-08-29T15:27:23.019530Z"
    }
   },
   "outputs": [
    {
     "name": "stdout",
     "output_type": "stream",
     "text": [
      "0.0    2\n",
      "1.0    5\n",
      "Name: CASE_STATUS, dtype: int64\n"
     ]
    }
   ],
   "source": [
    "df_job = df_train[df_train['JOB_TITLE'].isnull() == True]\n",
    "print(df_job['CASE_STATUS'].value_counts().sort_values())"
   ]
  },
  {
   "cell_type": "markdown",
   "metadata": {},
   "source": [
    "#### Prevailing_wage"
   ]
  },
  {
   "cell_type": "code",
   "execution_count": 39,
   "metadata": {
    "ExecuteTime": {
     "end_time": "2018-08-29T15:27:27.083397Z",
     "start_time": "2018-08-29T15:27:27.058469Z"
    }
   },
   "outputs": [
    {
     "name": "stdout",
     "output_type": "stream",
     "text": [
      "1.0    48\n",
      "Name: CASE_STATUS, dtype: int64\n"
     ]
    }
   ],
   "source": [
    "df_wage = df_train[df_train['PREVAILING_WAGE'].isnull() == True]\n",
    "print(df_wage['CASE_STATUS'].value_counts().sort_values())\n",
    "#wage 없으면 무조건 denied"
   ]
  },
  {
   "cell_type": "markdown",
   "metadata": {},
   "source": [
    "#### Full_time_position"
   ]
  },
  {
   "cell_type": "code",
   "execution_count": 40,
   "metadata": {
    "ExecuteTime": {
     "end_time": "2018-08-29T15:27:28.139576Z",
     "start_time": "2018-08-29T15:27:28.123664Z"
    }
   },
   "outputs": [
    {
     "name": "stdout",
     "output_type": "stream",
     "text": [
      "1.0    1\n",
      "Name: CASE_STATUS, dtype: int64\n"
     ]
    }
   ],
   "source": [
    "df_position = df_train[df_train['FULL_TIME_POSITION'].isnull() == True]\n",
    "print(df_position['CASE_STATUS'].value_counts().sort_values())\n",
    "#1명이긴 하지만 denied"
   ]
  },
  {
   "cell_type": "markdown",
   "metadata": {},
   "source": [
    "#### lon, lat"
   ]
  },
  {
   "cell_type": "code",
   "execution_count": 41,
   "metadata": {
    "ExecuteTime": {
     "end_time": "2018-08-29T15:27:30.536154Z",
     "start_time": "2018-08-29T15:27:30.495301Z"
    }
   },
   "outputs": [
    {
     "name": "stdout",
     "output_type": "stream",
     "text": [
      "1.0     6886\n",
      "0.0    70626\n",
      "Name: CASE_STATUS, dtype: int64\n"
     ]
    },
    {
     "data": {
      "text/plain": [
       "0.08883785736402106"
      ]
     },
     "execution_count": 41,
     "metadata": {},
     "output_type": "execute_result"
    }
   ],
   "source": [
    "df_lon = df_train[df_train['lon'].isnull() == True]\n",
    "print(df_lon['CASE_STATUS'].value_counts().sort_values())\n",
    "6886 / (6886+70626)\n",
    "# 8%...? "
   ]
  },
  {
   "cell_type": "markdown",
   "metadata": {},
   "source": [
    "### Nan 탐구 결과 \n",
    "1. wage, full time이 없으면 denied\n",
    "2. employer_name, job_title, lon, lat도 유의미한 영향을 미치는 것으로 보임, lon,lat은 왜인지 모르겠음"
   ]
  },
  {
   "cell_type": "code",
   "execution_count": 187,
   "metadata": {
    "ExecuteTime": {
     "end_time": "2018-08-29T17:00:25.717134Z",
     "start_time": "2018-08-29T17:00:25.702206Z"
    }
   },
   "outputs": [
    {
     "data": {
      "text/html": [
       "<div>\n",
       "<style scoped>\n",
       "    .dataframe tbody tr th:only-of-type {\n",
       "        vertical-align: middle;\n",
       "    }\n",
       "\n",
       "    .dataframe tbody tr th {\n",
       "        vertical-align: top;\n",
       "    }\n",
       "\n",
       "    .dataframe thead th {\n",
       "        text-align: right;\n",
       "    }\n",
       "</style>\n",
       "<table border=\"1\" class=\"dataframe\">\n",
       "  <thead>\n",
       "    <tr style=\"text-align: right;\">\n",
       "      <th></th>\n",
       "      <th>Unnamed: 0</th>\n",
       "      <th>CASE_STATUS</th>\n",
       "      <th>EMPLOYER_NAME</th>\n",
       "      <th>SOC_NAME</th>\n",
       "      <th>JOB_TITLE</th>\n",
       "      <th>FULL_TIME_POSITION</th>\n",
       "      <th>PREVAILING_WAGE</th>\n",
       "      <th>YEAR</th>\n",
       "      <th>WORKSITE</th>\n",
       "      <th>lon</th>\n",
       "      <th>lat</th>\n",
       "      <th>TEST</th>\n",
       "      <th>State</th>\n",
       "    </tr>\n",
       "  </thead>\n",
       "  <tbody>\n",
       "    <tr>\n",
       "      <th>0</th>\n",
       "      <td>1349742</td>\n",
       "      <td>0.0</td>\n",
       "      <td>INTERNATIONAL SYSTEMS TECHNOLOGIES INC</td>\n",
       "      <td>COMPUTER PROGRAMMERS</td>\n",
       "      <td>PROGRAMMER ANALYST</td>\n",
       "      <td>1.0</td>\n",
       "      <td>11.028239</td>\n",
       "      <td>2014.0</td>\n",
       "      <td>SUNNYVALE, CALIFORNIA</td>\n",
       "      <td>-122.036350</td>\n",
       "      <td>37.368830</td>\n",
       "      <td>0</td>\n",
       "      <td>CALIFORNIA</td>\n",
       "    </tr>\n",
       "    <tr>\n",
       "      <th>1</th>\n",
       "      <td>789205</td>\n",
       "      <td>0.0</td>\n",
       "      <td>GOOGLE INC</td>\n",
       "      <td>NETWORK AND COMPUTER SYSTEMS ADMINISTRATORS</td>\n",
       "      <td>SITE RELIABILITY ENGINEER</td>\n",
       "      <td>1.0</td>\n",
       "      <td>11.279024</td>\n",
       "      <td>2015.0</td>\n",
       "      <td>SAN FRANCISCO, CALIFORNIA</td>\n",
       "      <td>-122.419415</td>\n",
       "      <td>37.774929</td>\n",
       "      <td>0</td>\n",
       "      <td>CALIFORNIA</td>\n",
       "    </tr>\n",
       "    <tr>\n",
       "      <th>2</th>\n",
       "      <td>1617140</td>\n",
       "      <td>0.0</td>\n",
       "      <td>WIPRO LIMITED</td>\n",
       "      <td>COMPUTER OCCUPATIONS, ALL OTHER</td>\n",
       "      <td>PROJECT MANAGER</td>\n",
       "      <td>1.0</td>\n",
       "      <td>11.210225</td>\n",
       "      <td>2014.0</td>\n",
       "      <td>EL SEGUNDO, CALIFORNIA</td>\n",
       "      <td>-118.416465</td>\n",
       "      <td>33.919180</td>\n",
       "      <td>0</td>\n",
       "      <td>CALIFORNIA</td>\n",
       "    </tr>\n",
       "    <tr>\n",
       "      <th>3</th>\n",
       "      <td>2757905</td>\n",
       "      <td>0.0</td>\n",
       "      <td>CPO SERVICES INC</td>\n",
       "      <td>ORTHOTISTS AND PROSTHETISTS</td>\n",
       "      <td>STAFF PROSTHETIST</td>\n",
       "      <td>1.0</td>\n",
       "      <td>11.028239</td>\n",
       "      <td>2011.0</td>\n",
       "      <td>PEORIA, ILLINOIS</td>\n",
       "      <td>-89.588986</td>\n",
       "      <td>40.693649</td>\n",
       "      <td>0</td>\n",
       "      <td>ILLINOIS</td>\n",
       "    </tr>\n",
       "    <tr>\n",
       "      <th>5</th>\n",
       "      <td>693102</td>\n",
       "      <td>1.0</td>\n",
       "      <td>UNIVERSITY OF CALIFORNIA SAN DIEGO</td>\n",
       "      <td>MEDICAL SCIENTISTS, EXCEPT EPIDEMIOLOGISTS</td>\n",
       "      <td>ASSISTANT PROJECT SCIENTIST</td>\n",
       "      <td>1.0</td>\n",
       "      <td>10.648278</td>\n",
       "      <td>2015.0</td>\n",
       "      <td>LA JOLLA, CALIFORNIA</td>\n",
       "      <td>-117.271272</td>\n",
       "      <td>32.832811</td>\n",
       "      <td>0</td>\n",
       "      <td>CALIFORNIA</td>\n",
       "    </tr>\n",
       "  </tbody>\n",
       "</table>\n",
       "</div>"
      ],
      "text/plain": [
       "   Unnamed: 0  CASE_STATUS                           EMPLOYER_NAME  \\\n",
       "0     1349742          0.0  INTERNATIONAL SYSTEMS TECHNOLOGIES INC   \n",
       "1      789205          0.0                              GOOGLE INC   \n",
       "2     1617140          0.0                           WIPRO LIMITED   \n",
       "3     2757905          0.0                        CPO SERVICES INC   \n",
       "5      693102          1.0      UNIVERSITY OF CALIFORNIA SAN DIEGO   \n",
       "\n",
       "                                      SOC_NAME                    JOB_TITLE  \\\n",
       "0                         COMPUTER PROGRAMMERS           PROGRAMMER ANALYST   \n",
       "1  NETWORK AND COMPUTER SYSTEMS ADMINISTRATORS    SITE RELIABILITY ENGINEER   \n",
       "2              COMPUTER OCCUPATIONS, ALL OTHER              PROJECT MANAGER   \n",
       "3                  ORTHOTISTS AND PROSTHETISTS            STAFF PROSTHETIST   \n",
       "5   MEDICAL SCIENTISTS, EXCEPT EPIDEMIOLOGISTS  ASSISTANT PROJECT SCIENTIST   \n",
       "\n",
       "   FULL_TIME_POSITION  PREVAILING_WAGE    YEAR                   WORKSITE  \\\n",
       "0                 1.0        11.028239  2014.0      SUNNYVALE, CALIFORNIA   \n",
       "1                 1.0        11.279024  2015.0  SAN FRANCISCO, CALIFORNIA   \n",
       "2                 1.0        11.210225  2014.0     EL SEGUNDO, CALIFORNIA   \n",
       "3                 1.0        11.028239  2011.0           PEORIA, ILLINOIS   \n",
       "5                 1.0        10.648278  2015.0       LA JOLLA, CALIFORNIA   \n",
       "\n",
       "          lon        lat  TEST       State  \n",
       "0 -122.036350  37.368830     0  CALIFORNIA  \n",
       "1 -122.419415  37.774929     0  CALIFORNIA  \n",
       "2 -118.416465  33.919180     0  CALIFORNIA  \n",
       "3  -89.588986  40.693649     0    ILLINOIS  \n",
       "5 -117.271272  32.832811     0  CALIFORNIA  "
      ]
     },
     "execution_count": 187,
     "metadata": {},
     "output_type": "execute_result"
    }
   ],
   "source": [
    "df_train.head()"
   ]
  },
  {
   "cell_type": "markdown",
   "metadata": {},
   "source": [
    "# Feature Engineering"
   ]
  },
  {
   "cell_type": "markdown",
   "metadata": {},
   "source": [
    "## 주(state)만 분리"
   ]
  },
  {
   "cell_type": "code",
   "execution_count": 43,
   "metadata": {
    "ExecuteTime": {
     "end_time": "2018-08-29T15:37:32.106617Z",
     "start_time": "2018-08-29T15:37:30.998548Z"
    }
   },
   "outputs": [],
   "source": [
    "def state(data):\n",
    "    states = []\n",
    "    data_worksite = df_train['WORKSITE']\n",
    "    for worksite in data_worksite.iloc[:]:\n",
    "        state = worksite.split(', ')[1]\n",
    "        states.append(state)\n",
    "    return pd.DataFrame(states, columns =['State'])\n",
    "\n",
    "states = state(df_train)\n",
    "df_train['State'] = states['State']"
   ]
  },
  {
   "cell_type": "code",
   "execution_count": 45,
   "metadata": {
    "ExecuteTime": {
     "end_time": "2018-08-29T15:37:37.979115Z",
     "start_time": "2018-08-29T15:37:37.974130Z"
    }
   },
   "outputs": [
    {
     "data": {
      "text/plain": [
       "0    CALIFORNIA\n",
       "1    CALIFORNIA\n",
       "2    CALIFORNIA\n",
       "3      ILLINOIS\n",
       "5    CALIFORNIA\n",
       "Name: State, dtype: object"
      ]
     },
     "execution_count": 45,
     "metadata": {},
     "output_type": "execute_result"
    }
   ],
   "source": [
    "df_train['State'].head()"
   ]
  },
  {
   "cell_type": "markdown",
   "metadata": {},
   "source": [
    "## Certified rate (SOC & Year)"
   ]
  },
  {
   "cell_type": "code",
   "execution_count": 156,
   "metadata": {
    "ExecuteTime": {
     "end_time": "2018-08-29T16:32:30.808745Z",
     "start_time": "2018-08-29T16:32:30.212724Z"
    }
   },
   "outputs": [
    {
     "name": "stdout",
     "output_type": "stream",
     "text": [
      "580\n",
      "652\n"
     ]
    }
   ],
   "source": [
    "cer_rate_2011 = df_train[df_train['CASE_STATUS'] == 0]\n",
    "cer_rate_2011 = cer_rate_2011[cer_rate_2011['YEAR'] == 2011]\n",
    "cer_rate_2011 = cer_rate_2011.groupby(['SOC_NAME','CASE_STATUS'])['YEAR'].count().reset_index()\n",
    "de_rate_2011 = df_train[df_train['CASE_STATUS'] == 1]\n",
    "de_rate_2011 = de_rate_2011[de_rate_2011['YEAR'] == 2011]\n",
    "de_rate_2011 = de_rate_2011.groupby(['SOC_NAME','CASE_STATUS'])['YEAR'].count().reset_index()\n",
    "cer_2011 = cer_rate_2011.sort_values('YEAR', ascending = False)\n",
    "de_2011 = de_rate_2011.sort_values('YEAR',ascending =False)\n",
    "\n",
    "count_cer_2011 = cer_2011['SOC_NAME'].value_counts().sort_values(ascending=True)\n",
    "count_de_2011 = de_2011['SOC_NAME'].value_counts().sort_values(ascending=True)\n",
    "print(count_de_2011.count())\n",
    "print(count_cer_2011.count())\n",
    "#certified에는 속하지만, denied에 하나도 없는 SOC_NAME이 약 72개 "
   ]
  },
  {
   "cell_type": "code",
   "execution_count": 158,
   "metadata": {
    "ExecuteTime": {
     "end_time": "2018-08-29T16:32:54.791476Z",
     "start_time": "2018-08-29T16:32:54.180864Z"
    }
   },
   "outputs": [
    {
     "name": "stdout",
     "output_type": "stream",
     "text": [
      "459\n",
      "529\n"
     ]
    }
   ],
   "source": [
    "cer_rate_2012 = df_train[df_train['CASE_STATUS'] == 0]\n",
    "cer_rate_2012 = cer_rate_2012[cer_rate_2012['YEAR'] == 2012]\n",
    "cer_rate_2012 = cer_rate_2012.groupby(['SOC_NAME','CASE_STATUS'])['YEAR'].count().reset_index()\n",
    "de_rate_2012 = df_train[df_train['CASE_STATUS'] == 1]\n",
    "de_rate_2012 = de_rate_2012[de_rate_2012['YEAR'] == 2012]\n",
    "de_rate_2012 = de_rate_2012.groupby(['SOC_NAME','CASE_STATUS'])['YEAR'].count().reset_index()\n",
    "cer_2012 = cer_rate_2012.sort_values('YEAR', ascending = False)\n",
    "de_2012 = de_rate_2012.sort_values('YEAR',ascending =False)\n",
    "\n",
    "count_cer_2012 = cer_2012['SOC_NAME'].value_counts().sort_values(ascending=True)\n",
    "count_de_2012 = de_2012['SOC_NAME'].value_counts().sort_values(ascending=True)\n",
    "print(count_de_2012.count())\n",
    "print(count_cer_2012.count())\n",
    "#certified에는 속하지만, denied에 하나도 없는 SOC_NAME이 약 70개"
   ]
  },
  {
   "cell_type": "code",
   "execution_count": 160,
   "metadata": {
    "ExecuteTime": {
     "end_time": "2018-08-29T16:34:25.111709Z",
     "start_time": "2018-08-29T16:34:24.499228Z"
    }
   },
   "outputs": [
    {
     "name": "stdout",
     "output_type": "stream",
     "text": [
      "531\n",
      "418\n"
     ]
    }
   ],
   "source": [
    "cer_rate_2013 = df_train[df_train['CASE_STATUS'] == 0]\n",
    "cer_rate_2013 = cer_rate_2013[cer_rate_2013['YEAR'] == 2013]\n",
    "cer_rate_2013 = cer_rate_2013.groupby(['SOC_NAME','CASE_STATUS'])['YEAR'].count().reset_index()\n",
    "de_rate_2013 = df_train[df_train['CASE_STATUS'] == 1]\n",
    "de_rate_2013 = de_rate_2013[de_rate_2013['YEAR'] == 2013]\n",
    "de_rate_2013 = de_rate_2013.groupby(['SOC_NAME','CASE_STATUS'])['YEAR'].count().reset_index()\n",
    "cer_2013 = cer_rate_2013.sort_values('YEAR', ascending = False)\n",
    "de_2013 = de_rate_2013.sort_values('YEAR',ascending =False)\n",
    "\n",
    "count_cer_2013 = cer_2013['SOC_NAME'].value_counts().sort_values(ascending=True)\n",
    "count_de_2013 = de_2013['SOC_NAME'].value_counts().sort_values(ascending=True)\n",
    "print(count_cer_2013.count())\n",
    "print(count_de_2013.count())\n",
    "#certified에는 속하지만, denied에 하나도 없는 SOC_NAME이 약 120개 "
   ]
  },
  {
   "cell_type": "code",
   "execution_count": 162,
   "metadata": {
    "ExecuteTime": {
     "end_time": "2018-08-29T16:35:43.726314Z",
     "start_time": "2018-08-29T16:35:43.084257Z"
    }
   },
   "outputs": [
    {
     "name": "stdout",
     "output_type": "stream",
     "text": [
      "541\n",
      "418\n"
     ]
    }
   ],
   "source": [
    "cer_rate_2014 = df_train[df_train['CASE_STATUS'] == 0]\n",
    "cer_rate_2014 = cer_rate_2014[cer_rate_2014['YEAR'] == 2014]\n",
    "cer_rate_2014 = cer_rate_2014.groupby(['SOC_NAME','CASE_STATUS'])['YEAR'].count().reset_index()\n",
    "de_rate_2014 = df_train[df_train['CASE_STATUS'] == 1]\n",
    "de_rate_2014 = de_rate_2014[de_rate_2014['YEAR'] == 2014]\n",
    "de_rate_2014 = de_rate_2014.groupby(['SOC_NAME','CASE_STATUS'])['YEAR'].count().reset_index()\n",
    "cer_2014 = cer_rate_2014.sort_values('YEAR', ascending = False)\n",
    "de_2014 = de_rate_2014.sort_values('YEAR',ascending =False)\n",
    "\n",
    "count_cer_2014 = cer_2014['SOC_NAME'].value_counts().sort_values(ascending=True)\n",
    "count_de_2014 = de_2014['SOC_NAME'].value_counts().sort_values(ascending=True)\n",
    "print(count_cer_2014.count())\n",
    "print(count_de_2014.count())\n",
    "#certified에는 속하지만, denied에 하나도 없는 SOC_NAME이 약 123개 "
   ]
  },
  {
   "cell_type": "code",
   "execution_count": 163,
   "metadata": {
    "ExecuteTime": {
     "end_time": "2018-08-29T16:36:55.335907Z",
     "start_time": "2018-08-29T16:36:54.653823Z"
    }
   },
   "outputs": [
    {
     "name": "stdout",
     "output_type": "stream",
     "text": [
      "867\n",
      "446\n"
     ]
    }
   ],
   "source": [
    "cer_rate_2015 = df_train[df_train['CASE_STATUS'] == 0]\n",
    "cer_rate_2015 = cer_rate_2015[cer_rate_2015['YEAR'] == 2015]\n",
    "cer_rate_2015 = cer_rate_2015.groupby(['SOC_NAME','CASE_STATUS'])['YEAR'].count().reset_index()\n",
    "de_rate_2015 = df_train[df_train['CASE_STATUS'] == 1]\n",
    "de_rate_2015 = de_rate_2015[de_rate_2015['YEAR'] == 2015]\n",
    "de_rate_2015 = de_rate_2015.groupby(['SOC_NAME','CASE_STATUS'])['YEAR'].count().reset_index()\n",
    "cer_2015 = cer_rate_2015.sort_values('YEAR', ascending = False)\n",
    "de_2015 = de_rate_2015.sort_values('YEAR',ascending =False)\n",
    "\n",
    "count_cer_2015 = cer_2015['SOC_NAME'].value_counts().sort_values(ascending=True)\n",
    "count_de_2015 = de_2015['SOC_NAME'].value_counts().sort_values(ascending=True)\n",
    "print(count_cer_2015.count())\n",
    "print(count_de_2015.count())\n",
    "#certified에는 속하지만, denied에 하나도 없는 SOC_NAME이 약 421개 "
   ]
  },
  {
   "cell_type": "code",
   "execution_count": 164,
   "metadata": {
    "ExecuteTime": {
     "end_time": "2018-08-29T16:38:03.091082Z",
     "start_time": "2018-08-29T16:38:02.428250Z"
    }
   },
   "outputs": [
    {
     "name": "stdout",
     "output_type": "stream",
     "text": [
      "816\n",
      "419\n"
     ]
    }
   ],
   "source": [
    "cer_rate_2016 = df_train[df_train['CASE_STATUS'] == 0]\n",
    "cer_rate_2016 = cer_rate_2016[cer_rate_2016['YEAR'] == 2016]\n",
    "cer_rate_2016 = cer_rate_2016.groupby(['SOC_NAME','CASE_STATUS'])['YEAR'].count().reset_index()\n",
    "de_rate_2016 = df_train[df_train['CASE_STATUS'] == 1]\n",
    "de_rate_2016 = de_rate_2016[de_rate_2016['YEAR'] == 2016]\n",
    "de_rate_2016 = de_rate_2016.groupby(['SOC_NAME','CASE_STATUS'])['YEAR'].count().reset_index()\n",
    "cer_2016 = cer_rate_2016.sort_values('YEAR', ascending = False)\n",
    "de_2016 = de_rate_2016.sort_values('YEAR',ascending =False)\n",
    "\n",
    "count_cer_2016 = cer_2016['SOC_NAME'].value_counts().sort_values(ascending=True)\n",
    "count_de_2016 = de_2016['SOC_NAME'].value_counts().sort_values(ascending=True)\n",
    "print(count_cer_2016.count())\n",
    "print(count_de_2016.count())\n",
    "#certified에는 속하지만, denied에 하나도 없는 SOC_NAME이 약 397개 "
   ]
  },
  {
   "cell_type": "code",
   "execution_count": 181,
   "metadata": {
    "ExecuteTime": {
     "end_time": "2018-08-29T16:48:28.516056Z",
     "start_time": "2018-08-29T16:48:28.508082Z"
    }
   },
   "outputs": [],
   "source": [
    "cer_de_2011 = pd.merge(cer_2011,de_2011,left_on = 'SOC_NAME',right_on = 'SOC_NAME',how='left')\n",
    "cer_de_2011['Certified_rate'] = cer_de_2011['YEAR_x']/(cer_de_2011['YEAR_x']+cer_de_2011['YEAR_y'])"
   ]
  },
  {
   "cell_type": "code",
   "execution_count": 186,
   "metadata": {
    "ExecuteTime": {
     "end_time": "2018-08-29T16:55:55.665868Z",
     "start_time": "2018-08-29T16:55:55.644956Z"
    },
    "collapsed": true
   },
   "outputs": [
    {
     "data": {
      "text/html": [
       "<div>\n",
       "<style scoped>\n",
       "    .dataframe tbody tr th:only-of-type {\n",
       "        vertical-align: middle;\n",
       "    }\n",
       "\n",
       "    .dataframe tbody tr th {\n",
       "        vertical-align: top;\n",
       "    }\n",
       "\n",
       "    .dataframe thead th {\n",
       "        text-align: right;\n",
       "    }\n",
       "</style>\n",
       "<table border=\"1\" class=\"dataframe\">\n",
       "  <thead>\n",
       "    <tr style=\"text-align: right;\">\n",
       "      <th></th>\n",
       "      <th>SOC_NAME</th>\n",
       "      <th>CASE_STATUS_x</th>\n",
       "      <th>YEAR_x</th>\n",
       "      <th>CASE_STATUS_y</th>\n",
       "      <th>YEAR_y</th>\n",
       "      <th>Certified_rate</th>\n",
       "    </tr>\n",
       "  </thead>\n",
       "  <tbody>\n",
       "    <tr>\n",
       "      <th>0</th>\n",
       "      <td>COMPUTER SYSTEMS ANALYSTS</td>\n",
       "      <td>0.0</td>\n",
       "      <td>33558</td>\n",
       "      <td>1.0</td>\n",
       "      <td>1385.0</td>\n",
       "      <td>0.960364</td>\n",
       "    </tr>\n",
       "    <tr>\n",
       "      <th>1</th>\n",
       "      <td>COMPUTER PROGRAMMERS</td>\n",
       "      <td>0.0</td>\n",
       "      <td>30844</td>\n",
       "      <td>1.0</td>\n",
       "      <td>1517.0</td>\n",
       "      <td>0.953123</td>\n",
       "    </tr>\n",
       "    <tr>\n",
       "      <th>2</th>\n",
       "      <td>COMPUTER SOFTWARE ENGINEERS, APPLICATIONS</td>\n",
       "      <td>0.0</td>\n",
       "      <td>20755</td>\n",
       "      <td>1.0</td>\n",
       "      <td>1159.0</td>\n",
       "      <td>0.947111</td>\n",
       "    </tr>\n",
       "    <tr>\n",
       "      <th>3</th>\n",
       "      <td>COMPUTER SOFTWARE ENGINEERS, SYSTEMS SOFTWARE</td>\n",
       "      <td>0.0</td>\n",
       "      <td>7760</td>\n",
       "      <td>1.0</td>\n",
       "      <td>322.0</td>\n",
       "      <td>0.960158</td>\n",
       "    </tr>\n",
       "    <tr>\n",
       "      <th>4</th>\n",
       "      <td>SOFTWARE DEVELOPERS, APPLICATIONS</td>\n",
       "      <td>0.0</td>\n",
       "      <td>7305</td>\n",
       "      <td>1.0</td>\n",
       "      <td>339.0</td>\n",
       "      <td>0.955651</td>\n",
       "    </tr>\n",
       "    <tr>\n",
       "      <th>5</th>\n",
       "      <td>FINANCIAL ANALYSTS</td>\n",
       "      <td>0.0</td>\n",
       "      <td>5578</td>\n",
       "      <td>1.0</td>\n",
       "      <td>619.0</td>\n",
       "      <td>0.900113</td>\n",
       "    </tr>\n",
       "    <tr>\n",
       "      <th>6</th>\n",
       "      <td>MANAGEMENT ANALYSTS</td>\n",
       "      <td>0.0</td>\n",
       "      <td>5347</td>\n",
       "      <td>1.0</td>\n",
       "      <td>525.0</td>\n",
       "      <td>0.910593</td>\n",
       "    </tr>\n",
       "    <tr>\n",
       "      <th>7</th>\n",
       "      <td>MECHANICAL ENGINEERS</td>\n",
       "      <td>0.0</td>\n",
       "      <td>4206</td>\n",
       "      <td>1.0</td>\n",
       "      <td>433.0</td>\n",
       "      <td>0.906661</td>\n",
       "    </tr>\n",
       "    <tr>\n",
       "      <th>8</th>\n",
       "      <td>ELECTRONICS ENGINEERS, EXCEPT COMPUTER</td>\n",
       "      <td>0.0</td>\n",
       "      <td>3914</td>\n",
       "      <td>1.0</td>\n",
       "      <td>152.0</td>\n",
       "      <td>0.962617</td>\n",
       "    </tr>\n",
       "    <tr>\n",
       "      <th>9</th>\n",
       "      <td>ELECTRICAL ENGINEERS</td>\n",
       "      <td>0.0</td>\n",
       "      <td>3841</td>\n",
       "      <td>1.0</td>\n",
       "      <td>357.0</td>\n",
       "      <td>0.914960</td>\n",
       "    </tr>\n",
       "    <tr>\n",
       "      <th>10</th>\n",
       "      <td>PHYSICIANS AND SURGEONS, ALL OTHER</td>\n",
       "      <td>0.0</td>\n",
       "      <td>3830</td>\n",
       "      <td>1.0</td>\n",
       "      <td>392.0</td>\n",
       "      <td>0.907153</td>\n",
       "    </tr>\n",
       "    <tr>\n",
       "      <th>11</th>\n",
       "      <td>MARKET RESEARCH ANALYSTS</td>\n",
       "      <td>0.0</td>\n",
       "      <td>3159</td>\n",
       "      <td>1.0</td>\n",
       "      <td>725.0</td>\n",
       "      <td>0.813337</td>\n",
       "    </tr>\n",
       "    <tr>\n",
       "      <th>12</th>\n",
       "      <td>DATABASE ADMINISTRATORS</td>\n",
       "      <td>0.0</td>\n",
       "      <td>3076</td>\n",
       "      <td>1.0</td>\n",
       "      <td>226.0</td>\n",
       "      <td>0.931557</td>\n",
       "    </tr>\n",
       "    <tr>\n",
       "      <th>13</th>\n",
       "      <td>SOFTWARE QUALITY ASSURANCE ENGINEERS AND TESTERS</td>\n",
       "      <td>0.0</td>\n",
       "      <td>3001</td>\n",
       "      <td>1.0</td>\n",
       "      <td>91.0</td>\n",
       "      <td>0.970569</td>\n",
       "    </tr>\n",
       "    <tr>\n",
       "      <th>14</th>\n",
       "      <td>ACCOUNTANTS AND AUDITORS</td>\n",
       "      <td>0.0</td>\n",
       "      <td>2962</td>\n",
       "      <td>1.0</td>\n",
       "      <td>493.0</td>\n",
       "      <td>0.857308</td>\n",
       "    </tr>\n",
       "    <tr>\n",
       "      <th>15</th>\n",
       "      <td>OPERATIONS RESEARCH ANALYSTS</td>\n",
       "      <td>0.0</td>\n",
       "      <td>2748</td>\n",
       "      <td>1.0</td>\n",
       "      <td>204.0</td>\n",
       "      <td>0.930894</td>\n",
       "    </tr>\n",
       "    <tr>\n",
       "      <th>16</th>\n",
       "      <td>COMPUTER OCCUPATIONS, ALL OTHER*</td>\n",
       "      <td>0.0</td>\n",
       "      <td>2630</td>\n",
       "      <td>1.0</td>\n",
       "      <td>126.0</td>\n",
       "      <td>0.954282</td>\n",
       "    </tr>\n",
       "    <tr>\n",
       "      <th>17</th>\n",
       "      <td>MEDICAL SCIENTISTS, EXCEPT EPIDEMIOLOGISTS</td>\n",
       "      <td>0.0</td>\n",
       "      <td>2592</td>\n",
       "      <td>1.0</td>\n",
       "      <td>127.0</td>\n",
       "      <td>0.953292</td>\n",
       "    </tr>\n",
       "    <tr>\n",
       "      <th>18</th>\n",
       "      <td>PHYSICAL THERAPISTS</td>\n",
       "      <td>0.0</td>\n",
       "      <td>2542</td>\n",
       "      <td>1.0</td>\n",
       "      <td>215.0</td>\n",
       "      <td>0.922017</td>\n",
       "    </tr>\n",
       "    <tr>\n",
       "      <th>19</th>\n",
       "      <td>BIOCHEMISTS AND BIOPHYSICISTS</td>\n",
       "      <td>0.0</td>\n",
       "      <td>2397</td>\n",
       "      <td>1.0</td>\n",
       "      <td>114.0</td>\n",
       "      <td>0.954600</td>\n",
       "    </tr>\n",
       "    <tr>\n",
       "      <th>20</th>\n",
       "      <td>NETWORK AND COMPUTER SYSTEMS ADMINISTRATORS</td>\n",
       "      <td>0.0</td>\n",
       "      <td>2306</td>\n",
       "      <td>1.0</td>\n",
       "      <td>191.0</td>\n",
       "      <td>0.923508</td>\n",
       "    </tr>\n",
       "    <tr>\n",
       "      <th>21</th>\n",
       "      <td>COMPUTER AND INFORMATION SYSTEMS MANAGERS</td>\n",
       "      <td>0.0</td>\n",
       "      <td>2211</td>\n",
       "      <td>1.0</td>\n",
       "      <td>195.0</td>\n",
       "      <td>0.918953</td>\n",
       "    </tr>\n",
       "    <tr>\n",
       "      <th>22</th>\n",
       "      <td>INDUSTRIAL ENGINEERS</td>\n",
       "      <td>0.0</td>\n",
       "      <td>2084</td>\n",
       "      <td>1.0</td>\n",
       "      <td>205.0</td>\n",
       "      <td>0.910441</td>\n",
       "    </tr>\n",
       "    <tr>\n",
       "      <th>23</th>\n",
       "      <td>ACCOUNTANTS</td>\n",
       "      <td>0.0</td>\n",
       "      <td>2036</td>\n",
       "      <td>1.0</td>\n",
       "      <td>596.0</td>\n",
       "      <td>0.773556</td>\n",
       "    </tr>\n",
       "    <tr>\n",
       "      <th>24</th>\n",
       "      <td>SOFTWARE DEVELOPERS, SYSTEMS SOFTWARE</td>\n",
       "      <td>0.0</td>\n",
       "      <td>1994</td>\n",
       "      <td>1.0</td>\n",
       "      <td>161.0</td>\n",
       "      <td>0.925290</td>\n",
       "    </tr>\n",
       "    <tr>\n",
       "      <th>25</th>\n",
       "      <td>MARKETING MANAGERS</td>\n",
       "      <td>0.0</td>\n",
       "      <td>1757</td>\n",
       "      <td>1.0</td>\n",
       "      <td>375.0</td>\n",
       "      <td>0.824109</td>\n",
       "    </tr>\n",
       "    <tr>\n",
       "      <th>26</th>\n",
       "      <td>CIVIL ENGINEERS</td>\n",
       "      <td>0.0</td>\n",
       "      <td>1749</td>\n",
       "      <td>1.0</td>\n",
       "      <td>266.0</td>\n",
       "      <td>0.867990</td>\n",
       "    </tr>\n",
       "    <tr>\n",
       "      <th>27</th>\n",
       "      <td>COMPUTER SPECIALISTS, ALL OTHER</td>\n",
       "      <td>0.0</td>\n",
       "      <td>1603</td>\n",
       "      <td>1.0</td>\n",
       "      <td>106.0</td>\n",
       "      <td>0.937975</td>\n",
       "    </tr>\n",
       "    <tr>\n",
       "      <th>28</th>\n",
       "      <td>INTERNISTS, GENERAL</td>\n",
       "      <td>0.0</td>\n",
       "      <td>1578</td>\n",
       "      <td>1.0</td>\n",
       "      <td>149.0</td>\n",
       "      <td>0.913723</td>\n",
       "    </tr>\n",
       "    <tr>\n",
       "      <th>29</th>\n",
       "      <td>COMPUTER SYSTEMS ENGINEERS/ARCHITECTS</td>\n",
       "      <td>0.0</td>\n",
       "      <td>1532</td>\n",
       "      <td>1.0</td>\n",
       "      <td>112.0</td>\n",
       "      <td>0.931873</td>\n",
       "    </tr>\n",
       "    <tr>\n",
       "      <th>...</th>\n",
       "      <td>...</td>\n",
       "      <td>...</td>\n",
       "      <td>...</td>\n",
       "      <td>...</td>\n",
       "      <td>...</td>\n",
       "      <td>...</td>\n",
       "    </tr>\n",
       "    <tr>\n",
       "      <th>622</th>\n",
       "      <td>EQUAL OPPORTUNITY REPRESENTATIVES AND OFFICERS</td>\n",
       "      <td>0.0</td>\n",
       "      <td>1</td>\n",
       "      <td>NaN</td>\n",
       "      <td>NaN</td>\n",
       "      <td>NaN</td>\n",
       "    </tr>\n",
       "    <tr>\n",
       "      <th>623</th>\n",
       "      <td>LIBRARY, MUSEUM, TRAINING, AND OTHER EDUCATION...</td>\n",
       "      <td>0.0</td>\n",
       "      <td>1</td>\n",
       "      <td>1.0</td>\n",
       "      <td>3.0</td>\n",
       "      <td>0.250000</td>\n",
       "    </tr>\n",
       "    <tr>\n",
       "      <th>624</th>\n",
       "      <td>SHOE AND LEATHER WORKERS AND REPAIRERS</td>\n",
       "      <td>0.0</td>\n",
       "      <td>1</td>\n",
       "      <td>1.0</td>\n",
       "      <td>3.0</td>\n",
       "      <td>0.250000</td>\n",
       "    </tr>\n",
       "    <tr>\n",
       "      <th>625</th>\n",
       "      <td>SHIPPING, RECEIVING, AND TRAFFIC CLERKS</td>\n",
       "      <td>0.0</td>\n",
       "      <td>1</td>\n",
       "      <td>1.0</td>\n",
       "      <td>2.0</td>\n",
       "      <td>0.333333</td>\n",
       "    </tr>\n",
       "    <tr>\n",
       "      <th>626</th>\n",
       "      <td>SHIP AND BOAT CAPTAINS</td>\n",
       "      <td>0.0</td>\n",
       "      <td>1</td>\n",
       "      <td>NaN</td>\n",
       "      <td>NaN</td>\n",
       "      <td>NaN</td>\n",
       "    </tr>\n",
       "    <tr>\n",
       "      <th>627</th>\n",
       "      <td>LICENSED PRACTICAL AND LICENSED VOCATIONAL NURSES</td>\n",
       "      <td>0.0</td>\n",
       "      <td>1</td>\n",
       "      <td>NaN</td>\n",
       "      <td>NaN</td>\n",
       "      <td>NaN</td>\n",
       "    </tr>\n",
       "    <tr>\n",
       "      <th>628</th>\n",
       "      <td>SEPARATING, FILTERING, CLARIFYING, PRECIPITATI...</td>\n",
       "      <td>0.0</td>\n",
       "      <td>1</td>\n",
       "      <td>1.0</td>\n",
       "      <td>1.0</td>\n",
       "      <td>0.500000</td>\n",
       "    </tr>\n",
       "    <tr>\n",
       "      <th>629</th>\n",
       "      <td>LICENSING EXAMINERS AND INSPECTORS</td>\n",
       "      <td>0.0</td>\n",
       "      <td>1</td>\n",
       "      <td>NaN</td>\n",
       "      <td>NaN</td>\n",
       "      <td>NaN</td>\n",
       "    </tr>\n",
       "    <tr>\n",
       "      <th>630</th>\n",
       "      <td>LIFE, PHYSICAL, AND SOCIAL SCIENCE TECHNICIANS...</td>\n",
       "      <td>0.0</td>\n",
       "      <td>1</td>\n",
       "      <td>NaN</td>\n",
       "      <td>NaN</td>\n",
       "      <td>NaN</td>\n",
       "    </tr>\n",
       "    <tr>\n",
       "      <th>631</th>\n",
       "      <td>AUTOMOTIVE SPECIALTY TECHNICIANS</td>\n",
       "      <td>0.0</td>\n",
       "      <td>1</td>\n",
       "      <td>1.0</td>\n",
       "      <td>2.0</td>\n",
       "      <td>0.333333</td>\n",
       "    </tr>\n",
       "    <tr>\n",
       "      <th>632</th>\n",
       "      <td>AVIATION INSPECTORS</td>\n",
       "      <td>0.0</td>\n",
       "      <td>1</td>\n",
       "      <td>NaN</td>\n",
       "      <td>NaN</td>\n",
       "      <td>NaN</td>\n",
       "    </tr>\n",
       "    <tr>\n",
       "      <th>633</th>\n",
       "      <td>BAKERS</td>\n",
       "      <td>0.0</td>\n",
       "      <td>1</td>\n",
       "      <td>1.0</td>\n",
       "      <td>1.0</td>\n",
       "      <td>0.500000</td>\n",
       "    </tr>\n",
       "    <tr>\n",
       "      <th>634</th>\n",
       "      <td>LOAN INTERVIEWERS AND CLERKS</td>\n",
       "      <td>0.0</td>\n",
       "      <td>1</td>\n",
       "      <td>NaN</td>\n",
       "      <td>NaN</td>\n",
       "      <td>NaN</td>\n",
       "    </tr>\n",
       "    <tr>\n",
       "      <th>635</th>\n",
       "      <td>ORDER CLERKS</td>\n",
       "      <td>0.0</td>\n",
       "      <td>1</td>\n",
       "      <td>1.0</td>\n",
       "      <td>2.0</td>\n",
       "      <td>0.333333</td>\n",
       "    </tr>\n",
       "    <tr>\n",
       "      <th>636</th>\n",
       "      <td>BAKERS, BREAD AND PASTRY</td>\n",
       "      <td>0.0</td>\n",
       "      <td>1</td>\n",
       "      <td>1.0</td>\n",
       "      <td>3.0</td>\n",
       "      <td>0.250000</td>\n",
       "    </tr>\n",
       "    <tr>\n",
       "      <th>637</th>\n",
       "      <td>BILL AND ACCOUNT COLLECTORS</td>\n",
       "      <td>0.0</td>\n",
       "      <td>1</td>\n",
       "      <td>NaN</td>\n",
       "      <td>NaN</td>\n",
       "      <td>NaN</td>\n",
       "    </tr>\n",
       "    <tr>\n",
       "      <th>638</th>\n",
       "      <td>SALES AND RELATED WORKERS, ALL OTHER*</td>\n",
       "      <td>0.0</td>\n",
       "      <td>1</td>\n",
       "      <td>1.0</td>\n",
       "      <td>3.0</td>\n",
       "      <td>0.250000</td>\n",
       "    </tr>\n",
       "    <tr>\n",
       "      <th>639</th>\n",
       "      <td>MAKEUP ARTISTS, THEATRICAL AND PERFORMANCE</td>\n",
       "      <td>0.0</td>\n",
       "      <td>1</td>\n",
       "      <td>1.0</td>\n",
       "      <td>1.0</td>\n",
       "      <td>0.500000</td>\n",
       "    </tr>\n",
       "    <tr>\n",
       "      <th>640</th>\n",
       "      <td>ENGINEERS, R &amp; D (EDUCATION ONLY)</td>\n",
       "      <td>0.0</td>\n",
       "      <td>1</td>\n",
       "      <td>1.0</td>\n",
       "      <td>2.0</td>\n",
       "      <td>0.333333</td>\n",
       "    </tr>\n",
       "    <tr>\n",
       "      <th>641</th>\n",
       "      <td>RESPIRATORY THERAPY TECHNICIANS</td>\n",
       "      <td>0.0</td>\n",
       "      <td>1</td>\n",
       "      <td>NaN</td>\n",
       "      <td>NaN</td>\n",
       "      <td>NaN</td>\n",
       "    </tr>\n",
       "    <tr>\n",
       "      <th>642</th>\n",
       "      <td>ENGINEERING MANAGERS,NON R&amp;D (ACWIA ONLY)</td>\n",
       "      <td>0.0</td>\n",
       "      <td>1</td>\n",
       "      <td>1.0</td>\n",
       "      <td>1.0</td>\n",
       "      <td>0.500000</td>\n",
       "    </tr>\n",
       "    <tr>\n",
       "      <th>643</th>\n",
       "      <td>RESERVATION AND TRANSPORTATION TICKET AGENTS A...</td>\n",
       "      <td>0.0</td>\n",
       "      <td>1</td>\n",
       "      <td>1.0</td>\n",
       "      <td>1.0</td>\n",
       "      <td>0.500000</td>\n",
       "    </tr>\n",
       "    <tr>\n",
       "      <th>644</th>\n",
       "      <td>EMERGENCY MANAGEMENT DIRECTORS</td>\n",
       "      <td>0.0</td>\n",
       "      <td>1</td>\n",
       "      <td>NaN</td>\n",
       "      <td>NaN</td>\n",
       "      <td>NaN</td>\n",
       "    </tr>\n",
       "    <tr>\n",
       "      <th>645</th>\n",
       "      <td>MATERIALS INSPECTORS</td>\n",
       "      <td>0.0</td>\n",
       "      <td>1</td>\n",
       "      <td>NaN</td>\n",
       "      <td>NaN</td>\n",
       "      <td>NaN</td>\n",
       "    </tr>\n",
       "    <tr>\n",
       "      <th>646</th>\n",
       "      <td>ELECTRONIC HOME ENTERTAINMENT EQUIPMENT INSTAL...</td>\n",
       "      <td>0.0</td>\n",
       "      <td>1</td>\n",
       "      <td>NaN</td>\n",
       "      <td>NaN</td>\n",
       "      <td>NaN</td>\n",
       "    </tr>\n",
       "    <tr>\n",
       "      <th>647</th>\n",
       "      <td>ELECTRONIC EQUIPMENT INSTALLERS AND REPAIRERS,...</td>\n",
       "      <td>0.0</td>\n",
       "      <td>1</td>\n",
       "      <td>1.0</td>\n",
       "      <td>1.0</td>\n",
       "      <td>0.500000</td>\n",
       "    </tr>\n",
       "    <tr>\n",
       "      <th>648</th>\n",
       "      <td>REFRIGERATION MECHANICS</td>\n",
       "      <td>0.0</td>\n",
       "      <td>1</td>\n",
       "      <td>1.0</td>\n",
       "      <td>1.0</td>\n",
       "      <td>0.500000</td>\n",
       "    </tr>\n",
       "    <tr>\n",
       "      <th>649</th>\n",
       "      <td>ELECTRICAL POWER-LINE INSTALLERS AND REPAIRERS</td>\n",
       "      <td>0.0</td>\n",
       "      <td>1</td>\n",
       "      <td>NaN</td>\n",
       "      <td>NaN</td>\n",
       "      <td>NaN</td>\n",
       "    </tr>\n",
       "    <tr>\n",
       "      <th>650</th>\n",
       "      <td>MEDIA AND COMMUNICATION EQUIPMENT WORKERS, ALL...</td>\n",
       "      <td>0.0</td>\n",
       "      <td>1</td>\n",
       "      <td>NaN</td>\n",
       "      <td>NaN</td>\n",
       "      <td>NaN</td>\n",
       "    </tr>\n",
       "    <tr>\n",
       "      <th>651</th>\n",
       "      <td>ABLE SEAMEN</td>\n",
       "      <td>0.0</td>\n",
       "      <td>1</td>\n",
       "      <td>1.0</td>\n",
       "      <td>1.0</td>\n",
       "      <td>0.500000</td>\n",
       "    </tr>\n",
       "  </tbody>\n",
       "</table>\n",
       "<p>652 rows × 6 columns</p>\n",
       "</div>"
      ],
      "text/plain": [
       "                                              SOC_NAME  CASE_STATUS_x  YEAR_x  \\\n",
       "0                            COMPUTER SYSTEMS ANALYSTS            0.0   33558   \n",
       "1                                 COMPUTER PROGRAMMERS            0.0   30844   \n",
       "2            COMPUTER SOFTWARE ENGINEERS, APPLICATIONS            0.0   20755   \n",
       "3        COMPUTER SOFTWARE ENGINEERS, SYSTEMS SOFTWARE            0.0    7760   \n",
       "4                    SOFTWARE DEVELOPERS, APPLICATIONS            0.0    7305   \n",
       "5                                   FINANCIAL ANALYSTS            0.0    5578   \n",
       "6                                  MANAGEMENT ANALYSTS            0.0    5347   \n",
       "7                                 MECHANICAL ENGINEERS            0.0    4206   \n",
       "8               ELECTRONICS ENGINEERS, EXCEPT COMPUTER            0.0    3914   \n",
       "9                                 ELECTRICAL ENGINEERS            0.0    3841   \n",
       "10                  PHYSICIANS AND SURGEONS, ALL OTHER            0.0    3830   \n",
       "11                            MARKET RESEARCH ANALYSTS            0.0    3159   \n",
       "12                             DATABASE ADMINISTRATORS            0.0    3076   \n",
       "13    SOFTWARE QUALITY ASSURANCE ENGINEERS AND TESTERS            0.0    3001   \n",
       "14                            ACCOUNTANTS AND AUDITORS            0.0    2962   \n",
       "15                        OPERATIONS RESEARCH ANALYSTS            0.0    2748   \n",
       "16                    COMPUTER OCCUPATIONS, ALL OTHER*            0.0    2630   \n",
       "17          MEDICAL SCIENTISTS, EXCEPT EPIDEMIOLOGISTS            0.0    2592   \n",
       "18                                 PHYSICAL THERAPISTS            0.0    2542   \n",
       "19                       BIOCHEMISTS AND BIOPHYSICISTS            0.0    2397   \n",
       "20         NETWORK AND COMPUTER SYSTEMS ADMINISTRATORS            0.0    2306   \n",
       "21           COMPUTER AND INFORMATION SYSTEMS MANAGERS            0.0    2211   \n",
       "22                                INDUSTRIAL ENGINEERS            0.0    2084   \n",
       "23                                         ACCOUNTANTS            0.0    2036   \n",
       "24               SOFTWARE DEVELOPERS, SYSTEMS SOFTWARE            0.0    1994   \n",
       "25                                  MARKETING MANAGERS            0.0    1757   \n",
       "26                                     CIVIL ENGINEERS            0.0    1749   \n",
       "27                     COMPUTER SPECIALISTS, ALL OTHER            0.0    1603   \n",
       "28                                 INTERNISTS, GENERAL            0.0    1578   \n",
       "29               COMPUTER SYSTEMS ENGINEERS/ARCHITECTS            0.0    1532   \n",
       "..                                                 ...            ...     ...   \n",
       "622     EQUAL OPPORTUNITY REPRESENTATIVES AND OFFICERS            0.0       1   \n",
       "623  LIBRARY, MUSEUM, TRAINING, AND OTHER EDUCATION...            0.0       1   \n",
       "624             SHOE AND LEATHER WORKERS AND REPAIRERS            0.0       1   \n",
       "625            SHIPPING, RECEIVING, AND TRAFFIC CLERKS            0.0       1   \n",
       "626                             SHIP AND BOAT CAPTAINS            0.0       1   \n",
       "627  LICENSED PRACTICAL AND LICENSED VOCATIONAL NURSES            0.0       1   \n",
       "628  SEPARATING, FILTERING, CLARIFYING, PRECIPITATI...            0.0       1   \n",
       "629                 LICENSING EXAMINERS AND INSPECTORS            0.0       1   \n",
       "630  LIFE, PHYSICAL, AND SOCIAL SCIENCE TECHNICIANS...            0.0       1   \n",
       "631                   AUTOMOTIVE SPECIALTY TECHNICIANS            0.0       1   \n",
       "632                                AVIATION INSPECTORS            0.0       1   \n",
       "633                                             BAKERS            0.0       1   \n",
       "634                       LOAN INTERVIEWERS AND CLERKS            0.0       1   \n",
       "635                                       ORDER CLERKS            0.0       1   \n",
       "636                           BAKERS, BREAD AND PASTRY            0.0       1   \n",
       "637                        BILL AND ACCOUNT COLLECTORS            0.0       1   \n",
       "638              SALES AND RELATED WORKERS, ALL OTHER*            0.0       1   \n",
       "639         MAKEUP ARTISTS, THEATRICAL AND PERFORMANCE            0.0       1   \n",
       "640                  ENGINEERS, R & D (EDUCATION ONLY)            0.0       1   \n",
       "641                    RESPIRATORY THERAPY TECHNICIANS            0.0       1   \n",
       "642          ENGINEERING MANAGERS,NON R&D (ACWIA ONLY)            0.0       1   \n",
       "643  RESERVATION AND TRANSPORTATION TICKET AGENTS A...            0.0       1   \n",
       "644                     EMERGENCY MANAGEMENT DIRECTORS            0.0       1   \n",
       "645                               MATERIALS INSPECTORS            0.0       1   \n",
       "646  ELECTRONIC HOME ENTERTAINMENT EQUIPMENT INSTAL...            0.0       1   \n",
       "647  ELECTRONIC EQUIPMENT INSTALLERS AND REPAIRERS,...            0.0       1   \n",
       "648                            REFRIGERATION MECHANICS            0.0       1   \n",
       "649     ELECTRICAL POWER-LINE INSTALLERS AND REPAIRERS            0.0       1   \n",
       "650  MEDIA AND COMMUNICATION EQUIPMENT WORKERS, ALL...            0.0       1   \n",
       "651                                        ABLE SEAMEN            0.0       1   \n",
       "\n",
       "     CASE_STATUS_y  YEAR_y  Certified_rate  \n",
       "0              1.0  1385.0        0.960364  \n",
       "1              1.0  1517.0        0.953123  \n",
       "2              1.0  1159.0        0.947111  \n",
       "3              1.0   322.0        0.960158  \n",
       "4              1.0   339.0        0.955651  \n",
       "5              1.0   619.0        0.900113  \n",
       "6              1.0   525.0        0.910593  \n",
       "7              1.0   433.0        0.906661  \n",
       "8              1.0   152.0        0.962617  \n",
       "9              1.0   357.0        0.914960  \n",
       "10             1.0   392.0        0.907153  \n",
       "11             1.0   725.0        0.813337  \n",
       "12             1.0   226.0        0.931557  \n",
       "13             1.0    91.0        0.970569  \n",
       "14             1.0   493.0        0.857308  \n",
       "15             1.0   204.0        0.930894  \n",
       "16             1.0   126.0        0.954282  \n",
       "17             1.0   127.0        0.953292  \n",
       "18             1.0   215.0        0.922017  \n",
       "19             1.0   114.0        0.954600  \n",
       "20             1.0   191.0        0.923508  \n",
       "21             1.0   195.0        0.918953  \n",
       "22             1.0   205.0        0.910441  \n",
       "23             1.0   596.0        0.773556  \n",
       "24             1.0   161.0        0.925290  \n",
       "25             1.0   375.0        0.824109  \n",
       "26             1.0   266.0        0.867990  \n",
       "27             1.0   106.0        0.937975  \n",
       "28             1.0   149.0        0.913723  \n",
       "29             1.0   112.0        0.931873  \n",
       "..             ...     ...             ...  \n",
       "622            NaN     NaN             NaN  \n",
       "623            1.0     3.0        0.250000  \n",
       "624            1.0     3.0        0.250000  \n",
       "625            1.0     2.0        0.333333  \n",
       "626            NaN     NaN             NaN  \n",
       "627            NaN     NaN             NaN  \n",
       "628            1.0     1.0        0.500000  \n",
       "629            NaN     NaN             NaN  \n",
       "630            NaN     NaN             NaN  \n",
       "631            1.0     2.0        0.333333  \n",
       "632            NaN     NaN             NaN  \n",
       "633            1.0     1.0        0.500000  \n",
       "634            NaN     NaN             NaN  \n",
       "635            1.0     2.0        0.333333  \n",
       "636            1.0     3.0        0.250000  \n",
       "637            NaN     NaN             NaN  \n",
       "638            1.0     3.0        0.250000  \n",
       "639            1.0     1.0        0.500000  \n",
       "640            1.0     2.0        0.333333  \n",
       "641            NaN     NaN             NaN  \n",
       "642            1.0     1.0        0.500000  \n",
       "643            1.0     1.0        0.500000  \n",
       "644            NaN     NaN             NaN  \n",
       "645            NaN     NaN             NaN  \n",
       "646            NaN     NaN             NaN  \n",
       "647            1.0     1.0        0.500000  \n",
       "648            1.0     1.0        0.500000  \n",
       "649            NaN     NaN             NaN  \n",
       "650            NaN     NaN             NaN  \n",
       "651            1.0     1.0        0.500000  \n",
       "\n",
       "[652 rows x 6 columns]"
      ]
     },
     "execution_count": 186,
     "metadata": {},
     "output_type": "execute_result"
    }
   ],
   "source": [
    "cer_de_2011"
   ]
  },
  {
   "cell_type": "markdown",
   "metadata": {},
   "source": [
    "# Issue\n",
    "1. 연도 별로 하면 nan 회사가 더 많아짐\n",
    "2. 2011년에 apply한 soc 또는 employer가 2012년에도 apply함\n",
    "soc가 영향력이 더 큰가 아니면 연도가 영향력이 더 큰가에 따라서 결정해야하나?"
   ]
  },
  {
   "cell_type": "code",
   "execution_count": 183,
   "metadata": {
    "ExecuteTime": {
     "end_time": "2018-08-29T16:48:43.770918Z",
     "start_time": "2018-08-29T16:48:43.759949Z"
    }
   },
   "outputs": [
    {
     "data": {
      "text/plain": [
       "SOC_NAME           0\n",
       "CASE_STATUS_x      0\n",
       "YEAR_x             0\n",
       "CASE_STATUS_y     98\n",
       "YEAR_y            98\n",
       "Certified_rate    98\n",
       "dtype: int64"
      ]
     },
     "execution_count": 183,
     "metadata": {},
     "output_type": "execute_result"
    }
   ],
   "source": [
    "cer_de_2011.isnull().sum()"
   ]
  },
  {
   "cell_type": "code",
   "execution_count": 184,
   "metadata": {
    "ExecuteTime": {
     "end_time": "2018-08-29T16:48:58.588118Z",
     "start_time": "2018-08-29T16:48:58.576182Z"
    },
    "scrolled": false
   },
   "outputs": [
    {
     "data": {
      "text/html": [
       "<div>\n",
       "<style scoped>\n",
       "    .dataframe tbody tr th:only-of-type {\n",
       "        vertical-align: middle;\n",
       "    }\n",
       "\n",
       "    .dataframe tbody tr th {\n",
       "        vertical-align: top;\n",
       "    }\n",
       "\n",
       "    .dataframe thead th {\n",
       "        text-align: right;\n",
       "    }\n",
       "</style>\n",
       "<table border=\"1\" class=\"dataframe\">\n",
       "  <thead>\n",
       "    <tr style=\"text-align: right;\">\n",
       "      <th></th>\n",
       "      <th>SOC_NAME</th>\n",
       "      <th>Certified_rate</th>\n",
       "    </tr>\n",
       "  </thead>\n",
       "  <tbody>\n",
       "    <tr>\n",
       "      <th>124</th>\n",
       "      <td>BIOLOGICAL SCIENCE TEACHERS, POSTSECONDARY</td>\n",
       "      <td>0.981651</td>\n",
       "    </tr>\n",
       "    <tr>\n",
       "      <th>254</th>\n",
       "      <td>WEB ADMINISTRATORS</td>\n",
       "      <td>0.979592</td>\n",
       "    </tr>\n",
       "    <tr>\n",
       "      <th>287</th>\n",
       "      <td>LAW TEACHERS, POSTSECONDARY</td>\n",
       "      <td>0.972222</td>\n",
       "    </tr>\n",
       "    <tr>\n",
       "      <th>290</th>\n",
       "      <td>CLINICAL PSYCHOLOGISTS</td>\n",
       "      <td>0.971429</td>\n",
       "    </tr>\n",
       "    <tr>\n",
       "      <th>221</th>\n",
       "      <td>CIVIL ENGINEERS, R&amp;D</td>\n",
       "      <td>0.970588</td>\n",
       "    </tr>\n",
       "    <tr>\n",
       "      <th>13</th>\n",
       "      <td>SOFTWARE QUALITY ASSURANCE ENGINEERS AND TESTERS</td>\n",
       "      <td>0.970569</td>\n",
       "    </tr>\n",
       "    <tr>\n",
       "      <th>133</th>\n",
       "      <td>COMPUTER AND INFORMATION RESEARCH SCIENTISTS</td>\n",
       "      <td>0.969697</td>\n",
       "    </tr>\n",
       "    <tr>\n",
       "      <th>294</th>\n",
       "      <td>COMPENSATION AND BENEFITS MANAGERS</td>\n",
       "      <td>0.969697</td>\n",
       "    </tr>\n",
       "    <tr>\n",
       "      <th>47</th>\n",
       "      <td>HEALTH SPECIALTIES TEACHERS, POSTSECONDARY</td>\n",
       "      <td>0.967306</td>\n",
       "    </tr>\n",
       "    <tr>\n",
       "      <th>305</th>\n",
       "      <td>SOCIAL SCIENCES TEACHERS, POSTSECONDARY, ALL O...</td>\n",
       "      <td>0.966667</td>\n",
       "    </tr>\n",
       "  </tbody>\n",
       "</table>\n",
       "</div>"
      ],
      "text/plain": [
       "                                              SOC_NAME  Certified_rate\n",
       "124         BIOLOGICAL SCIENCE TEACHERS, POSTSECONDARY        0.981651\n",
       "254                                 WEB ADMINISTRATORS        0.979592\n",
       "287                        LAW TEACHERS, POSTSECONDARY        0.972222\n",
       "290                             CLINICAL PSYCHOLOGISTS        0.971429\n",
       "221                               CIVIL ENGINEERS, R&D        0.970588\n",
       "13    SOFTWARE QUALITY ASSURANCE ENGINEERS AND TESTERS        0.970569\n",
       "133       COMPUTER AND INFORMATION RESEARCH SCIENTISTS        0.969697\n",
       "294                 COMPENSATION AND BENEFITS MANAGERS        0.969697\n",
       "47          HEALTH SPECIALTIES TEACHERS, POSTSECONDARY        0.967306\n",
       "305  SOCIAL SCIENCES TEACHERS, POSTSECONDARY, ALL O...        0.966667"
      ]
     },
     "execution_count": 184,
     "metadata": {},
     "output_type": "execute_result"
    }
   ],
   "source": [
    "cer_de_2011.sort_values('Certified_rate',ascending=False)[['SOC_NAME','Certified_rate']][:10]"
   ]
  },
  {
   "cell_type": "code",
   "execution_count": 185,
   "metadata": {
    "ExecuteTime": {
     "end_time": "2018-08-29T16:49:42.937726Z",
     "start_time": "2018-08-29T16:49:42.924763Z"
    }
   },
   "outputs": [
    {
     "data": {
      "text/plain": [
       "0.7610250091223749"
      ]
     },
     "execution_count": 185,
     "metadata": {},
     "output_type": "execute_result"
    }
   ],
   "source": [
    "np.mean(cer_de_2011['Certified_rate'])"
   ]
  },
  {
   "cell_type": "markdown",
   "metadata": {},
   "source": [
    "# Model"
   ]
  },
  {
   "cell_type": "code",
   "execution_count": 25,
   "metadata": {
    "ExecuteTime": {
     "end_time": "2018-08-23T09:25:43.338420Z",
     "start_time": "2018-08-23T09:25:42.377396Z"
    }
   },
   "outputs": [],
   "source": [
    "df_final = df1.drop('WORKSITE',axis=1)\n",
    "df_final = df_final.drop('lon',axis=1)\n",
    "df_final = df_final.drop('lat',axis=1)"
   ]
  },
  {
   "cell_type": "code",
   "execution_count": 26,
   "metadata": {
    "ExecuteTime": {
     "end_time": "2018-08-23T09:25:52.100992Z",
     "start_time": "2018-08-23T09:25:51.805633Z"
    }
   },
   "outputs": [],
   "source": [
    "df_final = df_final.iloc[:,1:9]"
   ]
  },
  {
   "cell_type": "markdown",
   "metadata": {},
   "source": [
    "## SVM"
   ]
  },
  {
   "cell_type": "code",
   "execution_count": 145,
   "metadata": {
    "ExecuteTime": {
     "end_time": "2018-08-22T15:59:07.751801Z",
     "start_time": "2018-08-22T15:59:07.697867Z"
    }
   },
   "outputs": [],
   "source": [
    "from sklearn.model_selection import train_test_split"
   ]
  },
  {
   "cell_type": "code",
   "execution_count": 265,
   "metadata": {
    "ExecuteTime": {
     "end_time": "2018-08-22T16:40:19.618424Z",
     "start_time": "2018-08-22T16:40:18.874033Z"
    }
   },
   "outputs": [],
   "source": [
    "df_final = df_final.dropna()"
   ]
  },
  {
   "cell_type": "code",
   "execution_count": 266,
   "metadata": {
    "ExecuteTime": {
     "end_time": "2018-08-22T16:40:20.372111Z",
     "start_time": "2018-08-22T16:40:20.245463Z"
    }
   },
   "outputs": [],
   "source": [
    "X = df_final.iloc[:,1:8]\n",
    "y = df_final.iloc[:,0]"
   ]
  },
  {
   "cell_type": "code",
   "execution_count": 267,
   "metadata": {
    "ExecuteTime": {
     "end_time": "2018-08-22T16:40:22.528570Z",
     "start_time": "2018-08-22T16:40:22.465709Z"
    }
   },
   "outputs": [],
   "source": [
    "y = y.replace('CERTIFIED','1')"
   ]
  },
  {
   "cell_type": "code",
   "execution_count": 268,
   "metadata": {
    "ExecuteTime": {
     "end_time": "2018-08-22T16:40:23.243019Z",
     "start_time": "2018-08-22T16:40:23.196168Z"
    }
   },
   "outputs": [],
   "source": [
    "y = y.replace('DENIED','0')"
   ]
  },
  {
   "cell_type": "code",
   "execution_count": 270,
   "metadata": {
    "ExecuteTime": {
     "end_time": "2018-08-22T16:40:32.889907Z",
     "start_time": "2018-08-22T16:40:32.850014Z"
    }
   },
   "outputs": [],
   "source": [
    "X_temp = X.iloc[:,3:6]"
   ]
  },
  {
   "cell_type": "code",
   "execution_count": 271,
   "metadata": {
    "ExecuteTime": {
     "end_time": "2018-08-22T16:40:35.327035Z",
     "start_time": "2018-08-22T16:40:34.848012Z"
    },
    "scrolled": true
   },
   "outputs": [],
   "source": [
    "X_temp = X_temp.replace('Y','1')"
   ]
  },
  {
   "cell_type": "code",
   "execution_count": 272,
   "metadata": {
    "ExecuteTime": {
     "end_time": "2018-08-22T16:40:36.280237Z",
     "start_time": "2018-08-22T16:40:35.805107Z"
    }
   },
   "outputs": [],
   "source": [
    "X_temp = X_temp.replace('N','0')"
   ]
  },
  {
   "cell_type": "code",
   "execution_count": 273,
   "metadata": {
    "ExecuteTime": {
     "end_time": "2018-08-22T16:40:41.191740Z",
     "start_time": "2018-08-22T16:40:41.047621Z"
    }
   },
   "outputs": [
    {
     "name": "stdout",
     "output_type": "stream",
     "text": [
      "Number of entries: 1617233\n",
      "FULL_TIME_POSITION    0\n",
      "PREVAILING_WAGE       0\n",
      "YEAR                  0\n",
      "dtype: int64\n"
     ]
    }
   ],
   "source": [
    "print('Number of entries:', X_temp.shape[0])\n",
    "print(X_temp.isnull().sum())"
   ]
  },
  {
   "cell_type": "code",
   "execution_count": 274,
   "metadata": {
    "ExecuteTime": {
     "end_time": "2018-08-22T16:40:43.916656Z",
     "start_time": "2018-08-22T16:40:43.528526Z"
    }
   },
   "outputs": [],
   "source": [
    "X_train, X_test, y_train, y_test = train_test_split(X_temp,y,test_size =0.20, random_state = 0)"
   ]
  },
  {
   "cell_type": "code",
   "execution_count": null,
   "metadata": {},
   "outputs": [],
   "source": [
    "from sklearn.preprocessing import OneHotEncoder\n",
    "ohe = OneHotEncoder()"
   ]
  },
  {
   "cell_type": "code",
   "execution_count": 275,
   "metadata": {
    "ExecuteTime": {
     "end_time": "2018-08-22T16:40:47.199042Z",
     "start_time": "2018-08-22T16:40:46.379076Z"
    }
   },
   "outputs": [],
   "source": [
    "from sklearn.preprocessing import StandardScaler\n",
    "sc_X = StandardScaler()\n",
    "X_train = sc_X.fit_transform(X_train)\n",
    "X_test = sc_X.transform(X_test)"
   ]
  },
  {
   "cell_type": "code",
   "execution_count": null,
   "metadata": {
    "ExecuteTime": {
     "start_time": "2018-08-22T16:40:51.504Z"
    }
   },
   "outputs": [],
   "source": [
    "def svc():\n",
    "    from sklearn.metrics import confusion_matrix\n",
    "    from sklearn.svm import SVC\n",
    "\n",
    "    # 이곳에만 코드를 채우시면 됩니다.\n",
    "    clf = SVC(C = 1e9, gamma= 1e-07)\n",
    "    clf.fit(X_train, y_train) # 이곳은 건드릴 필요X\n",
    "    y_scores = clf.decision_function(X_test) > -220\n",
    "    confusion_matrix = confusion_matrix(y_test,y_scores)\n",
    "\n",
    "    return confusion_matrix # 정답 리턴\n",
    "\n",
    "svc()"
   ]
  },
  {
   "cell_type": "markdown",
   "metadata": {
    "ExecuteTime": {
     "end_time": "2018-08-22T15:54:03.461898Z",
     "start_time": "2018-08-22T15:54:03.458942Z"
    }
   },
   "source": [
    "## Logistic regression"
   ]
  },
  {
   "cell_type": "code",
   "execution_count": null,
   "metadata": {},
   "outputs": [],
   "source": [
    "from sklearn.linear_model import LogisticRegression\n",
    "classifier = LogisticRegression(random_state = 0) #분류 문제에서는 0.5에서 랜덤으로 분류해서 고정해야되니까)\n",
    "classifier.fit(X_train,y_train)"
   ]
  },
  {
   "cell_type": "code",
   "execution_count": null,
   "metadata": {},
   "outputs": [],
   "source": [
    "y_pred = classifier.predict(X_test)"
   ]
  },
  {
   "cell_type": "code",
   "execution_count": null,
   "metadata": {},
   "outputs": [],
   "source": [
    "##Making the confusion matrix\n",
    "from sklearn.metrics import confusion_matrix\n",
    "cm = confusion_matrix(y_test,y_pred)"
   ]
  },
  {
   "cell_type": "markdown",
   "metadata": {
    "ExecuteTime": {
     "end_time": "2018-08-22T15:56:26.804820Z",
     "start_time": "2018-08-22T15:56:26.801795Z"
    }
   },
   "source": [
    "## Random Forest"
   ]
  },
  {
   "cell_type": "markdown",
   "metadata": {},
   "source": [
    "#### 명목변수 변환\n",
    "1.   Employer name – , 랑 . 없애서 통합 – certified rate를 정규화\n",
    "2.   SOC_NAME – 현재 upper까지 했고, 직업 이름 뒤에 S 붙는 애들 없애기 – certified rate 정규화\n",
    "3.   JOB_TITLE은 SOC_NAME이랑 공선성 있다고 의심, 일단 넣고 나중에 빼보기\n",
    "4.   FULL_TIME_POSITION -> 1,0\n",
    "5.   Prevailing_wage – 정규화\n",
    "6.   YEAR – dummy 변수로\n",
    "7.   Worksite, lon, lat -> State\n",
    "l   train에는 있고, test에는 없는 명목형 변수 어떻게 처리 ?"
   ]
  },
  {
   "cell_type": "code",
   "execution_count": 61,
   "metadata": {
    "ExecuteTime": {
     "end_time": "2018-08-26T08:06:48.823429Z",
     "start_time": "2018-08-26T08:06:48.810434Z"
    }
   },
   "outputs": [
    {
     "data": {
      "text/html": [
       "<div>\n",
       "<style scoped>\n",
       "    .dataframe tbody tr th:only-of-type {\n",
       "        vertical-align: middle;\n",
       "    }\n",
       "\n",
       "    .dataframe tbody tr th {\n",
       "        vertical-align: top;\n",
       "    }\n",
       "\n",
       "    .dataframe thead th {\n",
       "        text-align: right;\n",
       "    }\n",
       "</style>\n",
       "<table border=\"1\" class=\"dataframe\">\n",
       "  <thead>\n",
       "    <tr style=\"text-align: right;\">\n",
       "      <th></th>\n",
       "      <th>EMPLOYER_NAME</th>\n",
       "      <th>YEAR_x</th>\n",
       "      <th>YEAR_y</th>\n",
       "      <th>Certified_rate</th>\n",
       "    </tr>\n",
       "  </thead>\n",
       "  <tbody>\n",
       "    <tr>\n",
       "      <th>0</th>\n",
       "      <td>INFOSYS LIMITED</td>\n",
       "      <td>103967</td>\n",
       "      <td>258.0</td>\n",
       "      <td>0.997525</td>\n",
       "    </tr>\n",
       "    <tr>\n",
       "      <th>1</th>\n",
       "      <td>TATA CONSULTANCY SERVICES LIMITED</td>\n",
       "      <td>51342</td>\n",
       "      <td>99.0</td>\n",
       "      <td>0.998075</td>\n",
       "    </tr>\n",
       "    <tr>\n",
       "      <th>2</th>\n",
       "      <td>WIPRO LIMITED</td>\n",
       "      <td>34618</td>\n",
       "      <td>158.0</td>\n",
       "      <td>0.995457</td>\n",
       "    </tr>\n",
       "    <tr>\n",
       "      <th>3</th>\n",
       "      <td>DELOITTE CONSULTING LLP</td>\n",
       "      <td>28915</td>\n",
       "      <td>440.0</td>\n",
       "      <td>0.985011</td>\n",
       "    </tr>\n",
       "    <tr>\n",
       "      <th>4</th>\n",
       "      <td>ACCENTURE LLP</td>\n",
       "      <td>26501</td>\n",
       "      <td>59.0</td>\n",
       "      <td>0.997779</td>\n",
       "    </tr>\n",
       "  </tbody>\n",
       "</table>\n",
       "</div>"
      ],
      "text/plain": [
       "                       EMPLOYER_NAME  YEAR_x  YEAR_y  Certified_rate\n",
       "0                    INFOSYS LIMITED  103967   258.0        0.997525\n",
       "1  TATA CONSULTANCY SERVICES LIMITED   51342    99.0        0.998075\n",
       "2                      WIPRO LIMITED   34618   158.0        0.995457\n",
       "3            DELOITTE CONSULTING LLP   28915   440.0        0.985011\n",
       "4                      ACCENTURE LLP   26501    59.0        0.997779"
      ]
     },
     "execution_count": 61,
     "metadata": {},
     "output_type": "execute_result"
    }
   ],
   "source": [
    "cer_de2.head()"
   ]
  },
  {
   "cell_type": "code",
   "execution_count": 62,
   "metadata": {
    "ExecuteTime": {
     "end_time": "2018-08-26T08:06:56.379635Z",
     "start_time": "2018-08-26T08:06:56.375659Z"
    }
   },
   "outputs": [],
   "source": [
    "cer_dee = cer_de2['EMPLOYER_NAME']"
   ]
  },
  {
   "cell_type": "code",
   "execution_count": 63,
   "metadata": {
    "ExecuteTime": {
     "end_time": "2018-08-26T08:06:56.823250Z",
     "start_time": "2018-08-26T08:06:56.807290Z"
    }
   },
   "outputs": [
    {
     "data": {
      "text/html": [
       "<div>\n",
       "<style scoped>\n",
       "    .dataframe tbody tr th:only-of-type {\n",
       "        vertical-align: middle;\n",
       "    }\n",
       "\n",
       "    .dataframe tbody tr th {\n",
       "        vertical-align: top;\n",
       "    }\n",
       "\n",
       "    .dataframe thead th {\n",
       "        text-align: right;\n",
       "    }\n",
       "</style>\n",
       "<table border=\"1\" class=\"dataframe\">\n",
       "  <thead>\n",
       "    <tr style=\"text-align: right;\">\n",
       "      <th></th>\n",
       "      <th>EMPLOYER_NAME</th>\n",
       "      <th>Certified_rate</th>\n",
       "    </tr>\n",
       "  </thead>\n",
       "  <tbody>\n",
       "    <tr>\n",
       "      <th>0</th>\n",
       "      <td>INFOSYS LIMITED</td>\n",
       "      <td>0.997525</td>\n",
       "    </tr>\n",
       "    <tr>\n",
       "      <th>1</th>\n",
       "      <td>TATA CONSULTANCY SERVICES LIMITED</td>\n",
       "      <td>0.998075</td>\n",
       "    </tr>\n",
       "    <tr>\n",
       "      <th>2</th>\n",
       "      <td>WIPRO LIMITED</td>\n",
       "      <td>0.995457</td>\n",
       "    </tr>\n",
       "    <tr>\n",
       "      <th>3</th>\n",
       "      <td>DELOITTE CONSULTING LLP</td>\n",
       "      <td>0.985011</td>\n",
       "    </tr>\n",
       "    <tr>\n",
       "      <th>4</th>\n",
       "      <td>ACCENTURE LLP</td>\n",
       "      <td>0.997779</td>\n",
       "    </tr>\n",
       "  </tbody>\n",
       "</table>\n",
       "</div>"
      ],
      "text/plain": [
       "                       EMPLOYER_NAME  Certified_rate\n",
       "0                    INFOSYS LIMITED        0.997525\n",
       "1  TATA CONSULTANCY SERVICES LIMITED        0.998075\n",
       "2                      WIPRO LIMITED        0.995457\n",
       "3            DELOITTE CONSULTING LLP        0.985011\n",
       "4                      ACCENTURE LLP        0.997779"
      ]
     },
     "execution_count": 63,
     "metadata": {},
     "output_type": "execute_result"
    }
   ],
   "source": [
    "cer_dee = pd.concat([cer_dee,cer_de2['Certified_rate']],axis=1)\n",
    "cer_dee.head()"
   ]
  },
  {
   "cell_type": "code",
   "execution_count": 64,
   "metadata": {
    "ExecuteTime": {
     "end_time": "2018-08-26T08:07:08.166520Z",
     "start_time": "2018-08-26T08:07:05.405311Z"
    }
   },
   "outputs": [],
   "source": [
    "df2 = pd.merge(df1,cer_dee,how='left')"
   ]
  },
  {
   "cell_type": "code",
   "execution_count": 65,
   "metadata": {
    "ExecuteTime": {
     "end_time": "2018-08-26T08:07:10.603543Z",
     "start_time": "2018-08-26T08:07:09.287065Z"
    }
   },
   "outputs": [
    {
     "data": {
      "text/plain": [
       "CASE_STATUS           541570\n",
       "EMPLOYER_NAME             28\n",
       "FULL_TIME_POSITION        11\n",
       "PREVAILING_WAGE           63\n",
       "SOC_NAME               15903\n",
       "TEST                       0\n",
       "WORKSITE                   0\n",
       "YEAR                      10\n",
       "State                      0\n",
       "Certified_rate        704030\n",
       "dtype: int64"
      ]
     },
     "execution_count": 65,
     "metadata": {},
     "output_type": "execute_result"
    }
   ],
   "source": [
    "df2.isnull().sum()"
   ]
  },
  {
   "cell_type": "code",
   "execution_count": 67,
   "metadata": {
    "ExecuteTime": {
     "end_time": "2018-08-26T08:07:48.066068Z",
     "start_time": "2018-08-26T08:07:48.054069Z"
    }
   },
   "outputs": [
    {
     "data": {
      "text/html": [
       "<div>\n",
       "<style scoped>\n",
       "    .dataframe tbody tr th:only-of-type {\n",
       "        vertical-align: middle;\n",
       "    }\n",
       "\n",
       "    .dataframe tbody tr th {\n",
       "        vertical-align: top;\n",
       "    }\n",
       "\n",
       "    .dataframe thead th {\n",
       "        text-align: right;\n",
       "    }\n",
       "</style>\n",
       "<table border=\"1\" class=\"dataframe\">\n",
       "  <thead>\n",
       "    <tr style=\"text-align: right;\">\n",
       "      <th></th>\n",
       "      <th>CASE_STATUS</th>\n",
       "      <th>EMPLOYER_NAME</th>\n",
       "      <th>FULL_TIME_POSITION</th>\n",
       "      <th>PREVAILING_WAGE</th>\n",
       "      <th>SOC_NAME</th>\n",
       "      <th>TEST</th>\n",
       "      <th>WORKSITE</th>\n",
       "      <th>YEAR</th>\n",
       "      <th>State</th>\n",
       "      <th>Certified_rate</th>\n",
       "    </tr>\n",
       "  </thead>\n",
       "  <tbody>\n",
       "    <tr>\n",
       "      <th>0</th>\n",
       "      <td>CERTIFIED</td>\n",
       "      <td>INTERNATIONAL SYSTEMS TECHNOLOGIES INC</td>\n",
       "      <td>1.0</td>\n",
       "      <td>-0.015817</td>\n",
       "      <td>COMPUTER PROGRAMMERS</td>\n",
       "      <td>0</td>\n",
       "      <td>SUNNYVALE, CALIFORNIA</td>\n",
       "      <td>2014.0</td>\n",
       "      <td>CALIFORNIA</td>\n",
       "      <td>0.997976</td>\n",
       "    </tr>\n",
       "    <tr>\n",
       "      <th>1</th>\n",
       "      <td>CERTIFIED</td>\n",
       "      <td>GOOGLE INC</td>\n",
       "      <td>1.0</td>\n",
       "      <td>-0.012609</td>\n",
       "      <td>NETWORK AND COMPUTER SYSTEMS ADMINISTRATORS</td>\n",
       "      <td>0</td>\n",
       "      <td>SAN FRANCISCO, CALIFORNIA</td>\n",
       "      <td>2015.0</td>\n",
       "      <td>CALIFORNIA</td>\n",
       "      <td>0.984573</td>\n",
       "    </tr>\n",
       "    <tr>\n",
       "      <th>2</th>\n",
       "      <td>CERTIFIED</td>\n",
       "      <td>WIPRO LIMITED</td>\n",
       "      <td>1.0</td>\n",
       "      <td>-0.013571</td>\n",
       "      <td>COMPUTER OCCUPATIONS, ALL OTHER</td>\n",
       "      <td>0</td>\n",
       "      <td>EL SEGUNDO, CALIFORNIA</td>\n",
       "      <td>2014.0</td>\n",
       "      <td>CALIFORNIA</td>\n",
       "      <td>0.995457</td>\n",
       "    </tr>\n",
       "    <tr>\n",
       "      <th>3</th>\n",
       "      <td>CERTIFIED</td>\n",
       "      <td>CPO SERVICES INC</td>\n",
       "      <td>1.0</td>\n",
       "      <td>-0.015817</td>\n",
       "      <td>ORTHOTISTS AND PROSTHETISTS</td>\n",
       "      <td>0</td>\n",
       "      <td>PEORIA, ILLINOIS</td>\n",
       "      <td>2011.0</td>\n",
       "      <td>ILLINOIS</td>\n",
       "      <td>NaN</td>\n",
       "    </tr>\n",
       "    <tr>\n",
       "      <th>4</th>\n",
       "      <td>DENIED</td>\n",
       "      <td>UNIVERSITY OF CALIFORNIA SAN DIEGO</td>\n",
       "      <td>1.0</td>\n",
       "      <td>-0.019374</td>\n",
       "      <td>MEDICAL SCIENTISTS, EXCEPT EPIDEMIOLOGISTS</td>\n",
       "      <td>0</td>\n",
       "      <td>LA JOLLA, CALIFORNIA</td>\n",
       "      <td>2015.0</td>\n",
       "      <td>CALIFORNIA</td>\n",
       "      <td>0.972019</td>\n",
       "    </tr>\n",
       "  </tbody>\n",
       "</table>\n",
       "</div>"
      ],
      "text/plain": [
       "  CASE_STATUS                           EMPLOYER_NAME  FULL_TIME_POSITION  \\\n",
       "0   CERTIFIED  INTERNATIONAL SYSTEMS TECHNOLOGIES INC                 1.0   \n",
       "1   CERTIFIED                              GOOGLE INC                 1.0   \n",
       "2   CERTIFIED                           WIPRO LIMITED                 1.0   \n",
       "3   CERTIFIED                        CPO SERVICES INC                 1.0   \n",
       "4      DENIED      UNIVERSITY OF CALIFORNIA SAN DIEGO                 1.0   \n",
       "\n",
       "   PREVAILING_WAGE                                     SOC_NAME  TEST  \\\n",
       "0        -0.015817                         COMPUTER PROGRAMMERS     0   \n",
       "1        -0.012609  NETWORK AND COMPUTER SYSTEMS ADMINISTRATORS     0   \n",
       "2        -0.013571              COMPUTER OCCUPATIONS, ALL OTHER     0   \n",
       "3        -0.015817                  ORTHOTISTS AND PROSTHETISTS     0   \n",
       "4        -0.019374   MEDICAL SCIENTISTS, EXCEPT EPIDEMIOLOGISTS     0   \n",
       "\n",
       "                    WORKSITE    YEAR       State  Certified_rate  \n",
       "0      SUNNYVALE, CALIFORNIA  2014.0  CALIFORNIA        0.997976  \n",
       "1  SAN FRANCISCO, CALIFORNIA  2015.0  CALIFORNIA        0.984573  \n",
       "2     EL SEGUNDO, CALIFORNIA  2014.0  CALIFORNIA        0.995457  \n",
       "3           PEORIA, ILLINOIS  2011.0    ILLINOIS             NaN  \n",
       "4       LA JOLLA, CALIFORNIA  2015.0  CALIFORNIA        0.972019  "
      ]
     },
     "execution_count": 67,
     "metadata": {},
     "output_type": "execute_result"
    }
   ],
   "source": [
    "df2.head()"
   ]
  },
  {
   "cell_type": "code",
   "execution_count": 69,
   "metadata": {
    "ExecuteTime": {
     "end_time": "2018-08-26T08:08:09.518222Z",
     "start_time": "2018-08-26T08:08:09.169173Z"
    }
   },
   "outputs": [],
   "source": [
    "df2.rename(columns = {df2.columns[9] : 'CR_EMPLOYER'}, inplace = True )"
   ]
  },
  {
   "cell_type": "code",
   "execution_count": 70,
   "metadata": {
    "ExecuteTime": {
     "end_time": "2018-08-26T08:08:09.783485Z",
     "start_time": "2018-08-26T08:08:09.770519Z"
    }
   },
   "outputs": [
    {
     "data": {
      "text/html": [
       "<div>\n",
       "<style scoped>\n",
       "    .dataframe tbody tr th:only-of-type {\n",
       "        vertical-align: middle;\n",
       "    }\n",
       "\n",
       "    .dataframe tbody tr th {\n",
       "        vertical-align: top;\n",
       "    }\n",
       "\n",
       "    .dataframe thead th {\n",
       "        text-align: right;\n",
       "    }\n",
       "</style>\n",
       "<table border=\"1\" class=\"dataframe\">\n",
       "  <thead>\n",
       "    <tr style=\"text-align: right;\">\n",
       "      <th></th>\n",
       "      <th>CASE_STATUS</th>\n",
       "      <th>EMPLOYER_NAME</th>\n",
       "      <th>FULL_TIME_POSITION</th>\n",
       "      <th>PREVAILING_WAGE</th>\n",
       "      <th>SOC_NAME</th>\n",
       "      <th>TEST</th>\n",
       "      <th>WORKSITE</th>\n",
       "      <th>YEAR</th>\n",
       "      <th>State</th>\n",
       "      <th>CR_EMPLOYER</th>\n",
       "    </tr>\n",
       "  </thead>\n",
       "  <tbody>\n",
       "    <tr>\n",
       "      <th>0</th>\n",
       "      <td>CERTIFIED</td>\n",
       "      <td>INTERNATIONAL SYSTEMS TECHNOLOGIES INC</td>\n",
       "      <td>1.0</td>\n",
       "      <td>-0.015817</td>\n",
       "      <td>COMPUTER PROGRAMMERS</td>\n",
       "      <td>0</td>\n",
       "      <td>SUNNYVALE, CALIFORNIA</td>\n",
       "      <td>2014.0</td>\n",
       "      <td>CALIFORNIA</td>\n",
       "      <td>0.997976</td>\n",
       "    </tr>\n",
       "    <tr>\n",
       "      <th>1</th>\n",
       "      <td>CERTIFIED</td>\n",
       "      <td>GOOGLE INC</td>\n",
       "      <td>1.0</td>\n",
       "      <td>-0.012609</td>\n",
       "      <td>NETWORK AND COMPUTER SYSTEMS ADMINISTRATORS</td>\n",
       "      <td>0</td>\n",
       "      <td>SAN FRANCISCO, CALIFORNIA</td>\n",
       "      <td>2015.0</td>\n",
       "      <td>CALIFORNIA</td>\n",
       "      <td>0.984573</td>\n",
       "    </tr>\n",
       "    <tr>\n",
       "      <th>2</th>\n",
       "      <td>CERTIFIED</td>\n",
       "      <td>WIPRO LIMITED</td>\n",
       "      <td>1.0</td>\n",
       "      <td>-0.013571</td>\n",
       "      <td>COMPUTER OCCUPATIONS, ALL OTHER</td>\n",
       "      <td>0</td>\n",
       "      <td>EL SEGUNDO, CALIFORNIA</td>\n",
       "      <td>2014.0</td>\n",
       "      <td>CALIFORNIA</td>\n",
       "      <td>0.995457</td>\n",
       "    </tr>\n",
       "    <tr>\n",
       "      <th>3</th>\n",
       "      <td>CERTIFIED</td>\n",
       "      <td>CPO SERVICES INC</td>\n",
       "      <td>1.0</td>\n",
       "      <td>-0.015817</td>\n",
       "      <td>ORTHOTISTS AND PROSTHETISTS</td>\n",
       "      <td>0</td>\n",
       "      <td>PEORIA, ILLINOIS</td>\n",
       "      <td>2011.0</td>\n",
       "      <td>ILLINOIS</td>\n",
       "      <td>NaN</td>\n",
       "    </tr>\n",
       "    <tr>\n",
       "      <th>4</th>\n",
       "      <td>DENIED</td>\n",
       "      <td>UNIVERSITY OF CALIFORNIA SAN DIEGO</td>\n",
       "      <td>1.0</td>\n",
       "      <td>-0.019374</td>\n",
       "      <td>MEDICAL SCIENTISTS, EXCEPT EPIDEMIOLOGISTS</td>\n",
       "      <td>0</td>\n",
       "      <td>LA JOLLA, CALIFORNIA</td>\n",
       "      <td>2015.0</td>\n",
       "      <td>CALIFORNIA</td>\n",
       "      <td>0.972019</td>\n",
       "    </tr>\n",
       "  </tbody>\n",
       "</table>\n",
       "</div>"
      ],
      "text/plain": [
       "  CASE_STATUS                           EMPLOYER_NAME  FULL_TIME_POSITION  \\\n",
       "0   CERTIFIED  INTERNATIONAL SYSTEMS TECHNOLOGIES INC                 1.0   \n",
       "1   CERTIFIED                              GOOGLE INC                 1.0   \n",
       "2   CERTIFIED                           WIPRO LIMITED                 1.0   \n",
       "3   CERTIFIED                        CPO SERVICES INC                 1.0   \n",
       "4      DENIED      UNIVERSITY OF CALIFORNIA SAN DIEGO                 1.0   \n",
       "\n",
       "   PREVAILING_WAGE                                     SOC_NAME  TEST  \\\n",
       "0        -0.015817                         COMPUTER PROGRAMMERS     0   \n",
       "1        -0.012609  NETWORK AND COMPUTER SYSTEMS ADMINISTRATORS     0   \n",
       "2        -0.013571              COMPUTER OCCUPATIONS, ALL OTHER     0   \n",
       "3        -0.015817                  ORTHOTISTS AND PROSTHETISTS     0   \n",
       "4        -0.019374   MEDICAL SCIENTISTS, EXCEPT EPIDEMIOLOGISTS     0   \n",
       "\n",
       "                    WORKSITE    YEAR       State  CR_EMPLOYER  \n",
       "0      SUNNYVALE, CALIFORNIA  2014.0  CALIFORNIA     0.997976  \n",
       "1  SAN FRANCISCO, CALIFORNIA  2015.0  CALIFORNIA     0.984573  \n",
       "2     EL SEGUNDO, CALIFORNIA  2014.0  CALIFORNIA     0.995457  \n",
       "3           PEORIA, ILLINOIS  2011.0    ILLINOIS          NaN  \n",
       "4       LA JOLLA, CALIFORNIA  2015.0  CALIFORNIA     0.972019  "
      ]
     },
     "execution_count": 70,
     "metadata": {},
     "output_type": "execute_result"
    }
   ],
   "source": [
    "df2.head()"
   ]
  },
  {
   "cell_type": "code",
   "execution_count": 71,
   "metadata": {
    "ExecuteTime": {
     "end_time": "2018-08-26T08:08:33.357290Z",
     "start_time": "2018-08-26T08:08:33.288510Z"
    }
   },
   "outputs": [],
   "source": [
    "df2['CR_EMPLOYER'] = (df2['CR_EMPLOYER'] - np.mean(df2['CR_EMPLOYER'])) / np.std(df2['CR_EMPLOYER'])"
   ]
  },
  {
   "cell_type": "code",
   "execution_count": 73,
   "metadata": {
    "ExecuteTime": {
     "end_time": "2018-08-26T08:08:54.790259Z",
     "start_time": "2018-08-26T08:08:54.679479Z"
    }
   },
   "outputs": [],
   "source": [
    "YEAR_OHE = pd.get_dummies(df2.YEAR)"
   ]
  },
  {
   "cell_type": "code",
   "execution_count": 74,
   "metadata": {
    "ExecuteTime": {
     "end_time": "2018-08-26T08:09:11.854947Z",
     "start_time": "2018-08-26T08:09:11.843945Z"
    }
   },
   "outputs": [
    {
     "data": {
      "text/html": [
       "<div>\n",
       "<style scoped>\n",
       "    .dataframe tbody tr th:only-of-type {\n",
       "        vertical-align: middle;\n",
       "    }\n",
       "\n",
       "    .dataframe tbody tr th {\n",
       "        vertical-align: top;\n",
       "    }\n",
       "\n",
       "    .dataframe thead th {\n",
       "        text-align: right;\n",
       "    }\n",
       "</style>\n",
       "<table border=\"1\" class=\"dataframe\">\n",
       "  <thead>\n",
       "    <tr style=\"text-align: right;\">\n",
       "      <th></th>\n",
       "      <th>CASE_STATUS</th>\n",
       "      <th>EMPLOYER_NAME</th>\n",
       "      <th>FULL_TIME_POSITION</th>\n",
       "      <th>PREVAILING_WAGE</th>\n",
       "      <th>SOC_NAME</th>\n",
       "      <th>TEST</th>\n",
       "      <th>WORKSITE</th>\n",
       "      <th>YEAR</th>\n",
       "      <th>State</th>\n",
       "      <th>CR_EMPLOYER</th>\n",
       "    </tr>\n",
       "  </thead>\n",
       "  <tbody>\n",
       "    <tr>\n",
       "      <th>0</th>\n",
       "      <td>CERTIFIED</td>\n",
       "      <td>INTERNATIONAL SYSTEMS TECHNOLOGIES INC</td>\n",
       "      <td>1.0</td>\n",
       "      <td>-0.015817</td>\n",
       "      <td>COMPUTER PROGRAMMERS</td>\n",
       "      <td>0</td>\n",
       "      <td>SUNNYVALE, CALIFORNIA</td>\n",
       "      <td>2014.0</td>\n",
       "      <td>CALIFORNIA</td>\n",
       "      <td>0.404204</td>\n",
       "    </tr>\n",
       "    <tr>\n",
       "      <th>1</th>\n",
       "      <td>CERTIFIED</td>\n",
       "      <td>GOOGLE INC</td>\n",
       "      <td>1.0</td>\n",
       "      <td>-0.012609</td>\n",
       "      <td>NETWORK AND COMPUTER SYSTEMS ADMINISTRATORS</td>\n",
       "      <td>0</td>\n",
       "      <td>SAN FRANCISCO, CALIFORNIA</td>\n",
       "      <td>2015.0</td>\n",
       "      <td>CALIFORNIA</td>\n",
       "      <td>0.258826</td>\n",
       "    </tr>\n",
       "    <tr>\n",
       "      <th>2</th>\n",
       "      <td>CERTIFIED</td>\n",
       "      <td>WIPRO LIMITED</td>\n",
       "      <td>1.0</td>\n",
       "      <td>-0.013571</td>\n",
       "      <td>COMPUTER OCCUPATIONS, ALL OTHER</td>\n",
       "      <td>0</td>\n",
       "      <td>EL SEGUNDO, CALIFORNIA</td>\n",
       "      <td>2014.0</td>\n",
       "      <td>CALIFORNIA</td>\n",
       "      <td>0.376880</td>\n",
       "    </tr>\n",
       "    <tr>\n",
       "      <th>3</th>\n",
       "      <td>CERTIFIED</td>\n",
       "      <td>CPO SERVICES INC</td>\n",
       "      <td>1.0</td>\n",
       "      <td>-0.015817</td>\n",
       "      <td>ORTHOTISTS AND PROSTHETISTS</td>\n",
       "      <td>0</td>\n",
       "      <td>PEORIA, ILLINOIS</td>\n",
       "      <td>2011.0</td>\n",
       "      <td>ILLINOIS</td>\n",
       "      <td>NaN</td>\n",
       "    </tr>\n",
       "    <tr>\n",
       "      <th>4</th>\n",
       "      <td>DENIED</td>\n",
       "      <td>UNIVERSITY OF CALIFORNIA SAN DIEGO</td>\n",
       "      <td>1.0</td>\n",
       "      <td>-0.019374</td>\n",
       "      <td>MEDICAL SCIENTISTS, EXCEPT EPIDEMIOLOGISTS</td>\n",
       "      <td>0</td>\n",
       "      <td>LA JOLLA, CALIFORNIA</td>\n",
       "      <td>2015.0</td>\n",
       "      <td>CALIFORNIA</td>\n",
       "      <td>0.122662</td>\n",
       "    </tr>\n",
       "  </tbody>\n",
       "</table>\n",
       "</div>"
      ],
      "text/plain": [
       "  CASE_STATUS                           EMPLOYER_NAME  FULL_TIME_POSITION  \\\n",
       "0   CERTIFIED  INTERNATIONAL SYSTEMS TECHNOLOGIES INC                 1.0   \n",
       "1   CERTIFIED                              GOOGLE INC                 1.0   \n",
       "2   CERTIFIED                           WIPRO LIMITED                 1.0   \n",
       "3   CERTIFIED                        CPO SERVICES INC                 1.0   \n",
       "4      DENIED      UNIVERSITY OF CALIFORNIA SAN DIEGO                 1.0   \n",
       "\n",
       "   PREVAILING_WAGE                                     SOC_NAME  TEST  \\\n",
       "0        -0.015817                         COMPUTER PROGRAMMERS     0   \n",
       "1        -0.012609  NETWORK AND COMPUTER SYSTEMS ADMINISTRATORS     0   \n",
       "2        -0.013571              COMPUTER OCCUPATIONS, ALL OTHER     0   \n",
       "3        -0.015817                  ORTHOTISTS AND PROSTHETISTS     0   \n",
       "4        -0.019374   MEDICAL SCIENTISTS, EXCEPT EPIDEMIOLOGISTS     0   \n",
       "\n",
       "                    WORKSITE    YEAR       State  CR_EMPLOYER  \n",
       "0      SUNNYVALE, CALIFORNIA  2014.0  CALIFORNIA     0.404204  \n",
       "1  SAN FRANCISCO, CALIFORNIA  2015.0  CALIFORNIA     0.258826  \n",
       "2     EL SEGUNDO, CALIFORNIA  2014.0  CALIFORNIA     0.376880  \n",
       "3           PEORIA, ILLINOIS  2011.0    ILLINOIS          NaN  \n",
       "4       LA JOLLA, CALIFORNIA  2015.0  CALIFORNIA     0.122662  "
      ]
     },
     "execution_count": 74,
     "metadata": {},
     "output_type": "execute_result"
    }
   ],
   "source": [
    "df2.head()"
   ]
  },
  {
   "cell_type": "code",
   "execution_count": 75,
   "metadata": {
    "ExecuteTime": {
     "end_time": "2018-08-26T08:09:36.727318Z",
     "start_time": "2018-08-26T08:09:36.424056Z"
    }
   },
   "outputs": [],
   "source": [
    "df3 = pd.concat([df2,YEAR_OHE],axis=1)"
   ]
  },
  {
   "cell_type": "code",
   "execution_count": 77,
   "metadata": {
    "ExecuteTime": {
     "end_time": "2018-08-26T08:10:49.200092Z",
     "start_time": "2018-08-26T08:10:49.092380Z"
    }
   },
   "outputs": [],
   "source": [
    "del df3['EMPLOYER_NAME']\n",
    "del df3['SOC_NAME']\n",
    "del df3['WORKSITE']\n",
    "del df3['YEAR']\n",
    "del df3['State']"
   ]
  },
  {
   "cell_type": "code",
   "execution_count": 78,
   "metadata": {
    "ExecuteTime": {
     "end_time": "2018-08-26T08:11:02.117508Z",
     "start_time": "2018-08-26T08:11:02.105511Z"
    }
   },
   "outputs": [
    {
     "data": {
      "text/html": [
       "<div>\n",
       "<style scoped>\n",
       "    .dataframe tbody tr th:only-of-type {\n",
       "        vertical-align: middle;\n",
       "    }\n",
       "\n",
       "    .dataframe tbody tr th {\n",
       "        vertical-align: top;\n",
       "    }\n",
       "\n",
       "    .dataframe thead th {\n",
       "        text-align: right;\n",
       "    }\n",
       "</style>\n",
       "<table border=\"1\" class=\"dataframe\">\n",
       "  <thead>\n",
       "    <tr style=\"text-align: right;\">\n",
       "      <th></th>\n",
       "      <th>CASE_STATUS</th>\n",
       "      <th>FULL_TIME_POSITION</th>\n",
       "      <th>PREVAILING_WAGE</th>\n",
       "      <th>TEST</th>\n",
       "      <th>CR_EMPLOYER</th>\n",
       "      <th>2011.0</th>\n",
       "      <th>2012.0</th>\n",
       "      <th>2013.0</th>\n",
       "      <th>2014.0</th>\n",
       "      <th>2015.0</th>\n",
       "      <th>2016.0</th>\n",
       "    </tr>\n",
       "  </thead>\n",
       "  <tbody>\n",
       "    <tr>\n",
       "      <th>0</th>\n",
       "      <td>CERTIFIED</td>\n",
       "      <td>1.0</td>\n",
       "      <td>-0.015817</td>\n",
       "      <td>0</td>\n",
       "      <td>0.404204</td>\n",
       "      <td>0</td>\n",
       "      <td>0</td>\n",
       "      <td>0</td>\n",
       "      <td>1</td>\n",
       "      <td>0</td>\n",
       "      <td>0</td>\n",
       "    </tr>\n",
       "    <tr>\n",
       "      <th>1</th>\n",
       "      <td>CERTIFIED</td>\n",
       "      <td>1.0</td>\n",
       "      <td>-0.012609</td>\n",
       "      <td>0</td>\n",
       "      <td>0.258826</td>\n",
       "      <td>0</td>\n",
       "      <td>0</td>\n",
       "      <td>0</td>\n",
       "      <td>0</td>\n",
       "      <td>1</td>\n",
       "      <td>0</td>\n",
       "    </tr>\n",
       "    <tr>\n",
       "      <th>2</th>\n",
       "      <td>CERTIFIED</td>\n",
       "      <td>1.0</td>\n",
       "      <td>-0.013571</td>\n",
       "      <td>0</td>\n",
       "      <td>0.376880</td>\n",
       "      <td>0</td>\n",
       "      <td>0</td>\n",
       "      <td>0</td>\n",
       "      <td>1</td>\n",
       "      <td>0</td>\n",
       "      <td>0</td>\n",
       "    </tr>\n",
       "    <tr>\n",
       "      <th>3</th>\n",
       "      <td>CERTIFIED</td>\n",
       "      <td>1.0</td>\n",
       "      <td>-0.015817</td>\n",
       "      <td>0</td>\n",
       "      <td>NaN</td>\n",
       "      <td>1</td>\n",
       "      <td>0</td>\n",
       "      <td>0</td>\n",
       "      <td>0</td>\n",
       "      <td>0</td>\n",
       "      <td>0</td>\n",
       "    </tr>\n",
       "    <tr>\n",
       "      <th>4</th>\n",
       "      <td>DENIED</td>\n",
       "      <td>1.0</td>\n",
       "      <td>-0.019374</td>\n",
       "      <td>0</td>\n",
       "      <td>0.122662</td>\n",
       "      <td>0</td>\n",
       "      <td>0</td>\n",
       "      <td>0</td>\n",
       "      <td>0</td>\n",
       "      <td>1</td>\n",
       "      <td>0</td>\n",
       "    </tr>\n",
       "  </tbody>\n",
       "</table>\n",
       "</div>"
      ],
      "text/plain": [
       "  CASE_STATUS  FULL_TIME_POSITION  PREVAILING_WAGE  TEST  CR_EMPLOYER  2011.0  \\\n",
       "0   CERTIFIED                 1.0        -0.015817     0     0.404204       0   \n",
       "1   CERTIFIED                 1.0        -0.012609     0     0.258826       0   \n",
       "2   CERTIFIED                 1.0        -0.013571     0     0.376880       0   \n",
       "3   CERTIFIED                 1.0        -0.015817     0          NaN       1   \n",
       "4      DENIED                 1.0        -0.019374     0     0.122662       0   \n",
       "\n",
       "   2012.0  2013.0  2014.0  2015.0  2016.0  \n",
       "0       0       0       1       0       0  \n",
       "1       0       0       0       1       0  \n",
       "2       0       0       1       0       0  \n",
       "3       0       0       0       0       0  \n",
       "4       0       0       0       1       0  "
      ]
     },
     "execution_count": 78,
     "metadata": {},
     "output_type": "execute_result"
    }
   ],
   "source": [
    "df3.head()"
   ]
  },
  {
   "cell_type": "code",
   "execution_count": null,
   "metadata": {},
   "outputs": [],
   "source": []
  },
  {
   "cell_type": "code",
   "execution_count": 79,
   "metadata": {
    "ExecuteTime": {
     "end_time": "2018-08-26T08:12:20.300881Z",
     "start_time": "2018-08-26T08:12:20.119290Z"
    }
   },
   "outputs": [],
   "source": [
    "df3_test = df3[df3['TEST'] == 1]\n",
    "df3_train = df3[df3['TEST'] == 0]"
   ]
  },
  {
   "cell_type": "code",
   "execution_count": 80,
   "metadata": {
    "ExecuteTime": {
     "end_time": "2018-08-26T08:12:29.673335Z",
     "start_time": "2018-08-26T08:12:29.658344Z"
    },
    "collapsed": true
   },
   "outputs": [
    {
     "data": {
      "text/html": [
       "<div>\n",
       "<style scoped>\n",
       "    .dataframe tbody tr th:only-of-type {\n",
       "        vertical-align: middle;\n",
       "    }\n",
       "\n",
       "    .dataframe tbody tr th {\n",
       "        vertical-align: top;\n",
       "    }\n",
       "\n",
       "    .dataframe thead th {\n",
       "        text-align: right;\n",
       "    }\n",
       "</style>\n",
       "<table border=\"1\" class=\"dataframe\">\n",
       "  <thead>\n",
       "    <tr style=\"text-align: right;\">\n",
       "      <th></th>\n",
       "      <th>CASE_STATUS</th>\n",
       "      <th>FULL_TIME_POSITION</th>\n",
       "      <th>PREVAILING_WAGE</th>\n",
       "      <th>TEST</th>\n",
       "      <th>CR_EMPLOYER</th>\n",
       "      <th>2011.0</th>\n",
       "      <th>2012.0</th>\n",
       "      <th>2013.0</th>\n",
       "      <th>2014.0</th>\n",
       "      <th>2015.0</th>\n",
       "      <th>2016.0</th>\n",
       "    </tr>\n",
       "  </thead>\n",
       "  <tbody>\n",
       "    <tr>\n",
       "      <th>1626895</th>\n",
       "      <td>NaN</td>\n",
       "      <td>1.0</td>\n",
       "      <td>-0.019036</td>\n",
       "      <td>1</td>\n",
       "      <td>0.342724</td>\n",
       "      <td>0</td>\n",
       "      <td>1</td>\n",
       "      <td>0</td>\n",
       "      <td>0</td>\n",
       "      <td>0</td>\n",
       "      <td>0</td>\n",
       "    </tr>\n",
       "    <tr>\n",
       "      <th>1626896</th>\n",
       "      <td>NaN</td>\n",
       "      <td>0.0</td>\n",
       "      <td>-0.014487</td>\n",
       "      <td>1</td>\n",
       "      <td>0.405286</td>\n",
       "      <td>0</td>\n",
       "      <td>0</td>\n",
       "      <td>0</td>\n",
       "      <td>0</td>\n",
       "      <td>0</td>\n",
       "      <td>1</td>\n",
       "    </tr>\n",
       "    <tr>\n",
       "      <th>1626897</th>\n",
       "      <td>NaN</td>\n",
       "      <td>1.0</td>\n",
       "      <td>-0.013023</td>\n",
       "      <td>1</td>\n",
       "      <td>NaN</td>\n",
       "      <td>0</td>\n",
       "      <td>0</td>\n",
       "      <td>0</td>\n",
       "      <td>0</td>\n",
       "      <td>1</td>\n",
       "      <td>0</td>\n",
       "    </tr>\n",
       "    <tr>\n",
       "      <th>1626898</th>\n",
       "      <td>NaN</td>\n",
       "      <td>1.0</td>\n",
       "      <td>-0.014004</td>\n",
       "      <td>1</td>\n",
       "      <td>0.325360</td>\n",
       "      <td>0</td>\n",
       "      <td>1</td>\n",
       "      <td>0</td>\n",
       "      <td>0</td>\n",
       "      <td>0</td>\n",
       "      <td>0</td>\n",
       "    </tr>\n",
       "    <tr>\n",
       "      <th>1626899</th>\n",
       "      <td>NaN</td>\n",
       "      <td>1.0</td>\n",
       "      <td>-0.012043</td>\n",
       "      <td>1</td>\n",
       "      <td>-0.102952</td>\n",
       "      <td>0</td>\n",
       "      <td>0</td>\n",
       "      <td>0</td>\n",
       "      <td>0</td>\n",
       "      <td>0</td>\n",
       "      <td>1</td>\n",
       "    </tr>\n",
       "  </tbody>\n",
       "</table>\n",
       "</div>"
      ],
      "text/plain": [
       "        CASE_STATUS  FULL_TIME_POSITION  PREVAILING_WAGE  TEST  CR_EMPLOYER  \\\n",
       "1626895         NaN                 1.0        -0.019036     1     0.342724   \n",
       "1626896         NaN                 0.0        -0.014487     1     0.405286   \n",
       "1626897         NaN                 1.0        -0.013023     1          NaN   \n",
       "1626898         NaN                 1.0        -0.014004     1     0.325360   \n",
       "1626899         NaN                 1.0        -0.012043     1    -0.102952   \n",
       "\n",
       "         2011.0  2012.0  2013.0  2014.0  2015.0  2016.0  \n",
       "1626895       0       1       0       0       0       0  \n",
       "1626896       0       0       0       0       0       1  \n",
       "1626897       0       0       0       0       1       0  \n",
       "1626898       0       1       0       0       0       0  \n",
       "1626899       0       0       0       0       0       1  "
      ]
     },
     "execution_count": 80,
     "metadata": {},
     "output_type": "execute_result"
    }
   ],
   "source": [
    "df3_test.head()\n",
    "df3_train.head()"
   ]
  },
  {
   "cell_type": "code",
   "execution_count": 82,
   "metadata": {
    "ExecuteTime": {
     "end_time": "2018-08-26T08:14:21.422782Z",
     "start_time": "2018-08-26T08:14:21.375905Z"
    },
    "collapsed": true
   },
   "outputs": [
    {
     "name": "stderr",
     "output_type": "stream",
     "text": [
      "C:\\Users\\test\\Anaconda3\\lib\\site-packages\\ipykernel_launcher.py:1: SettingWithCopyWarning: \n",
      "A value is trying to be set on a copy of a slice from a DataFrame.\n",
      "Try using .loc[row_indexer,col_indexer] = value instead\n",
      "\n",
      "See the caveats in the documentation: http://pandas.pydata.org/pandas-docs/stable/indexing.html#indexing-view-versus-copy\n",
      "  \"\"\"Entry point for launching an IPython kernel.\n"
     ]
    }
   ],
   "source": [
    "df3_test['CR_EMPLOYER'] = df3_test['CR_EMPLOYER'].fillna(0)\n",
    "df3_train['CR_EMPLOYER'] = df3_train['CR_EMPLOYER'].fillna(0)"
   ]
  },
  {
   "cell_type": "code",
   "execution_count": 88,
   "metadata": {
    "ExecuteTime": {
     "end_time": "2018-08-26T08:16:58.490621Z",
     "start_time": "2018-08-26T08:16:58.487603Z"
    }
   },
   "outputs": [],
   "source": [
    "df3_train.head()\n",
    "del df3_test['TEST']\n",
    "del df3_train['TEST']"
   ]
  },
  {
   "cell_type": "code",
   "execution_count": 89,
   "metadata": {
    "ExecuteTime": {
     "end_time": "2018-08-26T08:17:07.062707Z",
     "start_time": "2018-08-26T08:17:07.052708Z"
    }
   },
   "outputs": [
    {
     "data": {
      "text/html": [
       "<div>\n",
       "<style scoped>\n",
       "    .dataframe tbody tr th:only-of-type {\n",
       "        vertical-align: middle;\n",
       "    }\n",
       "\n",
       "    .dataframe tbody tr th {\n",
       "        vertical-align: top;\n",
       "    }\n",
       "\n",
       "    .dataframe thead th {\n",
       "        text-align: right;\n",
       "    }\n",
       "</style>\n",
       "<table border=\"1\" class=\"dataframe\">\n",
       "  <thead>\n",
       "    <tr style=\"text-align: right;\">\n",
       "      <th></th>\n",
       "      <th>CASE_STATUS</th>\n",
       "      <th>FULL_TIME_POSITION</th>\n",
       "      <th>PREVAILING_WAGE</th>\n",
       "      <th>CR_EMPLOYER</th>\n",
       "      <th>2011.0</th>\n",
       "      <th>2012.0</th>\n",
       "      <th>2013.0</th>\n",
       "      <th>2014.0</th>\n",
       "      <th>2015.0</th>\n",
       "      <th>2016.0</th>\n",
       "    </tr>\n",
       "  </thead>\n",
       "  <tbody>\n",
       "    <tr>\n",
       "      <th>0</th>\n",
       "      <td>CERTIFIED</td>\n",
       "      <td>1.0</td>\n",
       "      <td>-0.015817</td>\n",
       "      <td>0.404204</td>\n",
       "      <td>0</td>\n",
       "      <td>0</td>\n",
       "      <td>0</td>\n",
       "      <td>1</td>\n",
       "      <td>0</td>\n",
       "      <td>0</td>\n",
       "    </tr>\n",
       "    <tr>\n",
       "      <th>1</th>\n",
       "      <td>CERTIFIED</td>\n",
       "      <td>1.0</td>\n",
       "      <td>-0.012609</td>\n",
       "      <td>0.258826</td>\n",
       "      <td>0</td>\n",
       "      <td>0</td>\n",
       "      <td>0</td>\n",
       "      <td>0</td>\n",
       "      <td>1</td>\n",
       "      <td>0</td>\n",
       "    </tr>\n",
       "    <tr>\n",
       "      <th>2</th>\n",
       "      <td>CERTIFIED</td>\n",
       "      <td>1.0</td>\n",
       "      <td>-0.013571</td>\n",
       "      <td>0.376880</td>\n",
       "      <td>0</td>\n",
       "      <td>0</td>\n",
       "      <td>0</td>\n",
       "      <td>1</td>\n",
       "      <td>0</td>\n",
       "      <td>0</td>\n",
       "    </tr>\n",
       "    <tr>\n",
       "      <th>3</th>\n",
       "      <td>CERTIFIED</td>\n",
       "      <td>1.0</td>\n",
       "      <td>-0.015817</td>\n",
       "      <td>0.000000</td>\n",
       "      <td>1</td>\n",
       "      <td>0</td>\n",
       "      <td>0</td>\n",
       "      <td>0</td>\n",
       "      <td>0</td>\n",
       "      <td>0</td>\n",
       "    </tr>\n",
       "    <tr>\n",
       "      <th>4</th>\n",
       "      <td>DENIED</td>\n",
       "      <td>1.0</td>\n",
       "      <td>-0.019374</td>\n",
       "      <td>0.122662</td>\n",
       "      <td>0</td>\n",
       "      <td>0</td>\n",
       "      <td>0</td>\n",
       "      <td>0</td>\n",
       "      <td>1</td>\n",
       "      <td>0</td>\n",
       "    </tr>\n",
       "  </tbody>\n",
       "</table>\n",
       "</div>"
      ],
      "text/plain": [
       "  CASE_STATUS  FULL_TIME_POSITION  PREVAILING_WAGE  CR_EMPLOYER  2011.0  \\\n",
       "0   CERTIFIED                 1.0        -0.015817     0.404204       0   \n",
       "1   CERTIFIED                 1.0        -0.012609     0.258826       0   \n",
       "2   CERTIFIED                 1.0        -0.013571     0.376880       0   \n",
       "3   CERTIFIED                 1.0        -0.015817     0.000000       1   \n",
       "4      DENIED                 1.0        -0.019374     0.122662       0   \n",
       "\n",
       "   2012.0  2013.0  2014.0  2015.0  2016.0  \n",
       "0       0       0       1       0       0  \n",
       "1       0       0       0       1       0  \n",
       "2       0       0       1       0       0  \n",
       "3       0       0       0       0       0  \n",
       "4       0       0       0       1       0  "
      ]
     },
     "execution_count": 89,
     "metadata": {},
     "output_type": "execute_result"
    }
   ],
   "source": [
    "df3_train.head()"
   ]
  },
  {
   "cell_type": "code",
   "execution_count": 91,
   "metadata": {
    "ExecuteTime": {
     "end_time": "2018-08-26T08:19:50.087354Z",
     "start_time": "2018-08-26T08:19:49.488956Z"
    },
    "collapsed": true
   },
   "outputs": [
    {
     "name": "stderr",
     "output_type": "stream",
     "text": [
      "C:\\Users\\test\\Anaconda3\\lib\\site-packages\\ipykernel_launcher.py:1: SettingWithCopyWarning: \n",
      "A value is trying to be set on a copy of a slice from a DataFrame.\n",
      "Try using .loc[row_indexer,col_indexer] = value instead\n",
      "\n",
      "See the caveats in the documentation: http://pandas.pydata.org/pandas-docs/stable/indexing.html#indexing-view-versus-copy\n",
      "  \"\"\"Entry point for launching an IPython kernel.\n",
      "C:\\Users\\test\\Anaconda3\\lib\\site-packages\\ipykernel_launcher.py:2: SettingWithCopyWarning: \n",
      "A value is trying to be set on a copy of a slice from a DataFrame.\n",
      "Try using .loc[row_indexer,col_indexer] = value instead\n",
      "\n",
      "See the caveats in the documentation: http://pandas.pydata.org/pandas-docs/stable/indexing.html#indexing-view-versus-copy\n",
      "  \n"
     ]
    }
   ],
   "source": [
    "df3_train['CASE_STATUS'] = df3_train['CASE_STATUS'].replace('CERTIFIED',0)\n",
    "df3_train['CASE_STATUS'] = df3_train['CASE_STATUS'].replace('DENIED',1)"
   ]
  },
  {
   "cell_type": "code",
   "execution_count": null,
   "metadata": {},
   "outputs": [],
   "source": [
    "df3_"
   ]
  },
  {
   "cell_type": "code",
   "execution_count": 107,
   "metadata": {
    "ExecuteTime": {
     "end_time": "2018-08-26T08:30:25.832280Z",
     "start_time": "2018-08-26T08:30:25.827263Z"
    }
   },
   "outputs": [],
   "source": [
    "df3_train_sub = df3_train.iloc[1:50000,:]"
   ]
  },
  {
   "cell_type": "markdown",
   "metadata": {},
   "source": [
    "# SVM"
   ]
  }
 ],
 "metadata": {
  "kernelspec": {
   "display_name": "Python 3",
   "language": "python",
   "name": "python3"
  },
  "language_info": {
   "codemirror_mode": {
    "name": "ipython",
    "version": 3
   },
   "file_extension": ".py",
   "mimetype": "text/x-python",
   "name": "python",
   "nbconvert_exporter": "python",
   "pygments_lexer": "ipython3",
   "version": "3.6.5"
  },
  "latex_envs": {
   "LaTeX_envs_menu_present": true,
   "autoclose": false,
   "autocomplete": true,
   "bibliofile": "biblio.bib",
   "cite_by": "apalike",
   "current_citInitial": 1,
   "eqLabelWithNumbers": true,
   "eqNumInitial": 1,
   "hotkeys": {
    "equation": "Ctrl-E",
    "itemize": "Ctrl-I"
   },
   "labels_anchors": false,
   "latex_user_defs": false,
   "report_style_numbering": false,
   "user_envs_cfg": false
  },
  "toc": {
   "base_numbering": 1,
   "nav_menu": {},
   "number_sections": true,
   "sideBar": true,
   "skip_h1_title": false,
   "title_cell": "Table of Contents",
   "title_sidebar": "Contents",
   "toc_cell": false,
   "toc_position": {},
   "toc_section_display": true,
   "toc_window_display": false
  },
  "varInspector": {
   "cols": {
    "lenName": 16,
    "lenType": 16,
    "lenVar": 40
   },
   "kernels_config": {
    "python": {
     "delete_cmd_postfix": "",
     "delete_cmd_prefix": "del ",
     "library": "var_list.py",
     "varRefreshCmd": "print(var_dic_list())"
    },
    "r": {
     "delete_cmd_postfix": ") ",
     "delete_cmd_prefix": "rm(",
     "library": "var_list.r",
     "varRefreshCmd": "cat(var_dic_list()) "
    }
   },
   "types_to_exclude": [
    "module",
    "function",
    "builtin_function_or_method",
    "instance",
    "_Feature"
   ],
   "window_display": false
  }
 },
 "nbformat": 4,
 "nbformat_minor": 2
}
