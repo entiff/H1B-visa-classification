{
 "cells": [
  {
   "cell_type": "markdown",
   "metadata": {},
   "source": [
    "## BOAZ Mini Project\n",
    "\n",
    "### h1b data [h1b_train, h1b_dev, h1b_test]\n",
    "\n",
    "- Use h1b __train data__ for train your model.\n",
    "- Tune your model with __dev data__.\n",
    "- Finally check your best performed model score with __test data__.\n",
    "- __*You should clean your train dev test data first!!*__\n",
    "- Score function : Accuracy\n",
    "<br>\n",
    "<br>\n",
    "- __Your goal is to predict CASE_STATUS, using other features.__\n",
    "- You can choose the features you want to use in your project."
   ]
  },
  {
   "cell_type": "markdown",
   "metadata": {},
   "source": [
    "### Attribute Information\n",
    "\n",
    "- __CASE_STATUS__\n",
    "    - The CASE_STATUS field denotes the status of the application after LCA processing. Certified applications are filed with USCIS for H-1B approval.\n",
    "<br>\n",
    "<br>\n",
    "- EMPLOYER_NAME\n",
    "    - Name of the employer submitting labor condition application.\n",
    "<br>\n",
    "<br>\n",
    "- SOC_NAME\n",
    "    - Occupational name associated with the SOC_CODE. SOC_CODE is the occupational code associated with the job being requested for temporary labor condition, as classified by the Standard Occupational Classification (SOC) System.\n",
    "<br>\n",
    "<br>\n",
    "- JOB_TITLE\n",
    "    - Title of the job.\n",
    "<br>\n",
    "<br>\n",
    "- FULL_TIME_POSITION\n",
    "    - Y = Full Time Position; N = Part Time Position.\n",
    "<br>\n",
    "<br>\n",
    "- PREVAILING_WAGE\n",
    "    - Prevailing Wage for the job being requested for temporary labor condition. The wage is listed at annual scale in USD. The prevailing wage for a job position is defined as the average wage paid to similarly employed workers in the requested occupation in the area of intended employment. The prevailing wage is based on the employer’s minimum requirements for the position.\n",
    "<br>\n",
    "<br>\n",
    "- YEAR\n",
    "    - Year in which the H-1B visa petition was filed.\n",
    "<br>\n",
    "<br>"
   ]
  },
  {
   "cell_type": "markdown",
   "metadata": {},
   "source": [
    "### In this assignment, you will design, implement, and evaluate the appropriate models for given data.\n",
    "0. Preprocess; normalization, feature selection, etc.\n",
    "1. Model selection; characteristics of datasets need to be comprehended.\n",
    "2. Evaluation; This step should be done properly to prevent overfitting problem.\"\n",
    "3. Enhancement; parameter tuning and feature selection, etc."
   ]
  },
  {
   "cell_type": "markdown",
   "metadata": {},
   "source": [
    "# EDA"
   ]
  },
  {
   "cell_type": "markdown",
   "metadata": {},
   "source": [
    "## 라이브러리"
   ]
  },
  {
   "cell_type": "code",
   "execution_count": 1,
   "metadata": {
    "ExecuteTime": {
     "end_time": "2018-08-29T15:22:23.732916Z",
     "start_time": "2018-08-29T15:22:18.833752Z"
    }
   },
   "outputs": [],
   "source": [
    "import numpy as np\n",
    "import matplotlib\n",
    "import pandas as pd\n",
    "import seaborn as sns\n",
    "from matplotlib import pyplot as plt\n",
    "from subprocess import check_output\n",
    "from matplotlib.ticker import FuncFormatter\n",
    "%matplotlib inline"
   ]
  },
  {
   "cell_type": "markdown",
   "metadata": {},
   "source": [
    "## 데이터 불러오기"
   ]
  },
  {
   "cell_type": "code",
   "execution_count": 2,
   "metadata": {
    "ExecuteTime": {
     "end_time": "2018-08-29T15:22:37.604537Z",
     "start_time": "2018-08-29T15:22:29.654364Z"
    }
   },
   "outputs": [],
   "source": [
    "df_train = pd.read_csv('C://Users/test/Desktop/BOAZ/session/BOAZ Mini Project/h1b_train.csv')\n",
    "df_dev = pd.read_csv('C://Users/test/Desktop/BOAZ/session/BOAZ Mini Project/h1b_dev.csv')\n",
    "df_test = pd.read_csv('C://Users/test/Desktop/BOAZ/session/BOAZ Mini Project/h1b_test_no_ylabel.csv')"
   ]
  },
  {
   "cell_type": "code",
   "execution_count": 3,
   "metadata": {
    "ExecuteTime": {
     "end_time": "2018-08-29T15:22:39.752790Z",
     "start_time": "2018-08-29T15:22:39.736833Z"
    }
   },
   "outputs": [],
   "source": [
    "df_train['TEST'] = 0\n",
    "df_dev['TEST'] = 0\n",
    "df_test['TEST'] = 1"
   ]
  },
  {
   "cell_type": "code",
   "execution_count": 4,
   "metadata": {
    "ExecuteTime": {
     "end_time": "2018-08-29T06:33:26.499014Z",
     "start_time": "2018-08-29T06:33:26.491375Z"
    }
   },
   "outputs": [
    {
     "name": "stdout",
     "output_type": "stream",
     "text": [
      "Number of entries: 1802458\n",
      "Number of entries: 600000\n",
      "Number of entries: 541560\n"
     ]
    }
   ],
   "source": [
    "print('Number of entries:', df_train.shape[0])\n",
    "print('Number of entries:', df_dev.shape[0])\n",
    "print('Number of entries:', df_test.shape[0])\n",
    "# train 180만개, dev 60만개, test 54만개"
   ]
  },
  {
   "cell_type": "code",
   "execution_count": 53,
   "metadata": {
    "ExecuteTime": {
     "end_time": "2018-08-29T07:05:14.708297Z",
     "start_time": "2018-08-29T07:05:12.337826Z"
    },
    "collapsed": true
   },
   "outputs": [
    {
     "name": "stdout",
     "output_type": "stream",
     "text": [
      "Nunber of null: Unnamed: 0                0\n",
      "CASE_STATUS               8\n",
      "EMPLOYER_NAME            35\n",
      "SOC_NAME              10706\n",
      "JOB_TITLE                26\n",
      "FULL_TIME_POSITION        9\n",
      "PREVAILING_WAGE          51\n",
      "YEAR                      8\n",
      "WORKSITE                  0\n",
      "lon                   64045\n",
      "lat                   64045\n",
      "TEST                      0\n",
      "dtype: int64\n",
      "Nunber of null: Unnamed: 0                0\n",
      "CASE_STATUS               2\n",
      "EMPLOYER_NAME            14\n",
      "SOC_NAME               3508\n",
      "JOB_TITLE                 9\n",
      "FULL_TIME_POSITION        3\n",
      "PREVAILING_WAGE          22\n",
      "YEAR                      2\n",
      "WORKSITE                  0\n",
      "lon                   21584\n",
      "lat                   21584\n",
      "TEST                      0\n",
      "dtype: int64\n",
      "Nunber of null: Unnamed: 0                0\n",
      "EMPLOYER_NAME             1\n",
      "SOC_NAME               3146\n",
      "JOB_TITLE                 3\n",
      "FULL_TIME_POSITION        0\n",
      "PREVAILING_WAGE           5\n",
      "YEAR                      0\n",
      "WORKSITE                  0\n",
      "lon                   19559\n",
      "lat                   19559\n",
      "TEST                      0\n",
      "dtype: int64\n"
     ]
    }
   ],
   "source": [
    "print('Nunber of null:', df_train.isnull().sum())\n",
    "print('Nunber of null:', df_dev.isnull().sum())\n",
    "print('Nunber of null:', df_test.isnull().sum())\n",
    "# soc와 lon,lat에 null 많음"
   ]
  },
  {
   "cell_type": "code",
   "execution_count": 4,
   "metadata": {
    "ExecuteTime": {
     "end_time": "2018-08-29T15:22:48.909508Z",
     "start_time": "2018-08-29T15:22:47.393098Z"
    },
    "collapsed": true
   },
   "outputs": [
    {
     "name": "stderr",
     "output_type": "stream",
     "text": [
      "C:\\Users\\test\\Anaconda3\\lib\\site-packages\\ipykernel_launcher.py:1: FutureWarning: Sorting because non-concatenation axis is not aligned. A future version\n",
      "of pandas will change to not sort by default.\n",
      "\n",
      "To accept the future behavior, pass 'sort=True'.\n",
      "\n",
      "To retain the current behavior and silence the warning, pass sort=False\n",
      "\n",
      "  \"\"\"Entry point for launching an IPython kernel.\n",
      "C:\\Users\\test\\Anaconda3\\lib\\site-packages\\ipykernel_launcher.py:2: FutureWarning: Sorting because non-concatenation axis is not aligned. A future version\n",
      "of pandas will change to not sort by default.\n",
      "\n",
      "To accept the future behavior, pass 'sort=True'.\n",
      "\n",
      "To retain the current behavior and silence the warning, pass sort=False\n",
      "\n",
      "  \n"
     ]
    }
   ],
   "source": [
    "df_all = pd.concat([df_train, df_test])\n",
    "df_all = pd.concat([df_all, df_dev])"
   ]
  },
  {
   "cell_type": "code",
   "execution_count": 5,
   "metadata": {
    "ExecuteTime": {
     "end_time": "2018-08-29T15:22:58.704268Z",
     "start_time": "2018-08-29T15:22:58.232540Z"
    }
   },
   "outputs": [],
   "source": [
    "df_train = pd.concat([df_train,df_dev])"
   ]
  },
  {
   "cell_type": "code",
   "execution_count": 6,
   "metadata": {
    "ExecuteTime": {
     "end_time": "2018-08-29T15:23:20.533901Z",
     "start_time": "2018-08-29T15:23:19.036340Z"
    }
   },
   "outputs": [
    {
     "name": "stdout",
     "output_type": "stream",
     "text": [
      "Number of entries: 2944018\n",
      "CASE_STATUS           541570\n",
      "EMPLOYER_NAME             50\n",
      "FULL_TIME_POSITION        12\n",
      "JOB_TITLE                 38\n",
      "PREVAILING_WAGE           78\n",
      "SOC_NAME               17360\n",
      "TEST                       0\n",
      "Unnamed: 0                 0\n",
      "WORKSITE                   0\n",
      "YEAR                      10\n",
      "lat                   105188\n",
      "lon                   105188\n",
      "dtype: int64\n"
     ]
    }
   ],
   "source": [
    "print('Number of entries:', df_all.shape[0])\n",
    "print(df_all.isnull().sum())"
   ]
  },
  {
   "cell_type": "markdown",
   "metadata": {},
   "source": [
    "## 일단 train으로 전처리"
   ]
  },
  {
   "cell_type": "code",
   "execution_count": 7,
   "metadata": {
    "ExecuteTime": {
     "end_time": "2018-08-29T15:23:34.129503Z",
     "start_time": "2018-08-29T15:23:34.107562Z"
    },
    "scrolled": true
   },
   "outputs": [
    {
     "data": {
      "text/html": [
       "<div>\n",
       "<style scoped>\n",
       "    .dataframe tbody tr th:only-of-type {\n",
       "        vertical-align: middle;\n",
       "    }\n",
       "\n",
       "    .dataframe tbody tr th {\n",
       "        vertical-align: top;\n",
       "    }\n",
       "\n",
       "    .dataframe thead th {\n",
       "        text-align: right;\n",
       "    }\n",
       "</style>\n",
       "<table border=\"1\" class=\"dataframe\">\n",
       "  <thead>\n",
       "    <tr style=\"text-align: right;\">\n",
       "      <th></th>\n",
       "      <th>Unnamed: 0</th>\n",
       "      <th>CASE_STATUS</th>\n",
       "      <th>EMPLOYER_NAME</th>\n",
       "      <th>SOC_NAME</th>\n",
       "      <th>JOB_TITLE</th>\n",
       "      <th>FULL_TIME_POSITION</th>\n",
       "      <th>PREVAILING_WAGE</th>\n",
       "      <th>YEAR</th>\n",
       "      <th>WORKSITE</th>\n",
       "      <th>lon</th>\n",
       "      <th>lat</th>\n",
       "      <th>TEST</th>\n",
       "    </tr>\n",
       "  </thead>\n",
       "  <tbody>\n",
       "    <tr>\n",
       "      <th>0</th>\n",
       "      <td>1349742</td>\n",
       "      <td>CERTIFIED</td>\n",
       "      <td>INTERNATIONAL SYSTEMS TECHNOLOGIES, INC.</td>\n",
       "      <td>Computer Programmers</td>\n",
       "      <td>PROGRAMMER ANALYST</td>\n",
       "      <td>Y</td>\n",
       "      <td>61589.0</td>\n",
       "      <td>2014.0</td>\n",
       "      <td>SUNNYVALE, CALIFORNIA</td>\n",
       "      <td>-122.036350</td>\n",
       "      <td>37.368830</td>\n",
       "      <td>0</td>\n",
       "    </tr>\n",
       "    <tr>\n",
       "      <th>1</th>\n",
       "      <td>789205</td>\n",
       "      <td>CERTIFIED</td>\n",
       "      <td>GOOGLE INC.</td>\n",
       "      <td>NETWORK AND COMPUTER SYSTEMS ADMINISTRATORS</td>\n",
       "      <td>SITE RELIABILITY ENGINEER</td>\n",
       "      <td>Y</td>\n",
       "      <td>79144.0</td>\n",
       "      <td>2015.0</td>\n",
       "      <td>SAN FRANCISCO, CALIFORNIA</td>\n",
       "      <td>-122.419415</td>\n",
       "      <td>37.774929</td>\n",
       "      <td>0</td>\n",
       "    </tr>\n",
       "    <tr>\n",
       "      <th>2</th>\n",
       "      <td>1617140</td>\n",
       "      <td>CERTIFIED</td>\n",
       "      <td>WIPRO LIMITED</td>\n",
       "      <td>Computer Occupations, All Other</td>\n",
       "      <td>PROJECT MANAGER</td>\n",
       "      <td>Y</td>\n",
       "      <td>73882.0</td>\n",
       "      <td>2014.0</td>\n",
       "      <td>EL SEGUNDO, CALIFORNIA</td>\n",
       "      <td>-118.416465</td>\n",
       "      <td>33.919180</td>\n",
       "      <td>0</td>\n",
       "    </tr>\n",
       "    <tr>\n",
       "      <th>3</th>\n",
       "      <td>2757905</td>\n",
       "      <td>CERTIFIED</td>\n",
       "      <td>CPO SERVICES, INC.</td>\n",
       "      <td>Orthotists and Prosthetists</td>\n",
       "      <td>STAFF PROSTHETIST</td>\n",
       "      <td>Y</td>\n",
       "      <td>61589.0</td>\n",
       "      <td>2011.0</td>\n",
       "      <td>PEORIA, ILLINOIS</td>\n",
       "      <td>-89.588986</td>\n",
       "      <td>40.693649</td>\n",
       "      <td>0</td>\n",
       "    </tr>\n",
       "    <tr>\n",
       "      <th>4</th>\n",
       "      <td>1127948</td>\n",
       "      <td>WITHDRAWN</td>\n",
       "      <td>VALUE SOFTWARE PRODUCTS INC</td>\n",
       "      <td>COMPUTER SYSTEMS ANALYSTS</td>\n",
       "      <td>SOLUTIONS ARCHITECT</td>\n",
       "      <td>Y</td>\n",
       "      <td>71614.0</td>\n",
       "      <td>2015.0</td>\n",
       "      <td>MANASSAS, VIRGINIA</td>\n",
       "      <td>-77.475267</td>\n",
       "      <td>38.750949</td>\n",
       "      <td>0</td>\n",
       "    </tr>\n",
       "  </tbody>\n",
       "</table>\n",
       "</div>"
      ],
      "text/plain": [
       "   Unnamed: 0 CASE_STATUS                             EMPLOYER_NAME  \\\n",
       "0     1349742   CERTIFIED  INTERNATIONAL SYSTEMS TECHNOLOGIES, INC.   \n",
       "1      789205   CERTIFIED                               GOOGLE INC.   \n",
       "2     1617140   CERTIFIED                             WIPRO LIMITED   \n",
       "3     2757905   CERTIFIED                        CPO SERVICES, INC.   \n",
       "4     1127948   WITHDRAWN               VALUE SOFTWARE PRODUCTS INC   \n",
       "\n",
       "                                      SOC_NAME                  JOB_TITLE  \\\n",
       "0                         Computer Programmers         PROGRAMMER ANALYST   \n",
       "1  NETWORK AND COMPUTER SYSTEMS ADMINISTRATORS  SITE RELIABILITY ENGINEER   \n",
       "2              Computer Occupations, All Other            PROJECT MANAGER   \n",
       "3                  Orthotists and Prosthetists          STAFF PROSTHETIST   \n",
       "4                    COMPUTER SYSTEMS ANALYSTS        SOLUTIONS ARCHITECT   \n",
       "\n",
       "  FULL_TIME_POSITION  PREVAILING_WAGE    YEAR                   WORKSITE  \\\n",
       "0                  Y          61589.0  2014.0      SUNNYVALE, CALIFORNIA   \n",
       "1                  Y          79144.0  2015.0  SAN FRANCISCO, CALIFORNIA   \n",
       "2                  Y          73882.0  2014.0     EL SEGUNDO, CALIFORNIA   \n",
       "3                  Y          61589.0  2011.0           PEORIA, ILLINOIS   \n",
       "4                  Y          71614.0  2015.0         MANASSAS, VIRGINIA   \n",
       "\n",
       "          lon        lat  TEST  \n",
       "0 -122.036350  37.368830     0  \n",
       "1 -122.419415  37.774929     0  \n",
       "2 -118.416465  33.919180     0  \n",
       "3  -89.588986  40.693649     0  \n",
       "4  -77.475267  38.750949     0  "
      ]
     },
     "execution_count": 7,
     "metadata": {},
     "output_type": "execute_result"
    }
   ],
   "source": [
    "df_train.head()\n",
    "# CASE_STATUS -> CERTIFIED or DENIED\n",
    "# EMPLOYER_NAME -> 고용주 회사\n",
    "# SOC_NAME -> 직업군\n",
    "# JOB_TITLE -> 직무"
   ]
  },
  {
   "cell_type": "markdown",
   "metadata": {},
   "source": [
    "### Certified랑 Denied만 남기기"
   ]
  },
  {
   "cell_type": "code",
   "execution_count": 8,
   "metadata": {
    "ExecuteTime": {
     "end_time": "2018-08-29T15:23:39.477592Z",
     "start_time": "2018-08-29T15:23:37.032629Z"
    }
   },
   "outputs": [],
   "source": [
    "df_train = df_train[df_train.CASE_STATUS != 'REJECTED']\n",
    "df_train = df_train[df_train.CASE_STATUS != 'WITHDRAWN'] \n",
    "df_train = df_train[df_train.CASE_STATUS != 'CERTIFIED-WITHDRAWN']\n",
    "df_train = df_train[df_train.CASE_STATUS != 'PENDING QUALITY AND COMPLIANCE REVIEW - UNASSIGNED']"
   ]
  },
  {
   "cell_type": "code",
   "execution_count": 102,
   "metadata": {
    "ExecuteTime": {
     "end_time": "2018-08-29T07:24:56.471555Z",
     "start_time": "2018-08-29T07:24:56.014185Z"
    }
   },
   "outputs": [
    {
     "data": {
      "text/plain": [
       "CERTIFIED    2092970\n",
       "DENIED         75439\n",
       "Name: CASE_STATUS, dtype: int64"
      ]
     },
     "execution_count": 102,
     "metadata": {},
     "output_type": "execute_result"
    }
   ],
   "source": [
    "df_train['CASE_STATUS'].value_counts().sort_values(ascending=False)"
   ]
  },
  {
   "cell_type": "code",
   "execution_count": 103,
   "metadata": {
    "ExecuteTime": {
     "end_time": "2018-08-29T07:25:00.300499Z",
     "start_time": "2018-08-29T07:24:58.648684Z"
    }
   },
   "outputs": [
    {
     "name": "stdout",
     "output_type": "stream",
     "text": [
      "Unnamed: 0                0\n",
      "CASE_STATUS              10\n",
      "EMPLOYER_NAME            27\n",
      "SOC_NAME              12757\n",
      "JOB_TITLE                17\n",
      "FULL_TIME_POSITION       11\n",
      "PREVAILING_WAGE          58\n",
      "YEAR                     10\n",
      "WORKSITE                  0\n",
      "lon                   77512\n",
      "lat                   77512\n",
      "TEST                      0\n",
      "dtype: int64\n"
     ]
    }
   ],
   "source": [
    "print(df_train.isnull().sum())"
   ]
  },
  {
   "cell_type": "code",
   "execution_count": 9,
   "metadata": {
    "ExecuteTime": {
     "end_time": "2018-08-29T15:23:54.727316Z",
     "start_time": "2018-08-29T15:23:54.055602Z"
    }
   },
   "outputs": [],
   "source": [
    "df_train['CASE_STATUS'] = df_train['CASE_STATUS'].replace('CERTIFIED',0)\n",
    "df_train['CASE_STATUS'] = df_train['CASE_STATUS'].replace('DENIED',1)"
   ]
  },
  {
   "cell_type": "code",
   "execution_count": 178,
   "metadata": {
    "ExecuteTime": {
     "end_time": "2018-08-29T07:54:51.177420Z",
     "start_time": "2018-08-29T07:54:51.121210Z"
    }
   },
   "outputs": [
    {
     "data": {
      "text/plain": [
       "0.0    2092970\n",
       "1.0      75439\n",
       "Name: CASE_STATUS, dtype: int64"
      ]
     },
     "execution_count": 178,
     "metadata": {},
     "output_type": "execute_result"
    }
   ],
   "source": [
    "df_train['CASE_STATUS'].value_counts().sort_values(ascending=False)"
   ]
  },
  {
   "cell_type": "code",
   "execution_count": 180,
   "metadata": {
    "ExecuteTime": {
     "end_time": "2018-08-29T07:55:16.350870Z",
     "start_time": "2018-08-29T07:55:16.342431Z"
    }
   },
   "outputs": [
    {
     "data": {
      "text/plain": [
       "0.034790023468819764"
      ]
     },
     "execution_count": 180,
     "metadata": {},
     "output_type": "execute_result"
    }
   ],
   "source": [
    "75439/(2092970+75439)\n",
    "#DINIED 비율 = 3%"
   ]
  },
  {
   "cell_type": "markdown",
   "metadata": {},
   "source": [
    "### Full_time_position 변환"
   ]
  },
  {
   "cell_type": "code",
   "execution_count": 10,
   "metadata": {
    "ExecuteTime": {
     "end_time": "2018-08-29T15:23:59.173239Z",
     "start_time": "2018-08-29T15:23:58.554153Z"
    }
   },
   "outputs": [],
   "source": [
    "df_train['FULL_TIME_POSITION'] = df_train['FULL_TIME_POSITION'].replace('Y',1)\n",
    "df_train['FULL_TIME_POSITION'] = df_train['FULL_TIME_POSITION'].replace('N',0)"
   ]
  },
  {
   "cell_type": "markdown",
   "metadata": {},
   "source": [
    "### Prevailing_wage 변수 log 변환"
   ]
  },
  {
   "cell_type": "code",
   "execution_count": 17,
   "metadata": {
    "ExecuteTime": {
     "end_time": "2018-08-29T15:25:07.024362Z",
     "start_time": "2018-08-29T15:25:06.993446Z"
    }
   },
   "outputs": [
    {
     "data": {
      "text/plain": [
       "0    61589.0\n",
       "1    79144.0\n",
       "2    73882.0\n",
       "3    61589.0\n",
       "5    42120.0\n",
       "Name: PREVAILING_WAGE, dtype: float64"
      ]
     },
     "execution_count": 17,
     "metadata": {},
     "output_type": "execute_result"
    }
   ],
   "source": [
    "dfwage = df_train['PREVAILING_WAGE'].dropna()\n",
    "dfwage.head()"
   ]
  },
  {
   "cell_type": "code",
   "execution_count": 18,
   "metadata": {
    "ExecuteTime": {
     "end_time": "2018-08-29T15:25:07.694610Z",
     "start_time": "2018-08-29T15:25:07.668679Z"
    }
   },
   "outputs": [
    {
     "data": {
      "text/plain": [
       "0"
      ]
     },
     "execution_count": 18,
     "metadata": {},
     "output_type": "execute_result"
    }
   ],
   "source": [
    "dfwage.isnull().sum()"
   ]
  },
  {
   "cell_type": "code",
   "execution_count": 19,
   "metadata": {
    "ExecuteTime": {
     "end_time": "2018-08-29T15:25:08.413782Z",
     "start_time": "2018-08-29T15:25:08.082779Z"
    }
   },
   "outputs": [
    {
     "data": {
      "text/plain": [
       "(0, 200000)"
      ]
     },
     "execution_count": 19,
     "metadata": {},
     "output_type": "execute_result"
    },
    {
     "data": {
      "image/png": "[encoded data removed]",
      "text/plain": [
       "<Figure size 864x288 with 1 Axes>"
      ]
     },
     "metadata": {},
     "output_type": "display_data"
    }
   ],
   "source": [
    "plt.subplots(1, 1, figsize=(12, 4))\n",
    "plt.hist(dfwage[:1200],bins = 200)\n",
    "plt.xlim([0, 200000])"
   ]
  },
  {
   "cell_type": "code",
   "execution_count": 20,
   "metadata": {
    "ExecuteTime": {
     "end_time": "2018-08-29T15:25:11.747293Z",
     "start_time": "2018-08-29T15:25:11.730371Z"
    }
   },
   "outputs": [
    {
     "name": "stderr",
     "output_type": "stream",
     "text": [
      "C:\\Users\\test\\Anaconda3\\lib\\site-packages\\ipykernel_launcher.py:1: RuntimeWarning: divide by zero encountered in log\n",
      "  \"\"\"Entry point for launching an IPython kernel.\n"
     ]
    }
   ],
   "source": [
    "logwage=np.log(df_train['PREVAILING_WAGE'])"
   ]
  },
  {
   "cell_type": "code",
   "execution_count": 24,
   "metadata": {
    "ExecuteTime": {
     "end_time": "2018-08-29T15:25:28.770873Z",
     "start_time": "2018-08-29T15:25:28.436716Z"
    }
   },
   "outputs": [
    {
     "data": {
      "text/plain": [
       "(9, 13)"
      ]
     },
     "execution_count": 24,
     "metadata": {},
     "output_type": "execute_result"
    },
    {
     "data": {
      "image/png": "[encoded data removed]",
      "text/plain": [
       "<Figure size 864x288 with 1 Axes>"
      ]
     },
     "metadata": {},
     "output_type": "display_data"
    }
   ],
   "source": [
    "plt.subplots(1, 1, figsize=(12, 4))\n",
    "plt.hist(logwage[:11000].dropna(),bins = 200)\n",
    "plt.xlim([9, 13])"
   ]
  },
  {
   "cell_type": "code",
   "execution_count": 25,
   "metadata": {
    "ExecuteTime": {
     "end_time": "2018-08-29T15:26:06.432344Z",
     "start_time": "2018-08-29T15:26:06.406449Z"
    }
   },
   "outputs": [
    {
     "name": "stderr",
     "output_type": "stream",
     "text": [
      "C:\\Users\\test\\Anaconda3\\lib\\site-packages\\ipykernel_launcher.py:1: RuntimeWarning: divide by zero encountered in log\n",
      "  \"\"\"Entry point for launching an IPython kernel.\n"
     ]
    }
   ],
   "source": [
    "df_train['PREVAILING_WAGE'] = np.log(df_train['PREVAILING_WAGE'])"
   ]
  },
  {
   "cell_type": "markdown",
   "metadata": {},
   "source": [
    "### Employer_name"
   ]
  },
  {
   "cell_type": "code",
   "execution_count": 26,
   "metadata": {
    "ExecuteTime": {
     "end_time": "2018-08-29T15:26:12.121436Z",
     "start_time": "2018-08-29T15:26:08.797286Z"
    },
    "collapsed": true
   },
   "outputs": [
    {
     "data": {
      "text/plain": [
       "898123                       \"I HAVE A DREAM\" FOUNDATION\n",
       "52568                                   \"K\" LINE AMERICA\n",
       "1461640                                 \"K\" LINE AMERICA\n",
       "1419485                                 \"K\" LINE AMERICA\n",
       "446264                                  \"K\" LINE AMERICA\n",
       "782746                            \"K\" LINE AMERICA, INC.\n",
       "1785766                           \"K\" LINE AMERICA, INC.\n",
       "549252                            \"K\" LINE AMERICA, INC.\n",
       "413143                            \"K\" LINE AMERICA, INC.\n",
       "1056834                           \"K\" LINE AMERICA, INC.\n",
       "596871                            \"K\" LINE AMERICA, INC.\n",
       "1684026                 \"K\" LINE LOGISITCS (U.S.A.) INC.\n",
       "45913                        \"K\" LINE LOGISTICS USA INC.\n",
       "758887                       \"K\" LINE LOGISTICS USA INC.\n",
       "1167350                     \"K\" LINE LOGISTICS USA, INC.\n",
       "123895                        &QUOT;K&QUOT; LINE AMERICA\n",
       "1308957                          &TV COMMUNICATIONS INC.\n",
       "871877                           &TV COMMUNICATIONS INC.\n",
       "66543                            &TV COMMUNICATIONS INC.\n",
       "97058                            &TV COMMUNICATIONS INC.\n",
       "7298                            &TV COMMUNICATIONS, INC.\n",
       "411415                          &TV COMMUNICATIONS, INC.\n",
       "1607194                                        &YET, LLC\n",
       "1526654                       'K' LINE LOGISTICS USA INC\n",
       "352853                       'K' LINE LOGISTICS USA INC.\n",
       "4155                         'K' LINE LOGISTICS USA INC.\n",
       "1449122                      'K' LINE LOGISTICS USA INC.\n",
       "449194               (AMBI)DEXTROUS ASSET MANAGEMENT LLC\n",
       "1362399    (HOUSEHOLD OF SANDRA SIRUGO & JORGE D. JAURY)\n",
       "109931     (HOUSEHOLD OF SANDRA SIRUGO & JORGE D. JAURY)\n",
       "                               ...                      \n",
       "1094290                            ÈZE BULLES DRINKS LLC\n",
       "755131                                        ÉTUDES LLC\n",
       "912543                                       ÉTUDES, LLC\n",
       "96188                                                NaN\n",
       "102272                                               NaN\n",
       "116676                                               NaN\n",
       "151474                                               NaN\n",
       "226068                                               NaN\n",
       "395964                                               NaN\n",
       "409735                                               NaN\n",
       "510101                                               NaN\n",
       "577981                                               NaN\n",
       "578471                                               NaN\n",
       "619827                                               NaN\n",
       "743505                                               NaN\n",
       "946503                                               NaN\n",
       "1205037                                              NaN\n",
       "1232526                                              NaN\n",
       "1252774                                              NaN\n",
       "1456977                                              NaN\n",
       "1621574                                              NaN\n",
       "1706956                                              NaN\n",
       "1734208                                              NaN\n",
       "221852                                               NaN\n",
       "287843                                               NaN\n",
       "322628                                               NaN\n",
       "376940                                               NaN\n",
       "388097                                               NaN\n",
       "414183                                               NaN\n",
       "544578                                               NaN\n",
       "Name: EMPLOYER_NAME, Length: 2168419, dtype: object"
      ]
     },
     "execution_count": 26,
     "metadata": {},
     "output_type": "execute_result"
    }
   ],
   "source": [
    "df_train['EMPLOYER_NAME'].sort_values()\n",
    "# EMPLOYER_NAME 간단한 텍스트 전처리 필요"
   ]
  },
  {
   "cell_type": "code",
   "execution_count": 27,
   "metadata": {
    "ExecuteTime": {
     "end_time": "2018-08-29T15:26:32.338432Z",
     "start_time": "2018-08-29T15:26:31.478123Z"
    }
   },
   "outputs": [],
   "source": [
    "df_train['EMPLOYER_NAME'] = df_train['EMPLOYER_NAME'].str.replace('.','')"
   ]
  },
  {
   "cell_type": "code",
   "execution_count": 28,
   "metadata": {
    "ExecuteTime": {
     "end_time": "2018-08-29T15:26:33.952890Z",
     "start_time": "2018-08-29T15:26:33.074968Z"
    }
   },
   "outputs": [],
   "source": [
    "df_train['EMPLOYER_NAME'] = df_train['EMPLOYER_NAME'].str.replace(',','')"
   ]
  },
  {
   "cell_type": "code",
   "execution_count": 29,
   "metadata": {
    "ExecuteTime": {
     "end_time": "2018-08-29T15:26:35.818130Z",
     "start_time": "2018-08-29T15:26:35.186780Z"
    }
   },
   "outputs": [
    {
     "name": "stdout",
     "output_type": "stream",
     "text": [
      "182875\n",
      "INFOSYS LIMITED                      104225\n",
      "TATA CONSULTANCY SERVICES LIMITED     51441\n",
      "WIPRO LIMITED                         34776\n",
      "DELOITTE CONSULTING LLP               29355\n",
      "ACCENTURE LLP                         26560\n",
      "IBM INDIA PRIVATE LIMITED             22594\n",
      "MICROSOFT CORPORATION                 17868\n",
      "HCL AMERICA INC                       17853\n",
      "ERNST & YOUNG US LLP                  14648\n",
      "CAPGEMINI AMERICA INC                 13466\n",
      "Name: EMPLOYER_NAME, dtype: int64\n"
     ]
    }
   ],
   "source": [
    "employer = df_train['EMPLOYER_NAME'].value_counts().sort_values(ascending=False)\n",
    "print(employer.count())\n",
    "print(employer[0:10])\n",
    "# 회사 종류 18만, INFOSYS 약 10만, 전처리 후 약 2만개 integrated"
   ]
  },
  {
   "cell_type": "code",
   "execution_count": 160,
   "metadata": {
    "ExecuteTime": {
     "end_time": "2018-08-29T07:43:19.946084Z",
     "start_time": "2018-08-29T07:43:18.391891Z"
    },
    "scrolled": true
   },
   "outputs": [
    {
     "data": {
      "text/plain": [
       "<matplotlib.axes._subplots.AxesSubplot at 0x15bb6523860>"
      ]
     },
     "execution_count": 160,
     "metadata": {},
     "output_type": "execute_result"
    },
    {
     "data": {
      "image/png": "[encoded data removed]",
      "text/plain": [
       "<Figure size 432x288 with 1 Axes>"
      ]
     },
     "metadata": {},
     "output_type": "display_data"
    }
   ],
   "source": [
    "df_train['EMPLOYER_NAME'].value_counts().sort_values(ascending=False)[:20].plot.barh()"
   ]
  },
  {
   "cell_type": "code",
   "execution_count": 167,
   "metadata": {
    "ExecuteTime": {
     "end_time": "2018-08-29T07:45:46.667361Z",
     "start_time": "2018-08-29T07:45:46.641928Z"
    },
    "scrolled": true
   },
   "outputs": [
    {
     "data": {
      "text/html": [
       "<div>\n",
       "<style scoped>\n",
       "    .dataframe tbody tr th:only-of-type {\n",
       "        vertical-align: middle;\n",
       "    }\n",
       "\n",
       "    .dataframe tbody tr th {\n",
       "        vertical-align: top;\n",
       "    }\n",
       "\n",
       "    .dataframe thead th {\n",
       "        text-align: right;\n",
       "    }\n",
       "</style>\n",
       "<table border=\"1\" class=\"dataframe\">\n",
       "  <thead>\n",
       "    <tr style=\"text-align: right;\">\n",
       "      <th></th>\n",
       "      <th>Unnamed: 0</th>\n",
       "      <th>CASE_STATUS</th>\n",
       "      <th>EMPLOYER_NAME</th>\n",
       "      <th>SOC_NAME</th>\n",
       "      <th>JOB_TITLE</th>\n",
       "      <th>FULL_TIME_POSITION</th>\n",
       "      <th>PREVAILING_WAGE</th>\n",
       "      <th>YEAR</th>\n",
       "      <th>WORKSITE</th>\n",
       "      <th>lon</th>\n",
       "      <th>lat</th>\n",
       "      <th>TEST</th>\n",
       "    </tr>\n",
       "  </thead>\n",
       "  <tbody>\n",
       "    <tr>\n",
       "      <th>0</th>\n",
       "      <td>1349742</td>\n",
       "      <td>0.0</td>\n",
       "      <td>INTERNATIONAL SYSTEMS TECHNOLOGIES INC</td>\n",
       "      <td>Computer Programmers</td>\n",
       "      <td>PROGRAMMER ANALYST</td>\n",
       "      <td>1.0</td>\n",
       "      <td>11.028239</td>\n",
       "      <td>2014.0</td>\n",
       "      <td>SUNNYVALE, CALIFORNIA</td>\n",
       "      <td>-122.036350</td>\n",
       "      <td>37.368830</td>\n",
       "      <td>0</td>\n",
       "    </tr>\n",
       "    <tr>\n",
       "      <th>1</th>\n",
       "      <td>789205</td>\n",
       "      <td>0.0</td>\n",
       "      <td>GOOGLE INC</td>\n",
       "      <td>NETWORK AND COMPUTER SYSTEMS ADMINISTRATORS</td>\n",
       "      <td>SITE RELIABILITY ENGINEER</td>\n",
       "      <td>1.0</td>\n",
       "      <td>11.279024</td>\n",
       "      <td>2015.0</td>\n",
       "      <td>SAN FRANCISCO, CALIFORNIA</td>\n",
       "      <td>-122.419415</td>\n",
       "      <td>37.774929</td>\n",
       "      <td>0</td>\n",
       "    </tr>\n",
       "    <tr>\n",
       "      <th>2</th>\n",
       "      <td>1617140</td>\n",
       "      <td>0.0</td>\n",
       "      <td>WIPRO LIMITED</td>\n",
       "      <td>Computer Occupations, All Other</td>\n",
       "      <td>PROJECT MANAGER</td>\n",
       "      <td>1.0</td>\n",
       "      <td>11.210225</td>\n",
       "      <td>2014.0</td>\n",
       "      <td>EL SEGUNDO, CALIFORNIA</td>\n",
       "      <td>-118.416465</td>\n",
       "      <td>33.919180</td>\n",
       "      <td>0</td>\n",
       "    </tr>\n",
       "    <tr>\n",
       "      <th>3</th>\n",
       "      <td>2757905</td>\n",
       "      <td>0.0</td>\n",
       "      <td>CPO SERVICES INC</td>\n",
       "      <td>Orthotists and Prosthetists</td>\n",
       "      <td>STAFF PROSTHETIST</td>\n",
       "      <td>1.0</td>\n",
       "      <td>11.028239</td>\n",
       "      <td>2011.0</td>\n",
       "      <td>PEORIA, ILLINOIS</td>\n",
       "      <td>-89.588986</td>\n",
       "      <td>40.693649</td>\n",
       "      <td>0</td>\n",
       "    </tr>\n",
       "    <tr>\n",
       "      <th>5</th>\n",
       "      <td>693102</td>\n",
       "      <td>1.0</td>\n",
       "      <td>UNIVERSITY OF CALIFORNIA SAN DIEGO</td>\n",
       "      <td>MEDICAL SCIENTISTS, EXCEPT EPIDEMIOLOGISTS</td>\n",
       "      <td>ASSISTANT PROJECT SCIENTIST</td>\n",
       "      <td>1.0</td>\n",
       "      <td>10.648278</td>\n",
       "      <td>2015.0</td>\n",
       "      <td>LA JOLLA, CALIFORNIA</td>\n",
       "      <td>-117.271272</td>\n",
       "      <td>32.832811</td>\n",
       "      <td>0</td>\n",
       "    </tr>\n",
       "  </tbody>\n",
       "</table>\n",
       "</div>"
      ],
      "text/plain": [
       "   Unnamed: 0  CASE_STATUS                           EMPLOYER_NAME  \\\n",
       "0     1349742          0.0  INTERNATIONAL SYSTEMS TECHNOLOGIES INC   \n",
       "1      789205          0.0                              GOOGLE INC   \n",
       "2     1617140          0.0                           WIPRO LIMITED   \n",
       "3     2757905          0.0                        CPO SERVICES INC   \n",
       "5      693102          1.0      UNIVERSITY OF CALIFORNIA SAN DIEGO   \n",
       "\n",
       "                                      SOC_NAME                    JOB_TITLE  \\\n",
       "0                         Computer Programmers           PROGRAMMER ANALYST   \n",
       "1  NETWORK AND COMPUTER SYSTEMS ADMINISTRATORS    SITE RELIABILITY ENGINEER   \n",
       "2              Computer Occupations, All Other              PROJECT MANAGER   \n",
       "3                  Orthotists and Prosthetists            STAFF PROSTHETIST   \n",
       "5   MEDICAL SCIENTISTS, EXCEPT EPIDEMIOLOGISTS  ASSISTANT PROJECT SCIENTIST   \n",
       "\n",
       "   FULL_TIME_POSITION  PREVAILING_WAGE    YEAR                   WORKSITE  \\\n",
       "0                 1.0        11.028239  2014.0      SUNNYVALE, CALIFORNIA   \n",
       "1                 1.0        11.279024  2015.0  SAN FRANCISCO, CALIFORNIA   \n",
       "2                 1.0        11.210225  2014.0     EL SEGUNDO, CALIFORNIA   \n",
       "3                 1.0        11.028239  2011.0           PEORIA, ILLINOIS   \n",
       "5                 1.0        10.648278  2015.0       LA JOLLA, CALIFORNIA   \n",
       "\n",
       "          lon        lat  TEST  \n",
       "0 -122.036350  37.368830     0  \n",
       "1 -122.419415  37.774929     0  \n",
       "2 -118.416465  33.919180     0  \n",
       "3  -89.588986  40.693649     0  \n",
       "5 -117.271272  32.832811     0  "
      ]
     },
     "execution_count": 167,
     "metadata": {},
     "output_type": "execute_result"
    }
   ],
   "source": [
    "df_train.head()"
   ]
  },
  {
   "cell_type": "markdown",
   "metadata": {},
   "source": [
    "### SOC_NAME"
   ]
  },
  {
   "cell_type": "code",
   "execution_count": 84,
   "metadata": {
    "ExecuteTime": {
     "end_time": "2018-08-29T16:03:40.914492Z",
     "start_time": "2018-08-29T16:03:40.908542Z"
    },
    "scrolled": true
   },
   "outputs": [
    {
     "data": {
      "text/plain": [
       "0                           COMPUTER PROGRAMMERS\n",
       "1    NETWORK AND COMPUTER SYSTEMS ADMINISTRATORS\n",
       "2                COMPUTER OCCUPATIONS, ALL OTHER\n",
       "3                    ORTHOTISTS AND PROSTHETISTS\n",
       "5     MEDICAL SCIENTISTS, EXCEPT EPIDEMIOLOGISTS\n",
       "Name: SOC_NAME, dtype: object"
      ]
     },
     "execution_count": 84,
     "metadata": {},
     "output_type": "execute_result"
    }
   ],
   "source": [
    "df_train['SOC_NAME'].head()"
   ]
  },
  {
   "cell_type": "code",
   "execution_count": 30,
   "metadata": {
    "ExecuteTime": {
     "end_time": "2018-08-29T15:26:44.649811Z",
     "start_time": "2018-08-29T15:26:44.023752Z"
    }
   },
   "outputs": [],
   "source": [
    "df_train['SOC_NAME'] = df_train['SOC_NAME'].str.upper()"
   ]
  },
  {
   "cell_type": "code",
   "execution_count": 85,
   "metadata": {
    "ExecuteTime": {
     "end_time": "2018-08-29T16:04:22.006480Z",
     "start_time": "2018-08-29T16:04:21.711845Z"
    }
   },
   "outputs": [
    {
     "name": "stdout",
     "output_type": "stream",
     "text": [
      "1422\n",
      "COMPUTER SYSTEMS ANALYSTS                      375335\n",
      "SOFTWARE DEVELOPERS, APPLICATIONS              297635\n",
      "COMPUTER PROGRAMMERS                           288529\n",
      "COMPUTER OCCUPATIONS, ALL OTHER                131892\n",
      "SOFTWARE DEVELOPERS, SYSTEMS SOFTWARE           60691\n",
      "MANAGEMENT ANALYSTS                             49667\n",
      "ACCOUNTANTS AND AUDITORS                        39818\n",
      "FINANCIAL ANALYSTS                              37462\n",
      "MECHANICAL ENGINEERS                            31807\n",
      "NETWORK AND COMPUTER SYSTEMS ADMINISTRATORS     28963\n",
      "Name: SOC_NAME, dtype: int64\n"
     ]
    }
   ],
   "source": [
    "soc = df_train['SOC_NAME'].value_counts().sort_values(ascending=False)\n",
    "print(soc.count())\n",
    "print(soc[0:10])\n",
    "# 944 -> 1422 로 integrated"
   ]
  },
  {
   "cell_type": "code",
   "execution_count": 129,
   "metadata": {
    "ExecuteTime": {
     "end_time": "2018-08-29T16:07:57.230398Z",
     "start_time": "2018-08-29T16:07:56.936761Z"
    }
   },
   "outputs": [],
   "source": [
    "soc_name = df_train['SOC_NAME'].value_counts().sort_values()"
   ]
  },
  {
   "cell_type": "code",
   "execution_count": 146,
   "metadata": {
    "ExecuteTime": {
     "end_time": "2018-08-29T16:08:33.117133Z",
     "start_time": "2018-08-29T16:08:33.114173Z"
    }
   },
   "outputs": [],
   "source": [
    "soc_name1 = soc_name[soc_name == 1]\n",
    "soc_name1.count()\n",
    "#soc_name 1개가 362 이후로 136 79 50 41 25 20 24 22"
   ]
  },
  {
   "cell_type": "code",
   "execution_count": 76,
   "metadata": {
    "ExecuteTime": {
     "end_time": "2018-08-29T16:00:07.447610Z",
     "start_time": "2018-08-29T16:00:06.949207Z"
    },
    "scrolled": false
   },
   "outputs": [
    {
     "data": {
      "text/plain": [
       "<matplotlib.axes._subplots.AxesSubplot at 0x1530874dc50>"
      ]
     },
     "execution_count": 76,
     "metadata": {},
     "output_type": "execute_result"
    },
    {
     "data": {
      "image/png": "[encoded data removed]",
      "text/plain": [
       "<Figure size 432x288 with 1 Axes>"
      ]
     },
     "metadata": {},
     "output_type": "display_data"
    }
   ],
   "source": [
    "df_train['SOC_NAME'].value_counts().sort_values(ascending=False)[:20].plot.barh()\n",
    "#컴퓨터 관련 직종이 매우 많음"
   ]
  },
  {
   "cell_type": "markdown",
   "metadata": {},
   "source": [
    "### Year"
   ]
  },
  {
   "cell_type": "code",
   "execution_count": 32,
   "metadata": {
    "ExecuteTime": {
     "end_time": "2018-08-29T15:26:52.849042Z",
     "start_time": "2018-08-29T15:26:52.339097Z"
    },
    "scrolled": false
   },
   "outputs": [
    {
     "data": {
      "image/png": "[encoded data removed]",
      "text/plain": [
       "<Figure size 1080x432 with 1 Axes>"
      ]
     },
     "metadata": {},
     "output_type": "display_data"
    },
    {
     "data": {
      "text/html": [
       "<div>\n",
       "<style scoped>\n",
       "    .dataframe tbody tr th:only-of-type {\n",
       "        vertical-align: middle;\n",
       "    }\n",
       "\n",
       "    .dataframe tbody tr th {\n",
       "        vertical-align: top;\n",
       "    }\n",
       "\n",
       "    .dataframe thead th {\n",
       "        text-align: right;\n",
       "    }\n",
       "</style>\n",
       "<table border=\"1\" class=\"dataframe\">\n",
       "  <thead>\n",
       "    <tr style=\"text-align: right;\">\n",
       "      <th></th>\n",
       "      <th>YEAR</th>\n",
       "      <th>CASE_STATUS</th>\n",
       "      <th>SOC_NAME</th>\n",
       "    </tr>\n",
       "  </thead>\n",
       "  <tbody>\n",
       "    <tr>\n",
       "      <th>0</th>\n",
       "      <td>2011.0</td>\n",
       "      <td>0.0</td>\n",
       "      <td>241665</td>\n",
       "    </tr>\n",
       "    <tr>\n",
       "      <th>1</th>\n",
       "      <td>2011.0</td>\n",
       "      <td>1.0</td>\n",
       "      <td>23222</td>\n",
       "    </tr>\n",
       "    <tr>\n",
       "      <th>2</th>\n",
       "      <td>2012.0</td>\n",
       "      <td>0.0</td>\n",
       "      <td>279992</td>\n",
       "    </tr>\n",
       "    <tr>\n",
       "      <th>3</th>\n",
       "      <td>2012.0</td>\n",
       "      <td>1.0</td>\n",
       "      <td>16746</td>\n",
       "    </tr>\n",
       "    <tr>\n",
       "      <th>4</th>\n",
       "      <td>2013.0</td>\n",
       "      <td>0.0</td>\n",
       "      <td>304049</td>\n",
       "    </tr>\n",
       "    <tr>\n",
       "      <th>5</th>\n",
       "      <td>2013.0</td>\n",
       "      <td>1.0</td>\n",
       "      <td>9617</td>\n",
       "    </tr>\n",
       "    <tr>\n",
       "      <th>6</th>\n",
       "      <td>2014.0</td>\n",
       "      <td>0.0</td>\n",
       "      <td>360832</td>\n",
       "    </tr>\n",
       "    <tr>\n",
       "      <th>7</th>\n",
       "      <td>2014.0</td>\n",
       "      <td>1.0</td>\n",
       "      <td>9465</td>\n",
       "    </tr>\n",
       "    <tr>\n",
       "      <th>8</th>\n",
       "      <td>2015.0</td>\n",
       "      <td>0.0</td>\n",
       "      <td>438189</td>\n",
       "    </tr>\n",
       "    <tr>\n",
       "      <th>9</th>\n",
       "      <td>2015.0</td>\n",
       "      <td>1.0</td>\n",
       "      <td>8720</td>\n",
       "    </tr>\n",
       "    <tr>\n",
       "      <th>10</th>\n",
       "      <td>2016.0</td>\n",
       "      <td>0.0</td>\n",
       "      <td>455888</td>\n",
       "    </tr>\n",
       "    <tr>\n",
       "      <th>11</th>\n",
       "      <td>2016.0</td>\n",
       "      <td>1.0</td>\n",
       "      <td>7277</td>\n",
       "    </tr>\n",
       "  </tbody>\n",
       "</table>\n",
       "</div>"
      ],
      "text/plain": [
       "      YEAR  CASE_STATUS  SOC_NAME\n",
       "0   2011.0          0.0    241665\n",
       "1   2011.0          1.0     23222\n",
       "2   2012.0          0.0    279992\n",
       "3   2012.0          1.0     16746\n",
       "4   2013.0          0.0    304049\n",
       "5   2013.0          1.0      9617\n",
       "6   2014.0          0.0    360832\n",
       "7   2014.0          1.0      9465\n",
       "8   2015.0          0.0    438189\n",
       "9   2015.0          1.0      8720\n",
       "10  2016.0          0.0    455888\n",
       "11  2016.0          1.0      7277"
      ]
     },
     "execution_count": 32,
     "metadata": {},
     "output_type": "execute_result"
    }
   ],
   "source": [
    "case_year = df_train.groupby(['YEAR','CASE_STATUS'])['SOC_NAME'].count().reset_index()\n",
    "case_year.pivot('YEAR','CASE_STATUS','SOC_NAME').plot.bar(width=0.8)\n",
    "fig = plt.gcf()\n",
    "fig.set_size_inches(15,6)\n",
    "plt.title('Case Status by Year')\n",
    "plt.show()\n",
    "case_year"
   ]
  },
  {
   "cell_type": "code",
   "execution_count": 33,
   "metadata": {
    "ExecuteTime": {
     "end_time": "2018-08-29T15:26:56.846699Z",
     "start_time": "2018-08-29T15:26:56.839755Z"
    }
   },
   "outputs": [
    {
     "data": {
      "text/plain": [
       "array([0.91233243, 0.94356638, 0.96934   , 0.97443944, 0.9804882 ,\n",
       "       0.98428854])"
      ]
     },
     "execution_count": 33,
     "metadata": {},
     "output_type": "execute_result"
    }
   ],
   "source": [
    "count_cer = case_year.loc[case_year['CASE_STATUS'] == 0]\n",
    "count_de = case_year.loc[case_year['CASE_STATUS'] == 1]\n",
    "rate = count_cer['SOC_NAME'].values / (count_cer['SOC_NAME'].values + count_de['SOC_NAME'].values)\n",
    "rate #연도에 따라 certificated 비율이 늘어나고 있다"
   ]
  },
  {
   "cell_type": "markdown",
   "metadata": {},
   "source": [
    "### NaN 탐구"
   ]
  },
  {
   "cell_type": "code",
   "execution_count": 34,
   "metadata": {
    "ExecuteTime": {
     "end_time": "2018-08-29T15:27:00.712262Z",
     "start_time": "2018-08-29T15:27:00.039197Z"
    }
   },
   "outputs": [
    {
     "name": "stdout",
     "output_type": "stream",
     "text": [
      "2168419\n",
      "Unnamed: 0                0\n",
      "CASE_STATUS              10\n",
      "EMPLOYER_NAME            27\n",
      "SOC_NAME              12757\n",
      "JOB_TITLE                17\n",
      "FULL_TIME_POSITION       11\n",
      "PREVAILING_WAGE          58\n",
      "YEAR                     10\n",
      "WORKSITE                  0\n",
      "lon                   77512\n",
      "lat                   77512\n",
      "TEST                      0\n",
      "dtype: int64\n"
     ]
    }
   ],
   "source": [
    "print(df_train.shape[0])\n",
    "print(df_train.isnull().sum())"
   ]
  },
  {
   "cell_type": "code",
   "execution_count": 35,
   "metadata": {
    "ExecuteTime": {
     "end_time": "2018-08-29T15:27:15.368488Z",
     "start_time": "2018-08-29T15:27:15.007794Z"
    }
   },
   "outputs": [],
   "source": [
    "df_train = df_train[df_train['CASE_STATUS'].isnull() == False]"
   ]
  },
  {
   "cell_type": "markdown",
   "metadata": {},
   "source": [
    "#### Employer_name"
   ]
  },
  {
   "cell_type": "code",
   "execution_count": 36,
   "metadata": {
    "ExecuteTime": {
     "end_time": "2018-08-29T15:27:19.246898Z",
     "start_time": "2018-08-29T15:27:19.144173Z"
    }
   },
   "outputs": [
    {
     "name": "stdout",
     "output_type": "stream",
     "text": [
      "1.0     6\n",
      "0.0    11\n",
      "Name: CASE_STATUS, dtype: int64\n"
     ]
    }
   ],
   "source": [
    "df_emplo = df_train[df_train['EMPLOYER_NAME'].isnull() == True]\n",
    "print(df_emplo['CASE_STATUS'].value_counts().sort_values())"
   ]
  },
  {
   "cell_type": "markdown",
   "metadata": {},
   "source": [
    "#### Soc_name"
   ]
  },
  {
   "cell_type": "code",
   "execution_count": 37,
   "metadata": {
    "ExecuteTime": {
     "end_time": "2018-08-29T15:27:21.570408Z",
     "start_time": "2018-08-29T15:27:21.477689Z"
    }
   },
   "outputs": [
    {
     "name": "stdout",
     "output_type": "stream",
     "text": [
      "1.0      392\n",
      "0.0    12355\n",
      "Name: CASE_STATUS, dtype: int64\n"
     ]
    },
    {
     "data": {
      "text/plain": [
       "0.030752333882482153"
      ]
     },
     "execution_count": 37,
     "metadata": {},
     "output_type": "execute_result"
    }
   ],
   "source": [
    "df_soc = df_train[df_train['SOC_NAME'].isnull() == True]\n",
    "print(df_soc['CASE_STATUS'].value_counts().sort_values())\n",
    "392 / (392+12355)\n",
    "#soc_name의 null 여부는 denied에 별 영향이 없는 듯 하다"
   ]
  },
  {
   "cell_type": "markdown",
   "metadata": {},
   "source": [
    "#### Job_title"
   ]
  },
  {
   "cell_type": "code",
   "execution_count": 38,
   "metadata": {
    "ExecuteTime": {
     "end_time": "2018-08-29T15:27:23.103268Z",
     "start_time": "2018-08-29T15:27:23.019530Z"
    }
   },
   "outputs": [
    {
     "name": "stdout",
     "output_type": "stream",
     "text": [
      "0.0    2\n",
      "1.0    5\n",
      "Name: CASE_STATUS, dtype: int64\n"
     ]
    }
   ],
   "source": [
    "df_job = df_train[df_train['JOB_TITLE'].isnull() == True]\n",
    "print(df_job['CASE_STATUS'].value_counts().sort_values())"
   ]
  },
  {
   "cell_type": "markdown",
   "metadata": {},
   "source": [
    "#### Prevailing_wage"
   ]
  },
  {
   "cell_type": "code",
   "execution_count": 39,
   "metadata": {
    "ExecuteTime": {
     "end_time": "2018-08-29T15:27:27.083397Z",
     "start_time": "2018-08-29T15:27:27.058469Z"
    }
   },
   "outputs": [
    {
     "name": "stdout",
     "output_type": "stream",
     "text": [
      "1.0    48\n",
      "Name: CASE_STATUS, dtype: int64\n"
     ]
    }
   ],
   "source": [
    "df_wage = df_train[df_train['PREVAILING_WAGE'].isnull() == True]\n",
    "print(df_wage['CASE_STATUS'].value_counts().sort_values())\n",
    "#wage 없으면 무조건 denied"
   ]
  },
  {
   "cell_type": "markdown",
   "metadata": {},
   "source": [
    "#### Full_time_position"
   ]
  },
  {
   "cell_type": "code",
   "execution_count": 40,
   "metadata": {
    "ExecuteTime": {
     "end_time": "2018-08-29T15:27:28.139576Z",
     "start_time": "2018-08-29T15:27:28.123664Z"
    }
   },
   "outputs": [
    {
     "name": "stdout",
     "output_type": "stream",
     "text": [
      "1.0    1\n",
      "Name: CASE_STATUS, dtype: int64\n"
     ]
    }
   ],
   "source": [
    "df_position = df_train[df_train['FULL_TIME_POSITION'].isnull() == True]\n",
    "print(df_position['CASE_STATUS'].value_counts().sort_values())\n",
    "#1명이긴 하지만 denied"
   ]
  },
  {
   "cell_type": "markdown",
   "metadata": {},
   "source": [
    "#### lon, lat"
   ]
  },
  {
   "cell_type": "code",
   "execution_count": 41,
   "metadata": {
    "ExecuteTime": {
     "end_time": "2018-08-29T15:27:30.536154Z",
     "start_time": "2018-08-29T15:27:30.495301Z"
    }
   },
   "outputs": [
    {
     "name": "stdout",
     "output_type": "stream",
     "text": [
      "1.0     6886\n",
      "0.0    70626\n",
      "Name: CASE_STATUS, dtype: int64\n"
     ]
    },
    {
     "data": {
      "text/plain": [
       "0.08883785736402106"
      ]
     },
     "execution_count": 41,
     "metadata": {},
     "output_type": "execute_result"
    }
   ],
   "source": [
    "df_lon = df_train[df_train['lon'].isnull() == True]\n",
    "print(df_lon['CASE_STATUS'].value_counts().sort_values())\n",
    "6886 / (6886+70626)\n",
    "# 8%...? "
   ]
  },
  {
   "cell_type": "markdown",
   "metadata": {},
   "source": [
    "### Nan 탐구 결과 \n",
    "1. wage, full time이 없으면 denied\n",
    "2. employer_name, job_title, lon, lat도 유의미한 영향을 미치는 것으로 보임, lon,lat은 왜인지 모르겠음"
   ]
  },
  {
   "cell_type": "code",
   "execution_count": 187,
   "metadata": {
    "ExecuteTime": {
     "end_time": "2018-08-29T17:00:25.717134Z",
     "start_time": "2018-08-29T17:00:25.702206Z"
    }
   },
   "outputs": [
    {
     "data": {
      "text/html": [
       "<div>\n",
       "<style scoped>\n",
       "    .dataframe tbody tr th:only-of-type {\n",
       "        vertical-align: middle;\n",
       "    }\n",
       "\n",
       "    .dataframe tbody tr th {\n",
       "        vertical-align: top;\n",
       "    }\n",
       "\n",
       "    .dataframe thead th {\n",
       "        text-align: right;\n",
       "    }\n",
       "</style>\n",
       "<table border=\"1\" class=\"dataframe\">\n",
       "  <thead>\n",
       "    <tr style=\"text-align: right;\">\n",
       "      <th></th>\n",
       "      <th>Unnamed: 0</th>\n",
       "      <th>CASE_STATUS</th>\n",
       "      <th>EMPLOYER_NAME</th>\n",
       "      <th>SOC_NAME</th>\n",
       "      <th>JOB_TITLE</th>\n",
       "      <th>FULL_TIME_POSITION</th>\n",
       "      <th>PREVAILING_WAGE</th>\n",
       "      <th>YEAR</th>\n",
       "      <th>WORKSITE</th>\n",
       "      <th>lon</th>\n",
       "      <th>lat</th>\n",
       "      <th>TEST</th>\n",
       "      <th>State</th>\n",
       "    </tr>\n",
       "  </thead>\n",
       "  <tbody>\n",
       "    <tr>\n",
       "      <th>0</th>\n",
       "      <td>1349742</td>\n",
       "      <td>0.0</td>\n",
       "      <td>INTERNATIONAL SYSTEMS TECHNOLOGIES INC</td>\n",
       "      <td>COMPUTER PROGRAMMERS</td>\n",
       "      <td>PROGRAMMER ANALYST</td>\n",
       "      <td>1.0</td>\n",
       "      <td>11.028239</td>\n",
       "      <td>2014.0</td>\n",
       "      <td>SUNNYVALE, CALIFORNIA</td>\n",
       "      <td>-122.036350</td>\n",
       "      <td>37.368830</td>\n",
       "      <td>0</td>\n",
       "      <td>CALIFORNIA</td>\n",
       "    </tr>\n",
       "    <tr>\n",
       "      <th>1</th>\n",
       "      <td>789205</td>\n",
       "      <td>0.0</td>\n",
       "      <td>GOOGLE INC</td>\n",
       "      <td>NETWORK AND COMPUTER SYSTEMS ADMINISTRATORS</td>\n",
       "      <td>SITE RELIABILITY ENGINEER</td>\n",
       "      <td>1.0</td>\n",
       "      <td>11.279024</td>\n",
       "      <td>2015.0</td>\n",
       "      <td>SAN FRANCISCO, CALIFORNIA</td>\n",
       "      <td>-122.419415</td>\n",
       "      <td>37.774929</td>\n",
       "      <td>0</td>\n",
       "      <td>CALIFORNIA</td>\n",
       "    </tr>\n",
       "    <tr>\n",
       "      <th>2</th>\n",
       "      <td>1617140</td>\n",
       "      <td>0.0</td>\n",
       "      <td>WIPRO LIMITED</td>\n",
       "      <td>COMPUTER OCCUPATIONS, ALL OTHER</td>\n",
       "      <td>PROJECT MANAGER</td>\n",
       "      <td>1.0</td>\n",
       "      <td>11.210225</td>\n",
       "      <td>2014.0</td>\n",
       "      <td>EL SEGUNDO, CALIFORNIA</td>\n",
       "      <td>-118.416465</td>\n",
       "      <td>33.919180</td>\n",
       "      <td>0</td>\n",
       "      <td>CALIFORNIA</td>\n",
       "    </tr>\n",
       "    <tr>\n",
       "      <th>3</th>\n",
       "      <td>2757905</td>\n",
       "      <td>0.0</td>\n",
       "      <td>CPO SERVICES INC</td>\n",
       "      <td>ORTHOTISTS AND PROSTHETISTS</td>\n",
       "      <td>STAFF PROSTHETIST</td>\n",
       "      <td>1.0</td>\n",
       "      <td>11.028239</td>\n",
       "      <td>2011.0</td>\n",
       "      <td>PEORIA, ILLINOIS</td>\n",
       "      <td>-89.588986</td>\n",
       "      <td>40.693649</td>\n",
       "      <td>0</td>\n",
       "      <td>ILLINOIS</td>\n",
       "    </tr>\n",
       "    <tr>\n",
       "      <th>5</th>\n",
       "      <td>693102</td>\n",
       "      <td>1.0</td>\n",
       "      <td>UNIVERSITY OF CALIFORNIA SAN DIEGO</td>\n",
       "      <td>MEDICAL SCIENTISTS, EXCEPT EPIDEMIOLOGISTS</td>\n",
       "      <td>ASSISTANT PROJECT SCIENTIST</td>\n",
       "      <td>1.0</td>\n",
       "      <td>10.648278</td>\n",
       "      <td>2015.0</td>\n",
       "      <td>LA JOLLA, CALIFORNIA</td>\n",
       "      <td>-117.271272</td>\n",
       "      <td>32.832811</td>\n",
       "      <td>0</td>\n",
       "      <td>CALIFORNIA</td>\n",
       "    </tr>\n",
       "  </tbody>\n",
       "</table>\n",
       "</div>"
      ],
      "text/plain": [
       "   Unnamed: 0  CASE_STATUS                           EMPLOYER_NAME  \\\n",
       "0     1349742          0.0  INTERNATIONAL SYSTEMS TECHNOLOGIES INC   \n",
       "1      789205          0.0                              GOOGLE INC   \n",
       "2     1617140          0.0                           WIPRO LIMITED   \n",
       "3     2757905          0.0                        CPO SERVICES INC   \n",
       "5      693102          1.0      UNIVERSITY OF CALIFORNIA SAN DIEGO   \n",
       "\n",
       "                                      SOC_NAME                    JOB_TITLE  \\\n",
       "0                         COMPUTER PROGRAMMERS           PROGRAMMER ANALYST   \n",
       "1  NETWORK AND COMPUTER SYSTEMS ADMINISTRATORS    SITE RELIABILITY ENGINEER   \n",
       "2              COMPUTER OCCUPATIONS, ALL OTHER              PROJECT MANAGER   \n",
       "3                  ORTHOTISTS AND PROSTHETISTS            STAFF PROSTHETIST   \n",
       "5   MEDICAL SCIENTISTS, EXCEPT EPIDEMIOLOGISTS  ASSISTANT PROJECT SCIENTIST   \n",
       "\n",
       "   FULL_TIME_POSITION  PREVAILING_WAGE    YEAR                   WORKSITE  \\\n",
       "0                 1.0        11.028239  2014.0      SUNNYVALE, CALIFORNIA   \n",
       "1                 1.0        11.279024  2015.0  SAN FRANCISCO, CALIFORNIA   \n",
       "2                 1.0        11.210225  2014.0     EL SEGUNDO, CALIFORNIA   \n",
       "3                 1.0        11.028239  2011.0           PEORIA, ILLINOIS   \n",
       "5                 1.0        10.648278  2015.0       LA JOLLA, CALIFORNIA   \n",
       "\n",
       "          lon        lat  TEST       State  \n",
       "0 -122.036350  37.368830     0  CALIFORNIA  \n",
       "1 -122.419415  37.774929     0  CALIFORNIA  \n",
       "2 -118.416465  33.919180     0  CALIFORNIA  \n",
       "3  -89.588986  40.693649     0    ILLINOIS  \n",
       "5 -117.271272  32.832811     0  CALIFORNIA  "
      ]
     },
     "execution_count": 187,
     "metadata": {},
     "output_type": "execute_result"
    }
   ],
   "source": [
    "df_train.head()"
   ]
  },
  {
   "cell_type": "markdown",
   "metadata": {},
   "source": [
    "# Feature Engineering"
   ]
  },
  {
   "cell_type": "markdown",
   "metadata": {},
   "source": [
    "## Certified rate (연도 별로 SOC랑 Employer에 대해서)"
   ]
  },
  {
   "cell_type": "code",
   "execution_count": 156,
   "metadata": {
    "ExecuteTime": {
     "end_time": "2018-08-29T16:32:30.808745Z",
     "start_time": "2018-08-29T16:32:30.212724Z"
    }
   },
   "outputs": [
    {
     "name": "stdout",
     "output_type": "stream",
     "text": [
      "580\n",
      "652\n"
     ]
    }
   ],
   "source": [
    "cer_rate_2011 = df_train[df_train['CASE_STATUS'] == 0]\n",
    "cer_rate_2011 = cer_rate_2011[cer_rate_2011['YEAR'] == 2011]\n",
    "cer_rate_2011 = cer_rate_2011.groupby(['SOC_NAME','CASE_STATUS'])['YEAR'].count().reset_index()\n",
    "de_rate_2011 = df_train[df_train['CASE_STATUS'] == 1]\n",
    "de_rate_2011 = de_rate_2011[de_rate_2011['YEAR'] == 2011]\n",
    "de_rate_2011 = de_rate_2011.groupby(['SOC_NAME','CASE_STATUS'])['YEAR'].count().reset_index()\n",
    "cer_2011 = cer_rate_2011.sort_values('YEAR', ascending = False)\n",
    "de_2011 = de_rate_2011.sort_values('YEAR',ascending =False)\n",
    "\n",
    "count_cer_2011 = cer_2011['SOC_NAME'].value_counts().sort_values(ascending=True)\n",
    "count_de_2011 = de_2011['SOC_NAME'].value_counts().sort_values(ascending=True)\n",
    "print(count_de_2011.count())\n",
    "print(count_cer_2011.count())\n",
    "#certified에는 속하지만, denied에 하나도 없는 SOC_NAME이 약 72개 "
   ]
  },
  {
   "cell_type": "code",
   "execution_count": 158,
   "metadata": {
    "ExecuteTime": {
     "end_time": "2018-08-29T16:32:54.791476Z",
     "start_time": "2018-08-29T16:32:54.180864Z"
    }
   },
   "outputs": [
    {
     "name": "stdout",
     "output_type": "stream",
     "text": [
      "459\n",
      "529\n"
     ]
    }
   ],
   "source": [
    "cer_rate_2012 = df_train[df_train['CASE_STATUS'] == 0]\n",
    "cer_rate_2012 = cer_rate_2012[cer_rate_2012['YEAR'] == 2012]\n",
    "cer_rate_2012 = cer_rate_2012.groupby(['SOC_NAME','CASE_STATUS'])['YEAR'].count().reset_index()\n",
    "de_rate_2012 = df_train[df_train['CASE_STATUS'] == 1]\n",
    "de_rate_2012 = de_rate_2012[de_rate_2012['YEAR'] == 2012]\n",
    "de_rate_2012 = de_rate_2012.groupby(['SOC_NAME','CASE_STATUS'])['YEAR'].count().reset_index()\n",
    "cer_2012 = cer_rate_2012.sort_values('YEAR', ascending = False)\n",
    "de_2012 = de_rate_2012.sort_values('YEAR',ascending =False)\n",
    "\n",
    "count_cer_2012 = cer_2012['SOC_NAME'].value_counts().sort_values(ascending=True)\n",
    "count_de_2012 = de_2012['SOC_NAME'].value_counts().sort_values(ascending=True)\n",
    "print(count_de_2012.count())\n",
    "print(count_cer_2012.count())\n",
    "#certified에는 속하지만, denied에 하나도 없는 SOC_NAME이 약 70개"
   ]
  },
  {
   "cell_type": "code",
   "execution_count": 160,
   "metadata": {
    "ExecuteTime": {
     "end_time": "2018-08-29T16:34:25.111709Z",
     "start_time": "2018-08-29T16:34:24.499228Z"
    }
   },
   "outputs": [
    {
     "name": "stdout",
     "output_type": "stream",
     "text": [
      "531\n",
      "418\n"
     ]
    }
   ],
   "source": [
    "cer_rate_2013 = df_train[df_train['CASE_STATUS'] == 0]\n",
    "cer_rate_2013 = cer_rate_2013[cer_rate_2013['YEAR'] == 2013]\n",
    "cer_rate_2013 = cer_rate_2013.groupby(['SOC_NAME','CASE_STATUS'])['YEAR'].count().reset_index()\n",
    "de_rate_2013 = df_train[df_train['CASE_STATUS'] == 1]\n",
    "de_rate_2013 = de_rate_2013[de_rate_2013['YEAR'] == 2013]\n",
    "de_rate_2013 = de_rate_2013.groupby(['SOC_NAME','CASE_STATUS'])['YEAR'].count().reset_index()\n",
    "cer_2013 = cer_rate_2013.sort_values('YEAR', ascending = False)\n",
    "de_2013 = de_rate_2013.sort_values('YEAR',ascending =False)\n",
    "\n",
    "count_cer_2013 = cer_2013['SOC_NAME'].value_counts().sort_values(ascending=True)\n",
    "count_de_2013 = de_2013['SOC_NAME'].value_counts().sort_values(ascending=True)\n",
    "print(count_cer_2013.count())\n",
    "print(count_de_2013.count())\n",
    "#certified에는 속하지만, denied에 하나도 없는 SOC_NAME이 약 120개 "
   ]
  },
  {
   "cell_type": "code",
   "execution_count": 162,
   "metadata": {
    "ExecuteTime": {
     "end_time": "2018-08-29T16:35:43.726314Z",
     "start_time": "2018-08-29T16:35:43.084257Z"
    }
   },
   "outputs": [
    {
     "name": "stdout",
     "output_type": "stream",
     "text": [
      "541\n",
      "418\n"
     ]
    }
   ],
   "source": [
    "cer_rate_2014 = df_train[df_train['CASE_STATUS'] == 0]\n",
    "cer_rate_2014 = cer_rate_2014[cer_rate_2014['YEAR'] == 2014]\n",
    "cer_rate_2014 = cer_rate_2014.groupby(['SOC_NAME','CASE_STATUS'])['YEAR'].count().reset_index()\n",
    "de_rate_2014 = df_train[df_train['CASE_STATUS'] == 1]\n",
    "de_rate_2014 = de_rate_2014[de_rate_2014['YEAR'] == 2014]\n",
    "de_rate_2014 = de_rate_2014.groupby(['SOC_NAME','CASE_STATUS'])['YEAR'].count().reset_index()\n",
    "cer_2014 = cer_rate_2014.sort_values('YEAR', ascending = False)\n",
    "de_2014 = de_rate_2014.sort_values('YEAR',ascending =False)\n",
    "\n",
    "count_cer_2014 = cer_2014['SOC_NAME'].value_counts().sort_values(ascending=True)\n",
    "count_de_2014 = de_2014['SOC_NAME'].value_counts().sort_values(ascending=True)\n",
    "print(count_cer_2014.count())\n",
    "print(count_de_2014.count())\n",
    "#certified에는 속하지만, denied에 하나도 없는 SOC_NAME이 약 123개 "
   ]
  },
  {
   "cell_type": "code",
   "execution_count": 163,
   "metadata": {
    "ExecuteTime": {
     "end_time": "2018-08-29T16:36:55.335907Z",
     "start_time": "2018-08-29T16:36:54.653823Z"
    }
   },
   "outputs": [
    {
     "name": "stdout",
     "output_type": "stream",
     "text": [
      "867\n",
      "446\n"
     ]
    }
   ],
   "source": [
    "cer_rate_2015 = df_train[df_train['CASE_STATUS'] == 0]\n",
    "cer_rate_2015 = cer_rate_2015[cer_rate_2015['YEAR'] == 2015]\n",
    "cer_rate_2015 = cer_rate_2015.groupby(['SOC_NAME','CASE_STATUS'])['YEAR'].count().reset_index()\n",
    "de_rate_2015 = df_train[df_train['CASE_STATUS'] == 1]\n",
    "de_rate_2015 = de_rate_2015[de_rate_2015['YEAR'] == 2015]\n",
    "de_rate_2015 = de_rate_2015.groupby(['SOC_NAME','CASE_STATUS'])['YEAR'].count().reset_index()\n",
    "cer_2015 = cer_rate_2015.sort_values('YEAR', ascending = False)\n",
    "de_2015 = de_rate_2015.sort_values('YEAR',ascending =False)\n",
    "\n",
    "count_cer_2015 = cer_2015['SOC_NAME'].value_counts().sort_values(ascending=True)\n",
    "count_de_2015 = de_2015['SOC_NAME'].value_counts().sort_values(ascending=True)\n",
    "print(count_cer_2015.count())\n",
    "print(count_de_2015.count())\n",
    "#certified에는 속하지만, denied에 하나도 없는 SOC_NAME이 약 421개 "
   ]
  },
  {
   "cell_type": "code",
   "execution_count": 164,
   "metadata": {
    "ExecuteTime": {
     "end_time": "2018-08-29T16:38:03.091082Z",
     "start_time": "2018-08-29T16:38:02.428250Z"
    }
   },
   "outputs": [
    {
     "name": "stdout",
     "output_type": "stream",
     "text": [
      "816\n",
      "419\n"
     ]
    }
   ],
   "source": [
    "cer_rate_2016 = df_train[df_train['CASE_STATUS'] == 0]\n",
    "cer_rate_2016 = cer_rate_2016[cer_rate_2016['YEAR'] == 2016]\n",
    "cer_rate_2016 = cer_rate_2016.groupby(['SOC_NAME','CASE_STATUS'])['YEAR'].count().reset_index()\n",
    "de_rate_2016 = df_train[df_train['CASE_STATUS'] == 1]\n",
    "de_rate_2016 = de_rate_2016[de_rate_2016['YEAR'] == 2016]\n",
    "de_rate_2016 = de_rate_2016.groupby(['SOC_NAME','CASE_STATUS'])['YEAR'].count().reset_index()\n",
    "cer_2016 = cer_rate_2016.sort_values('YEAR', ascending = False)\n",
    "de_2016 = de_rate_2016.sort_values('YEAR',ascending =False)\n",
    "\n",
    "count_cer_2016 = cer_2016['SOC_NAME'].value_counts().sort_values(ascending=True)\n",
    "count_de_2016 = de_2016['SOC_NAME'].value_counts().sort_values(ascending=True)\n",
    "print(count_cer_2016.count())\n",
    "print(count_de_2016.count())\n",
    "#certified에는 속하지만, denied에 하나도 없는 SOC_NAME이 약 397개 "
   ]
  },
  {
   "cell_type": "code",
   "execution_count": 199,
   "metadata": {
    "ExecuteTime": {
     "end_time": "2018-08-29T17:11:36.738172Z",
     "start_time": "2018-08-29T17:11:36.724246Z"
    }
   },
   "outputs": [
    {
     "data": {
      "text/html": [
       "<div>\n",
       "<style scoped>\n",
       "    .dataframe tbody tr th:only-of-type {\n",
       "        vertical-align: middle;\n",
       "    }\n",
       "\n",
       "    .dataframe tbody tr th {\n",
       "        vertical-align: top;\n",
       "    }\n",
       "\n",
       "    .dataframe thead th {\n",
       "        text-align: right;\n",
       "    }\n",
       "</style>\n",
       "<table border=\"1\" class=\"dataframe\">\n",
       "  <thead>\n",
       "    <tr style=\"text-align: right;\">\n",
       "      <th></th>\n",
       "      <th>SOC_NAME</th>\n",
       "      <th>Certified_rate</th>\n",
       "    </tr>\n",
       "  </thead>\n",
       "  <tbody>\n",
       "    <tr>\n",
       "      <th>124</th>\n",
       "      <td>BIOLOGICAL SCIENCE TEACHERS, POSTSECONDARY</td>\n",
       "      <td>0.981651</td>\n",
       "    </tr>\n",
       "    <tr>\n",
       "      <th>254</th>\n",
       "      <td>WEB ADMINISTRATORS</td>\n",
       "      <td>0.979592</td>\n",
       "    </tr>\n",
       "    <tr>\n",
       "      <th>287</th>\n",
       "      <td>LAW TEACHERS, POSTSECONDARY</td>\n",
       "      <td>0.972222</td>\n",
       "    </tr>\n",
       "    <tr>\n",
       "      <th>290</th>\n",
       "      <td>CLINICAL PSYCHOLOGISTS</td>\n",
       "      <td>0.971429</td>\n",
       "    </tr>\n",
       "    <tr>\n",
       "      <th>221</th>\n",
       "      <td>CIVIL ENGINEERS, R&amp;D</td>\n",
       "      <td>0.970588</td>\n",
       "    </tr>\n",
       "    <tr>\n",
       "      <th>13</th>\n",
       "      <td>SOFTWARE QUALITY ASSURANCE ENGINEERS AND TESTERS</td>\n",
       "      <td>0.970569</td>\n",
       "    </tr>\n",
       "    <tr>\n",
       "      <th>133</th>\n",
       "      <td>COMPUTER AND INFORMATION RESEARCH SCIENTISTS</td>\n",
       "      <td>0.969697</td>\n",
       "    </tr>\n",
       "    <tr>\n",
       "      <th>294</th>\n",
       "      <td>COMPENSATION AND BENEFITS MANAGERS</td>\n",
       "      <td>0.969697</td>\n",
       "    </tr>\n",
       "    <tr>\n",
       "      <th>47</th>\n",
       "      <td>HEALTH SPECIALTIES TEACHERS, POSTSECONDARY</td>\n",
       "      <td>0.967306</td>\n",
       "    </tr>\n",
       "    <tr>\n",
       "      <th>305</th>\n",
       "      <td>SOCIAL SCIENCES TEACHERS, POSTSECONDARY, ALL O...</td>\n",
       "      <td>0.966667</td>\n",
       "    </tr>\n",
       "  </tbody>\n",
       "</table>\n",
       "</div>"
      ],
      "text/plain": [
       "                                              SOC_NAME  Certified_rate\n",
       "124         BIOLOGICAL SCIENCE TEACHERS, POSTSECONDARY        0.981651\n",
       "254                                 WEB ADMINISTRATORS        0.979592\n",
       "287                        LAW TEACHERS, POSTSECONDARY        0.972222\n",
       "290                             CLINICAL PSYCHOLOGISTS        0.971429\n",
       "221                               CIVIL ENGINEERS, R&D        0.970588\n",
       "13    SOFTWARE QUALITY ASSURANCE ENGINEERS AND TESTERS        0.970569\n",
       "133       COMPUTER AND INFORMATION RESEARCH SCIENTISTS        0.969697\n",
       "294                 COMPENSATION AND BENEFITS MANAGERS        0.969697\n",
       "47          HEALTH SPECIALTIES TEACHERS, POSTSECONDARY        0.967306\n",
       "305  SOCIAL SCIENCES TEACHERS, POSTSECONDARY, ALL O...        0.966667"
      ]
     },
     "execution_count": 199,
     "metadata": {},
     "output_type": "execute_result"
    }
   ],
   "source": [
    "cer_de_2011 = pd.merge(cer_2011,de_2011,left_on = 'SOC_NAME',right_on = 'SOC_NAME',how='left')\n",
    "cer_de_2011['Certified_rate'] = cer_de_2011['YEAR_x']/(cer_de_2011['YEAR_x']+cer_de_2011['YEAR_y'])\n",
    "cer_de_2011.sort_values('Certified_rate',ascending=False)[['SOC_NAME','Certified_rate']][:10]"
   ]
  },
  {
   "cell_type": "code",
   "execution_count": 198,
   "metadata": {
    "ExecuteTime": {
     "end_time": "2018-08-29T17:11:34.569920Z",
     "start_time": "2018-08-29T17:11:34.556962Z"
    }
   },
   "outputs": [
    {
     "data": {
      "text/html": [
       "<div>\n",
       "<style scoped>\n",
       "    .dataframe tbody tr th:only-of-type {\n",
       "        vertical-align: middle;\n",
       "    }\n",
       "\n",
       "    .dataframe tbody tr th {\n",
       "        vertical-align: top;\n",
       "    }\n",
       "\n",
       "    .dataframe thead th {\n",
       "        text-align: right;\n",
       "    }\n",
       "</style>\n",
       "<table border=\"1\" class=\"dataframe\">\n",
       "  <thead>\n",
       "    <tr style=\"text-align: right;\">\n",
       "      <th></th>\n",
       "      <th>SOC_NAME</th>\n",
       "      <th>Certified_rate</th>\n",
       "    </tr>\n",
       "  </thead>\n",
       "  <tbody>\n",
       "    <tr>\n",
       "      <th>168</th>\n",
       "      <td>HISTORY TEACHERS, POSTSECONDARY</td>\n",
       "      <td>0.989899</td>\n",
       "    </tr>\n",
       "    <tr>\n",
       "      <th>180</th>\n",
       "      <td>ATMOSPHERIC AND SPACE SCIENTISTS</td>\n",
       "      <td>0.987805</td>\n",
       "    </tr>\n",
       "    <tr>\n",
       "      <th>195</th>\n",
       "      <td>CIVIL ENGINEERS, R&amp;D</td>\n",
       "      <td>0.985714</td>\n",
       "    </tr>\n",
       "    <tr>\n",
       "      <th>3</th>\n",
       "      <td>COMPUTER OCCUPATIONS, ALL OTHER*</td>\n",
       "      <td>0.980730</td>\n",
       "    </tr>\n",
       "    <tr>\n",
       "      <th>228</th>\n",
       "      <td>ANIMAL BREEDERS</td>\n",
       "      <td>0.978723</td>\n",
       "    </tr>\n",
       "    <tr>\n",
       "      <th>0</th>\n",
       "      <td>COMPUTER SYSTEMS ANALYSTS</td>\n",
       "      <td>0.977808</td>\n",
       "    </tr>\n",
       "    <tr>\n",
       "      <th>89</th>\n",
       "      <td>SOFTWARE QUALITY ASSURANCE ENGINEERS AND TESTERS</td>\n",
       "      <td>0.975684</td>\n",
       "    </tr>\n",
       "    <tr>\n",
       "      <th>1</th>\n",
       "      <td>COMPUTER PROGRAMMERS</td>\n",
       "      <td>0.972176</td>\n",
       "    </tr>\n",
       "    <tr>\n",
       "      <th>42</th>\n",
       "      <td>HEALTH SPECIALTIES TEACHERS, POSTSECONDARY</td>\n",
       "      <td>0.971496</td>\n",
       "    </tr>\n",
       "    <tr>\n",
       "      <th>250</th>\n",
       "      <td>AREA, ETHNIC, AND CULTURAL STUDIES TEACHERS, P...</td>\n",
       "      <td>0.971429</td>\n",
       "    </tr>\n",
       "  </tbody>\n",
       "</table>\n",
       "</div>"
      ],
      "text/plain": [
       "                                              SOC_NAME  Certified_rate\n",
       "168                    HISTORY TEACHERS, POSTSECONDARY        0.989899\n",
       "180                   ATMOSPHERIC AND SPACE SCIENTISTS        0.987805\n",
       "195                               CIVIL ENGINEERS, R&D        0.985714\n",
       "3                     COMPUTER OCCUPATIONS, ALL OTHER*        0.980730\n",
       "228                                    ANIMAL BREEDERS        0.978723\n",
       "0                            COMPUTER SYSTEMS ANALYSTS        0.977808\n",
       "89    SOFTWARE QUALITY ASSURANCE ENGINEERS AND TESTERS        0.975684\n",
       "1                                 COMPUTER PROGRAMMERS        0.972176\n",
       "42          HEALTH SPECIALTIES TEACHERS, POSTSECONDARY        0.971496\n",
       "250  AREA, ETHNIC, AND CULTURAL STUDIES TEACHERS, P...        0.971429"
      ]
     },
     "execution_count": 198,
     "metadata": {},
     "output_type": "execute_result"
    }
   ],
   "source": [
    "cer_de_2012 = pd.merge(cer_2012,de_2012,left_on = 'SOC_NAME',right_on = 'SOC_NAME',how='left')\n",
    "cer_de_2012['Certified_rate'] = cer_de_2012['YEAR_x']/(cer_de_2012['YEAR_x']+cer_de_2012['YEAR_y'])\n",
    "cer_de_2012.sort_values('Certified_rate',ascending=False)[['SOC_NAME','Certified_rate']][:10]"
   ]
  },
  {
   "cell_type": "code",
   "execution_count": 197,
   "metadata": {
    "ExecuteTime": {
     "end_time": "2018-08-29T17:11:30.382824Z",
     "start_time": "2018-08-29T17:11:30.367839Z"
    }
   },
   "outputs": [
    {
     "data": {
      "text/html": [
       "<div>\n",
       "<style scoped>\n",
       "    .dataframe tbody tr th:only-of-type {\n",
       "        vertical-align: middle;\n",
       "    }\n",
       "\n",
       "    .dataframe tbody tr th {\n",
       "        vertical-align: top;\n",
       "    }\n",
       "\n",
       "    .dataframe thead th {\n",
       "        text-align: right;\n",
       "    }\n",
       "</style>\n",
       "<table border=\"1\" class=\"dataframe\">\n",
       "  <thead>\n",
       "    <tr style=\"text-align: right;\">\n",
       "      <th></th>\n",
       "      <th>SOC_NAME</th>\n",
       "      <th>Certified_rate</th>\n",
       "    </tr>\n",
       "  </thead>\n",
       "  <tbody>\n",
       "    <tr>\n",
       "      <th>131</th>\n",
       "      <td>MATHEMATICIANS</td>\n",
       "      <td>0.993289</td>\n",
       "    </tr>\n",
       "    <tr>\n",
       "      <th>92</th>\n",
       "      <td>WEB DEVELOPERS</td>\n",
       "      <td>0.990099</td>\n",
       "    </tr>\n",
       "    <tr>\n",
       "      <th>50</th>\n",
       "      <td>COMPUTER HARDWARE ENGINEERS</td>\n",
       "      <td>0.989884</td>\n",
       "    </tr>\n",
       "    <tr>\n",
       "      <th>170</th>\n",
       "      <td>GEOLOGICAL AND PETROLEUM TECHNICIANS</td>\n",
       "      <td>0.989247</td>\n",
       "    </tr>\n",
       "    <tr>\n",
       "      <th>180</th>\n",
       "      <td>SOFTWARE QUALITY ASSURANCE ENGINEERS AND TESTERS</td>\n",
       "      <td>0.987500</td>\n",
       "    </tr>\n",
       "    <tr>\n",
       "      <th>129</th>\n",
       "      <td>PHYSICAL SCIENTISTS, ALL OTHER</td>\n",
       "      <td>0.986842</td>\n",
       "    </tr>\n",
       "    <tr>\n",
       "      <th>188</th>\n",
       "      <td>ACCOUNTANTS</td>\n",
       "      <td>0.986486</td>\n",
       "    </tr>\n",
       "    <tr>\n",
       "      <th>3</th>\n",
       "      <td>COMPUTER OCCUPATIONS, ALL OTHER</td>\n",
       "      <td>0.985712</td>\n",
       "    </tr>\n",
       "    <tr>\n",
       "      <th>61</th>\n",
       "      <td>ECONOMISTS</td>\n",
       "      <td>0.985477</td>\n",
       "    </tr>\n",
       "    <tr>\n",
       "      <th>0</th>\n",
       "      <td>COMPUTER SYSTEMS ANALYSTS</td>\n",
       "      <td>0.985020</td>\n",
       "    </tr>\n",
       "  </tbody>\n",
       "</table>\n",
       "</div>"
      ],
      "text/plain": [
       "                                             SOC_NAME  Certified_rate\n",
       "131                                    MATHEMATICIANS        0.993289\n",
       "92                                     WEB DEVELOPERS        0.990099\n",
       "50                        COMPUTER HARDWARE ENGINEERS        0.989884\n",
       "170              GEOLOGICAL AND PETROLEUM TECHNICIANS        0.989247\n",
       "180  SOFTWARE QUALITY ASSURANCE ENGINEERS AND TESTERS        0.987500\n",
       "129                    PHYSICAL SCIENTISTS, ALL OTHER        0.986842\n",
       "188                                       ACCOUNTANTS        0.986486\n",
       "3                     COMPUTER OCCUPATIONS, ALL OTHER        0.985712\n",
       "61                                         ECONOMISTS        0.985477\n",
       "0                           COMPUTER SYSTEMS ANALYSTS        0.985020"
      ]
     },
     "execution_count": 197,
     "metadata": {},
     "output_type": "execute_result"
    }
   ],
   "source": [
    "cer_de_2013 = pd.merge(cer_2013,de_2013,left_on = 'SOC_NAME',right_on = 'SOC_NAME',how='left')\n",
    "cer_de_2013['Certified_rate'] = cer_de_2013['YEAR_x']/(cer_de_2013['YEAR_x']+cer_de_2013['YEAR_y'])\n",
    "cer_de_2013.sort_values('Certified_rate',ascending=False)[['SOC_NAME','Certified_rate']][:10]"
   ]
  },
  {
   "cell_type": "code",
   "execution_count": 200,
   "metadata": {
    "ExecuteTime": {
     "end_time": "2018-08-29T17:11:59.085583Z",
     "start_time": "2018-08-29T17:11:59.069670Z"
    }
   },
   "outputs": [
    {
     "data": {
      "text/html": [
       "<div>\n",
       "<style scoped>\n",
       "    .dataframe tbody tr th:only-of-type {\n",
       "        vertical-align: middle;\n",
       "    }\n",
       "\n",
       "    .dataframe tbody tr th {\n",
       "        vertical-align: top;\n",
       "    }\n",
       "\n",
       "    .dataframe thead th {\n",
       "        text-align: right;\n",
       "    }\n",
       "</style>\n",
       "<table border=\"1\" class=\"dataframe\">\n",
       "  <thead>\n",
       "    <tr style=\"text-align: right;\">\n",
       "      <th></th>\n",
       "      <th>SOC_NAME</th>\n",
       "      <th>Certified_rate</th>\n",
       "    </tr>\n",
       "  </thead>\n",
       "  <tbody>\n",
       "    <tr>\n",
       "      <th>148</th>\n",
       "      <td>POSTSECONDARY TEACHERS, ALL OTHER</td>\n",
       "      <td>0.992248</td>\n",
       "    </tr>\n",
       "    <tr>\n",
       "      <th>49</th>\n",
       "      <td>COMPUTER HARDWARE ENGINEERS</td>\n",
       "      <td>0.989730</td>\n",
       "    </tr>\n",
       "    <tr>\n",
       "      <th>3</th>\n",
       "      <td>COMPUTER OCCUPATIONS, ALL OTHER</td>\n",
       "      <td>0.988344</td>\n",
       "    </tr>\n",
       "    <tr>\n",
       "      <th>0</th>\n",
       "      <td>COMPUTER SYSTEMS ANALYSTS</td>\n",
       "      <td>0.987319</td>\n",
       "    </tr>\n",
       "    <tr>\n",
       "      <th>10</th>\n",
       "      <td>DATABASE ADMINISTRATORS</td>\n",
       "      <td>0.986034</td>\n",
       "    </tr>\n",
       "    <tr>\n",
       "      <th>2</th>\n",
       "      <td>COMPUTER PROGRAMMERS</td>\n",
       "      <td>0.985297</td>\n",
       "    </tr>\n",
       "    <tr>\n",
       "      <th>201</th>\n",
       "      <td>FINANCIAL EXAMINERS</td>\n",
       "      <td>0.983871</td>\n",
       "    </tr>\n",
       "    <tr>\n",
       "      <th>206</th>\n",
       "      <td>CIVIL ENGINEERS, R&amp;D</td>\n",
       "      <td>0.983333</td>\n",
       "    </tr>\n",
       "    <tr>\n",
       "      <th>1</th>\n",
       "      <td>SOFTWARE DEVELOPERS, APPLICATIONS</td>\n",
       "      <td>0.982551</td>\n",
       "    </tr>\n",
       "    <tr>\n",
       "      <th>125</th>\n",
       "      <td>MARINE ENGINEERS AND NAVAL ARCHITECTS</td>\n",
       "      <td>0.981928</td>\n",
       "    </tr>\n",
       "  </tbody>\n",
       "</table>\n",
       "</div>"
      ],
      "text/plain": [
       "                                  SOC_NAME  Certified_rate\n",
       "148      POSTSECONDARY TEACHERS, ALL OTHER        0.992248\n",
       "49             COMPUTER HARDWARE ENGINEERS        0.989730\n",
       "3          COMPUTER OCCUPATIONS, ALL OTHER        0.988344\n",
       "0                COMPUTER SYSTEMS ANALYSTS        0.987319\n",
       "10                 DATABASE ADMINISTRATORS        0.986034\n",
       "2                     COMPUTER PROGRAMMERS        0.985297\n",
       "201                    FINANCIAL EXAMINERS        0.983871\n",
       "206                   CIVIL ENGINEERS, R&D        0.983333\n",
       "1        SOFTWARE DEVELOPERS, APPLICATIONS        0.982551\n",
       "125  MARINE ENGINEERS AND NAVAL ARCHITECTS        0.981928"
      ]
     },
     "execution_count": 200,
     "metadata": {},
     "output_type": "execute_result"
    }
   ],
   "source": [
    "cer_de_2014 = pd.merge(cer_2014,de_2014,left_on = 'SOC_NAME',right_on = 'SOC_NAME',how='left')\n",
    "cer_de_2014['Certified_rate'] = cer_de_2014['YEAR_x']/(cer_de_2014['YEAR_x']+cer_de_2014['YEAR_y'])\n",
    "cer_de_2014.sort_values('Certified_rate',ascending=False)[['SOC_NAME','Certified_rate']][:10]"
   ]
  },
  {
   "cell_type": "code",
   "execution_count": 201,
   "metadata": {
    "ExecuteTime": {
     "end_time": "2018-08-29T17:12:27.219079Z",
     "start_time": "2018-08-29T17:12:27.204121Z"
    }
   },
   "outputs": [
    {
     "data": {
      "text/html": [
       "<div>\n",
       "<style scoped>\n",
       "    .dataframe tbody tr th:only-of-type {\n",
       "        vertical-align: middle;\n",
       "    }\n",
       "\n",
       "    .dataframe tbody tr th {\n",
       "        vertical-align: top;\n",
       "    }\n",
       "\n",
       "    .dataframe thead th {\n",
       "        text-align: right;\n",
       "    }\n",
       "</style>\n",
       "<table border=\"1\" class=\"dataframe\">\n",
       "  <thead>\n",
       "    <tr style=\"text-align: right;\">\n",
       "      <th></th>\n",
       "      <th>SOC_NAME</th>\n",
       "      <th>Certified_rate</th>\n",
       "    </tr>\n",
       "  </thead>\n",
       "  <tbody>\n",
       "    <tr>\n",
       "      <th>62</th>\n",
       "      <td>SOFTWARE QUALITY ASSURANCE ENGINEERS AND TESTERS</td>\n",
       "      <td>0.998361</td>\n",
       "    </tr>\n",
       "    <tr>\n",
       "      <th>114</th>\n",
       "      <td>MATHEMATICIANS</td>\n",
       "      <td>0.995495</td>\n",
       "    </tr>\n",
       "    <tr>\n",
       "      <th>79</th>\n",
       "      <td>COMPUTER SYSTEMS ANALYST</td>\n",
       "      <td>0.992701</td>\n",
       "    </tr>\n",
       "    <tr>\n",
       "      <th>158</th>\n",
       "      <td>HEALTH AND SAFETY ENGINEERS, EXCEPT MINING SAFETY</td>\n",
       "      <td>0.991803</td>\n",
       "    </tr>\n",
       "    <tr>\n",
       "      <th>3</th>\n",
       "      <td>COMPUTER OCCUPATIONS, ALL OTHER</td>\n",
       "      <td>0.990994</td>\n",
       "    </tr>\n",
       "    <tr>\n",
       "      <th>0</th>\n",
       "      <td>COMPUTER SYSTEMS ANALYSTS</td>\n",
       "      <td>0.990775</td>\n",
       "    </tr>\n",
       "    <tr>\n",
       "      <th>96</th>\n",
       "      <td>PETROLEUM ENGINEERS</td>\n",
       "      <td>0.990596</td>\n",
       "    </tr>\n",
       "    <tr>\n",
       "      <th>173</th>\n",
       "      <td>ATMOSPHERIC AND SPACE SCIENTISTS</td>\n",
       "      <td>0.990385</td>\n",
       "    </tr>\n",
       "    <tr>\n",
       "      <th>20</th>\n",
       "      <td>STATISTICIANS</td>\n",
       "      <td>0.990333</td>\n",
       "    </tr>\n",
       "    <tr>\n",
       "      <th>180</th>\n",
       "      <td>NETWORK AND COMPUTER SYSTEMS ADMINISTRATORS*</td>\n",
       "      <td>0.989474</td>\n",
       "    </tr>\n",
       "  </tbody>\n",
       "</table>\n",
       "</div>"
      ],
      "text/plain": [
       "                                              SOC_NAME  Certified_rate\n",
       "62    SOFTWARE QUALITY ASSURANCE ENGINEERS AND TESTERS        0.998361\n",
       "114                                     MATHEMATICIANS        0.995495\n",
       "79                            COMPUTER SYSTEMS ANALYST        0.992701\n",
       "158  HEALTH AND SAFETY ENGINEERS, EXCEPT MINING SAFETY        0.991803\n",
       "3                      COMPUTER OCCUPATIONS, ALL OTHER        0.990994\n",
       "0                            COMPUTER SYSTEMS ANALYSTS        0.990775\n",
       "96                                 PETROLEUM ENGINEERS        0.990596\n",
       "173                   ATMOSPHERIC AND SPACE SCIENTISTS        0.990385\n",
       "20                                       STATISTICIANS        0.990333\n",
       "180       NETWORK AND COMPUTER SYSTEMS ADMINISTRATORS*        0.989474"
      ]
     },
     "execution_count": 201,
     "metadata": {},
     "output_type": "execute_result"
    }
   ],
   "source": [
    "cer_de_2015 = pd.merge(cer_2015,de_2015,left_on = 'SOC_NAME',right_on = 'SOC_NAME',how='left')\n",
    "cer_de_2015['Certified_rate'] = cer_de_2015['YEAR_x']/(cer_de_2015['YEAR_x']+cer_de_2015['YEAR_y'])\n",
    "cer_de_2015.sort_values('Certified_rate',ascending=False)[['SOC_NAME','Certified_rate']][:10]"
   ]
  },
  {
   "cell_type": "code",
   "execution_count": 202,
   "metadata": {
    "ExecuteTime": {
     "end_time": "2018-08-29T17:12:50.025811Z",
     "start_time": "2018-08-29T17:12:50.008858Z"
    }
   },
   "outputs": [
    {
     "data": {
      "text/html": [
       "<div>\n",
       "<style scoped>\n",
       "    .dataframe tbody tr th:only-of-type {\n",
       "        vertical-align: middle;\n",
       "    }\n",
       "\n",
       "    .dataframe tbody tr th {\n",
       "        vertical-align: top;\n",
       "    }\n",
       "\n",
       "    .dataframe thead th {\n",
       "        text-align: right;\n",
       "    }\n",
       "</style>\n",
       "<table border=\"1\" class=\"dataframe\">\n",
       "  <thead>\n",
       "    <tr style=\"text-align: right;\">\n",
       "      <th></th>\n",
       "      <th>SOC_NAME</th>\n",
       "      <th>Certified_rate</th>\n",
       "    </tr>\n",
       "  </thead>\n",
       "  <tbody>\n",
       "    <tr>\n",
       "      <th>5</th>\n",
       "      <td>COMPUTER SYSTEMS ANALYST</td>\n",
       "      <td>0.999701</td>\n",
       "    </tr>\n",
       "    <tr>\n",
       "      <th>29</th>\n",
       "      <td>COMPUTER PROGRAMMER</td>\n",
       "      <td>0.999402</td>\n",
       "    </tr>\n",
       "    <tr>\n",
       "      <th>21</th>\n",
       "      <td>SOFTWARE QUALITY ASSURANCE ENGINEERS AND TESTERS</td>\n",
       "      <td>0.999244</td>\n",
       "    </tr>\n",
       "    <tr>\n",
       "      <th>66</th>\n",
       "      <td>COMPUTER SYSTEMS ENGINEERS</td>\n",
       "      <td>0.998264</td>\n",
       "    </tr>\n",
       "    <tr>\n",
       "      <th>53</th>\n",
       "      <td>INFORMATION TECHNOLOGY PROJECT MANAGERS</td>\n",
       "      <td>0.997472</td>\n",
       "    </tr>\n",
       "    <tr>\n",
       "      <th>34</th>\n",
       "      <td>COMPUTER SYSTEMS ENGINEERS/ARCHITECTS</td>\n",
       "      <td>0.997139</td>\n",
       "    </tr>\n",
       "    <tr>\n",
       "      <th>109</th>\n",
       "      <td>BUSINESS INTELLIGENCE ANALYSTS</td>\n",
       "      <td>0.996124</td>\n",
       "    </tr>\n",
       "    <tr>\n",
       "      <th>2</th>\n",
       "      <td>COMPUTER PROGRAMMERS</td>\n",
       "      <td>0.992122</td>\n",
       "    </tr>\n",
       "    <tr>\n",
       "      <th>32</th>\n",
       "      <td>CHEMISTS</td>\n",
       "      <td>0.992079</td>\n",
       "    </tr>\n",
       "    <tr>\n",
       "      <th>3</th>\n",
       "      <td>COMPUTER OCCUPATIONS, ALL OTHER</td>\n",
       "      <td>0.991420</td>\n",
       "    </tr>\n",
       "  </tbody>\n",
       "</table>\n",
       "</div>"
      ],
      "text/plain": [
       "                                             SOC_NAME  Certified_rate\n",
       "5                            COMPUTER SYSTEMS ANALYST        0.999701\n",
       "29                                COMPUTER PROGRAMMER        0.999402\n",
       "21   SOFTWARE QUALITY ASSURANCE ENGINEERS AND TESTERS        0.999244\n",
       "66                         COMPUTER SYSTEMS ENGINEERS        0.998264\n",
       "53            INFORMATION TECHNOLOGY PROJECT MANAGERS        0.997472\n",
       "34              COMPUTER SYSTEMS ENGINEERS/ARCHITECTS        0.997139\n",
       "109                    BUSINESS INTELLIGENCE ANALYSTS        0.996124\n",
       "2                                COMPUTER PROGRAMMERS        0.992122\n",
       "32                                           CHEMISTS        0.992079\n",
       "3                     COMPUTER OCCUPATIONS, ALL OTHER        0.991420"
      ]
     },
     "execution_count": 202,
     "metadata": {},
     "output_type": "execute_result"
    }
   ],
   "source": [
    "cer_de_2016 = pd.merge(cer_2016,de_2016,left_on = 'SOC_NAME',right_on = 'SOC_NAME',how='left')\n",
    "cer_de_2016['Certified_rate'] = cer_de_2016['YEAR_x']/(cer_de_2016['YEAR_x']+cer_de_2016['YEAR_y'])\n",
    "cer_de_2016.sort_values('Certified_rate',ascending=False)[['SOC_NAME','Certified_rate']][:10]"
   ]
  },
  {
   "cell_type": "markdown",
   "metadata": {},
   "source": [
    "## Issue\n",
    "1. soc_name으로만 해봤는데 연도 별로 하면 nan 회사가 더 많아짐\n",
    "2. 2011년에 apply한 soc 또는 employer가 2012년에도 apply함\n",
    "3. soc가 영향력이 더 큰가 아니면 연도가 영향력이 더 큰가에 따라서 결정해야하나?\n",
    "4. 귀찮다 ... 그냥 전체로 묶어서 soc 전체 certified rate, employer 전체 certified rate로 하자..."
   ]
  },
  {
   "cell_type": "markdown",
   "metadata": {},
   "source": [
    "## Certified rate feature simple version (SOC, Employer)"
   ]
  },
  {
   "cell_type": "markdown",
   "metadata": {},
   "source": [
    "### SOC certified rate"
   ]
  },
  {
   "cell_type": "code",
   "execution_count": 204,
   "metadata": {
    "ExecuteTime": {
     "end_time": "2018-08-29T17:17:06.633304Z",
     "start_time": "2018-08-29T17:17:05.857583Z"
    }
   },
   "outputs": [
    {
     "name": "stdout",
     "output_type": "stream",
     "text": [
      "1376\n",
      "861\n"
     ]
    }
   ],
   "source": [
    "cer_rate_SOC = df_train[df_train['CASE_STATUS'] == 0]\n",
    "cer_rate_SOC = cer_rate_SOC.groupby(['SOC_NAME','CASE_STATUS'])['YEAR'].count().reset_index()\n",
    "de_rate_SOC = df_train[df_train['CASE_STATUS'] == 1]\n",
    "de_rate_SOC = de_rate_SOC.groupby(['SOC_NAME','CASE_STATUS'])['YEAR'].count().reset_index()\n",
    "cer_SOC = cer_rate_SOC.sort_values('YEAR', ascending = False)\n",
    "de_SOC = de_rate_SOC.sort_values('YEAR',ascending =False)\n",
    "\n",
    "count_cer_SOC = cer_SOC['SOC_NAME'].value_counts().sort_values(ascending=True)\n",
    "count_de_SOC = de_SOC['SOC_NAME'].value_counts().sort_values(ascending=True)\n",
    "\n",
    "print(count_cer_SOC.count())\n",
    "print(count_de_SOC.count())\n",
    "\n",
    "#certified에는 속하지만, denied에 하나도 없는 SOC_NAME이 515개, 이녀석들은 평균값으로 대체하자"
   ]
  },
  {
   "cell_type": "code",
   "execution_count": 210,
   "metadata": {
    "ExecuteTime": {
     "end_time": "2018-08-29T17:25:13.169788Z",
     "start_time": "2018-08-29T17:25:13.154868Z"
    },
    "scrolled": true
   },
   "outputs": [
    {
     "data": {
      "text/html": [
       "<div>\n",
       "<style scoped>\n",
       "    .dataframe tbody tr th:only-of-type {\n",
       "        vertical-align: middle;\n",
       "    }\n",
       "\n",
       "    .dataframe tbody tr th {\n",
       "        vertical-align: top;\n",
       "    }\n",
       "\n",
       "    .dataframe thead th {\n",
       "        text-align: right;\n",
       "    }\n",
       "</style>\n",
       "<table border=\"1\" class=\"dataframe\">\n",
       "  <thead>\n",
       "    <tr style=\"text-align: right;\">\n",
       "      <th></th>\n",
       "      <th>SOC_NAME</th>\n",
       "      <th>Certified_rate</th>\n",
       "    </tr>\n",
       "  </thead>\n",
       "  <tbody>\n",
       "    <tr>\n",
       "      <th>21</th>\n",
       "      <td>COMPUTER SYSTEMS ANALYST</td>\n",
       "      <td>0.999492</td>\n",
       "    </tr>\n",
       "    <tr>\n",
       "      <th>125</th>\n",
       "      <td>COMPUTER SYSTEMS ENGINEERS</td>\n",
       "      <td>0.999208</td>\n",
       "    </tr>\n",
       "    <tr>\n",
       "      <th>130</th>\n",
       "      <td>INFORMATION TECHNOLOGY PROJECT MANAGERS</td>\n",
       "      <td>0.998325</td>\n",
       "    </tr>\n",
       "    <tr>\n",
       "      <th>211</th>\n",
       "      <td>BUSINESS INTELLIGENCE ANALYSTS</td>\n",
       "      <td>0.997812</td>\n",
       "    </tr>\n",
       "    <tr>\n",
       "      <th>104</th>\n",
       "      <td>COMPUTER PROGRAMMER</td>\n",
       "      <td>0.996094</td>\n",
       "    </tr>\n",
       "    <tr>\n",
       "      <th>336</th>\n",
       "      <td>RECREATION AND FITNESS STUDIES TEACHERS,</td>\n",
       "      <td>0.992000</td>\n",
       "    </tr>\n",
       "    <tr>\n",
       "      <th>346</th>\n",
       "      <td>SOFTWARE DEVELOPER, APPLICATIONS</td>\n",
       "      <td>0.991071</td>\n",
       "    </tr>\n",
       "    <tr>\n",
       "      <th>3</th>\n",
       "      <td>COMPUTER OCCUPATIONS, ALL OTHER</td>\n",
       "      <td>0.989628</td>\n",
       "    </tr>\n",
       "    <tr>\n",
       "      <th>386</th>\n",
       "      <td>COMPUTER PROGRAMMERS, NON R&amp;D</td>\n",
       "      <td>0.987179</td>\n",
       "    </tr>\n",
       "    <tr>\n",
       "      <th>320</th>\n",
       "      <td>LAW TEACHERS, POSTSECONDARY</td>\n",
       "      <td>0.986111</td>\n",
       "    </tr>\n",
       "  </tbody>\n",
       "</table>\n",
       "</div>"
      ],
      "text/plain": [
       "                                     SOC_NAME  Certified_rate\n",
       "21                   COMPUTER SYSTEMS ANALYST        0.999492\n",
       "125                COMPUTER SYSTEMS ENGINEERS        0.999208\n",
       "130   INFORMATION TECHNOLOGY PROJECT MANAGERS        0.998325\n",
       "211            BUSINESS INTELLIGENCE ANALYSTS        0.997812\n",
       "104                       COMPUTER PROGRAMMER        0.996094\n",
       "336  RECREATION AND FITNESS STUDIES TEACHERS,        0.992000\n",
       "346          SOFTWARE DEVELOPER, APPLICATIONS        0.991071\n",
       "3             COMPUTER OCCUPATIONS, ALL OTHER        0.989628\n",
       "386             COMPUTER PROGRAMMERS, NON R&D        0.987179\n",
       "320               LAW TEACHERS, POSTSECONDARY        0.986111"
      ]
     },
     "execution_count": 210,
     "metadata": {},
     "output_type": "execute_result"
    }
   ],
   "source": [
    "cer_de_SOC = pd.merge(cer_SOC,de_SOC,left_on = 'SOC_NAME',right_on = 'SOC_NAME',how='left')\n",
    "cer_de_SOC['Certified_rate'] = cer_de_SOC['YEAR_x']/(cer_de_SOC['YEAR_x']+cer_de_SOC['YEAR_y'])\n",
    "cer_de_SOC.sort_values('Certified_rate',ascending=False)[['SOC_NAME','Certified_rate']][:10]"
   ]
  },
  {
   "cell_type": "code",
   "execution_count": 217,
   "metadata": {
    "ExecuteTime": {
     "end_time": "2018-08-29T18:16:18.249391Z",
     "start_time": "2018-08-29T18:16:18.244406Z"
    }
   },
   "outputs": [
    {
     "data": {
      "text/plain": [
       "0.779476556600537"
      ]
     },
     "execution_count": 217,
     "metadata": {},
     "output_type": "execute_result"
    }
   ],
   "source": [
    "np.mean(cer_de_SOC['Certified_rate'])"
   ]
  },
  {
   "cell_type": "code",
   "execution_count": 221,
   "metadata": {
    "ExecuteTime": {
     "end_time": "2018-08-29T18:20:38.812730Z",
     "start_time": "2018-08-29T18:20:36.954919Z"
    }
   },
   "outputs": [],
   "source": [
    "cer_de_SOC_temp = cer_de_SOC['SOC_NAME']\n",
    "cer_de_SOC_temp = pd.concat([cer_de_SOC_temp,cer_de_SOC['Certified_rate']],axis=1)\n",
    "df_train_temp = pd.merge(df_train,cer_de_SOC_temp,left_on ='SOC_NAME',right_on='SOC_NAME', how='left')"
   ]
  },
  {
   "cell_type": "code",
   "execution_count": 223,
   "metadata": {
    "ExecuteTime": {
     "end_time": "2018-08-29T18:21:11.834138Z",
     "start_time": "2018-08-29T18:21:11.806213Z"
    }
   },
   "outputs": [
    {
     "data": {
      "text/plain": [
       "15089"
      ]
     },
     "execution_count": 223,
     "metadata": {},
     "output_type": "execute_result"
    }
   ],
   "source": [
    "df_train_temp['Certified_rate'].isnull().sum()"
   ]
  },
  {
   "cell_type": "code",
   "execution_count": 228,
   "metadata": {
    "ExecuteTime": {
     "end_time": "2018-08-29T18:26:18.253723Z",
     "start_time": "2018-08-29T18:26:16.397593Z"
    }
   },
   "outputs": [],
   "source": [
    "cer_de_SOC_temp = cer_de_SOC['SOC_NAME']\n",
    "cer_de_SOC_temp = pd.concat([cer_de_SOC_temp,cer_de_SOC['Certified_rate']],axis=1)\n",
    "df_train = pd.merge(df_train,cer_de_SOC_temp,left_on ='SOC_NAME',right_on='SOC_NAME', how='left')"
   ]
  },
  {
   "cell_type": "code",
   "execution_count": 231,
   "metadata": {
    "ExecuteTime": {
     "end_time": "2018-08-29T18:27:11.936669Z",
     "start_time": "2018-08-29T18:27:10.940071Z"
    }
   },
   "outputs": [],
   "source": [
    "df_train.rename(columns = {df_train.columns[13] : 'CR_SOC'}, inplace = True )"
   ]
  },
  {
   "cell_type": "code",
   "execution_count": 247,
   "metadata": {
    "ExecuteTime": {
     "end_time": "2018-08-29T18:36:50.871059Z",
     "start_time": "2018-08-29T18:36:50.838184Z"
    }
   },
   "outputs": [],
   "source": [
    "df_train['CR_SOC'] = df_train['CR_SOC'].fillna(0.779)"
   ]
  },
  {
   "cell_type": "markdown",
   "metadata": {},
   "source": [
    "### Employer certified rate"
   ]
  },
  {
   "cell_type": "code",
   "execution_count": 206,
   "metadata": {
    "ExecuteTime": {
     "end_time": "2018-08-29T17:19:47.770503Z",
     "start_time": "2018-08-29T17:19:46.170147Z"
    }
   },
   "outputs": [
    {
     "name": "stdout",
     "output_type": "stream",
     "text": [
      "174693\n",
      "44209\n"
     ]
    }
   ],
   "source": [
    "cer_rate_Employer = df_train[df_train['CASE_STATUS'] == 0]\n",
    "cer_rate_Employer = cer_rate_Employer.groupby(['EMPLOYER_NAME','CASE_STATUS'])['YEAR'].count().reset_index()\n",
    "de_rate_Employer = df_train[df_train['CASE_STATUS'] == 1]\n",
    "de_rate_Employer = de_rate_Employer.groupby(['EMPLOYER_NAME','CASE_STATUS'])['YEAR'].count().reset_index()\n",
    "cer_Employer = cer_rate_Employer.sort_values('YEAR', ascending = False)\n",
    "de_Employer = de_rate_Employer.sort_values('YEAR',ascending =False)\n",
    "\n",
    "count_cer_Employer = cer_Employer['EMPLOYER_NAME'].value_counts().sort_values(ascending=True)\n",
    "count_de_Employer = de_Employer['EMPLOYER_NAME'].value_counts().sort_values(ascending=True)\n",
    "\n",
    "print(count_cer_Employer.count())\n",
    "print(count_de_Employer.count())\n",
    "\n",
    "#certified에는 속하지만, denied에 하나도 없는 Employer_name이 130484개, 이녀석들은 평균값으로 대체하자"
   ]
  },
  {
   "cell_type": "code",
   "execution_count": 213,
   "metadata": {
    "ExecuteTime": {
     "end_time": "2018-08-29T17:26:27.109433Z",
     "start_time": "2018-08-29T17:26:26.920509Z"
    }
   },
   "outputs": [
    {
     "data": {
      "text/html": [
       "<div>\n",
       "<style scoped>\n",
       "    .dataframe tbody tr th:only-of-type {\n",
       "        vertical-align: middle;\n",
       "    }\n",
       "\n",
       "    .dataframe tbody tr th {\n",
       "        vertical-align: top;\n",
       "    }\n",
       "\n",
       "    .dataframe thead th {\n",
       "        text-align: right;\n",
       "    }\n",
       "</style>\n",
       "<table border=\"1\" class=\"dataframe\">\n",
       "  <thead>\n",
       "    <tr style=\"text-align: right;\">\n",
       "      <th></th>\n",
       "      <th>EMPLOYER_NAME</th>\n",
       "      <th>Certified_rate</th>\n",
       "    </tr>\n",
       "  </thead>\n",
       "  <tbody>\n",
       "    <tr>\n",
       "      <th>51</th>\n",
       "      <td>RANDSTAD TECHNOLOGIES LP</td>\n",
       "      <td>0.999225</td>\n",
       "    </tr>\n",
       "    <tr>\n",
       "      <th>195</th>\n",
       "      <td>PEOPLE TECH GROUP INC</td>\n",
       "      <td>0.998788</td>\n",
       "    </tr>\n",
       "    <tr>\n",
       "      <th>197</th>\n",
       "      <td>CMC AMERICAS INC</td>\n",
       "      <td>0.998783</td>\n",
       "    </tr>\n",
       "    <tr>\n",
       "      <th>313</th>\n",
       "      <td>VIRTUE GROUP LLC</td>\n",
       "      <td>0.998328</td>\n",
       "    </tr>\n",
       "    <tr>\n",
       "      <th>317</th>\n",
       "      <td>HADIAMONDSTAR SOFTWARE SOLUTIONS LLC</td>\n",
       "      <td>0.998305</td>\n",
       "    </tr>\n",
       "    <tr>\n",
       "      <th>323</th>\n",
       "      <td>NAGARRO INC</td>\n",
       "      <td>0.998291</td>\n",
       "    </tr>\n",
       "    <tr>\n",
       "      <th>362</th>\n",
       "      <td>ORPINE INC</td>\n",
       "      <td>0.998152</td>\n",
       "    </tr>\n",
       "    <tr>\n",
       "      <th>15</th>\n",
       "      <td>TECH MAHINDRA (AMERICAS)INC</td>\n",
       "      <td>0.998127</td>\n",
       "    </tr>\n",
       "    <tr>\n",
       "      <th>371</th>\n",
       "      <td>ERP AND ERP CORP</td>\n",
       "      <td>0.998120</td>\n",
       "    </tr>\n",
       "    <tr>\n",
       "      <th>6</th>\n",
       "      <td>MICROSOFT CORPORATION</td>\n",
       "      <td>0.998097</td>\n",
       "    </tr>\n",
       "  </tbody>\n",
       "</table>\n",
       "</div>"
      ],
      "text/plain": [
       "                            EMPLOYER_NAME  Certified_rate\n",
       "51               RANDSTAD TECHNOLOGIES LP        0.999225\n",
       "195                 PEOPLE TECH GROUP INC        0.998788\n",
       "197                      CMC AMERICAS INC        0.998783\n",
       "313                      VIRTUE GROUP LLC        0.998328\n",
       "317  HADIAMONDSTAR SOFTWARE SOLUTIONS LLC        0.998305\n",
       "323                           NAGARRO INC        0.998291\n",
       "362                            ORPINE INC        0.998152\n",
       "15            TECH MAHINDRA (AMERICAS)INC        0.998127\n",
       "371                      ERP AND ERP CORP        0.998120\n",
       "6                   MICROSOFT CORPORATION        0.998097"
      ]
     },
     "execution_count": 213,
     "metadata": {},
     "output_type": "execute_result"
    }
   ],
   "source": [
    "cer_de_Employer = pd.merge(cer_Employer,de_Employer,left_on = 'EMPLOYER_NAME',right_on = 'EMPLOYER_NAME',how='left')\n",
    "cer_de_Employer['Certified_rate'] = cer_de_Employer['YEAR_x']/(cer_de_Employer['YEAR_x']+cer_de_Employer['YEAR_y'])\n",
    "cer_de_Employer.sort_values('Certified_rate',ascending=False)[['EMPLOYER_NAME','Certified_rate']][:10]"
   ]
  },
  {
   "cell_type": "code",
   "execution_count": 215,
   "metadata": {
    "ExecuteTime": {
     "end_time": "2018-08-29T17:30:53.017095Z",
     "start_time": "2018-08-29T17:30:53.010142Z"
    }
   },
   "outputs": [
    {
     "data": {
      "text/plain": [
       "0.6764722586372935"
      ]
     },
     "execution_count": 215,
     "metadata": {},
     "output_type": "execute_result"
    }
   ],
   "source": [
    "np.mean(cer_de_Employer['Certified_rate'])"
   ]
  },
  {
   "cell_type": "code",
   "execution_count": 225,
   "metadata": {
    "ExecuteTime": {
     "end_time": "2018-08-29T18:22:43.194494Z",
     "start_time": "2018-08-29T18:22:40.983355Z"
    }
   },
   "outputs": [],
   "source": [
    "cer_de_Employer_temp = cer_de_Employer['EMPLOYER_NAME']\n",
    "cer_de_Employer_temp = pd.concat([cer_de_Employer_temp,cer_de_Employer['Certified_rate']],axis=1)\n",
    "df_train_temp = pd.merge(df_train,cer_de_Employer_temp,left_on ='EMPLOYER_NAME',right_on='EMPLOYER_NAME', how='left')"
   ]
  },
  {
   "cell_type": "code",
   "execution_count": 226,
   "metadata": {
    "ExecuteTime": {
     "end_time": "2018-08-29T18:22:54.916215Z",
     "start_time": "2018-08-29T18:22:54.878346Z"
    }
   },
   "outputs": [
    {
     "data": {
      "text/plain": [
       "555455"
      ]
     },
     "execution_count": 226,
     "metadata": {},
     "output_type": "execute_result"
    }
   ],
   "source": [
    "df_train_temp['Certified_rate'].isnull().sum()"
   ]
  },
  {
   "cell_type": "code",
   "execution_count": 233,
   "metadata": {
    "ExecuteTime": {
     "end_time": "2018-08-29T18:28:16.078780Z",
     "start_time": "2018-08-29T18:28:13.699308Z"
    }
   },
   "outputs": [],
   "source": [
    "cer_de_Employer_temp = cer_de_Employer['EMPLOYER_NAME']\n",
    "cer_de_Employer_temp = pd.concat([cer_de_Employer_temp,cer_de_Employer['Certified_rate']],axis=1)\n",
    "df_train = pd.merge(df_train,cer_de_Employer_temp,left_on ='EMPLOYER_NAME',right_on='EMPLOYER_NAME', how='left')"
   ]
  },
  {
   "cell_type": "code",
   "execution_count": 234,
   "metadata": {
    "ExecuteTime": {
     "end_time": "2018-08-29T18:28:30.061646Z",
     "start_time": "2018-08-29T18:28:29.084683Z"
    }
   },
   "outputs": [],
   "source": [
    "df_train.rename(columns = {df_train.columns[14] : 'CR_EMPLOYER'}, inplace = True )"
   ]
  },
  {
   "cell_type": "code",
   "execution_count": 253,
   "metadata": {
    "ExecuteTime": {
     "end_time": "2018-08-29T18:40:19.324353Z",
     "start_time": "2018-08-29T18:40:19.288478Z"
    }
   },
   "outputs": [],
   "source": [
    "df_train['CR_EMPLOYER'] = df_train['CR_EMPLOYER'].fillna(0.676)"
   ]
  },
  {
   "cell_type": "markdown",
   "metadata": {},
   "source": [
    "## JOB_TITLE도 Certificated_rate 해볼까?"
   ]
  },
  {
   "cell_type": "code",
   "execution_count": 257,
   "metadata": {
    "ExecuteTime": {
     "end_time": "2018-08-29T18:43:36.479225Z",
     "start_time": "2018-08-29T18:43:34.753529Z"
    }
   },
   "outputs": [
    {
     "name": "stdout",
     "output_type": "stream",
     "text": [
      "234883\n",
      "23014\n"
     ]
    }
   ],
   "source": [
    "cer_rate_JOB = df_train[df_train['CASE_STATUS'] == 0]\n",
    "cer_rate_JOB = cer_rate_JOB.groupby(['JOB_TITLE','CASE_STATUS'])['YEAR'].count().reset_index()\n",
    "de_rate_JOB = df_train[df_train['CASE_STATUS'] == 1]\n",
    "de_rate_JOB = de_rate_JOB.groupby(['JOB_TITLE','CASE_STATUS'])['YEAR'].count().reset_index()\n",
    "cer_JOB = cer_rate_JOB.sort_values('YEAR', ascending = False)\n",
    "de_JOB = de_rate_JOB.sort_values('YEAR',ascending =False)\n",
    "\n",
    "count_cer_JOB = cer_JOB['JOB_TITLE'].value_counts().sort_values(ascending=True)\n",
    "count_de_JOB = de_JOB['JOB_TITLE'].value_counts().sort_values(ascending=True)\n",
    "\n",
    "print(count_cer_JOB.count())\n",
    "print(count_de_JOB.count())\n",
    "\n",
    "#certified에는 속하지만, denied에 하나도 없는 JOB_TITLE이 더 많네... 평균이나 내볼까"
   ]
  },
  {
   "cell_type": "code",
   "execution_count": 260,
   "metadata": {
    "ExecuteTime": {
     "end_time": "2018-08-29T18:45:44.797695Z",
     "start_time": "2018-08-29T18:45:44.541610Z"
    }
   },
   "outputs": [
    {
     "data": {
      "text/html": [
       "<div>\n",
       "<style scoped>\n",
       "    .dataframe tbody tr th:only-of-type {\n",
       "        vertical-align: middle;\n",
       "    }\n",
       "\n",
       "    .dataframe tbody tr th {\n",
       "        vertical-align: top;\n",
       "    }\n",
       "\n",
       "    .dataframe thead th {\n",
       "        text-align: right;\n",
       "    }\n",
       "</style>\n",
       "<table border=\"1\" class=\"dataframe\">\n",
       "  <thead>\n",
       "    <tr style=\"text-align: right;\">\n",
       "      <th></th>\n",
       "      <th>JOB_TITLE</th>\n",
       "      <th>Certified_rate</th>\n",
       "    </tr>\n",
       "  </thead>\n",
       "  <tbody>\n",
       "    <tr>\n",
       "      <th>24</th>\n",
       "      <td>SYSTEMS ENGINEER - US</td>\n",
       "      <td>0.999625</td>\n",
       "    </tr>\n",
       "    <tr>\n",
       "      <th>49</th>\n",
       "      <td>DEVELOPER USER INTERFACE</td>\n",
       "      <td>0.999524</td>\n",
       "    </tr>\n",
       "    <tr>\n",
       "      <th>35</th>\n",
       "      <td>COMPUTER PROGRAMMER/CONFIGURER 2</td>\n",
       "      <td>0.999254</td>\n",
       "    </tr>\n",
       "    <tr>\n",
       "      <th>197</th>\n",
       "      <td>SENIOR TECHNOLOGY ARCHITECT - US</td>\n",
       "      <td>0.999139</td>\n",
       "    </tr>\n",
       "    <tr>\n",
       "      <th>198</th>\n",
       "      <td>PRODUCTION SUPPORT ANALYST - US</td>\n",
       "      <td>0.999133</td>\n",
       "    </tr>\n",
       "    <tr>\n",
       "      <th>220</th>\n",
       "      <td>TEST CONSULTANT</td>\n",
       "      <td>0.999008</td>\n",
       "    </tr>\n",
       "    <tr>\n",
       "      <th>52</th>\n",
       "      <td>TEST ANALYST - US</td>\n",
       "      <td>0.998988</td>\n",
       "    </tr>\n",
       "    <tr>\n",
       "      <th>54</th>\n",
       "      <td>TECHNOLOGY ARCHITECT - US</td>\n",
       "      <td>0.998952</td>\n",
       "    </tr>\n",
       "    <tr>\n",
       "      <th>229</th>\n",
       "      <td>SOFTWARE ENGINEER AND TESTER</td>\n",
       "      <td>0.998950</td>\n",
       "    </tr>\n",
       "    <tr>\n",
       "      <th>7</th>\n",
       "      <td>TECHNOLOGY LEAD - US</td>\n",
       "      <td>0.998932</td>\n",
       "    </tr>\n",
       "  </tbody>\n",
       "</table>\n",
       "</div>"
      ],
      "text/plain": [
       "                            JOB_TITLE  Certified_rate\n",
       "24              SYSTEMS ENGINEER - US        0.999625\n",
       "49           DEVELOPER USER INTERFACE        0.999524\n",
       "35   COMPUTER PROGRAMMER/CONFIGURER 2        0.999254\n",
       "197  SENIOR TECHNOLOGY ARCHITECT - US        0.999139\n",
       "198   PRODUCTION SUPPORT ANALYST - US        0.999133\n",
       "220                   TEST CONSULTANT        0.999008\n",
       "52                  TEST ANALYST - US        0.998988\n",
       "54          TECHNOLOGY ARCHITECT - US        0.998952\n",
       "229      SOFTWARE ENGINEER AND TESTER        0.998950\n",
       "7                TECHNOLOGY LEAD - US        0.998932"
      ]
     },
     "execution_count": 260,
     "metadata": {},
     "output_type": "execute_result"
    }
   ],
   "source": [
    "cer_de_JOB = pd.merge(cer_JOB,de_JOB,left_on = 'JOB_TITLE',right_on = 'JOB_TITLE',how='left')\n",
    "cer_de_JOB['Certified_rate'] = cer_de_JOB['YEAR_x']/(cer_de_JOB['YEAR_x']+cer_de_JOB['YEAR_y'])\n",
    "cer_de_JOB.sort_values('Certified_rate',ascending=False)[['JOB_TITLE','Certified_rate']][:10]"
   ]
  },
  {
   "cell_type": "code",
   "execution_count": 261,
   "metadata": {
    "ExecuteTime": {
     "end_time": "2018-08-29T18:46:10.784808Z",
     "start_time": "2018-08-29T18:46:10.778795Z"
    }
   },
   "outputs": [
    {
     "data": {
      "text/plain": [
       "0.6957090833503009"
      ]
     },
     "execution_count": 261,
     "metadata": {},
     "output_type": "execute_result"
    }
   ],
   "source": [
    "np.mean(cer_de_JOB['Certified_rate'])"
   ]
  },
  {
   "cell_type": "code",
   "execution_count": 268,
   "metadata": {
    "ExecuteTime": {
     "end_time": "2018-08-29T19:01:49.045616Z",
     "start_time": "2018-08-29T19:01:46.909120Z"
    }
   },
   "outputs": [],
   "source": [
    "cer_de_JOB_temp = cer_de_JOB['JOB_TITLE']\n",
    "cer_de_JOB_temp = pd.concat([cer_de_JOB_temp,cer_de_JOB['Certified_rate']],axis=1)\n",
    "df_train = pd.merge(df_train,cer_de_JOB_temp,left_on ='JOB_TITLE',right_on='JOB_TITLE', how='left')"
   ]
  },
  {
   "cell_type": "code",
   "execution_count": 270,
   "metadata": {
    "ExecuteTime": {
     "end_time": "2018-08-29T19:02:16.894187Z",
     "start_time": "2018-08-29T19:02:15.878943Z"
    }
   },
   "outputs": [],
   "source": [
    "df_train.rename(columns = {df_train.columns[15] : 'CR_JOB'}, inplace = True )"
   ]
  },
  {
   "cell_type": "code",
   "execution_count": 272,
   "metadata": {
    "ExecuteTime": {
     "end_time": "2018-08-29T19:02:28.898189Z",
     "start_time": "2018-08-29T19:02:28.859330Z"
    }
   },
   "outputs": [],
   "source": [
    "df_train['CR_JOB'] = df_train['CR_JOB'].fillna(0.696)\n",
    "#넣어보고 importance 낮으면 빼자"
   ]
  },
  {
   "cell_type": "markdown",
   "metadata": {
    "ExecuteTime": {
     "end_time": "2018-08-29T19:02:42.483549Z",
     "start_time": "2018-08-29T19:02:41.668039Z"
    }
   },
   "source": [
    "## 내친김에 worksite로도 Certified rate 해보자"
   ]
  },
  {
   "cell_type": "markdown",
   "metadata": {},
   "source": [
    "### worksite 중에서 주(state)만 가지고 해보자"
   ]
  },
  {
   "cell_type": "code",
   "execution_count": 279,
   "metadata": {
    "ExecuteTime": {
     "end_time": "2018-08-29T19:08:24.088077Z",
     "start_time": "2018-08-29T19:08:23.019968Z"
    }
   },
   "outputs": [],
   "source": [
    "def state(data):\n",
    "    states = []\n",
    "    data_worksite = df_train['WORKSITE']\n",
    "    for worksite in data_worksite.iloc[:]:\n",
    "        state = worksite.split(', ')[1]\n",
    "        states.append(state)\n",
    "    return pd.DataFrame(states, columns =['State'])\n",
    "\n",
    "states = state(df_train)\n",
    "df_train['State'] = states['State']"
   ]
  },
  {
   "cell_type": "code",
   "execution_count": 283,
   "metadata": {
    "ExecuteTime": {
     "end_time": "2018-08-29T19:10:00.175872Z",
     "start_time": "2018-08-29T19:09:59.422891Z"
    }
   },
   "outputs": [
    {
     "name": "stdout",
     "output_type": "stream",
     "text": [
      "53\n",
      "53\n"
     ]
    }
   ],
   "source": [
    "cer_rate_state = df_train[df_train['CASE_STATUS'] == 0]\n",
    "cer_rate_state = cer_rate_state.groupby(['State','CASE_STATUS'])['YEAR'].count().reset_index()\n",
    "de_rate_state = df_train[df_train['CASE_STATUS'] == 1]\n",
    "de_rate_state = de_rate_state.groupby(['State','CASE_STATUS'])['YEAR'].count().reset_index()\n",
    "cer_state = cer_rate_state.sort_values('YEAR', ascending = False)\n",
    "de_state = de_rate_state.sort_values('YEAR',ascending =False)\n",
    "\n",
    "count_cer_state = cer_state['State'].value_counts().sort_values(ascending=True)\n",
    "count_de_state = de_state['State'].value_counts().sort_values(ascending=True)\n",
    "\n",
    "print(count_cer_state.count())\n",
    "print(count_de_state.count())\n",
    "\n",
    "#certified에는 속하지만, denied에 하나도 없는 JOB_TITLE이 더 많네... 평균이나 내볼까"
   ]
  },
  {
   "cell_type": "code",
   "execution_count": 285,
   "metadata": {
    "ExecuteTime": {
     "end_time": "2018-08-29T19:11:11.191971Z",
     "start_time": "2018-08-29T19:11:11.178985Z"
    }
   },
   "outputs": [
    {
     "data": {
      "text/html": [
       "<div>\n",
       "<style scoped>\n",
       "    .dataframe tbody tr th:only-of-type {\n",
       "        vertical-align: middle;\n",
       "    }\n",
       "\n",
       "    .dataframe tbody tr th {\n",
       "        vertical-align: top;\n",
       "    }\n",
       "\n",
       "    .dataframe thead th {\n",
       "        text-align: right;\n",
       "    }\n",
       "</style>\n",
       "<table border=\"1\" class=\"dataframe\">\n",
       "  <thead>\n",
       "    <tr style=\"text-align: right;\">\n",
       "      <th></th>\n",
       "      <th>State</th>\n",
       "      <th>Certified_rate</th>\n",
       "    </tr>\n",
       "  </thead>\n",
       "  <tbody>\n",
       "    <tr>\n",
       "      <th>44</th>\n",
       "      <td>NA</td>\n",
       "      <td>0.781952</td>\n",
       "    </tr>\n",
       "    <tr>\n",
       "      <th>49</th>\n",
       "      <td>PUERTO RICO</td>\n",
       "      <td>0.835793</td>\n",
       "    </tr>\n",
       "    <tr>\n",
       "      <th>52</th>\n",
       "      <td>WYOMING</td>\n",
       "      <td>0.864437</td>\n",
       "    </tr>\n",
       "    <tr>\n",
       "      <th>50</th>\n",
       "      <td>ALASKA</td>\n",
       "      <td>0.864809</td>\n",
       "    </tr>\n",
       "    <tr>\n",
       "      <th>43</th>\n",
       "      <td>HAWAII</td>\n",
       "      <td>0.882111</td>\n",
       "    </tr>\n",
       "    <tr>\n",
       "      <th>51</th>\n",
       "      <td>MONTANA</td>\n",
       "      <td>0.904360</td>\n",
       "    </tr>\n",
       "    <tr>\n",
       "      <th>38</th>\n",
       "      <td>NEVADA</td>\n",
       "      <td>0.908835</td>\n",
       "    </tr>\n",
       "    <tr>\n",
       "      <th>40</th>\n",
       "      <td>MISSISSIPPI</td>\n",
       "      <td>0.926370</td>\n",
       "    </tr>\n",
       "    <tr>\n",
       "      <th>39</th>\n",
       "      <td>NEW MEXICO</td>\n",
       "      <td>0.934211</td>\n",
       "    </tr>\n",
       "    <tr>\n",
       "      <th>33</th>\n",
       "      <td>LOUISIANA</td>\n",
       "      <td>0.938569</td>\n",
       "    </tr>\n",
       "  </tbody>\n",
       "</table>\n",
       "</div>"
      ],
      "text/plain": [
       "          State  Certified_rate\n",
       "44           NA        0.781952\n",
       "49  PUERTO RICO        0.835793\n",
       "52      WYOMING        0.864437\n",
       "50       ALASKA        0.864809\n",
       "43       HAWAII        0.882111\n",
       "51      MONTANA        0.904360\n",
       "38       NEVADA        0.908835\n",
       "40  MISSISSIPPI        0.926370\n",
       "39   NEW MEXICO        0.934211\n",
       "33    LOUISIANA        0.938569"
      ]
     },
     "execution_count": 285,
     "metadata": {},
     "output_type": "execute_result"
    }
   ],
   "source": [
    "cer_de_state = pd.merge(cer_state,de_state,left_on = 'State',right_on = 'State',how='left')\n",
    "cer_de_state['Certified_rate'] = cer_de_state['YEAR_x']/(cer_de_state['YEAR_x']+cer_de_state['YEAR_y'])\n",
    "cer_de_state.sort_values('Certified_rate',ascending=True)[['State','Certified_rate']][:10]\n",
    "#생각보다 쓸만하다 ? 근데 저 NA는 뭘까 north america는 아니고 na인가 어쨌든 엄청 낮다 2715개가 확인된다"
   ]
  },
  {
   "cell_type": "code",
   "execution_count": 292,
   "metadata": {
    "ExecuteTime": {
     "end_time": "2018-08-29T19:16:14.956495Z",
     "start_time": "2018-08-29T19:16:13.035294Z"
    }
   },
   "outputs": [],
   "source": [
    "cer_de_state_temp = cer_de_state['State']\n",
    "cer_de_state_temp = pd.concat([cer_de_state_temp,cer_de_state['Certified_rate']],axis=1)\n",
    "df_train = pd.merge(df_train,cer_de_state_temp,left_on ='State',right_on='State', how='left')"
   ]
  },
  {
   "cell_type": "code",
   "execution_count": 295,
   "metadata": {
    "ExecuteTime": {
     "end_time": "2018-08-29T19:16:59.901468Z",
     "start_time": "2018-08-29T19:16:59.409112Z"
    }
   },
   "outputs": [],
   "source": [
    "df_train.rename(columns = {df_train.columns[16] : 'CR_state'}, inplace = True )"
   ]
  },
  {
   "cell_type": "code",
   "execution_count": 297,
   "metadata": {
    "ExecuteTime": {
     "end_time": "2018-08-29T19:17:22.041488Z",
     "start_time": "2018-08-29T19:17:22.024535Z"
    },
    "collapsed": true
   },
   "outputs": [
    {
     "data": {
      "text/html": [
       "<div>\n",
       "<style scoped>\n",
       "    .dataframe tbody tr th:only-of-type {\n",
       "        vertical-align: middle;\n",
       "    }\n",
       "\n",
       "    .dataframe tbody tr th {\n",
       "        vertical-align: top;\n",
       "    }\n",
       "\n",
       "    .dataframe thead th {\n",
       "        text-align: right;\n",
       "    }\n",
       "</style>\n",
       "<table border=\"1\" class=\"dataframe\">\n",
       "  <thead>\n",
       "    <tr style=\"text-align: right;\">\n",
       "      <th></th>\n",
       "      <th>Unnamed: 0</th>\n",
       "      <th>CASE_STATUS</th>\n",
       "      <th>EMPLOYER_NAME</th>\n",
       "      <th>SOC_NAME</th>\n",
       "      <th>JOB_TITLE</th>\n",
       "      <th>FULL_TIME_POSITION</th>\n",
       "      <th>PREVAILING_WAGE</th>\n",
       "      <th>YEAR</th>\n",
       "      <th>WORKSITE</th>\n",
       "      <th>lon</th>\n",
       "      <th>lat</th>\n",
       "      <th>TEST</th>\n",
       "      <th>State</th>\n",
       "      <th>CR_SOC</th>\n",
       "      <th>CR_EMPLOYER</th>\n",
       "      <th>CR_JOB</th>\n",
       "      <th>CR_state</th>\n",
       "    </tr>\n",
       "  </thead>\n",
       "  <tbody>\n",
       "    <tr>\n",
       "      <th>0</th>\n",
       "      <td>1349742</td>\n",
       "      <td>0.0</td>\n",
       "      <td>INTERNATIONAL SYSTEMS TECHNOLOGIES INC</td>\n",
       "      <td>COMPUTER PROGRAMMERS</td>\n",
       "      <td>PROGRAMMER ANALYST</td>\n",
       "      <td>1.0</td>\n",
       "      <td>11.028239</td>\n",
       "      <td>2014.0</td>\n",
       "      <td>SUNNYVALE, CALIFORNIA</td>\n",
       "      <td>-122.036350</td>\n",
       "      <td>37.368830</td>\n",
       "      <td>0</td>\n",
       "      <td>CALIFORNIA</td>\n",
       "      <td>0.981863</td>\n",
       "      <td>0.997976</td>\n",
       "      <td>0.984148</td>\n",
       "      <td>0.964777</td>\n",
       "    </tr>\n",
       "    <tr>\n",
       "      <th>1</th>\n",
       "      <td>789205</td>\n",
       "      <td>0.0</td>\n",
       "      <td>GOOGLE INC</td>\n",
       "      <td>NETWORK AND COMPUTER SYSTEMS ADMINISTRATORS</td>\n",
       "      <td>SITE RELIABILITY ENGINEER</td>\n",
       "      <td>1.0</td>\n",
       "      <td>11.279024</td>\n",
       "      <td>2015.0</td>\n",
       "      <td>SAN FRANCISCO, CALIFORNIA</td>\n",
       "      <td>-122.419415</td>\n",
       "      <td>37.774929</td>\n",
       "      <td>0</td>\n",
       "      <td>CALIFORNIA</td>\n",
       "      <td>0.979353</td>\n",
       "      <td>0.984573</td>\n",
       "      <td>0.994595</td>\n",
       "      <td>0.964777</td>\n",
       "    </tr>\n",
       "    <tr>\n",
       "      <th>2</th>\n",
       "      <td>1617140</td>\n",
       "      <td>0.0</td>\n",
       "      <td>WIPRO LIMITED</td>\n",
       "      <td>COMPUTER OCCUPATIONS, ALL OTHER</td>\n",
       "      <td>PROJECT MANAGER</td>\n",
       "      <td>1.0</td>\n",
       "      <td>11.210225</td>\n",
       "      <td>2014.0</td>\n",
       "      <td>EL SEGUNDO, CALIFORNIA</td>\n",
       "      <td>-118.416465</td>\n",
       "      <td>33.919180</td>\n",
       "      <td>0</td>\n",
       "      <td>CALIFORNIA</td>\n",
       "      <td>0.989628</td>\n",
       "      <td>0.995457</td>\n",
       "      <td>0.973240</td>\n",
       "      <td>0.964777</td>\n",
       "    </tr>\n",
       "    <tr>\n",
       "      <th>3</th>\n",
       "      <td>2757905</td>\n",
       "      <td>0.0</td>\n",
       "      <td>CPO SERVICES INC</td>\n",
       "      <td>ORTHOTISTS AND PROSTHETISTS</td>\n",
       "      <td>STAFF PROSTHETIST</td>\n",
       "      <td>1.0</td>\n",
       "      <td>11.028239</td>\n",
       "      <td>2011.0</td>\n",
       "      <td>PEORIA, ILLINOIS</td>\n",
       "      <td>-89.588986</td>\n",
       "      <td>40.693649</td>\n",
       "      <td>0</td>\n",
       "      <td>ILLINOIS</td>\n",
       "      <td>0.870370</td>\n",
       "      <td>0.676000</td>\n",
       "      <td>0.696000</td>\n",
       "      <td>0.972906</td>\n",
       "    </tr>\n",
       "    <tr>\n",
       "      <th>4</th>\n",
       "      <td>693102</td>\n",
       "      <td>1.0</td>\n",
       "      <td>UNIVERSITY OF CALIFORNIA SAN DIEGO</td>\n",
       "      <td>MEDICAL SCIENTISTS, EXCEPT EPIDEMIOLOGISTS</td>\n",
       "      <td>ASSISTANT PROJECT SCIENTIST</td>\n",
       "      <td>1.0</td>\n",
       "      <td>10.648278</td>\n",
       "      <td>2015.0</td>\n",
       "      <td>LA JOLLA, CALIFORNIA</td>\n",
       "      <td>-117.271272</td>\n",
       "      <td>32.832811</td>\n",
       "      <td>0</td>\n",
       "      <td>CALIFORNIA</td>\n",
       "      <td>0.971542</td>\n",
       "      <td>0.972019</td>\n",
       "      <td>0.973451</td>\n",
       "      <td>0.964777</td>\n",
       "    </tr>\n",
       "  </tbody>\n",
       "</table>\n",
       "</div>"
      ],
      "text/plain": [
       "   Unnamed: 0  CASE_STATUS                           EMPLOYER_NAME  \\\n",
       "0     1349742          0.0  INTERNATIONAL SYSTEMS TECHNOLOGIES INC   \n",
       "1      789205          0.0                              GOOGLE INC   \n",
       "2     1617140          0.0                           WIPRO LIMITED   \n",
       "3     2757905          0.0                        CPO SERVICES INC   \n",
       "4      693102          1.0      UNIVERSITY OF CALIFORNIA SAN DIEGO   \n",
       "\n",
       "                                      SOC_NAME                    JOB_TITLE  \\\n",
       "0                         COMPUTER PROGRAMMERS           PROGRAMMER ANALYST   \n",
       "1  NETWORK AND COMPUTER SYSTEMS ADMINISTRATORS    SITE RELIABILITY ENGINEER   \n",
       "2              COMPUTER OCCUPATIONS, ALL OTHER              PROJECT MANAGER   \n",
       "3                  ORTHOTISTS AND PROSTHETISTS            STAFF PROSTHETIST   \n",
       "4   MEDICAL SCIENTISTS, EXCEPT EPIDEMIOLOGISTS  ASSISTANT PROJECT SCIENTIST   \n",
       "\n",
       "   FULL_TIME_POSITION  PREVAILING_WAGE    YEAR                   WORKSITE  \\\n",
       "0                 1.0        11.028239  2014.0      SUNNYVALE, CALIFORNIA   \n",
       "1                 1.0        11.279024  2015.0  SAN FRANCISCO, CALIFORNIA   \n",
       "2                 1.0        11.210225  2014.0     EL SEGUNDO, CALIFORNIA   \n",
       "3                 1.0        11.028239  2011.0           PEORIA, ILLINOIS   \n",
       "4                 1.0        10.648278  2015.0       LA JOLLA, CALIFORNIA   \n",
       "\n",
       "          lon        lat  TEST       State    CR_SOC  CR_EMPLOYER    CR_JOB  \\\n",
       "0 -122.036350  37.368830     0  CALIFORNIA  0.981863     0.997976  0.984148   \n",
       "1 -122.419415  37.774929     0  CALIFORNIA  0.979353     0.984573  0.994595   \n",
       "2 -118.416465  33.919180     0  CALIFORNIA  0.989628     0.995457  0.973240   \n",
       "3  -89.588986  40.693649     0    ILLINOIS  0.870370     0.676000  0.696000   \n",
       "4 -117.271272  32.832811     0  CALIFORNIA  0.971542     0.972019  0.973451   \n",
       "\n",
       "   CR_state  \n",
       "0  0.964777  \n",
       "1  0.964777  \n",
       "2  0.964777  \n",
       "3  0.972906  \n",
       "4  0.964777  "
      ]
     },
     "execution_count": 297,
     "metadata": {},
     "output_type": "execute_result"
    }
   ],
   "source": [
    "df_train.head()"
   ]
  },
  {
   "cell_type": "markdown",
   "metadata": {},
   "source": [
    "## Year는 one-hot-encoding"
   ]
  },
  {
   "cell_type": "code",
   "execution_count": 301,
   "metadata": {
    "ExecuteTime": {
     "end_time": "2018-08-29T19:20:26.451272Z",
     "start_time": "2018-08-29T19:20:26.065786Z"
    }
   },
   "outputs": [],
   "source": [
    "YEAR_OHE = pd.get_dummies(df_train.YEAR)\n",
    "df_train = pd.concat([df_train,YEAR_OHE],axis=1)\n",
    "#이것도 certified rate로 할까 했는데 6열만 추가하면 되니까 그냥 살려서 one-hot-encoding"
   ]
  },
  {
   "cell_type": "markdown",
   "metadata": {},
   "source": [
    "## 기존 변수 delete"
   ]
  },
  {
   "cell_type": "code",
   "execution_count": 303,
   "metadata": {
    "ExecuteTime": {
     "end_time": "2018-08-29T19:22:31.199215Z",
     "start_time": "2018-08-29T19:22:31.143366Z"
    }
   },
   "outputs": [],
   "source": [
    "del df_train['EMPLOYER_NAME']\n",
    "del df_train['State']\n",
    "del df_train['WORKSITE']\n",
    "del df_train['lon']\n",
    "del df_train['lat']\n",
    "del df_train['SOC_NAME']\n",
    "del df_train['JOB_TITLE']\n",
    "del df_train['YEAR']\n",
    "del df_train['TEST']"
   ]
  },
  {
   "cell_type": "code",
   "execution_count": 322,
   "metadata": {
    "ExecuteTime": {
     "end_time": "2018-08-29T19:28:46.913568Z",
     "start_time": "2018-08-29T19:28:46.817797Z"
    }
   },
   "outputs": [],
   "source": [
    "df_train = df_train[df_train.columns[1:16]]"
   ]
  },
  {
   "cell_type": "markdown",
   "metadata": {},
   "source": [
    "## 전처리 끝 !"
   ]
  },
  {
   "cell_type": "code",
   "execution_count": 332,
   "metadata": {
    "ExecuteTime": {
     "end_time": "2018-08-29T19:38:31.518760Z",
     "start_time": "2018-08-29T19:38:31.504836Z"
    }
   },
   "outputs": [
    {
     "data": {
      "text/html": [
       "<div>\n",
       "<style scoped>\n",
       "    .dataframe tbody tr th:only-of-type {\n",
       "        vertical-align: middle;\n",
       "    }\n",
       "\n",
       "    .dataframe tbody tr th {\n",
       "        vertical-align: top;\n",
       "    }\n",
       "\n",
       "    .dataframe thead th {\n",
       "        text-align: right;\n",
       "    }\n",
       "</style>\n",
       "<table border=\"1\" class=\"dataframe\">\n",
       "  <thead>\n",
       "    <tr style=\"text-align: right;\">\n",
       "      <th></th>\n",
       "      <th>CASE_STATUS</th>\n",
       "      <th>FULL_TIME_POSITION</th>\n",
       "      <th>PREVAILING_WAGE</th>\n",
       "      <th>CR_SOC</th>\n",
       "      <th>CR_EMPLOYER</th>\n",
       "      <th>CR_JOB</th>\n",
       "      <th>CR_state</th>\n",
       "      <th>2011.0</th>\n",
       "      <th>2012.0</th>\n",
       "      <th>2013.0</th>\n",
       "      <th>2014.0</th>\n",
       "      <th>2015.0</th>\n",
       "      <th>2016.0</th>\n",
       "    </tr>\n",
       "  </thead>\n",
       "  <tbody>\n",
       "    <tr>\n",
       "      <th>0</th>\n",
       "      <td>0.0</td>\n",
       "      <td>1.0</td>\n",
       "      <td>11.028239</td>\n",
       "      <td>0.981863</td>\n",
       "      <td>0.997976</td>\n",
       "      <td>0.984148</td>\n",
       "      <td>0.964777</td>\n",
       "      <td>0</td>\n",
       "      <td>0</td>\n",
       "      <td>0</td>\n",
       "      <td>1</td>\n",
       "      <td>0</td>\n",
       "      <td>0</td>\n",
       "    </tr>\n",
       "    <tr>\n",
       "      <th>1</th>\n",
       "      <td>0.0</td>\n",
       "      <td>1.0</td>\n",
       "      <td>11.279024</td>\n",
       "      <td>0.979353</td>\n",
       "      <td>0.984573</td>\n",
       "      <td>0.994595</td>\n",
       "      <td>0.964777</td>\n",
       "      <td>0</td>\n",
       "      <td>0</td>\n",
       "      <td>0</td>\n",
       "      <td>0</td>\n",
       "      <td>1</td>\n",
       "      <td>0</td>\n",
       "    </tr>\n",
       "    <tr>\n",
       "      <th>2</th>\n",
       "      <td>0.0</td>\n",
       "      <td>1.0</td>\n",
       "      <td>11.210225</td>\n",
       "      <td>0.989628</td>\n",
       "      <td>0.995457</td>\n",
       "      <td>0.973240</td>\n",
       "      <td>0.964777</td>\n",
       "      <td>0</td>\n",
       "      <td>0</td>\n",
       "      <td>0</td>\n",
       "      <td>1</td>\n",
       "      <td>0</td>\n",
       "      <td>0</td>\n",
       "    </tr>\n",
       "    <tr>\n",
       "      <th>3</th>\n",
       "      <td>0.0</td>\n",
       "      <td>1.0</td>\n",
       "      <td>11.028239</td>\n",
       "      <td>0.870370</td>\n",
       "      <td>0.676000</td>\n",
       "      <td>0.696000</td>\n",
       "      <td>0.972906</td>\n",
       "      <td>1</td>\n",
       "      <td>0</td>\n",
       "      <td>0</td>\n",
       "      <td>0</td>\n",
       "      <td>0</td>\n",
       "      <td>0</td>\n",
       "    </tr>\n",
       "    <tr>\n",
       "      <th>4</th>\n",
       "      <td>1.0</td>\n",
       "      <td>1.0</td>\n",
       "      <td>10.648278</td>\n",
       "      <td>0.971542</td>\n",
       "      <td>0.972019</td>\n",
       "      <td>0.973451</td>\n",
       "      <td>0.964777</td>\n",
       "      <td>0</td>\n",
       "      <td>0</td>\n",
       "      <td>0</td>\n",
       "      <td>0</td>\n",
       "      <td>1</td>\n",
       "      <td>0</td>\n",
       "    </tr>\n",
       "  </tbody>\n",
       "</table>\n",
       "</div>"
      ],
      "text/plain": [
       "   CASE_STATUS  FULL_TIME_POSITION  PREVAILING_WAGE    CR_SOC  CR_EMPLOYER  \\\n",
       "0          0.0                 1.0        11.028239  0.981863     0.997976   \n",
       "1          0.0                 1.0        11.279024  0.979353     0.984573   \n",
       "2          0.0                 1.0        11.210225  0.989628     0.995457   \n",
       "3          0.0                 1.0        11.028239  0.870370     0.676000   \n",
       "4          1.0                 1.0        10.648278  0.971542     0.972019   \n",
       "\n",
       "     CR_JOB  CR_state  2011.0  2012.0  2013.0  2014.0  2015.0  2016.0  \n",
       "0  0.984148  0.964777       0       0       0       1       0       0  \n",
       "1  0.994595  0.964777       0       0       0       0       1       0  \n",
       "2  0.973240  0.964777       0       0       0       1       0       0  \n",
       "3  0.696000  0.972906       1       0       0       0       0       0  \n",
       "4  0.973451  0.964777       0       0       0       0       1       0  "
      ]
     },
     "execution_count": 332,
     "metadata": {},
     "output_type": "execute_result"
    }
   ],
   "source": [
    "df_train.head()"
   ]
  },
  {
   "cell_type": "code",
   "execution_count": 349,
   "metadata": {
    "ExecuteTime": {
     "end_time": "2018-08-29T19:54:01.401808Z",
     "start_time": "2018-08-29T19:53:25.861241Z"
    }
   },
   "outputs": [],
   "source": [
    "df_train.to_csv(\"df_train_taehee.csv\", mode='w')"
   ]
  },
  {
   "cell_type": "markdown",
   "metadata": {},
   "source": [
    "# Model"
   ]
  },
  {
   "cell_type": "markdown",
   "metadata": {},
   "source": [
    "## Xgboost"
   ]
  },
  {
   "cell_type": "code",
   "execution_count": 327,
   "metadata": {
    "ExecuteTime": {
     "end_time": "2018-08-29T19:33:16.327188Z",
     "start_time": "2018-08-29T19:33:15.771381Z"
    }
   },
   "outputs": [],
   "source": [
    "import xgboost as xgb\n",
    "from sklearn.model_selection import train_test_split"
   ]
  },
  {
   "cell_type": "code",
   "execution_count": 336,
   "metadata": {
    "ExecuteTime": {
     "end_time": "2018-08-29T19:38:57.598397Z",
     "start_time": "2018-08-29T19:38:57.519581Z"
    }
   },
   "outputs": [],
   "source": [
    "X = df_train.iloc[:,1:13]\n",
    "y = df_train.iloc[:,0]"
   ]
  },
  {
   "cell_type": "code",
   "execution_count": 340,
   "metadata": {
    "ExecuteTime": {
     "end_time": "2018-08-29T19:40:01.235279Z",
     "start_time": "2018-08-29T19:40:00.728766Z"
    }
   },
   "outputs": [],
   "source": [
    "X_train, X_test, y_train, y_test = train_test_split(X,y,test_size =0.20, random_state = 0)"
   ]
  },
  {
   "cell_type": "code",
   "execution_count": 347,
   "metadata": {
    "ExecuteTime": {
     "end_time": "2018-08-29T19:43:09.422595Z",
     "start_time": "2018-08-29T19:43:09.311919Z"
    },
    "collapsed": true
   },
   "outputs": [
    {
     "name": "stderr",
     "output_type": "stream",
     "text": [
      "C:\\Users\\test\\Anaconda3\\lib\\site-packages\\ipykernel_launcher.py:1: FutureWarning: Method .as_matrix will be removed in a future version. Use .values instead.\n",
      "  \"\"\"Entry point for launching an IPython kernel.\n",
      "C:\\Users\\test\\Anaconda3\\lib\\site-packages\\ipykernel_launcher.py:2: FutureWarning: Method .as_matrix will be removed in a future version. Use .values instead.\n",
      "  \n"
     ]
    }
   ],
   "source": [
    "train_X = X_train.as_matrix()\n",
    "test_X = X_test.as_matrix()\n",
    "train_y = y_train"
   ]
  },
  {
   "cell_type": "code",
   "execution_count": 350,
   "metadata": {
    "ExecuteTime": {
     "end_time": "2018-08-29T20:14:00.129829Z",
     "start_time": "2018-08-29T19:55:04.211704Z"
    }
   },
   "outputs": [
    {
     "name": "stderr",
     "output_type": "stream",
     "text": [
      "C:\\Users\\test\\Anaconda3\\lib\\site-packages\\sklearn\\preprocessing\\label.py:151: DeprecationWarning: The truth value of an empty array is ambiguous. Returning False, but in future this will result in an error. Use `array.size > 0` to check that an array is not empty.\n",
      "  if diff:\n"
     ]
    }
   ],
   "source": [
    "#max_depth = 5 : This should be between 3-10. I’ve started with 5 but you can choose a different number as well. 4-6 can be good starting points.\n",
    "#min_child_weight = 1 : A smaller value is chosen because it is a highly imbalanced class problem and leaf nodes can have smaller size groups.\n",
    "#gamma = 0 : A smaller value like 0.1-0.2 can also be chosen for starting. This will anyways be tuned later.\n",
    "#subsample, colsample_bytree = 0.8 : This is a commonly used used start value. Typical values range between 0.5-0.9.\n",
    "#scale_pos_weight = 1: Because of high class imbalance.\n",
    "gbm = xgb.XGBClassifier(max_depth=5,\n",
    "                        n_estimators=1000,\n",
    "                        learning_rate=0.05,\n",
    "                        min_child_weight=1,\n",
    "                        subsample=0.8,\n",
    "                        colsample_bytree=0.8,\n",
    "                        scale_pos_weight=1,\n",
    "                       objective= 'binary:logistic',\n",
    "                        nthread=4,\n",
    "                       gamma = 0).fit(train_X, train_y)\n",
    "predictions = gbm.predict(test_X)"
   ]
  },
  {
   "cell_type": "code",
   "execution_count": 353,
   "metadata": {
    "ExecuteTime": {
     "end_time": "2018-08-29T20:27:35.702819Z",
     "start_time": "2018-08-29T20:27:35.699830Z"
    }
   },
   "outputs": [],
   "source": [
    "from xgboost import plot_importance\n",
    "from matplotlib import pyplot\n",
    "from sklearn.metrics import accuracy_score"
   ]
  },
  {
   "cell_type": "code",
   "execution_count": 360,
   "metadata": {
    "ExecuteTime": {
     "end_time": "2018-08-29T20:31:02.325206Z",
     "start_time": "2018-08-29T20:31:02.320221Z"
    }
   },
   "outputs": [],
   "source": [
    "from sklearn.metrics import confusion_matrix\n",
    "from sklearn.metrics import recall_score, precision_score"
   ]
  },
  {
   "cell_type": "code",
   "execution_count": 354,
   "metadata": {
    "ExecuteTime": {
     "end_time": "2018-08-29T20:27:38.184255Z",
     "start_time": "2018-08-29T20:27:36.868183Z"
    }
   },
   "outputs": [
    {
     "data": {
      "image/png": "[encoded data removed]",
      "text/plain": [
       "<Figure size 432x288 with 1 Axes>"
      ]
     },
     "metadata": {},
     "output_type": "display_data"
    }
   ],
   "source": [
    "plot_importance(gbm)\n",
    "pyplot.show()"
   ]
  },
  {
   "cell_type": "code",
   "execution_count": 359,
   "metadata": {
    "ExecuteTime": {
     "end_time": "2018-08-29T20:29:27.894496Z",
     "start_time": "2018-08-29T20:29:27.839644Z"
    }
   },
   "outputs": [
    {
     "name": "stdout",
     "output_type": "stream",
     "text": [
      "0.9677667046361159\n"
     ]
    }
   ],
   "source": [
    "accuracy = accuracy_score(y_test, predictions)\n",
    "print(accuracy)"
   ]
  },
  {
   "cell_type": "code",
   "execution_count": 361,
   "metadata": {
    "ExecuteTime": {
     "end_time": "2018-08-29T20:31:28.934821Z",
     "start_time": "2018-08-29T20:31:28.684307Z"
    }
   },
   "outputs": [
    {
     "name": "stdout",
     "output_type": "stream",
     "text": [
      "0.2520902455209025 0.5838327954510527\n"
     ]
    }
   ],
   "source": [
    "recall_score = recall_score(y_test,predictions)\n",
    "precision_score = precision_score(y_test,predictions)\n",
    "print(recall_score, precision_score)"
   ]
  },
  {
   "cell_type": "markdown",
   "metadata": {},
   "source": [
    "### Xgboost Evaluation"
   ]
  },
  {
   "cell_type": "markdown",
   "metadata": {
    "ExecuteTime": {
     "end_time": "2018-08-22T15:54:03.461898Z",
     "start_time": "2018-08-22T15:54:03.458942Z"
    }
   },
   "source": [
    "## LightGBM"
   ]
  },
  {
   "cell_type": "code",
   "execution_count": 348,
   "metadata": {
    "ExecuteTime": {
     "end_time": "2018-08-29T19:43:24.087234Z",
     "start_time": "2018-08-29T19:43:24.077297Z"
    },
    "collapsed": true
   },
   "outputs": [
    {
     "ename": "NameError",
     "evalue": "name 'y_pred' is not defined",
     "output_type": "error",
     "traceback": [
      "\u001b[1;31m---------------------------------------------------------------------------\u001b[0m",
      "\u001b[1;31mNameError\u001b[0m                                 Traceback (most recent call last)",
      "\u001b[1;32m<ipython-input-348-7b5ea0c699ab>\u001b[0m in \u001b[0;36m<module>\u001b[1;34m()\u001b[0m\n\u001b[0;32m      1\u001b[0m \u001b[1;31m##Making the confusion matrix\u001b[0m\u001b[1;33m\u001b[0m\u001b[1;33m\u001b[0m\u001b[0m\n\u001b[0;32m      2\u001b[0m \u001b[1;32mfrom\u001b[0m \u001b[0msklearn\u001b[0m\u001b[1;33m.\u001b[0m\u001b[0mmetrics\u001b[0m \u001b[1;32mimport\u001b[0m \u001b[0mconfusion_matrix\u001b[0m\u001b[1;33m\u001b[0m\u001b[0m\n\u001b[1;32m----> 3\u001b[1;33m \u001b[0mcm\u001b[0m \u001b[1;33m=\u001b[0m \u001b[0mconfusion_matrix\u001b[0m\u001b[1;33m(\u001b[0m\u001b[0my_test\u001b[0m\u001b[1;33m,\u001b[0m\u001b[0my_pred\u001b[0m\u001b[1;33m)\u001b[0m\u001b[1;33m\u001b[0m\u001b[0m\n\u001b[0m",
      "\u001b[1;31mNameError\u001b[0m: name 'y_pred' is not defined"
     ]
    }
   ],
   "source": [
    "##Making the confusion matrix\n",
    "from sklearn.metrics import confusion_matrix\n",
    "cm = confusion_matrix(y_test,y_pred)"
   ]
  },
  {
   "cell_type": "markdown",
   "metadata": {},
   "source": [
    "### LightGBM Evaluation"
   ]
  },
  {
   "cell_type": "code",
   "execution_count": null,
   "metadata": {},
   "outputs": [],
   "source": []
  }
 ],
 "metadata": {
  "kernelspec": {
   "display_name": "Python 3",
   "language": "python",
   "name": "python3"
  },
  "language_info": {
   "codemirror_mode": {
    "name": "ipython",
    "version": 3
   },
   "file_extension": ".py",
   "mimetype": "text/x-python",
   "name": "python",
   "nbconvert_exporter": "python",
   "pygments_lexer": "ipython3",
   "version": "3.6.5"
  },
  "latex_envs": {
   "LaTeX_envs_menu_present": true,
   "autoclose": false,
   "autocomplete": true,
   "bibliofile": "biblio.bib",
   "cite_by": "apalike",
   "current_citInitial": 1,
   "eqLabelWithNumbers": true,
   "eqNumInitial": 1,
   "hotkeys": {
    "equation": "Ctrl-E",
    "itemize": "Ctrl-I"
   },
   "labels_anchors": false,
   "latex_user_defs": false,
   "report_style_numbering": false,
   "user_envs_cfg": false
  },
  "toc": {
   "base_numbering": 1,
   "nav_menu": {},
   "number_sections": true,
   "sideBar": true,
   "skip_h1_title": false,
   "title_cell": "Table of Contents",
   "title_sidebar": "Contents",
   "toc_cell": false,
   "toc_position": {},
   "toc_section_display": true,
   "toc_window_display": false
  },
  "varInspector": {
   "cols": {
    "lenName": 16,
    "lenType": 16,
    "lenVar": 40
   },
   "kernels_config": {
    "python": {
     "delete_cmd_postfix": "",
     "delete_cmd_prefix": "del ",
     "library": "var_list.py",
     "varRefreshCmd": "print(var_dic_list())"
    },
    "r": {
     "delete_cmd_postfix": ") ",
     "delete_cmd_prefix": "rm(",
     "library": "var_list.r",
     "varRefreshCmd": "cat(var_dic_list()) "
    }
   },
   "types_to_exclude": [
    "module",
    "function",
    "builtin_function_or_method",
    "instance",
    "_Feature"
   ],
   "window_display": false
  }
 },
 "nbformat": 4,
 "nbformat_minor": 2
}
